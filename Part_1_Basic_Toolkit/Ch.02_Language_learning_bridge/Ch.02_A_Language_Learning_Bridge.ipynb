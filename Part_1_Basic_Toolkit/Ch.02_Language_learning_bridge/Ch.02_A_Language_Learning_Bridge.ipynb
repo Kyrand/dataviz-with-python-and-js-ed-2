{
 "cells": [
  {
   "cell_type": "code",
   "execution_count": 3,
   "id": "e4dbb5b6",
   "metadata": {},
   "outputs": [
    {
     "data": {
      "text/plain": [
       "'linux'"
      ]
     },
     "execution_count": 3,
     "metadata": {},
     "output_type": "execute_result"
    }
   ],
   "source": [
    "import sys\n",
    "\n",
    "sys.platform"
   ]
  },
  {
   "cell_type": "code",
   "execution_count": 4,
   "id": "ea40655a",
   "metadata": {},
   "outputs": [
    {
     "data": {
      "text/plain": [
       "38.5"
      ]
     },
     "execution_count": 4,
     "metadata": {},
     "output_type": "execute_result"
    }
   ],
   "source": [
    "import pandas as pd\n",
    "from csv import DictWriter, DictReader\n",
    "from numpy import * \n",
    "\n",
    "#df = pd.read_json('data.json')\n",
    "#reader = DictReader('data.csv')\n",
    "md = median([12, 56, 44, 33])\n",
    "md"
   ]
  },
  {
   "cell_type": "code",
   "execution_count": 8,
   "id": "0ad1f8ca",
   "metadata": {},
   "outputs": [
    {
     "name": "stdout",
     "output_type": "stream",
     "text": [
      "Bob's (id: 0) final assessment is:        PASSED\n",
      "Alice's (id: 1) final assessment is:        PASSED WITH MERIT\n",
      "Carol's (id: 2) final assessment is:        PASSED\n",
      "Dan's (id: 3) final assessment is:        FAILED\n"
     ]
    }
   ],
   "source": [
    "# A\n",
    "student_data = [\\\n",
    "    {'name': 'Bob', 'id':0, 'scores':[68, 75, 56, 81]},\n",
    "    {'name': 'Alice', 'id':1, 'scores':[75, 90, 64, 88]},\n",
    "    {'name': 'Carol', 'id':2, 'scores':[59, 74, 71, 68]},\n",
    "    {'name': 'Dan', 'id':3, 'scores':[64, 58, 53, 62]},\n",
    "]\n",
    "\n",
    "# B\n",
    "def process_student_data(data, pass_threshold=60, merit_threshold=75):\n",
    "    \"\"\" Perform some basic stats on some student data. \"\"\"\n",
    "    # C\n",
    "    for sdata in data:\n",
    "        av = sum(sdata['scores'])/float(len(sdata['scores']))\n",
    "        if av > merit_threshold:\n",
    "            sdata['assessment'] = 'passed with merit'\n",
    "        elif av > pass_threshold:\n",
    "            sdata['assessment'] = 'passed'\n",
    "        else:\n",
    "            sdata['assessment'] = 'failed'\n",
    "        # D        \n",
    "        print(f\"{sdata['name']}'s (id: {sdata['id']}) final assessment is:\\\n",
    "        {sdata['assessment'].upper()}\")\n",
    "        # For Python versions before 3.7, the old-style string formatting is equivalent\n",
    "        # print(\"%s's (id: %d) final assessment is: %s\"%(sdata['name'],\\\n",
    "        # sdata['id'], sdata['assessment'].upper()))\n",
    "        \n",
    "        sdata['average'] = av\n",
    "# E\n",
    "#if __name__ == '__main__':\n",
    "process_student_data(student_data)"
   ]
  },
  {
   "cell_type": "code",
   "execution_count": 18,
   "id": "a59e2165",
   "metadata": {},
   "outputs": [],
   "source": [
    "class Citizen(object):\n",
    "\n",
    "    def __init__(self, name, country):\n",
    "        self.name = name\n",
    "        self.country = country\n",
    "        \n",
    "    def __str__(self):\n",
    "        return f'Citizen {self.name} from {self.country}'\n",
    "    \n",
    "    def print_details(self):\n",
    "        print(f'Citizen {self.name} from {self.country}')"
   ]
  },
  {
   "cell_type": "code",
   "execution_count": 19,
   "id": "44bd6b53",
   "metadata": {},
   "outputs": [],
   "source": [
    "groucho = Citizen('Groucho', 'Freedonia')"
   ]
  },
  {
   "cell_type": "code",
   "execution_count": 20,
   "id": "8afb569d",
   "metadata": {},
   "outputs": [
    {
     "name": "stdout",
     "output_type": "stream",
     "text": [
      "Citizen Groucho from Freedonia\n"
     ]
    }
   ],
   "source": [
    "print(groucho)"
   ]
  },
  {
   "cell_type": "code",
   "execution_count": 21,
   "id": "b1bed181",
   "metadata": {},
   "outputs": [],
   "source": [
    "class Winner(Citizen):\n",
    "    \n",
    "    def __init__(self, name, country, category, year):\n",
    "        super().__init__(name, country) \n",
    "        self.category = category\n",
    "        self.year = year\n",
    "        \n",
    "    def __str__(self):\n",
    "        return f'Nobel winner {self.name} from {self.country}, category {self.category}, year {self.year}'"
   ]
  },
  {
   "cell_type": "code",
   "execution_count": 22,
   "id": "d1f36283",
   "metadata": {},
   "outputs": [],
   "source": [
    "albert = Winner('Albert Einstein', 'Switzerland', 'Physics', 1921)"
   ]
  },
  {
   "cell_type": "code",
   "execution_count": 17,
   "id": "544ab537",
   "metadata": {},
   "outputs": [
    {
     "name": "stdout",
     "output_type": "stream",
     "text": [
      "Nobel winner Albert Einstein from Switzerland, category Physics, year 1921\n"
     ]
    }
   ],
   "source": [
    "print(albert)"
   ]
  },
  {
   "cell_type": "code",
   "execution_count": 25,
   "id": "469c4494",
   "metadata": {},
   "outputs": [
    {
     "name": "stdout",
     "output_type": "stream",
     "text": [
      "0: Alice\n",
      "1: Bob\n",
      "2: Carol\n"
     ]
    }
   ],
   "source": [
    "names = ['Alice', 'Bob', 'Carol']\n",
    "\n",
    "for i, n in enumerate(names):\n",
    "    print(f'{i}: {n}')"
   ]
  },
  {
   "cell_type": "code",
   "execution_count": 24,
   "id": "eec34a5a",
   "metadata": {},
   "outputs": [
    {
     "name": "stdout",
     "output_type": "stream",
     "text": [
      "0\n",
      "1\n",
      "1\n",
      "2\n",
      "3\n",
      "5\n"
     ]
    }
   ],
   "source": [
    "def fibonacci(n):\n",
    "    x, y = 0, 1\n",
    "    for i in range(n):\n",
    "        print(x)\n",
    "        x, y = y, x + y\n",
    "# fibonacci(6) -> 0, 1, 1, 2, 3, 5\n",
    "\n",
    "fibonacci(6)"
   ]
  },
  {
   "cell_type": "code",
   "execution_count": 30,
   "id": "e439178a",
   "metadata": {},
   "outputs": [
    {
     "name": "stdout",
     "output_type": "stream",
     "text": [
      "Albert Einstein, Swiss\n"
     ]
    }
   ],
   "source": [
    "winner = 'Albert Einstein', 'Physics', 1921, 'Swiss'\n",
    "name, _, _, nationality = winner\n",
    "name, *_, nationality = winner\n",
    "print(f'{name}, {nationality}')"
   ]
  },
  {
   "cell_type": "code",
   "execution_count": 14,
   "id": "5ae45d20",
   "metadata": {},
   "outputs": [
    {
     "name": "stdout",
     "output_type": "stream",
     "text": [
      "Counter({'C': 3, 'F': 2, 'A': 2, 'B': 1, 'E': 1})\n",
      "Counter({'F': 2, 'C': 2, 'A': 2, 'B': 1, 'E': 1})\n"
     ]
    }
   ],
   "source": [
    "from collections import Counter, defaultdict, OrderedDict\n",
    "\n",
    "items = ['F', 'C', 'C', 'A', 'B', 'A', 'C', 'E', 'F']\n",
    "\n",
    "cntr = Counter(items)\n",
    "print(cntr)\n",
    "cntr['C'] -=1\n",
    "print(cntr)"
   ]
  },
  {
   "cell_type": "code",
   "execution_count": 15,
   "id": "55d257ef",
   "metadata": {},
   "outputs": [
    {
     "data": {
      "text/plain": [
       "defaultdict(int, {'F': 2, 'C': 3, 'A': 2, 'B': 1, 'E': 1})"
      ]
     },
     "execution_count": 15,
     "metadata": {},
     "output_type": "execute_result"
    }
   ],
   "source": [
    "d = defaultdict(int) \n",
    "\n",
    "for item in items:\n",
    "    d[item] += 1 \n",
    "\n",
    "d"
   ]
  },
  {
   "cell_type": "code",
   "execution_count": 16,
   "id": "492442e0",
   "metadata": {},
   "outputs": [
    {
     "data": {
      "text/plain": [
       "OrderedDict([('B', 1), ('E', 1), ('F', 2), ('A', 2), ('C', 3)])"
      ]
     },
     "execution_count": 16,
     "metadata": {},
     "output_type": "execute_result"
    }
   ],
   "source": [
    "OrderedDict(sorted(d.items(), key=lambda i: i[1]))"
   ]
  },
  {
   "cell_type": "code",
   "execution_count": 17,
   "id": "b52aecc7",
   "metadata": {},
   "outputs": [
    {
     "data": {
      "text/plain": [
       "165"
      ]
     },
     "execution_count": 17,
     "metadata": {},
     "output_type": "execute_result"
    }
   ],
   "source": [
    "nums = range(10) \n",
    "\n",
    "odd_squares = [x * x for x in nums if x%2] \n",
    "sum(odd_squares) "
   ]
  },
  {
   "cell_type": "code",
   "execution_count": 18,
   "id": "7fb42dcb",
   "metadata": {},
   "outputs": [
    {
     "data": {
      "text/plain": [
       "35"
      ]
     },
     "execution_count": 18,
     "metadata": {},
     "output_type": "execute_result"
    }
   ],
   "source": [
    "items = [1, 2, 3, 4, 5]\n",
    "\n",
    "def is_odd(x):\n",
    "    return x%2\n",
    "\n",
    "def sq(x):\n",
    "    return x * x\n",
    "\n",
    "sum([sq(x) for x in items if is_odd(x)])"
   ]
  },
  {
   "cell_type": "code",
   "execution_count": 19,
   "id": "98cbd01c",
   "metadata": {},
   "outputs": [
    {
     "data": {
      "text/plain": [
       "165"
      ]
     },
     "execution_count": 19,
     "metadata": {},
     "output_type": "execute_result"
    }
   ],
   "source": [
    "from functools import reduce # if using Python 3+\n",
    "\n",
    "nums = [0, 1, 2, 3, 4, 5, 6, 7, 8, 9]\n",
    "\n",
    "odds = filter(lambda x: x % 2, nums)\n",
    "odds_sq = map(lambda x: x * x, odds)\n",
    "reduce(lambda x, y: x + y, odds_sq) "
   ]
  },
  {
   "cell_type": "code",
   "execution_count": 20,
   "id": "340ae473",
   "metadata": {},
   "outputs": [],
   "source": [
    "def get_counter(inc):\n",
    "    count = 0\n",
    "    def add():\n",
    "        count += inc\n",
    "        print('Current count: ' + str(count))\n",
    "    return add"
   ]
  },
  {
   "cell_type": "code",
   "execution_count": 21,
   "id": "275773f9",
   "metadata": {},
   "outputs": [],
   "source": [
    "cntr = get_counter(3)"
   ]
  },
  {
   "cell_type": "markdown",
   "id": "7223656e",
   "metadata": {},
   "source": [
    "```\n",
    "cntr()\n",
    "\n",
    "---------------------------------------------------------------------------\n",
    "UnboundLocalError                         Traceback (most recent call last)\n",
    "/tmp/ipykernel_11973/3230795678.py in <module>\n",
    "----> 1 cntr()\n",
    "\n",
    "/tmp/ipykernel_11973/985133086.py in add()\n",
    "      2     count = 0\n",
    "      3     def add():\n",
    "----> 4         count += inc\n",
    "      5         print('Current count: ' + str(count))\n",
    "      6     return add\n",
    "\n",
    "UnboundLocalError: local variable 'count' referenced before assignment\n",
    "```"
   ]
  },
  {
   "cell_type": "code",
   "execution_count": 22,
   "id": "630fc2e8",
   "metadata": {},
   "outputs": [],
   "source": [
    "def get_counter(inc):\n",
    "    count = 0\n",
    "    def add():\n",
    "        nonlocal count\n",
    "        count += inc\n",
    "        print('Current count: ' + str(count))\n",
    "    return add"
   ]
  },
  {
   "cell_type": "code",
   "execution_count": 23,
   "id": "96435685",
   "metadata": {},
   "outputs": [
    {
     "name": "stdout",
     "output_type": "stream",
     "text": [
      "Current count: 3\n"
     ]
    }
   ],
   "source": [
    "cntr = get_counter(3)\n",
    "cntr()"
   ]
  },
  {
   "cell_type": "code",
   "execution_count": null,
   "id": "c585c182",
   "metadata": {},
   "outputs": [],
   "source": []
  }
 ],
 "metadata": {
  "kernelspec": {
   "display_name": "Python 3 (ipykernel)",
   "language": "python",
   "name": "python3"
  },
  "language_info": {
   "codemirror_mode": {
    "name": "ipython",
    "version": 3
   },
   "file_extension": ".py",
   "mimetype": "text/x-python",
   "name": "python",
   "nbconvert_exporter": "python",
   "pygments_lexer": "ipython3",
   "version": "3.10.4"
  }
 },
 "nbformat": 4,
 "nbformat_minor": 5
}
