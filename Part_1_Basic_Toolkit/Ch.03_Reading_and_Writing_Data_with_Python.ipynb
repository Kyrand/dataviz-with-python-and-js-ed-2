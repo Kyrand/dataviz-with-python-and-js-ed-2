{
 "cells": [
  {
   "cell_type": "code",
   "execution_count": 1,
   "id": "ef3ed1b5",
   "metadata": {},
   "outputs": [],
   "source": [
    "nobel_winners = [\n",
    "{'category': 'Physics',\n",
    "'name': 'Albert Einstein',\n",
    "'nationality': 'Swiss',\n",
    "'gender': 'male',\n",
    "'year': 1921},\n",
    "{'category': 'Physics',\n",
    "'name': 'Paul Dirac',\n",
    "'nationality': 'British',\n",
    "'gender': 'male',\n",
    "'year': 1933},\n",
    "{'category': 'Chemistry',\n",
    "'name': 'Marie Curie',\n",
    "'nationality': 'Polish',\n",
    "'gender': 'female',\n",
    "'year': 1911}\n",
    "]"
   ]
  },
  {
   "cell_type": "markdown",
   "id": "f6cb676e",
   "metadata": {},
   "source": [
    "## Working with System Files"
   ]
  },
  {
   "cell_type": "code",
   "execution_count": 2,
   "id": "92b2f764",
   "metadata": {},
   "outputs": [],
   "source": [
    "# open a local file in write (w) mode\n",
    "f = open('data/nobel_winners.csv', 'w')"
   ]
  },
  {
   "cell_type": "code",
   "execution_count": 3,
   "id": "600a4cc9",
   "metadata": {},
   "outputs": [],
   "source": [
    "# write the nobel_winners array of dicts to the file\n",
    "cols = nobel_winners[0].keys()\n",
    "cols = sorted(cols)\n",
    "with open('data/nobel_winners.csv', 'w') as f:\n",
    "    f.write(','.join(cols) + '\\n')\n",
    "    for o in nobel_winners:\n",
    "        row = [str(o[col]) for col in cols]\n",
    "        f.write(','.join(row) + '\\n')"
   ]
  },
  {
   "cell_type": "code",
   "execution_count": 4,
   "id": "9129f296",
   "metadata": {},
   "outputs": [
    {
     "name": "stdout",
     "output_type": "stream",
     "text": [
      "category,gender,name,nationality,year\n",
      "\n",
      "Physics,male,Albert Einstein,Swiss,1921\n",
      "\n",
      "Physics,male,Paul Dirac,British,1933\n",
      "\n",
      "Chemistry,female,Marie Curie,Polish,1911\n",
      "\n"
     ]
    }
   ],
   "source": [
    "with open('data/nobel_winners.csv') as f:\n",
    "    for line in f.readlines():\n",
    "        print(line)"
   ]
  },
  {
   "cell_type": "markdown",
   "id": "1c123788",
   "metadata": {},
   "source": [
    "## CSV, TSV, and Row-Column Data Formats"
   ]
  },
  {
   "cell_type": "code",
   "execution_count": 5,
   "id": "4bedeed6",
   "metadata": {},
   "outputs": [],
   "source": [
    "import csv\n",
    "with open('data/nobel_winners.csv', 'w') as f:\n",
    "    fieldnames = nobel_winners[0].keys()\n",
    "    fieldnames = sorted(fieldnames)\n",
    "    writer = csv.DictWriter(f, fieldnames=fieldnames)\n",
    "    writer.writeheader()\n",
    "    for w in nobel_winners:\n",
    "        writer.writerow(w)"
   ]
  },
  {
   "cell_type": "code",
   "execution_count": 6,
   "id": "2c102379",
   "metadata": {},
   "outputs": [
    {
     "name": "stdout",
     "output_type": "stream",
     "text": [
      "['category', 'gender', 'name', 'nationality', 'year']\n",
      "['Physics', 'male', 'Albert Einstein', 'Swiss', '1921']\n",
      "['Physics', 'male', 'Paul Dirac', 'British', '1933']\n",
      "['Chemistry', 'female', 'Marie Curie', 'Polish', '1911']\n"
     ]
    }
   ],
   "source": [
    "with open('data/nobel_winners.csv') as f:\n",
    "    reader = csv.reader(f)\n",
    "    for row in reader:\n",
    "        print(row)"
   ]
  },
  {
   "cell_type": "code",
   "execution_count": 7,
   "id": "b820a72b",
   "metadata": {},
   "outputs": [
    {
     "data": {
      "text/plain": [
       "[{'category': 'Physics',\n",
       "  'gender': 'male',\n",
       "  'name': 'Albert Einstein',\n",
       "  'nationality': 'Swiss',\n",
       "  'year': '1921'},\n",
       " {'category': 'Physics',\n",
       "  'gender': 'male',\n",
       "  'name': 'Paul Dirac',\n",
       "  'nationality': 'British',\n",
       "  'year': '1933'},\n",
       " {'category': 'Chemistry',\n",
       "  'gender': 'female',\n",
       "  'name': 'Marie Curie',\n",
       "  'nationality': 'Polish',\n",
       "  'year': '1911'}]"
      ]
     },
     "execution_count": 7,
     "metadata": {},
     "output_type": "execute_result"
    }
   ],
   "source": [
    "# Using the DictReader to work with arrays of dicts..\n",
    "import csv\n",
    "\n",
    "with open('data/nobel_winners.csv') as f:\n",
    "    reader = csv.DictReader(f)\n",
    "    nobel_winners = list(reader)\n",
    "    \n",
    "nobel_winners"
   ]
  },
  {
   "cell_type": "code",
   "execution_count": 8,
   "id": "481cba09",
   "metadata": {},
   "outputs": [
    {
     "data": {
      "text/plain": [
       "[{'category': 'Physics',\n",
       "  'gender': 'male',\n",
       "  'name': 'Albert Einstein',\n",
       "  'nationality': 'Swiss',\n",
       "  'year': 1921},\n",
       " {'category': 'Physics',\n",
       "  'gender': 'male',\n",
       "  'name': 'Paul Dirac',\n",
       "  'nationality': 'British',\n",
       "  'year': 1933},\n",
       " {'category': 'Chemistry',\n",
       "  'gender': 'female',\n",
       "  'name': 'Marie Curie',\n",
       "  'nationality': 'Polish',\n",
       "  'year': 1911}]"
      ]
     },
     "execution_count": 8,
     "metadata": {},
     "output_type": "execute_result"
    }
   ],
   "source": [
    "for w in nobel_winners:\n",
    "    w['year'] = int(w['year'])\n",
    "    \n",
    "nobel_winners"
   ]
  },
  {
   "cell_type": "code",
   "execution_count": 9,
   "id": "456b02e2",
   "metadata": {},
   "outputs": [],
   "source": [
    "from datetime import datetime"
   ]
  },
  {
   "cell_type": "code",
   "execution_count": 10,
   "id": "c7a91223",
   "metadata": {},
   "outputs": [
    {
     "data": {
      "text/plain": [
       "datetime.datetime(1947, 1, 1, 0, 0)"
      ]
     },
     "execution_count": 10,
     "metadata": {},
     "output_type": "execute_result"
    }
   ],
   "source": [
    "# We can easily create a Python DateTime from the year column\n",
    "dt = datetime.strptime('1947', '%Y')\n",
    "dt"
   ]
  },
  {
   "cell_type": "markdown",
   "id": "97dce827",
   "metadata": {},
   "source": [
    "## JSON"
   ]
  },
  {
   "cell_type": "code",
   "execution_count": 11,
   "id": "073c51a1",
   "metadata": {},
   "outputs": [
    {
     "data": {
      "text/plain": [
       "'[{\"category\": \"Physics\", \"gender\": \"male\", \"name\": \"Albert Einstein\", \"nationality\": \"Swiss\", \"year\": 1921}, {\"category\": \"Physics\", \"gender\": \"male\", \"name\": \"Paul Dirac\", \"nationality\": \"British\", \"year\": 1933}, {\"category\": \"Chemistry\", \"gender\": \"female\", \"name\": \"Marie Curie\", \"nationality\": \"Polish\", \"year\": 1911}]'"
      ]
     },
     "execution_count": 11,
     "metadata": {},
     "output_type": "execute_result"
    }
   ],
   "source": [
    "import json\n",
    "\n",
    "with open('data/nobel_winners.json', 'w') as f:\n",
    "    json.dump(nobel_winners, f)\n",
    "    \n",
    "open('data/nobel_winners.json').read()"
   ]
  },
  {
   "cell_type": "code",
   "execution_count": 12,
   "id": "333a4750",
   "metadata": {},
   "outputs": [
    {
     "data": {
      "text/plain": [
       "[{'category': 'Physics',\n",
       "  'gender': 'male',\n",
       "  'name': 'Albert Einstein',\n",
       "  'nationality': 'Swiss',\n",
       "  'year': 1921},\n",
       " {'category': 'Physics',\n",
       "  'gender': 'male',\n",
       "  'name': 'Paul Dirac',\n",
       "  'nationality': 'British',\n",
       "  'year': 1933},\n",
       " {'category': 'Chemistry',\n",
       "  'gender': 'female',\n",
       "  'name': 'Marie Curie',\n",
       "  'nationality': 'Polish',\n",
       "  'year': 1911}]"
      ]
     },
     "execution_count": 12,
     "metadata": {},
     "output_type": "execute_result"
    }
   ],
   "source": [
    "import json\n",
    "\n",
    "with open('data/nobel_winners.json') as f:\n",
    "    nobel_winners = json.load(f)\n",
    "    \n",
    "nobel_winners"
   ]
  },
  {
   "cell_type": "markdown",
   "id": "331d8e90",
   "metadata": {},
   "source": [
    "## Dealing with Dates and Times"
   ]
  },
  {
   "cell_type": "code",
   "execution_count": 13,
   "id": "051c7721",
   "metadata": {},
   "outputs": [],
   "source": [
    "## This will produce a TypeError if run\n",
    "#from datetime import datetime\n",
    "\n",
    "#json.dumps(datetime.now())\n",
    "\n",
    "## Out: \n",
    "# ---------------------------------------------------------------------------\n",
    "# TypeError                                 Traceback (most recent call last)\n",
    "# [...]\n",
    "# --> 179         raise TypeError(f'Object of type {o.__class__.__name__} '\n",
    "#     180                         f'is not JSON serializable')\n",
    "#     181 \n",
    "\n",
    "# TypeError: Object of type datetime is not JSON serializable"
   ]
  },
  {
   "cell_type": "code",
   "execution_count": 14,
   "id": "188ec25b",
   "metadata": {},
   "outputs": [],
   "source": [
    "import datetime\n",
    "from dateutil import parser\n",
    "import json\n",
    "\n",
    "\n",
    "class JSONDateTimeEncoder(json.JSONEncoder):\n",
    "    def default(self, obj):\n",
    "        if isinstance(obj, (datetime.date, datetime.datetime)):\n",
    "            return obj.isoformat()\n",
    "        else:\n",
    "            return json.JSONEncoder.default(self, obj)\n",
    "        \n",
    "def dumps(obj):\n",
    "    return json.dumps(obj, cls=JSONDateTimeEncoder)"
   ]
  },
  {
   "cell_type": "code",
   "execution_count": 15,
   "id": "ce1bc334",
   "metadata": {},
   "outputs": [
    {
     "data": {
      "text/plain": [
       "'{\"time\": \"2022-08-15T19:17:49.553153\"}'"
      ]
     },
     "execution_count": 15,
     "metadata": {},
     "output_type": "execute_result"
    }
   ],
   "source": [
    "now_str = dumps({'time': datetime.datetime.now()})\n",
    "now_str"
   ]
  },
  {
   "cell_type": "code",
   "execution_count": 16,
   "id": "98fa8d19",
   "metadata": {},
   "outputs": [
    {
     "data": {
      "text/plain": [
       "datetime.datetime(2021, 1, 1, 12, 32, 11)"
      ]
     },
     "execution_count": 16,
     "metadata": {},
     "output_type": "execute_result"
    }
   ],
   "source": [
    "from datetime import datetime\n",
    "\n",
    "time_str = '2021/01/01 12:32:11'\n",
    "dt = datetime.strptime(time_str, '%Y/%m/%d %H:%M:%S')\n",
    "dt"
   ]
  },
  {
   "cell_type": "code",
   "execution_count": 17,
   "id": "892d069c",
   "metadata": {
    "scrolled": true
   },
   "outputs": [],
   "source": [
    "## This will throw an error if run\n",
    "\n",
    "# dt = datetime.strptime('1/2/2021 12:32:11', '%Y/%m/%d %H:%M:%S')\n",
    "\n",
    "# ---------------------------------------------------------------------------\n",
    "# ValueError                                Traceback (most recent call last)\n",
    "# /tmp/ipykernel_12021/1902707829.py in <module>\n",
    "# ----> 1 dt = datetime.strptime('1/2/2021 12:32:11', '%Y/%m/%d %H:%M:%S')\n",
    "\n",
    "# /usr/lib/python3.8/_strptime.py in _strptime_datetime(cls, data_string, format)\n",
    "#     566     \"\"\"Return a class cls instance based on the input string and the\n",
    "#     567     format string.\"\"\"\n",
    "# --> 568     tt, fraction, gmtoff_fraction = _strptime(data_string, format)\n",
    "#     569     tzname, gmtoff = tt[-2:]\n",
    "#     570     args = tt[:6] + (fraction,)\n",
    "\n",
    "# /usr/lib/python3.8/_strptime.py in _strptime(data_string, format)\n",
    "#     347     found = format_regex.match(data_string)\n",
    "#     348     if not found:\n",
    "# --> 349         raise ValueError(\"time data %r does not match format %r\" %\n",
    "#     350                          (data_string, format))\n",
    "#     351     if len(data_string) != found.end():\n",
    "\n",
    "# ValueError: time data '1/2/2021 12:32:11' does not match format '%Y/%m/%d %H:%M:%S'"
   ]
  },
  {
   "cell_type": "code",
   "execution_count": 18,
   "id": "e230ab19",
   "metadata": {},
   "outputs": [
    {
     "name": "stdout",
     "output_type": "stream",
     "text": [
      "Oops! - invalid date for {'id': 2, 'date': '2021/23/12 09:22:30'}\n"
     ]
    }
   ],
   "source": [
    "data = [\n",
    "    {'id': 0, 'date': '2020/02/23 12:59:05'},\n",
    "    {'id': 1, 'date': '2021/11/02 02:32:00'},\n",
    "    {'id': 2, 'date': '2021/23/12 09:22:30'},\n",
    "]\n",
    "\n",
    "for d in data:\n",
    "    try:\n",
    "        d['date'] = datetime.strptime(d['date'],\\\n",
    "        '%Y/%m/%d %H:%M:%S')\n",
    "    except ValueError:\n",
    "        print('Oops! - invalid date for ' + repr(d))"
   ]
  },
  {
   "cell_type": "markdown",
   "id": "3b7f63d4",
   "metadata": {},
   "source": [
    "## SQL"
   ]
  },
  {
   "cell_type": "markdown",
   "id": "24de42af",
   "metadata": {},
   "source": [
    "### Creating the Database Engine"
   ]
  },
  {
   "cell_type": "code",
   "execution_count": 19,
   "id": "b4359e0e",
   "metadata": {},
   "outputs": [],
   "source": [
    "from sqlalchemy import create_engine\n",
    "\n",
    "engine = create_engine('sqlite:///data/nobel_winners.db', echo=True)"
   ]
  },
  {
   "cell_type": "code",
   "execution_count": 20,
   "id": "b229fad6",
   "metadata": {},
   "outputs": [],
   "source": [
    "from sqlalchemy.ext.declarative import declarative_base\n",
    "\n",
    "Base = declarative_base()"
   ]
  },
  {
   "cell_type": "code",
   "execution_count": 27,
   "id": "5a5eaf72",
   "metadata": {},
   "outputs": [
    {
     "name": "stderr",
     "output_type": "stream",
     "text": [
      "/tmp/ipykernel_163819/1127242425.py:3: SAWarning: This declarative base already contains a class with the same class name and module name as __main__.Winner, and will be replaced in the string-lookup table.\n",
      "  class Winner(Base):\n"
     ]
    },
    {
     "ename": "InvalidRequestError",
     "evalue": "Table 'winners' is already defined for this MetaData instance.  Specify 'extend_existing=True' to redefine options and columns on an existing Table object.",
     "output_type": "error",
     "traceback": [
      "\u001b[0;31m---------------------------------------------------------------------------\u001b[0m",
      "\u001b[0;31mInvalidRequestError\u001b[0m                       Traceback (most recent call last)",
      "Input \u001b[0;32mIn [27]\u001b[0m, in \u001b[0;36m<cell line: 3>\u001b[0;34m()\u001b[0m\n\u001b[1;32m      1\u001b[0m \u001b[38;5;28;01mfrom\u001b[39;00m \u001b[38;5;21;01msqlalchemy\u001b[39;00m \u001b[38;5;28;01mimport\u001b[39;00m Column, Integer, String, Enum\n\u001b[0;32m----> 3\u001b[0m \u001b[38;5;28;01mclass\u001b[39;00m \u001b[38;5;21;01mWinner\u001b[39;00m(Base):\n\u001b[1;32m      4\u001b[0m     __tablename__ \u001b[38;5;241m=\u001b[39m \u001b[38;5;124m'\u001b[39m\u001b[38;5;124mwinners\u001b[39m\u001b[38;5;124m'\u001b[39m\n\u001b[1;32m      5\u001b[0m     \u001b[38;5;28mid\u001b[39m \u001b[38;5;241m=\u001b[39m Column(Integer, primary_key\u001b[38;5;241m=\u001b[39m\u001b[38;5;28;01mTrue\u001b[39;00m)\n",
      "File \u001b[0;32m~/.virtualenvs/pyjsdv/lib/python3.10/site-packages/sqlalchemy/orm/decl_api.py:76\u001b[0m, in \u001b[0;36mDeclarativeMeta.__init__\u001b[0;34m(cls, classname, bases, dict_, **kw)\u001b[0m\n\u001b[1;32m     73\u001b[0m         \u001b[38;5;28mcls\u001b[39m\u001b[38;5;241m.\u001b[39m_sa_registry \u001b[38;5;241m=\u001b[39m reg\n\u001b[1;32m     75\u001b[0m \u001b[38;5;28;01mif\u001b[39;00m \u001b[38;5;129;01mnot\u001b[39;00m \u001b[38;5;28mcls\u001b[39m\u001b[38;5;241m.\u001b[39m\u001b[38;5;18m__dict__\u001b[39m\u001b[38;5;241m.\u001b[39mget(\u001b[38;5;124m\"\u001b[39m\u001b[38;5;124m__abstract__\u001b[39m\u001b[38;5;124m\"\u001b[39m, \u001b[38;5;28;01mFalse\u001b[39;00m):\n\u001b[0;32m---> 76\u001b[0m     \u001b[43m_as_declarative\u001b[49m\u001b[43m(\u001b[49m\u001b[43mreg\u001b[49m\u001b[43m,\u001b[49m\u001b[43m \u001b[49m\u001b[38;5;28;43mcls\u001b[39;49m\u001b[43m,\u001b[49m\u001b[43m \u001b[49m\u001b[43mdict_\u001b[49m\u001b[43m)\u001b[49m\n\u001b[1;32m     77\u001b[0m \u001b[38;5;28mtype\u001b[39m\u001b[38;5;241m.\u001b[39m\u001b[38;5;21m__init__\u001b[39m(\u001b[38;5;28mcls\u001b[39m, classname, bases, dict_)\n",
      "File \u001b[0;32m~/.virtualenvs/pyjsdv/lib/python3.10/site-packages/sqlalchemy/orm/decl_base.py:126\u001b[0m, in \u001b[0;36m_as_declarative\u001b[0;34m(registry, cls, dict_)\u001b[0m\n\u001b[1;32m    121\u001b[0m \u001b[38;5;28;01mdef\u001b[39;00m \u001b[38;5;21m_as_declarative\u001b[39m(registry, \u001b[38;5;28mcls\u001b[39m, dict_):\n\u001b[1;32m    122\u001b[0m \n\u001b[1;32m    123\u001b[0m     \u001b[38;5;66;03m# declarative scans the class for attributes.  no table or mapper\u001b[39;00m\n\u001b[1;32m    124\u001b[0m     \u001b[38;5;66;03m# args passed separately.\u001b[39;00m\n\u001b[0;32m--> 126\u001b[0m     \u001b[38;5;28;01mreturn\u001b[39;00m \u001b[43m_MapperConfig\u001b[49m\u001b[38;5;241;43m.\u001b[39;49m\u001b[43msetup_mapping\u001b[49m\u001b[43m(\u001b[49m\u001b[43mregistry\u001b[49m\u001b[43m,\u001b[49m\u001b[43m \u001b[49m\u001b[38;5;28;43mcls\u001b[39;49m\u001b[43m,\u001b[49m\u001b[43m \u001b[49m\u001b[43mdict_\u001b[49m\u001b[43m,\u001b[49m\u001b[43m \u001b[49m\u001b[38;5;28;43;01mNone\u001b[39;49;00m\u001b[43m,\u001b[49m\u001b[43m \u001b[49m\u001b[43m{\u001b[49m\u001b[43m}\u001b[49m\u001b[43m)\u001b[49m\n",
      "File \u001b[0;32m~/.virtualenvs/pyjsdv/lib/python3.10/site-packages/sqlalchemy/orm/decl_base.py:183\u001b[0m, in \u001b[0;36m_MapperConfig.setup_mapping\u001b[0;34m(cls, registry, cls_, dict_, table, mapper_kw)\u001b[0m\n\u001b[1;32m    180\u001b[0m \u001b[38;5;28;01melse\u001b[39;00m:\n\u001b[1;32m    181\u001b[0m     cfg_cls \u001b[38;5;241m=\u001b[39m _ClassScanMapperConfig\n\u001b[0;32m--> 183\u001b[0m \u001b[38;5;28;01mreturn\u001b[39;00m \u001b[43mcfg_cls\u001b[49m\u001b[43m(\u001b[49m\u001b[43mregistry\u001b[49m\u001b[43m,\u001b[49m\u001b[43m \u001b[49m\u001b[43mcls_\u001b[49m\u001b[43m,\u001b[49m\u001b[43m \u001b[49m\u001b[43mdict_\u001b[49m\u001b[43m,\u001b[49m\u001b[43m \u001b[49m\u001b[43mtable\u001b[49m\u001b[43m,\u001b[49m\u001b[43m \u001b[49m\u001b[43mmapper_kw\u001b[49m\u001b[43m)\u001b[49m\n",
      "File \u001b[0;32m~/.virtualenvs/pyjsdv/lib/python3.10/site-packages/sqlalchemy/orm/decl_base.py:331\u001b[0m, in \u001b[0;36m_ClassScanMapperConfig.__init__\u001b[0;34m(self, registry, cls_, dict_, table, mapper_kw)\u001b[0m\n\u001b[1;32m    327\u001b[0m \u001b[38;5;28mself\u001b[39m\u001b[38;5;241m.\u001b[39m_extract_mappable_attributes()\n\u001b[1;32m    329\u001b[0m \u001b[38;5;28mself\u001b[39m\u001b[38;5;241m.\u001b[39m_extract_declared_columns()\n\u001b[0;32m--> 331\u001b[0m \u001b[38;5;28;43mself\u001b[39;49m\u001b[38;5;241;43m.\u001b[39;49m\u001b[43m_setup_table\u001b[49m\u001b[43m(\u001b[49m\u001b[43mtable\u001b[49m\u001b[43m)\u001b[49m\n\u001b[1;32m    333\u001b[0m \u001b[38;5;28mself\u001b[39m\u001b[38;5;241m.\u001b[39m_setup_inheritance(mapper_kw)\n\u001b[1;32m    335\u001b[0m \u001b[38;5;28mself\u001b[39m\u001b[38;5;241m.\u001b[39m_early_mapping(mapper_kw)\n",
      "File \u001b[0;32m~/.virtualenvs/pyjsdv/lib/python3.10/site-packages/sqlalchemy/orm/decl_base.py:820\u001b[0m, in \u001b[0;36m_ClassScanMapperConfig._setup_table\u001b[0;34m(self, table)\u001b[0m\n\u001b[1;32m    815\u001b[0m         \u001b[38;5;28;01mif\u001b[39;00m autoload:\n\u001b[1;32m    816\u001b[0m             table_kw[\u001b[38;5;124m\"\u001b[39m\u001b[38;5;124mautoload\u001b[39m\u001b[38;5;124m\"\u001b[39m] \u001b[38;5;241m=\u001b[39m \u001b[38;5;28;01mTrue\u001b[39;00m\n\u001b[1;32m    818\u001b[0m         table \u001b[38;5;241m=\u001b[39m \u001b[38;5;28mself\u001b[39m\u001b[38;5;241m.\u001b[39mset_cls_attribute(\n\u001b[1;32m    819\u001b[0m             \u001b[38;5;124m\"\u001b[39m\u001b[38;5;124m__table__\u001b[39m\u001b[38;5;124m\"\u001b[39m,\n\u001b[0;32m--> 820\u001b[0m             \u001b[43mtable_cls\u001b[49m\u001b[43m(\u001b[49m\n\u001b[1;32m    821\u001b[0m \u001b[43m                \u001b[49m\u001b[43mtablename\u001b[49m\u001b[43m,\u001b[49m\n\u001b[1;32m    822\u001b[0m \u001b[43m                \u001b[49m\u001b[38;5;28;43mself\u001b[39;49m\u001b[38;5;241;43m.\u001b[39;49m\u001b[43m_metadata_for_cls\u001b[49m\u001b[43m(\u001b[49m\u001b[43mmanager\u001b[49m\u001b[43m)\u001b[49m\u001b[43m,\u001b[49m\n\u001b[1;32m    823\u001b[0m \u001b[43m                \u001b[49m\u001b[38;5;241;43m*\u001b[39;49m\u001b[43m(\u001b[49m\u001b[38;5;28;43mtuple\u001b[39;49m\u001b[43m(\u001b[49m\u001b[43mdeclared_columns\u001b[49m\u001b[43m)\u001b[49m\u001b[43m \u001b[49m\u001b[38;5;241;43m+\u001b[39;49m\u001b[43m \u001b[49m\u001b[38;5;28;43mtuple\u001b[39;49m\u001b[43m(\u001b[49m\u001b[43margs\u001b[49m\u001b[43m)\u001b[49m\u001b[43m)\u001b[49m\u001b[43m,\u001b[49m\n\u001b[1;32m    824\u001b[0m \u001b[43m                \u001b[49m\u001b[38;5;241;43m*\u001b[39;49m\u001b[38;5;241;43m*\u001b[39;49m\u001b[43mtable_kw\u001b[49m\n\u001b[1;32m    825\u001b[0m \u001b[43m            \u001b[49m\u001b[43m)\u001b[49m,\n\u001b[1;32m    826\u001b[0m         )\n\u001b[1;32m    827\u001b[0m \u001b[38;5;28;01melse\u001b[39;00m:\n\u001b[1;32m    828\u001b[0m     \u001b[38;5;28;01mif\u001b[39;00m table \u001b[38;5;129;01mis\u001b[39;00m \u001b[38;5;28;01mNone\u001b[39;00m:\n",
      "File \u001b[0;32m<string>:2\u001b[0m, in \u001b[0;36m__new__\u001b[0;34m(cls, *args, **kw)\u001b[0m\n",
      "File \u001b[0;32m~/.virtualenvs/pyjsdv/lib/python3.10/site-packages/sqlalchemy/util/deprecations.py:309\u001b[0m, in \u001b[0;36mdeprecated_params.<locals>.decorate.<locals>.warned\u001b[0;34m(fn, *args, **kwargs)\u001b[0m\n\u001b[1;32m    302\u001b[0m     \u001b[38;5;28;01mif\u001b[39;00m m \u001b[38;5;129;01min\u001b[39;00m kwargs:\n\u001b[1;32m    303\u001b[0m         _warn_with_version(\n\u001b[1;32m    304\u001b[0m             messages[m],\n\u001b[1;32m    305\u001b[0m             versions[m],\n\u001b[1;32m    306\u001b[0m             version_warnings[m],\n\u001b[1;32m    307\u001b[0m             stacklevel\u001b[38;5;241m=\u001b[39m\u001b[38;5;241m3\u001b[39m,\n\u001b[1;32m    308\u001b[0m         )\n\u001b[0;32m--> 309\u001b[0m \u001b[38;5;28;01mreturn\u001b[39;00m \u001b[43mfn\u001b[49m\u001b[43m(\u001b[49m\u001b[38;5;241;43m*\u001b[39;49m\u001b[43margs\u001b[49m\u001b[43m,\u001b[49m\u001b[43m \u001b[49m\u001b[38;5;241;43m*\u001b[39;49m\u001b[38;5;241;43m*\u001b[39;49m\u001b[43mkwargs\u001b[49m\u001b[43m)\u001b[49m\n",
      "File \u001b[0;32m~/.virtualenvs/pyjsdv/lib/python3.10/site-packages/sqlalchemy/sql/schema.py:593\u001b[0m, in \u001b[0;36mTable.__new__\u001b[0;34m(cls, *args, **kw)\u001b[0m\n\u001b[1;32m    591\u001b[0m \u001b[38;5;28;01mif\u001b[39;00m key \u001b[38;5;129;01min\u001b[39;00m metadata\u001b[38;5;241m.\u001b[39mtables:\n\u001b[1;32m    592\u001b[0m     \u001b[38;5;28;01mif\u001b[39;00m \u001b[38;5;129;01mnot\u001b[39;00m keep_existing \u001b[38;5;129;01mand\u001b[39;00m \u001b[38;5;129;01mnot\u001b[39;00m extend_existing \u001b[38;5;129;01mand\u001b[39;00m \u001b[38;5;28mbool\u001b[39m(args):\n\u001b[0;32m--> 593\u001b[0m         \u001b[38;5;28;01mraise\u001b[39;00m exc\u001b[38;5;241m.\u001b[39mInvalidRequestError(\n\u001b[1;32m    594\u001b[0m             \u001b[38;5;124m\"\u001b[39m\u001b[38;5;124mTable \u001b[39m\u001b[38;5;124m'\u001b[39m\u001b[38;5;132;01m%s\u001b[39;00m\u001b[38;5;124m'\u001b[39m\u001b[38;5;124m is already defined for this MetaData \u001b[39m\u001b[38;5;124m\"\u001b[39m\n\u001b[1;32m    595\u001b[0m             \u001b[38;5;124m\"\u001b[39m\u001b[38;5;124minstance.  Specify \u001b[39m\u001b[38;5;124m'\u001b[39m\u001b[38;5;124mextend_existing=True\u001b[39m\u001b[38;5;124m'\u001b[39m\u001b[38;5;124m \u001b[39m\u001b[38;5;124m\"\u001b[39m\n\u001b[1;32m    596\u001b[0m             \u001b[38;5;124m\"\u001b[39m\u001b[38;5;124mto redefine \u001b[39m\u001b[38;5;124m\"\u001b[39m\n\u001b[1;32m    597\u001b[0m             \u001b[38;5;124m\"\u001b[39m\u001b[38;5;124moptions and columns on an \u001b[39m\u001b[38;5;124m\"\u001b[39m\n\u001b[1;32m    598\u001b[0m             \u001b[38;5;124m\"\u001b[39m\u001b[38;5;124mexisting Table object.\u001b[39m\u001b[38;5;124m\"\u001b[39m \u001b[38;5;241m%\u001b[39m key\n\u001b[1;32m    599\u001b[0m         )\n\u001b[1;32m    600\u001b[0m     table \u001b[38;5;241m=\u001b[39m metadata\u001b[38;5;241m.\u001b[39mtables[key]\n\u001b[1;32m    601\u001b[0m     \u001b[38;5;28;01mif\u001b[39;00m extend_existing:\n",
      "\u001b[0;31mInvalidRequestError\u001b[0m: Table 'winners' is already defined for this MetaData instance.  Specify 'extend_existing=True' to redefine options and columns on an existing Table object."
     ]
    }
   ],
   "source": [
    "from sqlalchemy import Column, Integer, String, Enum\n",
    "\n",
    "class Winner(Base):\n",
    "    __tablename__ = 'winners'\n",
    "    id = Column(Integer, primary_key=True)\n",
    "    category = Column(String)\n",
    "    name = Column(String)\n",
    "    nationality = Column(String)\n",
    "    year = Column(Integer)\n",
    "    gender = Column(Enum('male', 'female'))\n",
    "    def __repr__(self):\n",
    "        return \"<Winner(name='%s', category='%s', year='%s')>\"\\\n",
    "%(self.name, self.category, self.year)"
   ]
  },
  {
   "cell_type": "code",
   "execution_count": null,
   "id": "146edf70",
   "metadata": {},
   "outputs": [],
   "source": [
    "Base.metadata.create_all(engine)"
   ]
  },
  {
   "cell_type": "code",
   "execution_count": 28,
   "id": "7d8eacb2",
   "metadata": {},
   "outputs": [],
   "source": [
    "from sqlalchemy.ext.declarative import declarative_base\n",
    "from sqlalchemy.orm import sessionmaker\n",
    "\n",
    "def make_winners_database():\n",
    "\n",
    "    from sqlalchemy import create_engine\n",
    "\n",
    "    engine = create_engine('sqlite:///data/nobel_winners.db', echo=True)\n",
    "    \n",
    "    Base = declarative_base()\n",
    "\n",
    "    from sqlalchemy import Column, Integer, String, Enum\n",
    "\n",
    "    class Winner(Base):\n",
    "        __tablename__ = 'winners'\n",
    "        id = Column(Integer, primary_key=True)\n",
    "        category = Column(String)\n",
    "        name = Column(String)\n",
    "        nationality = Column(String)\n",
    "        year = Column(Integer)\n",
    "        gender = Column(Enum('male', 'female'))\n",
    "        def __repr__(self):\n",
    "            return \"<Winner(name='%s', category='%s', year='%s')>\"\\\n",
    "    %(self.name, self.category, self.year)\n",
    "    \n",
    "    Base.metadata.create_all(engine)\n",
    "    \n",
    "    Session = sessionmaker(bind=engine)\n",
    "    session = Session()\n",
    "    # delete any existing winners:\n",
    "    session.query(Winner).delete()\n",
    "    winner_rows = [Winner(**w) for w in nobel_winners]\n",
    "    session.add_all(winner_rows)\n",
    "    session.commit()    "
   ]
  },
  {
   "cell_type": "code",
   "execution_count": 29,
   "id": "9ab2a655",
   "metadata": {},
   "outputs": [
    {
     "name": "stdout",
     "output_type": "stream",
     "text": [
      "2022-08-15 19:19:03,615 INFO sqlalchemy.engine.Engine BEGIN (implicit)\n",
      "2022-08-15 19:19:03,616 INFO sqlalchemy.engine.Engine PRAGMA main.table_info(\"winners\")\n",
      "2022-08-15 19:19:03,617 INFO sqlalchemy.engine.Engine [raw sql] ()\n",
      "2022-08-15 19:19:03,619 INFO sqlalchemy.engine.Engine PRAGMA temp.table_info(\"winners\")\n",
      "2022-08-15 19:19:03,619 INFO sqlalchemy.engine.Engine [raw sql] ()\n",
      "2022-08-15 19:19:03,621 INFO sqlalchemy.engine.Engine \n",
      "CREATE TABLE winners (\n",
      "\tid INTEGER NOT NULL, \n",
      "\tcategory VARCHAR, \n",
      "\tname VARCHAR, \n",
      "\tnationality VARCHAR, \n",
      "\tyear INTEGER, \n",
      "\tgender VARCHAR(6), \n",
      "\tPRIMARY KEY (id)\n",
      ")\n",
      "\n",
      "\n",
      "2022-08-15 19:19:03,623 INFO sqlalchemy.engine.Engine [no key 0.00180s] ()\n",
      "2022-08-15 19:19:03,632 INFO sqlalchemy.engine.Engine COMMIT\n",
      "2022-08-15 19:19:03,634 INFO sqlalchemy.engine.Engine BEGIN (implicit)\n",
      "2022-08-15 19:19:03,635 INFO sqlalchemy.engine.Engine DELETE FROM winners\n",
      "2022-08-15 19:19:03,636 INFO sqlalchemy.engine.Engine [generated in 0.00072s] ()\n",
      "2022-08-15 19:19:03,638 INFO sqlalchemy.engine.Engine INSERT INTO winners (category, name, nationality, year, gender) VALUES (?, ?, ?, ?, ?)\n",
      "2022-08-15 19:19:03,639 INFO sqlalchemy.engine.Engine [generated in 0.00103s] ('Physics', 'Albert Einstein', 'Swiss', 1921, 'male')\n",
      "2022-08-15 19:19:03,640 INFO sqlalchemy.engine.Engine INSERT INTO winners (category, name, nationality, year, gender) VALUES (?, ?, ?, ?, ?)\n",
      "2022-08-15 19:19:03,641 INFO sqlalchemy.engine.Engine [cached since 0.00334s ago] ('Physics', 'Paul Dirac', 'British', 1933, 'male')\n",
      "2022-08-15 19:19:03,643 INFO sqlalchemy.engine.Engine INSERT INTO winners (category, name, nationality, year, gender) VALUES (?, ?, ?, ?, ?)\n",
      "2022-08-15 19:19:03,644 INFO sqlalchemy.engine.Engine [cached since 0.005597s ago] ('Chemistry', 'Marie Curie', 'Polish', 1911, 'female')\n",
      "2022-08-15 19:19:03,645 INFO sqlalchemy.engine.Engine COMMIT\n"
     ]
    }
   ],
   "source": [
    "make_winners_database()"
   ]
  },
  {
   "cell_type": "markdown",
   "id": "1f265ed9",
   "metadata": {},
   "source": [
    "## Adding Instances with a Session"
   ]
  },
  {
   "cell_type": "code",
   "execution_count": 30,
   "id": "74de1b1f",
   "metadata": {},
   "outputs": [
    {
     "name": "stdout",
     "output_type": "stream",
     "text": [
      "2022-08-15 19:19:11,045 INFO sqlalchemy.engine.Engine BEGIN (implicit)\n",
      "2022-08-15 19:19:11,048 INFO sqlalchemy.engine.Engine DELETE FROM winners\n",
      "2022-08-15 19:19:11,051 INFO sqlalchemy.engine.Engine [generated in 0.00289s] ()\n"
     ]
    },
    {
     "data": {
      "text/plain": [
       "3"
      ]
     },
     "execution_count": 30,
     "metadata": {},
     "output_type": "execute_result"
    }
   ],
   "source": [
    "from sqlalchemy.orm import sessionmaker\n",
    "\n",
    "Session = sessionmaker(bind=engine)\n",
    "session = Session()\n",
    "\n",
    "# delete any existing winners fromt the table\n",
    "session.query(Winner).delete()"
   ]
  },
  {
   "cell_type": "code",
   "execution_count": 31,
   "id": "06eaca9d",
   "metadata": {},
   "outputs": [
    {
     "data": {
      "text/plain": [
       "IdentitySet([<Winner(name='Albert Einstein', category='Physics', year='1921')>])"
      ]
     },
     "execution_count": 31,
     "metadata": {},
     "output_type": "execute_result"
    }
   ],
   "source": [
    "albert = Winner(**nobel_winners[0])\n",
    "session.add(albert)\n",
    "session.new"
   ]
  },
  {
   "cell_type": "code",
   "execution_count": 32,
   "id": "3b2eb86f",
   "metadata": {},
   "outputs": [
    {
     "data": {
      "text/plain": [
       "IdentitySet([])"
      ]
     },
     "execution_count": 32,
     "metadata": {},
     "output_type": "execute_result"
    }
   ],
   "source": [
    "session.expunge(albert)\n",
    "session.new"
   ]
  },
  {
   "cell_type": "code",
   "execution_count": 33,
   "id": "118bce8d",
   "metadata": {},
   "outputs": [
    {
     "name": "stdout",
     "output_type": "stream",
     "text": [
      "2022-08-15 19:19:15,626 INFO sqlalchemy.engine.Engine INSERT INTO winners (category, name, nationality, year, gender) VALUES (?, ?, ?, ?, ?)\n",
      "2022-08-15 19:19:15,628 INFO sqlalchemy.engine.Engine [generated in 0.00514s] ('Physics', 'Albert Einstein', 'Swiss', 1921, 'male')\n",
      "2022-08-15 19:19:15,629 INFO sqlalchemy.engine.Engine INSERT INTO winners (category, name, nationality, year, gender) VALUES (?, ?, ?, ?, ?)\n",
      "2022-08-15 19:19:15,630 INFO sqlalchemy.engine.Engine [cached since 0.007933s ago] ('Physics', 'Paul Dirac', 'British', 1933, 'male')\n",
      "2022-08-15 19:19:15,631 INFO sqlalchemy.engine.Engine INSERT INTO winners (category, name, nationality, year, gender) VALUES (?, ?, ?, ?, ?)\n",
      "2022-08-15 19:19:15,633 INFO sqlalchemy.engine.Engine [cached since 0.01061s ago] ('Chemistry', 'Marie Curie', 'Polish', 1911, 'female')\n",
      "2022-08-15 19:19:15,635 INFO sqlalchemy.engine.Engine COMMIT\n"
     ]
    }
   ],
   "source": [
    "winner_rows = [Winner(**w) for w in nobel_winners]\n",
    "session.add_all(winner_rows)\n",
    "session.commit()"
   ]
  },
  {
   "cell_type": "markdown",
   "id": "93b7bee0",
   "metadata": {},
   "source": [
    "## Querying the Database"
   ]
  },
  {
   "cell_type": "code",
   "execution_count": 34,
   "id": "fa95bb14",
   "metadata": {},
   "outputs": [
    {
     "name": "stdout",
     "output_type": "stream",
     "text": [
      "2022-08-15 19:19:18,671 INFO sqlalchemy.engine.Engine BEGIN (implicit)\n",
      "2022-08-15 19:19:18,682 INFO sqlalchemy.engine.Engine SELECT count(*) AS count_1 \n",
      "FROM (SELECT winners.id AS winners_id, winners.category AS winners_category, winners.name AS winners_name, winners.nationality AS winners_nationality, winners.year AS winners_year, winners.gender AS winners_gender \n",
      "FROM winners) AS anon_1\n",
      "2022-08-15 19:19:18,684 INFO sqlalchemy.engine.Engine [generated in 0.00164s] ()\n"
     ]
    },
    {
     "data": {
      "text/plain": [
       "3"
      ]
     },
     "execution_count": 34,
     "metadata": {},
     "output_type": "execute_result"
    }
   ],
   "source": [
    "session.query(Winner).count()"
   ]
  },
  {
   "cell_type": "code",
   "execution_count": 35,
   "id": "aadff781",
   "metadata": {},
   "outputs": [
    {
     "name": "stdout",
     "output_type": "stream",
     "text": [
      "2022-08-15 19:19:19,153 INFO sqlalchemy.engine.Engine SELECT winners.id AS winners_id, winners.category AS winners_category, winners.name AS winners_name, winners.nationality AS winners_nationality, winners.year AS winners_year, winners.gender AS winners_gender \n",
      "FROM winners \n",
      "WHERE winners.nationality = ?\n",
      "2022-08-15 19:19:19,156 INFO sqlalchemy.engine.Engine [generated in 0.00286s] ('Swiss',)\n"
     ]
    },
    {
     "data": {
      "text/plain": [
       "[<Winner(name='Albert Einstein', category='Physics', year='1921')>]"
      ]
     },
     "execution_count": 35,
     "metadata": {},
     "output_type": "execute_result"
    }
   ],
   "source": [
    "result = session.query(Winner).filter_by(nationality='Swiss')\n",
    "list(result)"
   ]
  },
  {
   "cell_type": "code",
   "execution_count": 36,
   "id": "0eaad818",
   "metadata": {},
   "outputs": [
    {
     "name": "stdout",
     "output_type": "stream",
     "text": [
      "2022-08-15 19:19:19,960 INFO sqlalchemy.engine.Engine SELECT winners.id AS winners_id, winners.category AS winners_category, winners.name AS winners_name, winners.nationality AS winners_nationality, winners.year AS winners_year, winners.gender AS winners_gender \n",
      "FROM winners \n",
      "WHERE winners.category = ? AND winners.nationality != ?\n",
      "2022-08-15 19:19:19,963 INFO sqlalchemy.engine.Engine [generated in 0.00331s] ('Physics', 'Swiss')\n"
     ]
    },
    {
     "data": {
      "text/plain": [
       "[<Winner(name='Paul Dirac', category='Physics', year='1933')>]"
      ]
     },
     "execution_count": 36,
     "metadata": {},
     "output_type": "execute_result"
    }
   ],
   "source": [
    "result = session.query(Winner).filter(\\\n",
    "Winner.category == 'Physics', \\\n",
    "Winner.nationality != 'Swiss')\n",
    "list(result)"
   ]
  },
  {
   "cell_type": "code",
   "execution_count": 37,
   "id": "1757c67c",
   "metadata": {},
   "outputs": [
    {
     "name": "stdout",
     "output_type": "stream",
     "text": [
      "2022-08-15 19:19:21,631 INFO sqlalchemy.engine.Engine SELECT winners.id AS winners_id, winners.category AS winners_category, winners.name AS winners_name, winners.nationality AS winners_nationality, winners.year AS winners_year, winners.gender AS winners_gender \n",
      "FROM winners \n",
      "WHERE winners.id = ?\n",
      "2022-08-15 19:19:21,633 INFO sqlalchemy.engine.Engine [generated in 0.00192s] (3,)\n"
     ]
    },
    {
     "data": {
      "text/plain": [
       "<Winner(name='Marie Curie', category='Chemistry', year='1911')>"
      ]
     },
     "execution_count": 37,
     "metadata": {},
     "output_type": "execute_result"
    }
   ],
   "source": [
    "session.query(Winner).get(3)"
   ]
  },
  {
   "cell_type": "code",
   "execution_count": 38,
   "id": "6b1d3f09",
   "metadata": {},
   "outputs": [
    {
     "name": "stdout",
     "output_type": "stream",
     "text": [
      "2022-08-15 19:19:23,266 INFO sqlalchemy.engine.Engine SELECT winners.id AS winners_id, winners.category AS winners_category, winners.name AS winners_name, winners.nationality AS winners_nationality, winners.year AS winners_year, winners.gender AS winners_gender \n",
      "FROM winners ORDER BY winners.year\n",
      "2022-08-15 19:19:23,269 INFO sqlalchemy.engine.Engine [generated in 0.00320s] ()\n"
     ]
    },
    {
     "data": {
      "text/plain": [
       "[<Winner(name='Marie Curie', category='Chemistry', year='1911')>,\n",
       " <Winner(name='Albert Einstein', category='Physics', year='1921')>,\n",
       " <Winner(name='Paul Dirac', category='Physics', year='1933')>]"
      ]
     },
     "execution_count": 38,
     "metadata": {},
     "output_type": "execute_result"
    }
   ],
   "source": [
    "res = session.query(Winner).order_by('year')\n",
    "list(res)"
   ]
  },
  {
   "cell_type": "code",
   "execution_count": 39,
   "id": "54d771fc",
   "metadata": {},
   "outputs": [],
   "source": [
    "def inst_to_dict(inst, delete_id=True):\n",
    "    dat = {}\n",
    "    for column in inst.__table__.columns:\n",
    "        dat[column.name] = getattr(inst, column.name)\n",
    "    if delete_id:\n",
    "        dat.pop('id')\n",
    "    return dat"
   ]
  },
  {
   "cell_type": "code",
   "execution_count": 40,
   "id": "c54445dc",
   "metadata": {},
   "outputs": [
    {
     "name": "stdout",
     "output_type": "stream",
     "text": [
      "2022-08-15 19:19:24,529 INFO sqlalchemy.engine.Engine SELECT winners.id AS winners_id, winners.category AS winners_category, winners.name AS winners_name, winners.nationality AS winners_nationality, winners.year AS winners_year, winners.gender AS winners_gender \n",
      "FROM winners\n",
      "2022-08-15 19:19:24,531 INFO sqlalchemy.engine.Engine [generated in 0.00235s] ()\n"
     ]
    },
    {
     "data": {
      "text/plain": [
       "[{'category': 'Physics',\n",
       "  'name': 'Albert Einstein',\n",
       "  'nationality': 'Swiss',\n",
       "  'year': 1921,\n",
       "  'gender': 'male'},\n",
       " {'category': 'Physics',\n",
       "  'name': 'Paul Dirac',\n",
       "  'nationality': 'British',\n",
       "  'year': 1933,\n",
       "  'gender': 'male'},\n",
       " {'category': 'Chemistry',\n",
       "  'name': 'Marie Curie',\n",
       "  'nationality': 'Polish',\n",
       "  'year': 1911,\n",
       "  'gender': 'female'}]"
      ]
     },
     "execution_count": 40,
     "metadata": {},
     "output_type": "execute_result"
    }
   ],
   "source": [
    "winner_rows = session.query(Winner)\n",
    "nobel_winners = [inst_to_dict(w) for w in winner_rows]\n",
    "nobel_winners"
   ]
  },
  {
   "cell_type": "code",
   "execution_count": 41,
   "id": "ecf355ad",
   "metadata": {},
   "outputs": [
    {
     "data": {
      "text/plain": [
       "IdentitySet([<Winner(name='Marie Curie', category='Chemistry', year='1911')>])"
      ]
     },
     "execution_count": 41,
     "metadata": {},
     "output_type": "execute_result"
    }
   ],
   "source": [
    "marie = session.query(Winner).get(3)\n",
    "marie.nationality = 'French'\n",
    "session.dirty"
   ]
  },
  {
   "cell_type": "code",
   "execution_count": 42,
   "id": "b8d2f563",
   "metadata": {},
   "outputs": [
    {
     "name": "stdout",
     "output_type": "stream",
     "text": [
      "2022-08-15 19:19:26,431 INFO sqlalchemy.engine.Engine UPDATE winners SET nationality=? WHERE winners.id = ?\n",
      "2022-08-15 19:19:26,432 INFO sqlalchemy.engine.Engine [generated in 0.00178s] ('French', 3)\n",
      "2022-08-15 19:19:26,435 INFO sqlalchemy.engine.Engine COMMIT\n"
     ]
    }
   ],
   "source": [
    "session.commit()"
   ]
  },
  {
   "cell_type": "code",
   "execution_count": 43,
   "id": "c1afee03",
   "metadata": {},
   "outputs": [
    {
     "data": {
      "text/plain": [
       "IdentitySet([])"
      ]
     },
     "execution_count": 43,
     "metadata": {},
     "output_type": "execute_result"
    }
   ],
   "source": [
    "session.dirty"
   ]
  },
  {
   "cell_type": "code",
   "execution_count": 44,
   "id": "12439078-e243-4e4d-8363-2a0ee097f7f0",
   "metadata": {},
   "outputs": [
    {
     "name": "stdout",
     "output_type": "stream",
     "text": [
      "2022-08-15 19:19:27,401 INFO sqlalchemy.engine.Engine BEGIN (implicit)\n",
      "2022-08-15 19:19:27,404 INFO sqlalchemy.engine.Engine SELECT winners.id AS winners_id, winners.category AS winners_category, winners.name AS winners_name, winners.nationality AS winners_nationality, winners.year AS winners_year, winners.gender AS winners_gender \n",
      "FROM winners \n",
      "WHERE winners.id = ?\n",
      "2022-08-15 19:19:27,405 INFO sqlalchemy.engine.Engine [cached since 5.774s ago] (3,)\n"
     ]
    },
    {
     "data": {
      "text/plain": [
       "'French'"
      ]
     },
     "execution_count": 44,
     "metadata": {},
     "output_type": "execute_result"
    }
   ],
   "source": [
    "session.query(Winner).get(3).nationality"
   ]
  },
  {
   "cell_type": "code",
   "execution_count": 45,
   "id": "27df0766",
   "metadata": {},
   "outputs": [
    {
     "name": "stdout",
     "output_type": "stream",
     "text": [
      "2022-08-15 19:19:27,819 INFO sqlalchemy.engine.Engine DELETE FROM winners WHERE winners.name = ?\n",
      "2022-08-15 19:19:27,822 INFO sqlalchemy.engine.Engine [generated in 0.00323s] ('Albert Einstein',)\n"
     ]
    },
    {
     "data": {
      "text/plain": [
       "1"
      ]
     },
     "execution_count": 45,
     "metadata": {},
     "output_type": "execute_result"
    }
   ],
   "source": [
    "session.query(Winner).filter_by(name='Albert Einstein').delete()"
   ]
  },
  {
   "cell_type": "code",
   "execution_count": 46,
   "id": "85433700",
   "metadata": {},
   "outputs": [
    {
     "name": "stdout",
     "output_type": "stream",
     "text": [
      "2022-08-15 19:19:28,419 INFO sqlalchemy.engine.Engine SELECT winners.id AS winners_id, winners.category AS winners_category, winners.name AS winners_name, winners.nationality AS winners_nationality, winners.year AS winners_year, winners.gender AS winners_gender \n",
      "FROM winners\n",
      "2022-08-15 19:19:28,422 INFO sqlalchemy.engine.Engine [cached since 3.894s ago] ()\n"
     ]
    },
    {
     "data": {
      "text/plain": [
       "[<Winner(name='Paul Dirac', category='Physics', year='1933')>,\n",
       " <Winner(name='Marie Curie', category='Chemistry', year='1911')>]"
      ]
     },
     "execution_count": 46,
     "metadata": {},
     "output_type": "execute_result"
    }
   ],
   "source": [
    "list(session.query(Winner))"
   ]
  },
  {
   "cell_type": "code",
   "execution_count": 47,
   "id": "ce7cb24f",
   "metadata": {},
   "outputs": [
    {
     "name": "stdout",
     "output_type": "stream",
     "text": [
      "2022-08-15 19:19:29,461 INFO sqlalchemy.engine.Engine COMMIT\n"
     ]
    }
   ],
   "source": [
    "session.commit()"
   ]
  },
  {
   "cell_type": "code",
   "execution_count": 48,
   "id": "67acb315",
   "metadata": {},
   "outputs": [
    {
     "name": "stdout",
     "output_type": "stream",
     "text": [
      "2022-08-15 19:19:29,917 INFO sqlalchemy.engine.Engine BEGIN (implicit)\n",
      "2022-08-15 19:19:29,920 INFO sqlalchemy.engine.Engine \n",
      "DROP TABLE winners\n",
      "2022-08-15 19:19:29,922 INFO sqlalchemy.engine.Engine [no key 0.00144s] ()\n",
      "2022-08-15 19:19:29,936 INFO sqlalchemy.engine.Engine COMMIT\n"
     ]
    }
   ],
   "source": [
    "Winner.__table__.drop(engine)"
   ]
  },
  {
   "cell_type": "markdown",
   "id": "d53800a0-3570-43dd-b162-678cad41b621",
   "metadata": {},
   "source": [
    "### Easier SQL with Dataset"
   ]
  },
  {
   "cell_type": "code",
   "execution_count": 49,
   "id": "97dd0f9e",
   "metadata": {},
   "outputs": [],
   "source": [
    "import dataset\n",
    "db = dataset.connect('sqlite:///data/nobel_winners.db')"
   ]
  },
  {
   "cell_type": "code",
   "execution_count": 50,
   "id": "036411e1",
   "metadata": {},
   "outputs": [
    {
     "name": "stdout",
     "output_type": "stream",
     "text": [
      "2022-08-15 19:19:31,872 INFO sqlalchemy.engine.Engine BEGIN (implicit)\n",
      "2022-08-15 19:19:31,874 INFO sqlalchemy.engine.Engine PRAGMA main.table_info(\"winners\")\n",
      "2022-08-15 19:19:31,875 INFO sqlalchemy.engine.Engine [raw sql] ()\n",
      "2022-08-15 19:19:31,877 INFO sqlalchemy.engine.Engine PRAGMA temp.table_info(\"winners\")\n",
      "2022-08-15 19:19:31,878 INFO sqlalchemy.engine.Engine [raw sql] ()\n",
      "2022-08-15 19:19:31,881 INFO sqlalchemy.engine.Engine \n",
      "CREATE TABLE winners (\n",
      "\tid INTEGER NOT NULL, \n",
      "\tcategory VARCHAR, \n",
      "\tname VARCHAR, \n",
      "\tnationality VARCHAR, \n",
      "\tyear INTEGER, \n",
      "\tgender VARCHAR(6), \n",
      "\tPRIMARY KEY (id)\n",
      ")\n",
      "\n",
      "\n",
      "2022-08-15 19:19:31,882 INFO sqlalchemy.engine.Engine [no key 0.00138s] ()\n",
      "2022-08-15 19:19:31,891 INFO sqlalchemy.engine.Engine COMMIT\n",
      "2022-08-15 19:19:31,894 INFO sqlalchemy.engine.Engine BEGIN (implicit)\n",
      "2022-08-15 19:19:31,895 INFO sqlalchemy.engine.Engine DELETE FROM winners\n",
      "2022-08-15 19:19:31,896 INFO sqlalchemy.engine.Engine [generated in 0.00070s] ()\n",
      "2022-08-15 19:19:31,899 INFO sqlalchemy.engine.Engine INSERT INTO winners (category, name, nationality, year, gender) VALUES (?, ?, ?, ?, ?)\n",
      "2022-08-15 19:19:31,900 INFO sqlalchemy.engine.Engine [generated in 0.00093s] ('Physics', 'Albert Einstein', 'Swiss', 1921, 'male')\n",
      "2022-08-15 19:19:31,901 INFO sqlalchemy.engine.Engine INSERT INTO winners (category, name, nationality, year, gender) VALUES (?, ?, ?, ?, ?)\n",
      "2022-08-15 19:19:31,902 INFO sqlalchemy.engine.Engine [cached since 0.002629s ago] ('Physics', 'Paul Dirac', 'British', 1933, 'male')\n",
      "2022-08-15 19:19:31,902 INFO sqlalchemy.engine.Engine INSERT INTO winners (category, name, nationality, year, gender) VALUES (?, ?, ?, ?, ?)\n",
      "2022-08-15 19:19:31,904 INFO sqlalchemy.engine.Engine [cached since 0.004584s ago] ('Chemistry', 'Marie Curie', 'Polish', 1911, 'female')\n",
      "2022-08-15 19:19:31,905 INFO sqlalchemy.engine.Engine COMMIT\n"
     ]
    }
   ],
   "source": [
    "make_winners_database()"
   ]
  },
  {
   "cell_type": "code",
   "execution_count": 51,
   "id": "0aaa559b",
   "metadata": {},
   "outputs": [
    {
     "data": {
      "text/plain": [
       "[OrderedDict([('id', 1),\n",
       "              ('category', 'Physics'),\n",
       "              ('name', 'Albert Einstein'),\n",
       "              ('nationality', 'Swiss'),\n",
       "              ('year', 1921),\n",
       "              ('gender', 'male')]),\n",
       " OrderedDict([('id', 2),\n",
       "              ('category', 'Physics'),\n",
       "              ('name', 'Paul Dirac'),\n",
       "              ('nationality', 'British'),\n",
       "              ('year', 1933),\n",
       "              ('gender', 'male')]),\n",
       " OrderedDict([('id', 3),\n",
       "              ('category', 'Chemistry'),\n",
       "              ('name', 'Marie Curie'),\n",
       "              ('nationality', 'Polish'),\n",
       "              ('year', 1911),\n",
       "              ('gender', 'female')])]"
      ]
     },
     "execution_count": 51,
     "metadata": {},
     "output_type": "execute_result"
    }
   ],
   "source": [
    "wtable = db['winners']\n",
    "winners = wtable.find()\n",
    "winners = list(winners)\n",
    "winners"
   ]
  },
  {
   "cell_type": "code",
   "execution_count": 52,
   "id": "fc19b004",
   "metadata": {},
   "outputs": [
    {
     "data": {
      "text/plain": [
       "[]"
      ]
     },
     "execution_count": 52,
     "metadata": {},
     "output_type": "execute_result"
    }
   ],
   "source": [
    "wtable = db['winners']\n",
    "wtable.drop()\n",
    "wtable = db['winners']\n",
    "list(wtable.find())"
   ]
  },
  {
   "cell_type": "code",
   "execution_count": 53,
   "id": "b43cd2b2",
   "metadata": {},
   "outputs": [
    {
     "name": "stderr",
     "output_type": "stream",
     "text": [
      "/home/kyran/.virtualenvs/pyjsdv/lib/python3.10/site-packages/dataset/table.py:313: RuntimeWarning: Changing the database schema inside a transaction in a multi-threaded environment is likely to lead to race conditions and synchronization issues.\n",
      "  warnings.warn(\n"
     ]
    }
   ],
   "source": [
    "with db as tx:\n",
    "    tx['winners'].insert_many(nobel_winners)"
   ]
  },
  {
   "cell_type": "code",
   "execution_count": 54,
   "id": "48bbb032",
   "metadata": {},
   "outputs": [
    {
     "data": {
      "text/plain": [
       "[OrderedDict([('id', 1),\n",
       "              ('category', 'Physics'),\n",
       "              ('name', 'Albert Einstein'),\n",
       "              ('nationality', 'Swiss'),\n",
       "              ('year', 1921),\n",
       "              ('gender', 'male')]),\n",
       " OrderedDict([('id', 2),\n",
       "              ('category', 'Physics'),\n",
       "              ('name', 'Paul Dirac'),\n",
       "              ('nationality', 'British'),\n",
       "              ('year', 1933),\n",
       "              ('gender', 'male')]),\n",
       " OrderedDict([('id', 3),\n",
       "              ('category', 'Chemistry'),\n",
       "              ('name', 'Marie Curie'),\n",
       "              ('nationality', 'Polish'),\n",
       "              ('year', 1911),\n",
       "              ('gender', 'female')])]"
      ]
     },
     "execution_count": 54,
     "metadata": {},
     "output_type": "execute_result"
    }
   ],
   "source": [
    "list(db['winners'].find())"
   ]
  },
  {
   "cell_type": "markdown",
   "id": "91bf0919-1be0-4487-b6a7-c08db5fde7e0",
   "metadata": {},
   "source": [
    "### MongoDB"
   ]
  },
  {
   "cell_type": "code",
   "execution_count": 55,
   "id": "86deedd0",
   "metadata": {},
   "outputs": [],
   "source": [
    "from pymongo import MongoClient\n",
    "\n",
    "client = MongoClient()\n",
    "db = client.nobel_prize\n",
    "coll = db.winners"
   ]
  },
  {
   "cell_type": "code",
   "execution_count": 56,
   "id": "d9d7b7c9",
   "metadata": {},
   "outputs": [],
   "source": [
    "DB_NOBEL_PRIZE = 'nobel_prize'\n",
    "COLL_WINNERS = 'winners'"
   ]
  },
  {
   "cell_type": "code",
   "execution_count": 57,
   "id": "432f3ce5",
   "metadata": {},
   "outputs": [],
   "source": [
    "def get_mongo_database(db_name, host='localhost',\\\n",
    "    port=27017, username=None, password=None):\n",
    "    \"\"\" Get named database from MongoDB with/out authentication \"\"\"\n",
    "    # make Mongo connection with/out authentication\n",
    "    if username and password:\n",
    "        mongo_uri = 'mongodb://%s:%s@%s/%s'%\\\n",
    "        (username, password, host, db_name)\n",
    "        conn = MongoClient(mongo_uri)\n",
    "    else:\n",
    "        conn = MongoClient(host, port)\n",
    "    return conn[db_name]"
   ]
  },
  {
   "cell_type": "code",
   "execution_count": 58,
   "id": "0195131a",
   "metadata": {},
   "outputs": [],
   "source": [
    "db = get_mongo_database(DB_NOBEL_PRIZE)\n",
    "coll = db[COLL_WINNERS]"
   ]
  },
  {
   "cell_type": "code",
   "execution_count": 59,
   "id": "ca479c75",
   "metadata": {},
   "outputs": [],
   "source": [
    "# delete existing winners from the collection\n",
    "# !NOTE! - if you get a PyMongo error like this:\n",
    "# ConfigurationError: Server at 127.0.0.1:27017 \n",
    "# reports wire version 0, but this version of PyMongo requires at least 2 (MongoDB 2.6)\n",
    "# try downgrading your PyMongo module with 'pip install pymongo==3.4.0'\n",
    "coll.drop()"
   ]
  },
  {
   "cell_type": "code",
   "execution_count": 60,
   "id": "e360b9a0",
   "metadata": {},
   "outputs": [
    {
     "data": {
      "text/plain": [
       "[{'_id': ObjectId('62fa8e410c37aefc01be2875'),\n",
       "  'category': 'Physics',\n",
       "  'name': 'Albert Einstein',\n",
       "  'nationality': 'Swiss',\n",
       "  'year': 1921,\n",
       "  'gender': 'male'},\n",
       " {'_id': ObjectId('62fa8e410c37aefc01be2876'),\n",
       "  'category': 'Physics',\n",
       "  'name': 'Paul Dirac',\n",
       "  'nationality': 'British',\n",
       "  'year': 1933,\n",
       "  'gender': 'male'},\n",
       " {'_id': ObjectId('62fa8e410c37aefc01be2877'),\n",
       "  'category': 'Chemistry',\n",
       "  'name': 'Marie Curie',\n",
       "  'nationality': 'Polish',\n",
       "  'year': 1911,\n",
       "  'gender': 'female'}]"
      ]
     },
     "execution_count": 60,
     "metadata": {},
     "output_type": "execute_result"
    }
   ],
   "source": [
    "coll.insert_many(nobel_winners)\n",
    "list(coll.find())"
   ]
  },
  {
   "cell_type": "code",
   "execution_count": 61,
   "id": "720673ac",
   "metadata": {},
   "outputs": [
    {
     "data": {
      "text/plain": [
       "[{'_id': ObjectId('62fa8e410c37aefc01be2877'),\n",
       "  'category': 'Chemistry',\n",
       "  'name': 'Marie Curie',\n",
       "  'nationality': 'Polish',\n",
       "  'year': 1911,\n",
       "  'gender': 'female'}]"
      ]
     },
     "execution_count": 61,
     "metadata": {},
     "output_type": "execute_result"
    }
   ],
   "source": [
    "res = coll.find({'category':'Chemistry'})\n",
    "list(res)"
   ]
  },
  {
   "cell_type": "code",
   "execution_count": 62,
   "id": "60716b22",
   "metadata": {},
   "outputs": [
    {
     "data": {
      "text/plain": [
       "[{'_id': ObjectId('62fa8e410c37aefc01be2876'),\n",
       "  'category': 'Physics',\n",
       "  'name': 'Paul Dirac',\n",
       "  'nationality': 'British',\n",
       "  'year': 1933,\n",
       "  'gender': 'male'}]"
      ]
     },
     "execution_count": 62,
     "metadata": {},
     "output_type": "execute_result"
    }
   ],
   "source": [
    "res = coll.find({'year': {'$gt': 1930}})\n",
    "list(res)"
   ]
  },
  {
   "cell_type": "code",
   "execution_count": 63,
   "id": "63b7dcf5",
   "metadata": {},
   "outputs": [
    {
     "data": {
      "text/plain": [
       "[{'_id': ObjectId('62fa8e410c37aefc01be2876'),\n",
       "  'category': 'Physics',\n",
       "  'name': 'Paul Dirac',\n",
       "  'nationality': 'British',\n",
       "  'year': 1933,\n",
       "  'gender': 'male'}]"
      ]
     },
     "execution_count": 63,
     "metadata": {},
     "output_type": "execute_result"
    }
   ],
   "source": [
    "res = coll.find({'$or':[{'year': {'$gt': 1930}},\\\n",
    "{'sex':'female'}]})\n",
    "list(res)"
   ]
  },
  {
   "cell_type": "code",
   "execution_count": 64,
   "id": "805af0b3",
   "metadata": {},
   "outputs": [],
   "source": [
    "def mongo_coll_to_dicts(dbname='test', collname='test', query={}, del_id=True, **kw):\n",
    "    db = get_mongo_database(dbname, **kw)\n",
    "    res = list(db[collname].find(query))\n",
    "    if del_id:\n",
    "        for r in res:\n",
    "            r.pop('_id')\n",
    "    return res"
   ]
  },
  {
   "cell_type": "code",
   "execution_count": 65,
   "id": "d90f391d",
   "metadata": {
    "scrolled": true
   },
   "outputs": [
    {
     "data": {
      "text/plain": [
       "[{'category': 'Physics',\n",
       "  'name': 'Albert Einstein',\n",
       "  'nationality': 'Swiss',\n",
       "  'year': 1921,\n",
       "  'gender': 'male'},\n",
       " {'category': 'Physics',\n",
       "  'name': 'Paul Dirac',\n",
       "  'nationality': 'British',\n",
       "  'year': 1933,\n",
       "  'gender': 'male'},\n",
       " {'category': 'Chemistry',\n",
       "  'name': 'Marie Curie',\n",
       "  'nationality': 'Polish',\n",
       "  'year': 1911,\n",
       "  'gender': 'female'}]"
      ]
     },
     "execution_count": 65,
     "metadata": {},
     "output_type": "execute_result"
    }
   ],
   "source": [
    "mongo_coll_to_dicts(DB_NOBEL_PRIZE, COLL_WINNERS)"
   ]
  },
  {
   "cell_type": "markdown",
   "id": "4fdf2c84",
   "metadata": {},
   "source": [
    "## Dealing with Dates, Times, and Complex Data"
   ]
  },
  {
   "cell_type": "code",
   "execution_count": 66,
   "id": "908c0d94",
   "metadata": {},
   "outputs": [
    {
     "data": {
      "text/plain": [
       "'2022-08-15T19:19:52.024181'"
      ]
     },
     "execution_count": 66,
     "metadata": {},
     "output_type": "execute_result"
    }
   ],
   "source": [
    "from datetime import datetime\n",
    "d = datetime.now()\n",
    "d.isoformat()"
   ]
  },
  {
   "cell_type": "code",
   "execution_count": 67,
   "id": "cb67920f",
   "metadata": {},
   "outputs": [
    {
     "data": {
      "text/plain": [
       "datetime.datetime(2021, 11, 16, 22, 55, 48, 738000, tzinfo=tzutc())"
      ]
     },
     "execution_count": 67,
     "metadata": {},
     "output_type": "execute_result"
    }
   ],
   "source": [
    "from dateutil import parser\n",
    "d = parser.parse('2021-11-16T22:55:48.738Z')\n",
    "d"
   ]
  },
  {
   "cell_type": "code",
   "execution_count": null,
   "id": "67b1c080",
   "metadata": {},
   "outputs": [],
   "source": []
  }
 ],
 "metadata": {
  "kernelspec": {
   "display_name": "Python 3 (ipykernel)",
   "language": "python",
   "name": "python3"
  },
  "language_info": {
   "codemirror_mode": {
    "name": "ipython",
    "version": 3
   },
   "file_extension": ".py",
   "mimetype": "text/x-python",
   "name": "python",
   "nbconvert_exporter": "python",
   "pygments_lexer": "ipython3",
   "version": "3.10.4"
  }
 },
 "nbformat": 4,
 "nbformat_minor": 5
}
