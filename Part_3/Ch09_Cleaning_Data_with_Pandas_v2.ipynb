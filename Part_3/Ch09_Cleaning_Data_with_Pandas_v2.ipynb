{
 "cells": [
  {
   "cell_type": "code",
   "execution_count": 1,
   "metadata": {},
   "outputs": [],
   "source": [
    "import pandas as pd\n",
    "import numpy as np\n",
    "# seed the random nubmer generator to assure consistency\n",
    "np.random.seed(0)"
   ]
  },
  {
   "cell_type": "code",
   "execution_count": 2,
   "metadata": {},
   "outputs": [],
   "source": [
    "def reload_data(name='nobel_winners_dirty.json'):\n",
    "    df = pd.read_json(open('data/' + name))\n",
    "    return df"
   ]
  },
  {
   "cell_type": "code",
   "execution_count": 3,
   "metadata": {},
   "outputs": [],
   "source": [
    "#df = reload_data('nobel_winners_full.json')\n",
    "df = reload_data()"
   ]
  },
  {
   "cell_type": "markdown",
   "metadata": {},
   "source": [
    "## Inspecting the Data"
   ]
  },
  {
   "cell_type": "code",
   "execution_count": 4,
   "metadata": {},
   "outputs": [
    {
     "name": "stdout",
     "output_type": "stream",
     "text": [
      "<class 'pandas.core.frame.DataFrame'>\n",
      "RangeIndex: 1052 entries, 0 to 1051\n",
      "Data columns (total 12 columns):\n",
      " #   Column          Non-Null Count  Dtype \n",
      "---  ------          --------------  ----- \n",
      " 0   born_in         1052 non-null   object\n",
      " 1   category        1052 non-null   object\n",
      " 2   country         1052 non-null   object\n",
      " 3   date_of_birth   1044 non-null   object\n",
      " 4   date_of_death   1044 non-null   object\n",
      " 5   gender          1040 non-null   object\n",
      " 6   link            1052 non-null   object\n",
      " 7   name            1052 non-null   object\n",
      " 8   place_of_birth  1044 non-null   object\n",
      " 9   place_of_death  1044 non-null   object\n",
      " 10  text            1052 non-null   object\n",
      " 11  year            1052 non-null   int64 \n",
      "dtypes: int64(1), object(11)\n",
      "memory usage: 98.8+ KB\n"
     ]
    }
   ],
   "source": [
    "df.info()"
   ]
  },
  {
   "cell_type": "code",
   "execution_count": 5,
   "metadata": {},
   "outputs": [
    {
     "data": {
      "text/html": [
       "<div>\n",
       "<style scoped>\n",
       "    .dataframe tbody tr th:only-of-type {\n",
       "        vertical-align: middle;\n",
       "    }\n",
       "\n",
       "    .dataframe tbody tr th {\n",
       "        vertical-align: top;\n",
       "    }\n",
       "\n",
       "    .dataframe thead th {\n",
       "        text-align: right;\n",
       "    }\n",
       "</style>\n",
       "<table border=\"1\" class=\"dataframe\">\n",
       "  <thead>\n",
       "    <tr style=\"text-align: right;\">\n",
       "      <th></th>\n",
       "      <th>year</th>\n",
       "    </tr>\n",
       "  </thead>\n",
       "  <tbody>\n",
       "    <tr>\n",
       "      <th>count</th>\n",
       "      <td>1052.000000</td>\n",
       "    </tr>\n",
       "    <tr>\n",
       "      <th>mean</th>\n",
       "      <td>1968.729087</td>\n",
       "    </tr>\n",
       "    <tr>\n",
       "      <th>std</th>\n",
       "      <td>33.155829</td>\n",
       "    </tr>\n",
       "    <tr>\n",
       "      <th>min</th>\n",
       "      <td>1809.000000</td>\n",
       "    </tr>\n",
       "    <tr>\n",
       "      <th>25%</th>\n",
       "      <td>1947.000000</td>\n",
       "    </tr>\n",
       "    <tr>\n",
       "      <th>50%</th>\n",
       "      <td>1975.000000</td>\n",
       "    </tr>\n",
       "    <tr>\n",
       "      <th>75%</th>\n",
       "      <td>1996.000000</td>\n",
       "    </tr>\n",
       "    <tr>\n",
       "      <th>max</th>\n",
       "      <td>2014.000000</td>\n",
       "    </tr>\n",
       "  </tbody>\n",
       "</table>\n",
       "</div>"
      ],
      "text/plain": [
       "              year\n",
       "count  1052.000000\n",
       "mean   1968.729087\n",
       "std      33.155829\n",
       "min    1809.000000\n",
       "25%    1947.000000\n",
       "50%    1975.000000\n",
       "75%    1996.000000\n",
       "max    2014.000000"
      ]
     },
     "execution_count": 5,
     "metadata": {},
     "output_type": "execute_result"
    }
   ],
   "source": [
    "df.describe()"
   ]
  },
  {
   "cell_type": "code",
   "execution_count": 6,
   "metadata": {},
   "outputs": [
    {
     "data": {
      "text/html": [
       "<div>\n",
       "<style scoped>\n",
       "    .dataframe tbody tr th:only-of-type {\n",
       "        vertical-align: middle;\n",
       "    }\n",
       "\n",
       "    .dataframe tbody tr th {\n",
       "        vertical-align: top;\n",
       "    }\n",
       "\n",
       "    .dataframe thead th {\n",
       "        text-align: right;\n",
       "    }\n",
       "</style>\n",
       "<table border=\"1\" class=\"dataframe\">\n",
       "  <thead>\n",
       "    <tr style=\"text-align: right;\">\n",
       "      <th></th>\n",
       "      <th>born_in</th>\n",
       "      <th>category</th>\n",
       "      <th>country</th>\n",
       "      <th>date_of_birth</th>\n",
       "      <th>date_of_death</th>\n",
       "      <th>gender</th>\n",
       "      <th>link</th>\n",
       "      <th>name</th>\n",
       "      <th>place_of_birth</th>\n",
       "      <th>place_of_death</th>\n",
       "      <th>text</th>\n",
       "    </tr>\n",
       "  </thead>\n",
       "  <tbody>\n",
       "    <tr>\n",
       "      <th>count</th>\n",
       "      <td>1052</td>\n",
       "      <td>1052</td>\n",
       "      <td>1052</td>\n",
       "      <td>1044</td>\n",
       "      <td>1044</td>\n",
       "      <td>1040</td>\n",
       "      <td>1052</td>\n",
       "      <td>1052</td>\n",
       "      <td>1044</td>\n",
       "      <td>1044</td>\n",
       "      <td>1052</td>\n",
       "    </tr>\n",
       "    <tr>\n",
       "      <th>unique</th>\n",
       "      <td>40</td>\n",
       "      <td>7</td>\n",
       "      <td>59</td>\n",
       "      <td>853</td>\n",
       "      <td>563</td>\n",
       "      <td>2</td>\n",
       "      <td>893</td>\n",
       "      <td>998</td>\n",
       "      <td>735</td>\n",
       "      <td>410</td>\n",
       "      <td>1043</td>\n",
       "    </tr>\n",
       "    <tr>\n",
       "      <th>top</th>\n",
       "      <td></td>\n",
       "      <td>Physiology or Medicine</td>\n",
       "      <td>United States</td>\n",
       "      <td>7 November 1867</td>\n",
       "      <td></td>\n",
       "      <td>male</td>\n",
       "      <td>http://en.wikipedia.org/wiki/Michael_Levitt</td>\n",
       "      <td>César Milstein</td>\n",
       "      <td></td>\n",
       "      <td></td>\n",
       "      <td>Ernest Rutherford ,  born in New Zealand , Che...</td>\n",
       "    </tr>\n",
       "    <tr>\n",
       "      <th>freq</th>\n",
       "      <td>910</td>\n",
       "      <td>250</td>\n",
       "      <td>350</td>\n",
       "      <td>4</td>\n",
       "      <td>362</td>\n",
       "      <td>982</td>\n",
       "      <td>4</td>\n",
       "      <td>2</td>\n",
       "      <td>29</td>\n",
       "      <td>409</td>\n",
       "      <td>2</td>\n",
       "    </tr>\n",
       "  </tbody>\n",
       "</table>\n",
       "</div>"
      ],
      "text/plain": [
       "       born_in                category        country    date_of_birth  \\\n",
       "count     1052                    1052           1052             1044   \n",
       "unique      40                       7             59              853   \n",
       "top             Physiology or Medicine  United States  7 November 1867   \n",
       "freq       910                     250            350                4   \n",
       "\n",
       "       date_of_death gender                                         link  \\\n",
       "count           1044   1040                                         1052   \n",
       "unique           563      2                                          893   \n",
       "top                    male  http://en.wikipedia.org/wiki/Michael_Levitt   \n",
       "freq             362    982                                            4   \n",
       "\n",
       "                  name place_of_birth place_of_death  \\\n",
       "count             1052           1044           1044   \n",
       "unique             998            735            410   \n",
       "top     César Milstein                                 \n",
       "freq                 2             29            409   \n",
       "\n",
       "                                                     text  \n",
       "count                                                1052  \n",
       "unique                                               1043  \n",
       "top     Ernest Rutherford ,  born in New Zealand , Che...  \n",
       "freq                                                    2  "
      ]
     },
     "execution_count": 6,
     "metadata": {},
     "output_type": "execute_result"
    }
   ],
   "source": [
    "df.describe(include=['object'])"
   ]
  },
  {
   "cell_type": "code",
   "execution_count": 7,
   "metadata": {
    "scrolled": true
   },
   "outputs": [
    {
     "data": {
      "text/html": [
       "<div>\n",
       "<style scoped>\n",
       "    .dataframe tbody tr th:only-of-type {\n",
       "        vertical-align: middle;\n",
       "    }\n",
       "\n",
       "    .dataframe tbody tr th {\n",
       "        vertical-align: top;\n",
       "    }\n",
       "\n",
       "    .dataframe thead th {\n",
       "        text-align: right;\n",
       "    }\n",
       "</style>\n",
       "<table border=\"1\" class=\"dataframe\">\n",
       "  <thead>\n",
       "    <tr style=\"text-align: right;\">\n",
       "      <th></th>\n",
       "      <th>born_in</th>\n",
       "      <th>category</th>\n",
       "      <th>country</th>\n",
       "      <th>date_of_birth</th>\n",
       "      <th>date_of_death</th>\n",
       "      <th>gender</th>\n",
       "      <th>link</th>\n",
       "      <th>name</th>\n",
       "      <th>place_of_birth</th>\n",
       "      <th>place_of_death</th>\n",
       "      <th>text</th>\n",
       "      <th>year</th>\n",
       "    </tr>\n",
       "  </thead>\n",
       "  <tbody>\n",
       "    <tr>\n",
       "      <th>0</th>\n",
       "      <td></td>\n",
       "      <td>Physiology or Medicine</td>\n",
       "      <td>Argentina</td>\n",
       "      <td>8 October 1927</td>\n",
       "      <td>24 March 2002</td>\n",
       "      <td>male</td>\n",
       "      <td>http://en.wikipedia.org/wiki/C%C3%A9sar_Milstein</td>\n",
       "      <td>César Milstein</td>\n",
       "      <td>Bahía Blanca ,  Argentina</td>\n",
       "      <td>Cambridge , England</td>\n",
       "      <td>César Milstein , Physiology or Medicine, 1984</td>\n",
       "      <td>1984</td>\n",
       "    </tr>\n",
       "    <tr>\n",
       "      <th>1</th>\n",
       "      <td>Bosnia and Herzegovina</td>\n",
       "      <td>Literature</td>\n",
       "      <td></td>\n",
       "      <td>9 October 1892</td>\n",
       "      <td>13 March 1975</td>\n",
       "      <td>male</td>\n",
       "      <td>http://en.wikipedia.org/wiki/Ivo_Andric</td>\n",
       "      <td>Ivo Andric *</td>\n",
       "      <td>Dolac (village near Travnik), Austria-Hungary ...</td>\n",
       "      <td>Belgrade, SR Serbia, SFR Yugoslavia (present-d...</td>\n",
       "      <td>Ivo Andric *,  born in then  Austria–Hungary ,...</td>\n",
       "      <td>1961</td>\n",
       "    </tr>\n",
       "    <tr>\n",
       "      <th>2</th>\n",
       "      <td>Bosnia and Herzegovina</td>\n",
       "      <td>Chemistry</td>\n",
       "      <td></td>\n",
       "      <td>July 23, 1906</td>\n",
       "      <td>1998-01-07</td>\n",
       "      <td>male</td>\n",
       "      <td>http://en.wikipedia.org/wiki/Vladimir_Prelog</td>\n",
       "      <td>Vladimir Prelog *</td>\n",
       "      <td>Sarajevo ,  Bosnia and Herzegovina , then part...</td>\n",
       "      <td>Zürich ,  Switzerland</td>\n",
       "      <td>Vladimir Prelog *,  born in then  Austria–Hung...</td>\n",
       "      <td>1975</td>\n",
       "    </tr>\n",
       "    <tr>\n",
       "      <th>3</th>\n",
       "      <td></td>\n",
       "      <td>Peace</td>\n",
       "      <td>Belgium</td>\n",
       "      <td>None</td>\n",
       "      <td>None</td>\n",
       "      <td>None</td>\n",
       "      <td>http://en.wikipedia.org/wiki/Institut_de_Droit...</td>\n",
       "      <td>Institut de Droit International</td>\n",
       "      <td>None</td>\n",
       "      <td>None</td>\n",
       "      <td>Institut de Droit International , Peace, 1904</td>\n",
       "      <td>1904</td>\n",
       "    </tr>\n",
       "    <tr>\n",
       "      <th>4</th>\n",
       "      <td></td>\n",
       "      <td>Peace</td>\n",
       "      <td>Belgium</td>\n",
       "      <td>26 July 1829</td>\n",
       "      <td>6 October 1912</td>\n",
       "      <td>male</td>\n",
       "      <td>http://en.wikipedia.org/wiki/Auguste_Marie_Fra...</td>\n",
       "      <td>Auguste Beernaert</td>\n",
       "      <td>Ostend ,  Netherlands  (now  Belgium )</td>\n",
       "      <td>Lucerne ,  Switzerland</td>\n",
       "      <td>Auguste Beernaert , Peace, 1909</td>\n",
       "      <td>1909</td>\n",
       "    </tr>\n",
       "  </tbody>\n",
       "</table>\n",
       "</div>"
      ],
      "text/plain": [
       "                  born_in                category    country   date_of_birth  \\\n",
       "0                          Physiology or Medicine  Argentina  8 October 1927   \n",
       "1  Bosnia and Herzegovina              Literature             9 October 1892   \n",
       "2  Bosnia and Herzegovina               Chemistry              July 23, 1906   \n",
       "3                                           Peace    Belgium            None   \n",
       "4                                           Peace    Belgium    26 July 1829   \n",
       "\n",
       "    date_of_death gender                                               link  \\\n",
       "0   24 March 2002   male   http://en.wikipedia.org/wiki/C%C3%A9sar_Milstein   \n",
       "1   13 March 1975   male            http://en.wikipedia.org/wiki/Ivo_Andric   \n",
       "2      1998-01-07   male       http://en.wikipedia.org/wiki/Vladimir_Prelog   \n",
       "3            None   None  http://en.wikipedia.org/wiki/Institut_de_Droit...   \n",
       "4  6 October 1912   male  http://en.wikipedia.org/wiki/Auguste_Marie_Fra...   \n",
       "\n",
       "                              name  \\\n",
       "0                   César Milstein   \n",
       "1                     Ivo Andric *   \n",
       "2                Vladimir Prelog *   \n",
       "3  Institut de Droit International   \n",
       "4                Auguste Beernaert   \n",
       "\n",
       "                                      place_of_birth  \\\n",
       "0                          Bahía Blanca ,  Argentina   \n",
       "1  Dolac (village near Travnik), Austria-Hungary ...   \n",
       "2  Sarajevo ,  Bosnia and Herzegovina , then part...   \n",
       "3                                               None   \n",
       "4             Ostend ,  Netherlands  (now  Belgium )   \n",
       "\n",
       "                                      place_of_death  \\\n",
       "0                                Cambridge , England   \n",
       "1  Belgrade, SR Serbia, SFR Yugoslavia (present-d...   \n",
       "2                              Zürich ,  Switzerland   \n",
       "3                                               None   \n",
       "4                             Lucerne ,  Switzerland   \n",
       "\n",
       "                                                text  year  \n",
       "0      César Milstein , Physiology or Medicine, 1984  1984  \n",
       "1  Ivo Andric *,  born in then  Austria–Hungary ,...  1961  \n",
       "2  Vladimir Prelog *,  born in then  Austria–Hung...  1975  \n",
       "3      Institut de Droit International , Peace, 1904  1904  \n",
       "4                    Auguste Beernaert , Peace, 1909  1909  "
      ]
     },
     "execution_count": 7,
     "metadata": {},
     "output_type": "execute_result"
    }
   ],
   "source": [
    "df.head()"
   ]
  },
  {
   "cell_type": "markdown",
   "metadata": {},
   "source": [
    "## Indices and Pandas Data Selection"
   ]
  },
  {
   "cell_type": "code",
   "execution_count": 8,
   "metadata": {},
   "outputs": [
    {
     "data": {
      "text/plain": [
       "Index(['born_in', 'category', 'country', 'date_of_birth', 'date_of_death',\n",
       "       'gender', 'link', 'name', 'place_of_birth', 'place_of_death', 'text',\n",
       "       'year'],\n",
       "      dtype='object')"
      ]
     },
     "execution_count": 8,
     "metadata": {},
     "output_type": "execute_result"
    }
   ],
   "source": [
    "df.columns"
   ]
  },
  {
   "cell_type": "code",
   "execution_count": 9,
   "metadata": {},
   "outputs": [
    {
     "data": {
      "text/html": [
       "<div>\n",
       "<style scoped>\n",
       "    .dataframe tbody tr th:only-of-type {\n",
       "        vertical-align: middle;\n",
       "    }\n",
       "\n",
       "    .dataframe tbody tr th {\n",
       "        vertical-align: top;\n",
       "    }\n",
       "\n",
       "    .dataframe thead th {\n",
       "        text-align: right;\n",
       "    }\n",
       "</style>\n",
       "<table border=\"1\" class=\"dataframe\">\n",
       "  <thead>\n",
       "    <tr style=\"text-align: right;\">\n",
       "      <th></th>\n",
       "      <th>born_in</th>\n",
       "      <th>category</th>\n",
       "      <th>country</th>\n",
       "      <th>date_of_birth</th>\n",
       "      <th>date_of_death</th>\n",
       "      <th>gender</th>\n",
       "      <th>link</th>\n",
       "      <th>place_of_birth</th>\n",
       "      <th>place_of_death</th>\n",
       "      <th>text</th>\n",
       "      <th>year</th>\n",
       "    </tr>\n",
       "    <tr>\n",
       "      <th>name</th>\n",
       "      <th></th>\n",
       "      <th></th>\n",
       "      <th></th>\n",
       "      <th></th>\n",
       "      <th></th>\n",
       "      <th></th>\n",
       "      <th></th>\n",
       "      <th></th>\n",
       "      <th></th>\n",
       "      <th></th>\n",
       "      <th></th>\n",
       "    </tr>\n",
       "  </thead>\n",
       "  <tbody>\n",
       "    <tr>\n",
       "      <th>César Milstein</th>\n",
       "      <td></td>\n",
       "      <td>Physiology or Medicine</td>\n",
       "      <td>Argentina</td>\n",
       "      <td>8 October 1927</td>\n",
       "      <td>24 March 2002</td>\n",
       "      <td>male</td>\n",
       "      <td>http://en.wikipedia.org/wiki/C%C3%A9sar_Milstein</td>\n",
       "      <td>Bahía Blanca ,  Argentina</td>\n",
       "      <td>Cambridge , England</td>\n",
       "      <td>César Milstein , Physiology or Medicine, 1984</td>\n",
       "      <td>1984</td>\n",
       "    </tr>\n",
       "    <tr>\n",
       "      <th>Ivo Andric *</th>\n",
       "      <td>Bosnia and Herzegovina</td>\n",
       "      <td>Literature</td>\n",
       "      <td></td>\n",
       "      <td>9 October 1892</td>\n",
       "      <td>13 March 1975</td>\n",
       "      <td>male</td>\n",
       "      <td>http://en.wikipedia.org/wiki/Ivo_Andric</td>\n",
       "      <td>Dolac (village near Travnik), Austria-Hungary ...</td>\n",
       "      <td>Belgrade, SR Serbia, SFR Yugoslavia (present-d...</td>\n",
       "      <td>Ivo Andric *,  born in then  Austria–Hungary ,...</td>\n",
       "      <td>1961</td>\n",
       "    </tr>\n",
       "  </tbody>\n",
       "</table>\n",
       "</div>"
      ],
      "text/plain": [
       "                               born_in                category    country  \\\n",
       "name                                                                        \n",
       "César Milstein                          Physiology or Medicine  Argentina   \n",
       "Ivo Andric *    Bosnia and Herzegovina              Literature              \n",
       "\n",
       "                 date_of_birth  date_of_death gender  \\\n",
       "name                                                   \n",
       "César Milstein  8 October 1927  24 March 2002   male   \n",
       "Ivo Andric *    9 October 1892  13 March 1975   male   \n",
       "\n",
       "                                                            link  \\\n",
       "name                                                               \n",
       "César Milstein  http://en.wikipedia.org/wiki/C%C3%A9sar_Milstein   \n",
       "Ivo Andric *             http://en.wikipedia.org/wiki/Ivo_Andric   \n",
       "\n",
       "                                                   place_of_birth  \\\n",
       "name                                                                \n",
       "César Milstein                          Bahía Blanca ,  Argentina   \n",
       "Ivo Andric *    Dolac (village near Travnik), Austria-Hungary ...   \n",
       "\n",
       "                                                   place_of_death  \\\n",
       "name                                                                \n",
       "César Milstein                                Cambridge , England   \n",
       "Ivo Andric *    Belgrade, SR Serbia, SFR Yugoslavia (present-d...   \n",
       "\n",
       "                                                             text  year  \n",
       "name                                                                     \n",
       "César Milstein      César Milstein , Physiology or Medicine, 1984  1984  \n",
       "Ivo Andric *    Ivo Andric *,  born in then  Austria–Hungary ,...  1961  "
      ]
     },
     "execution_count": 9,
     "metadata": {},
     "output_type": "execute_result"
    }
   ],
   "source": [
    "df = df.set_index('name')\n",
    "df.head(2)"
   ]
  },
  {
   "cell_type": "code",
   "execution_count": 10,
   "metadata": {},
   "outputs": [
    {
     "data": {
      "text/html": [
       "<div>\n",
       "<style scoped>\n",
       "    .dataframe tbody tr th:only-of-type {\n",
       "        vertical-align: middle;\n",
       "    }\n",
       "\n",
       "    .dataframe tbody tr th {\n",
       "        vertical-align: top;\n",
       "    }\n",
       "\n",
       "    .dataframe thead th {\n",
       "        text-align: right;\n",
       "    }\n",
       "</style>\n",
       "<table border=\"1\" class=\"dataframe\">\n",
       "  <thead>\n",
       "    <tr style=\"text-align: right;\">\n",
       "      <th></th>\n",
       "      <th>name</th>\n",
       "      <th>born_in</th>\n",
       "      <th>category</th>\n",
       "      <th>country</th>\n",
       "      <th>date_of_birth</th>\n",
       "      <th>date_of_death</th>\n",
       "      <th>gender</th>\n",
       "      <th>link</th>\n",
       "      <th>place_of_birth</th>\n",
       "      <th>place_of_death</th>\n",
       "      <th>text</th>\n",
       "      <th>year</th>\n",
       "    </tr>\n",
       "  </thead>\n",
       "  <tbody>\n",
       "    <tr>\n",
       "      <th>0</th>\n",
       "      <td>César Milstein</td>\n",
       "      <td></td>\n",
       "      <td>Physiology or Medicine</td>\n",
       "      <td>Argentina</td>\n",
       "      <td>8 October 1927</td>\n",
       "      <td>24 March 2002</td>\n",
       "      <td>male</td>\n",
       "      <td>http://en.wikipedia.org/wiki/C%C3%A9sar_Milstein</td>\n",
       "      <td>Bahía Blanca ,  Argentina</td>\n",
       "      <td>Cambridge , England</td>\n",
       "      <td>César Milstein , Physiology or Medicine, 1984</td>\n",
       "      <td>1984</td>\n",
       "    </tr>\n",
       "    <tr>\n",
       "      <th>1</th>\n",
       "      <td>Ivo Andric *</td>\n",
       "      <td>Bosnia and Herzegovina</td>\n",
       "      <td>Literature</td>\n",
       "      <td></td>\n",
       "      <td>9 October 1892</td>\n",
       "      <td>13 March 1975</td>\n",
       "      <td>male</td>\n",
       "      <td>http://en.wikipedia.org/wiki/Ivo_Andric</td>\n",
       "      <td>Dolac (village near Travnik), Austria-Hungary ...</td>\n",
       "      <td>Belgrade, SR Serbia, SFR Yugoslavia (present-d...</td>\n",
       "      <td>Ivo Andric *,  born in then  Austria–Hungary ,...</td>\n",
       "      <td>1961</td>\n",
       "    </tr>\n",
       "  </tbody>\n",
       "</table>\n",
       "</div>"
      ],
      "text/plain": [
       "             name                 born_in                category    country  \\\n",
       "0  César Milstein                          Physiology or Medicine  Argentina   \n",
       "1    Ivo Andric *  Bosnia and Herzegovina              Literature              \n",
       "\n",
       "    date_of_birth  date_of_death gender  \\\n",
       "0  8 October 1927  24 March 2002   male   \n",
       "1  9 October 1892  13 March 1975   male   \n",
       "\n",
       "                                               link  \\\n",
       "0  http://en.wikipedia.org/wiki/C%C3%A9sar_Milstein   \n",
       "1           http://en.wikipedia.org/wiki/Ivo_Andric   \n",
       "\n",
       "                                      place_of_birth  \\\n",
       "0                          Bahía Blanca ,  Argentina   \n",
       "1  Dolac (village near Travnik), Austria-Hungary ...   \n",
       "\n",
       "                                      place_of_death  \\\n",
       "0                                Cambridge , England   \n",
       "1  Belgrade, SR Serbia, SFR Yugoslavia (present-d...   \n",
       "\n",
       "                                                text  year  \n",
       "0      César Milstein , Physiology or Medicine, 1984  1984  \n",
       "1  Ivo Andric *,  born in then  Austria–Hungary ,...  1961  "
      ]
     },
     "execution_count": 10,
     "metadata": {},
     "output_type": "execute_result"
    }
   ],
   "source": [
    "df.reset_index(inplace=True)\n",
    "df.head(2)"
   ]
  },
  {
   "cell_type": "code",
   "execution_count": 11,
   "metadata": {},
   "outputs": [
    {
     "data": {
      "text/plain": [
       "0                             \n",
       "1       Bosnia and Herzegovina\n",
       "2       Bosnia and Herzegovina\n",
       "3                             \n",
       "4                             \n",
       "                 ...          \n",
       "1047                          \n",
       "1048                          \n",
       "1049                          \n",
       "1050                          \n",
       "1051                          \n",
       "Name: born_in, Length: 1052, dtype: object"
      ]
     },
     "execution_count": 11,
     "metadata": {},
     "output_type": "execute_result"
    }
   ],
   "source": [
    "bi_col = df.born_in\n",
    "bi_col"
   ]
  },
  {
   "cell_type": "code",
   "execution_count": 12,
   "metadata": {},
   "outputs": [
    {
     "data": {
      "text/plain": [
       "pandas.core.series.Series"
      ]
     },
     "execution_count": 12,
     "metadata": {},
     "output_type": "execute_result"
    }
   ],
   "source": [
    "type(bi_col)"
   ]
  },
  {
   "cell_type": "code",
   "execution_count": 13,
   "metadata": {},
   "outputs": [
    {
     "data": {
      "text/plain": [
       "name                                                César Milstein\n",
       "born_in                                                           \n",
       "category                                    Physiology or Medicine\n",
       "country                                                  Argentina\n",
       "date_of_birth                                       8 October 1927\n",
       "date_of_death                                        24 March 2002\n",
       "gender                                                        male\n",
       "link              http://en.wikipedia.org/wiki/C%C3%A9sar_Milstein\n",
       "place_of_birth                           Bahía Blanca ,  Argentina\n",
       "place_of_death                                 Cambridge , England\n",
       "text                 César Milstein , Physiology or Medicine, 1984\n",
       "year                                                          1984\n",
       "Name: 0, dtype: object"
      ]
     },
     "execution_count": 13,
     "metadata": {},
     "output_type": "execute_result"
    }
   ],
   "source": [
    "df.iloc[0]"
   ]
  },
  {
   "cell_type": "code",
   "execution_count": 14,
   "metadata": {},
   "outputs": [
    {
     "name": "stdout",
     "output_type": "stream",
     "text": [
      "                born_in category      country date_of_birth date_of_death  \\\n",
      "name                                                                        \n",
      "Albert Einstein          Physics  Switzerland    1879-03-14    1955-04-18   \n",
      "Albert Einstein          Physics      Germany    1879-03-14    1955-04-18   \n",
      "\n",
      "                gender                                          link  \\\n",
      "name                                                                   \n",
      "Albert Einstein   male  http://en.wikipedia.org/wiki/Albert_Einstein   \n",
      "Albert Einstein   male  http://en.wikipedia.org/wiki/Albert_Einstein   \n",
      "\n",
      "                                           place_of_birth  \\\n",
      "name                                                        \n",
      "Albert Einstein  Ulm ,  Baden-Württemberg , German Empire   \n",
      "Albert Einstein  Ulm ,  Baden-Württemberg , German Empire   \n",
      "\n",
      "                               place_of_death  \\\n",
      "name                                            \n",
      "Albert Einstein  Princeton, New Jersey , U.S.   \n",
      "Albert Einstein  Princeton, New Jersey , U.S.   \n",
      "\n",
      "                                                              text  year  \n",
      "name                                                                      \n",
      "Albert Einstein  Albert Einstein ,  born in Germany , Physics, ...  1921  \n",
      "Albert Einstein                    Albert Einstein , Physics, 1921  1921  \n"
     ]
    }
   ],
   "source": [
    "df.set_index('name', inplace=True)\n",
    "print(df.loc['Albert Einstein'])"
   ]
  },
  {
   "cell_type": "markdown",
   "metadata": {},
   "source": [
    "## Selecting Multiple Rows"
   ]
  },
  {
   "cell_type": "code",
   "execution_count": 15,
   "metadata": {},
   "outputs": [],
   "source": [
    "# First reset the dataframe's index to the original one \n",
    "df.reset_index(inplace=True)"
   ]
  },
  {
   "cell_type": "code",
   "execution_count": 16,
   "metadata": {},
   "outputs": [
    {
     "name": "stdout",
     "output_type": "stream",
     "text": [
      "                              name                 born_in  \\\n",
      "0                   César Milstein                           \n",
      "1                     Ivo Andric *  Bosnia and Herzegovina   \n",
      "2                Vladimir Prelog *  Bosnia and Herzegovina   \n",
      "3  Institut de Droit International                           \n",
      "4                Auguste Beernaert                           \n",
      "5              Maurice Maeterlinck                           \n",
      "6                Henri La Fontaine                           \n",
      "7                     Jules Bordet                           \n",
      "8                Corneille Heymans                           \n",
      "9                     Georges Pire                           \n",
      "\n",
      "                 category    country   date_of_birth   date_of_death gender  \\\n",
      "0  Physiology or Medicine  Argentina  8 October 1927   24 March 2002   male   \n",
      "1              Literature             9 October 1892   13 March 1975   male   \n",
      "2               Chemistry              July 23, 1906      1998-01-07   male   \n",
      "3                   Peace    Belgium            None            None   None   \n",
      "4                   Peace    Belgium    26 July 1829  6 October 1912   male   \n",
      "5              Literature    Belgium  29 August 1862      6 May 1949   male   \n",
      "6                   Peace    Belgium   22 April 1854     14 May 1943   male   \n",
      "7  Physiology or Medicine    Belgium    13 June 1870    6 April 1961   male   \n",
      "8  Physiology or Medicine    Belgium   28 March 1892    18 July 1968   male   \n",
      "9                   Peace    Belgium      1910-02-10      1969-01-30   male   \n",
      "\n",
      "                                                link  \\\n",
      "0   http://en.wikipedia.org/wiki/C%C3%A9sar_Milstein   \n",
      "1            http://en.wikipedia.org/wiki/Ivo_Andric   \n",
      "2       http://en.wikipedia.org/wiki/Vladimir_Prelog   \n",
      "3  http://en.wikipedia.org/wiki/Institut_de_Droit...   \n",
      "4  http://en.wikipedia.org/wiki/Auguste_Marie_Fra...   \n",
      "5   http://en.wikipedia.org/wiki/Maurice_Maeterlinck   \n",
      "6     http://en.wikipedia.org/wiki/Henri_La_Fontaine   \n",
      "7          http://en.wikipedia.org/wiki/Jules_Bordet   \n",
      "8     http://en.wikipedia.org/wiki/Corneille_Heymans   \n",
      "9          http://en.wikipedia.org/wiki/Georges_Pire   \n",
      "\n",
      "                                      place_of_birth  \\\n",
      "0                          Bahía Blanca ,  Argentina   \n",
      "1  Dolac (village near Travnik), Austria-Hungary ...   \n",
      "2  Sarajevo ,  Bosnia and Herzegovina , then part...   \n",
      "3                                               None   \n",
      "4             Ostend ,  Netherlands  (now  Belgium )   \n",
      "5                                   Ghent ,  Belgium   \n",
      "6                                           Brussels   \n",
      "7                                  Soignies, Belgium   \n",
      "8                                  Ghent ,  Flanders   \n",
      "9                                  Dinant ,  Belgium   \n",
      "\n",
      "                                      place_of_death  \\\n",
      "0                                Cambridge , England   \n",
      "1  Belgrade, SR Serbia, SFR Yugoslavia (present-d...   \n",
      "2                              Zürich ,  Switzerland   \n",
      "3                                               None   \n",
      "4                             Lucerne ,  Switzerland   \n",
      "5                                     Nice ,  France   \n",
      "6                                            Belgium   \n",
      "7                                                      \n",
      "8                                 Knokke ,  Flanders   \n",
      "9                                   Leuven , Belgium   \n",
      "\n",
      "                                                text  year  \n",
      "0      César Milstein , Physiology or Medicine, 1984  1984  \n",
      "1  Ivo Andric *,  born in then  Austria–Hungary ,...  1961  \n",
      "2  Vladimir Prelog *,  born in then  Austria–Hung...  1975  \n",
      "3      Institut de Droit International , Peace, 1904  1904  \n",
      "4                    Auguste Beernaert , Peace, 1909  1909  \n",
      "5             Maurice Maeterlinck , Literature, 1911  1911  \n",
      "6                    Henri La Fontaine , Peace, 1913  1913  \n",
      "7        Jules Bordet , Physiology or Medicine, 1919  1919  \n",
      "8   Corneille Heymans , Physiology or Medicine, 1938  1938  \n",
      "9                         Georges Pire , Peace, 1958  1958  \n"
     ]
    }
   ],
   "source": [
    "print(df[0:10])"
   ]
  },
  {
   "cell_type": "code",
   "execution_count": 17,
   "metadata": {},
   "outputs": [
    {
     "name": "stdout",
     "output_type": "stream",
     "text": [
      "                       name born_in                category    country  \\\n",
      "1048  Carlos Saavedra Lamas                           Peace  Argentina   \n",
      "1049       Bernardo Houssay          Physiology or Medicine  Argentina   \n",
      "1050   Luis Federico Leloir                       Chemistry  Argentina   \n",
      "1051  Adolfo Pérez Esquivel                           Peace  Argentina   \n",
      "\n",
      "          date_of_birth date_of_death gender  \\\n",
      "1048   November 1, 1878   May 5, 1959   male   \n",
      "1049         1887-04-10    1971-09-21   male   \n",
      "1050           1906-9-6     1987-12-2   male   \n",
      "1051  November 26, 1931                 male   \n",
      "\n",
      "                                                   link  \\\n",
      "1048  http://en.wikipedia.org/wiki/Carlos_Saavedra_L...   \n",
      "1049      http://en.wikipedia.org/wiki/Bernardo_Houssay   \n",
      "1050  http://en.wikipedia.org/wiki/Luis_Federico_Leloir   \n",
      "1051  http://en.wikipedia.org/wiki/Adolfo_P%C3%A9rez...   \n",
      "\n",
      "                 place_of_birth             place_of_death  \\\n",
      "1048  Buenos Aires ,  Argentina    Buenos Aires, Argentina   \n",
      "1049  Buenos Aires ,  Argentina  Buenos Aires ,  Argentina   \n",
      "1050            Paris ,  France  Buenos Aires ,  Argentina   \n",
      "1051               Buenos Aires                              \n",
      "\n",
      "                                                 text  year  \n",
      "1048              Carlos Saavedra Lamas , Peace, 1936  1936  \n",
      "1049  Bernardo Houssay , Physiology or Medicine, 1947  1947  \n",
      "1050           Luis Federico Leloir , Chemistry, 1970  1970  \n",
      "1051              Adolfo Pérez Esquivel , Peace, 1980  1980  \n"
     ]
    }
   ],
   "source": [
    "print(df[-4:])"
   ]
  },
  {
   "cell_type": "code",
   "execution_count": 18,
   "metadata": {},
   "outputs": [
    {
     "data": {
      "text/plain": [
       "name              202\n",
       "born_in           202\n",
       "category          202\n",
       "country           202\n",
       "date_of_birth     201\n",
       "date_of_death     201\n",
       "gender            200\n",
       "link              202\n",
       "place_of_birth    201\n",
       "place_of_death    201\n",
       "text              202\n",
       "year              202\n",
       "dtype: int64"
      ]
     },
     "execution_count": 18,
     "metadata": {},
     "output_type": "execute_result"
    }
   ],
   "source": [
    "mask = df.year > 2000\n",
    "winners_since_2000 = df[mask]\n",
    "winners_since_2000.count()"
   ]
  },
  {
   "cell_type": "code",
   "execution_count": 19,
   "metadata": {},
   "outputs": [
    {
     "data": {
      "text/html": [
       "<div>\n",
       "<style scoped>\n",
       "    .dataframe tbody tr th:only-of-type {\n",
       "        vertical-align: middle;\n",
       "    }\n",
       "\n",
       "    .dataframe tbody tr th {\n",
       "        vertical-align: top;\n",
       "    }\n",
       "\n",
       "    .dataframe thead th {\n",
       "        text-align: right;\n",
       "    }\n",
       "</style>\n",
       "<table border=\"1\" class=\"dataframe\">\n",
       "  <thead>\n",
       "    <tr style=\"text-align: right;\">\n",
       "      <th></th>\n",
       "      <th>name</th>\n",
       "      <th>born_in</th>\n",
       "      <th>category</th>\n",
       "      <th>country</th>\n",
       "      <th>date_of_birth</th>\n",
       "      <th>date_of_death</th>\n",
       "      <th>gender</th>\n",
       "      <th>link</th>\n",
       "      <th>place_of_birth</th>\n",
       "      <th>place_of_death</th>\n",
       "      <th>text</th>\n",
       "      <th>year</th>\n",
       "    </tr>\n",
       "  </thead>\n",
       "  <tbody>\n",
       "    <tr>\n",
       "      <th>13</th>\n",
       "      <td>François Englert</td>\n",
       "      <td></td>\n",
       "      <td>Physics</td>\n",
       "      <td>Belgium</td>\n",
       "      <td>6 November 1932</td>\n",
       "      <td></td>\n",
       "      <td>male</td>\n",
       "      <td>http://en.wikipedia.org/wiki/Fran%C3%A7ois_Eng...</td>\n",
       "      <td>Etterbeek ,  Brussels ,  Belgium</td>\n",
       "      <td></td>\n",
       "      <td>François Englert , Physics, 2013</td>\n",
       "      <td>2013</td>\n",
       "    </tr>\n",
       "    <tr>\n",
       "      <th>32</th>\n",
       "      <td>Christopher A. Pissarides</td>\n",
       "      <td></td>\n",
       "      <td>Economics</td>\n",
       "      <td>Cyprus</td>\n",
       "      <td>1948-02-20</td>\n",
       "      <td></td>\n",
       "      <td>male</td>\n",
       "      <td>http://en.wikipedia.org/wiki/Christopher_A._Pi...</td>\n",
       "      <td>Nicosia, Cyprus</td>\n",
       "      <td></td>\n",
       "      <td>Christopher A. Pissarides , Economics, 2010</td>\n",
       "      <td>2010</td>\n",
       "    </tr>\n",
       "    <tr>\n",
       "      <th>66</th>\n",
       "      <td>Kofi Annan</td>\n",
       "      <td></td>\n",
       "      <td>Peace</td>\n",
       "      <td>Ghana</td>\n",
       "      <td>8 April 1938</td>\n",
       "      <td></td>\n",
       "      <td>male</td>\n",
       "      <td>http://en.wikipedia.org/wiki/Kofi_Annan</td>\n",
       "      <td>Kumasi , Ghana</td>\n",
       "      <td></td>\n",
       "      <td>Kofi Annan , Peace, 2001</td>\n",
       "      <td>2001</td>\n",
       "    </tr>\n",
       "    <tr>\n",
       "      <th>87</th>\n",
       "      <td>Riccardo Giacconi *</td>\n",
       "      <td>Italy</td>\n",
       "      <td>Physics</td>\n",
       "      <td></td>\n",
       "      <td>October 6, 1931</td>\n",
       "      <td></td>\n",
       "      <td>male</td>\n",
       "      <td>http://en.wikipedia.org/wiki/Riccardo_Giacconi</td>\n",
       "      <td>Genoa ,  Italy</td>\n",
       "      <td></td>\n",
       "      <td>Riccardo Giacconi *, Physics, 2002</td>\n",
       "      <td>2002</td>\n",
       "    </tr>\n",
       "    <tr>\n",
       "      <th>88</th>\n",
       "      <td>Mario Capecchi *</td>\n",
       "      <td>Italy</td>\n",
       "      <td>Physiology or Medicine</td>\n",
       "      <td></td>\n",
       "      <td>6 October 1937</td>\n",
       "      <td></td>\n",
       "      <td>male</td>\n",
       "      <td>http://en.wikipedia.org/wiki/Mario_Capecchi</td>\n",
       "      <td>Verona ,  Italy</td>\n",
       "      <td></td>\n",
       "      <td>Mario Capecchi *, Physiology or Medicine, 2007</td>\n",
       "      <td>2007</td>\n",
       "    </tr>\n",
       "  </tbody>\n",
       "</table>\n",
       "</div>"
      ],
      "text/plain": [
       "                         name born_in                category  country  \\\n",
       "13           François Englert                         Physics  Belgium   \n",
       "32  Christopher A. Pissarides                       Economics   Cyprus   \n",
       "66                 Kofi Annan                           Peace    Ghana   \n",
       "87        Riccardo Giacconi *   Italy                 Physics            \n",
       "88           Mario Capecchi *   Italy  Physiology or Medicine            \n",
       "\n",
       "      date_of_birth date_of_death gender  \\\n",
       "13  6 November 1932                 male   \n",
       "32       1948-02-20                 male   \n",
       "66     8 April 1938                 male   \n",
       "87  October 6, 1931                 male   \n",
       "88   6 October 1937                 male   \n",
       "\n",
       "                                                 link  \\\n",
       "13  http://en.wikipedia.org/wiki/Fran%C3%A7ois_Eng...   \n",
       "32  http://en.wikipedia.org/wiki/Christopher_A._Pi...   \n",
       "66            http://en.wikipedia.org/wiki/Kofi_Annan   \n",
       "87     http://en.wikipedia.org/wiki/Riccardo_Giacconi   \n",
       "88        http://en.wikipedia.org/wiki/Mario_Capecchi   \n",
       "\n",
       "                      place_of_birth place_of_death  \\\n",
       "13  Etterbeek ,  Brussels ,  Belgium                  \n",
       "32                   Nicosia, Cyprus                  \n",
       "66                    Kumasi , Ghana                  \n",
       "87                    Genoa ,  Italy                  \n",
       "88                   Verona ,  Italy                  \n",
       "\n",
       "                                              text  year  \n",
       "13                François Englert , Physics, 2013  2013  \n",
       "32     Christopher A. Pissarides , Economics, 2010  2010  \n",
       "66                        Kofi Annan , Peace, 2001  2001  \n",
       "87              Riccardo Giacconi *, Physics, 2002  2002  \n",
       "88  Mario Capecchi *, Physiology or Medicine, 2007  2007  "
      ]
     },
     "execution_count": 19,
     "metadata": {},
     "output_type": "execute_result"
    }
   ],
   "source": [
    "winners_since_2000.head()"
   ]
  },
  {
   "cell_type": "markdown",
   "metadata": {},
   "source": [
    "## Cleaning the Data"
   ]
  },
  {
   "cell_type": "code",
   "execution_count": 20,
   "metadata": {},
   "outputs": [
    {
     "data": {
      "text/plain": [
       "count     1052\n",
       "unique      40\n",
       "top           \n",
       "freq       910\n",
       "Name: born_in, dtype: object"
      ]
     },
     "execution_count": 20,
     "metadata": {},
     "output_type": "execute_result"
    }
   ],
   "source": [
    "df.born_in.describe()"
   ]
  },
  {
   "cell_type": "markdown",
   "metadata": {},
   "source": [
    "### Finding mixed types"
   ]
  },
  {
   "cell_type": "code",
   "execution_count": 21,
   "metadata": {},
   "outputs": [
    {
     "data": {
      "text/plain": [
       "{str}"
      ]
     },
     "execution_count": 21,
     "metadata": {},
     "output_type": "execute_result"
    }
   ],
   "source": [
    "set(df.born_in.apply(type))"
   ]
  },
  {
   "cell_type": "markdown",
   "metadata": {},
   "source": [
    "## Replacing Strings"
   ]
  },
  {
   "cell_type": "code",
   "execution_count": 22,
   "metadata": {},
   "outputs": [],
   "source": [
    "import numpy as np"
   ]
  },
  {
   "cell_type": "code",
   "execution_count": 23,
   "metadata": {},
   "outputs": [
    {
     "data": {
      "text/plain": [
       "0                          NaN\n",
       "1       Bosnia and Herzegovina\n",
       "2       Bosnia and Herzegovina\n",
       "3                          NaN\n",
       "4                          NaN\n",
       "                 ...          \n",
       "1047                       NaN\n",
       "1048                       NaN\n",
       "1049                       NaN\n",
       "1050                       NaN\n",
       "1051                       NaN\n",
       "Name: born_in, Length: 1052, dtype: object"
      ]
     },
     "execution_count": 23,
     "metadata": {},
     "output_type": "execute_result"
    }
   ],
   "source": [
    "bi_col.replace('', np.nan, inplace=True)\n",
    "bi_col"
   ]
  },
  {
   "cell_type": "code",
   "execution_count": 24,
   "metadata": {},
   "outputs": [
    {
     "data": {
      "text/plain": [
       "142"
      ]
     },
     "execution_count": 24,
     "metadata": {},
     "output_type": "execute_result"
    }
   ],
   "source": [
    "bi_col.count()"
   ]
  },
  {
   "cell_type": "code",
   "execution_count": 25,
   "metadata": {},
   "outputs": [],
   "source": [
    "df.replace('', np.nan, inplace=True)"
   ]
  },
  {
   "cell_type": "code",
   "execution_count": 26,
   "metadata": {},
   "outputs": [
    {
     "data": {
      "text/html": [
       "<div>\n",
       "<style scoped>\n",
       "    .dataframe tbody tr th:only-of-type {\n",
       "        vertical-align: middle;\n",
       "    }\n",
       "\n",
       "    .dataframe tbody tr th {\n",
       "        vertical-align: top;\n",
       "    }\n",
       "\n",
       "    .dataframe thead th {\n",
       "        text-align: right;\n",
       "    }\n",
       "</style>\n",
       "<table border=\"1\" class=\"dataframe\">\n",
       "  <thead>\n",
       "    <tr style=\"text-align: right;\">\n",
       "      <th></th>\n",
       "      <th>name</th>\n",
       "      <th>born_in</th>\n",
       "      <th>category</th>\n",
       "      <th>country</th>\n",
       "      <th>date_of_birth</th>\n",
       "      <th>date_of_death</th>\n",
       "      <th>gender</th>\n",
       "      <th>link</th>\n",
       "      <th>place_of_birth</th>\n",
       "      <th>place_of_death</th>\n",
       "      <th>text</th>\n",
       "      <th>year</th>\n",
       "    </tr>\n",
       "  </thead>\n",
       "  <tbody>\n",
       "    <tr>\n",
       "      <th>0</th>\n",
       "      <td>César Milstein</td>\n",
       "      <td>NaN</td>\n",
       "      <td>Physiology or Medicine</td>\n",
       "      <td>Argentina</td>\n",
       "      <td>8 October 1927</td>\n",
       "      <td>24 March 2002</td>\n",
       "      <td>male</td>\n",
       "      <td>http://en.wikipedia.org/wiki/C%C3%A9sar_Milstein</td>\n",
       "      <td>Bahía Blanca ,  Argentina</td>\n",
       "      <td>Cambridge , England</td>\n",
       "      <td>César Milstein , Physiology or Medicine, 1984</td>\n",
       "      <td>1984</td>\n",
       "    </tr>\n",
       "    <tr>\n",
       "      <th>1</th>\n",
       "      <td>Ivo Andric *</td>\n",
       "      <td>Bosnia and Herzegovina</td>\n",
       "      <td>Literature</td>\n",
       "      <td>NaN</td>\n",
       "      <td>9 October 1892</td>\n",
       "      <td>13 March 1975</td>\n",
       "      <td>male</td>\n",
       "      <td>http://en.wikipedia.org/wiki/Ivo_Andric</td>\n",
       "      <td>Dolac (village near Travnik), Austria-Hungary ...</td>\n",
       "      <td>Belgrade, SR Serbia, SFR Yugoslavia (present-d...</td>\n",
       "      <td>Ivo Andric *,  born in then  Austria–Hungary ,...</td>\n",
       "      <td>1961</td>\n",
       "    </tr>\n",
       "    <tr>\n",
       "      <th>2</th>\n",
       "      <td>Vladimir Prelog *</td>\n",
       "      <td>Bosnia and Herzegovina</td>\n",
       "      <td>Chemistry</td>\n",
       "      <td>NaN</td>\n",
       "      <td>July 23, 1906</td>\n",
       "      <td>1998-01-07</td>\n",
       "      <td>male</td>\n",
       "      <td>http://en.wikipedia.org/wiki/Vladimir_Prelog</td>\n",
       "      <td>Sarajevo ,  Bosnia and Herzegovina , then part...</td>\n",
       "      <td>Zürich ,  Switzerland</td>\n",
       "      <td>Vladimir Prelog *,  born in then  Austria–Hung...</td>\n",
       "      <td>1975</td>\n",
       "    </tr>\n",
       "    <tr>\n",
       "      <th>3</th>\n",
       "      <td>Institut de Droit International</td>\n",
       "      <td>NaN</td>\n",
       "      <td>Peace</td>\n",
       "      <td>Belgium</td>\n",
       "      <td>None</td>\n",
       "      <td>None</td>\n",
       "      <td>None</td>\n",
       "      <td>http://en.wikipedia.org/wiki/Institut_de_Droit...</td>\n",
       "      <td>None</td>\n",
       "      <td>None</td>\n",
       "      <td>Institut de Droit International , Peace, 1904</td>\n",
       "      <td>1904</td>\n",
       "    </tr>\n",
       "    <tr>\n",
       "      <th>4</th>\n",
       "      <td>Auguste Beernaert</td>\n",
       "      <td>NaN</td>\n",
       "      <td>Peace</td>\n",
       "      <td>Belgium</td>\n",
       "      <td>26 July 1829</td>\n",
       "      <td>6 October 1912</td>\n",
       "      <td>male</td>\n",
       "      <td>http://en.wikipedia.org/wiki/Auguste_Marie_Fra...</td>\n",
       "      <td>Ostend ,  Netherlands  (now  Belgium )</td>\n",
       "      <td>Lucerne ,  Switzerland</td>\n",
       "      <td>Auguste Beernaert , Peace, 1909</td>\n",
       "      <td>1909</td>\n",
       "    </tr>\n",
       "  </tbody>\n",
       "</table>\n",
       "</div>"
      ],
      "text/plain": [
       "                              name                 born_in  \\\n",
       "0                   César Milstein                     NaN   \n",
       "1                     Ivo Andric *  Bosnia and Herzegovina   \n",
       "2                Vladimir Prelog *  Bosnia and Herzegovina   \n",
       "3  Institut de Droit International                     NaN   \n",
       "4                Auguste Beernaert                     NaN   \n",
       "\n",
       "                 category    country   date_of_birth   date_of_death gender  \\\n",
       "0  Physiology or Medicine  Argentina  8 October 1927   24 March 2002   male   \n",
       "1              Literature        NaN  9 October 1892   13 March 1975   male   \n",
       "2               Chemistry        NaN   July 23, 1906      1998-01-07   male   \n",
       "3                   Peace    Belgium            None            None   None   \n",
       "4                   Peace    Belgium    26 July 1829  6 October 1912   male   \n",
       "\n",
       "                                                link  \\\n",
       "0   http://en.wikipedia.org/wiki/C%C3%A9sar_Milstein   \n",
       "1            http://en.wikipedia.org/wiki/Ivo_Andric   \n",
       "2       http://en.wikipedia.org/wiki/Vladimir_Prelog   \n",
       "3  http://en.wikipedia.org/wiki/Institut_de_Droit...   \n",
       "4  http://en.wikipedia.org/wiki/Auguste_Marie_Fra...   \n",
       "\n",
       "                                      place_of_birth  \\\n",
       "0                          Bahía Blanca ,  Argentina   \n",
       "1  Dolac (village near Travnik), Austria-Hungary ...   \n",
       "2  Sarajevo ,  Bosnia and Herzegovina , then part...   \n",
       "3                                               None   \n",
       "4             Ostend ,  Netherlands  (now  Belgium )   \n",
       "\n",
       "                                      place_of_death  \\\n",
       "0                                Cambridge , England   \n",
       "1  Belgrade, SR Serbia, SFR Yugoslavia (present-d...   \n",
       "2                              Zürich ,  Switzerland   \n",
       "3                                               None   \n",
       "4                             Lucerne ,  Switzerland   \n",
       "\n",
       "                                                text  year  \n",
       "0      César Milstein , Physiology or Medicine, 1984  1984  \n",
       "1  Ivo Andric *,  born in then  Austria–Hungary ,...  1961  \n",
       "2  Vladimir Prelog *,  born in then  Austria–Hung...  1975  \n",
       "3      Institut de Droit International , Peace, 1904  1904  \n",
       "4                    Auguste Beernaert , Peace, 1909  1909  "
      ]
     },
     "execution_count": 26,
     "metadata": {},
     "output_type": "execute_result"
    }
   ],
   "source": [
    "df.head()"
   ]
  },
  {
   "cell_type": "code",
   "execution_count": 27,
   "metadata": {},
   "outputs": [
    {
     "data": {
      "text/plain": [
       "1                   Ivo Andric *\n",
       "2              Vladimir Prelog *\n",
       "14               Simon Kuznets *\n",
       "15              Menachem Begin *\n",
       "16                Shimon Peres *\n",
       "                  ...           \n",
       "1034            Martin Karplus *\n",
       "1035    William Lawrence Bragg *\n",
       "1039    Aleksandr M. Prokhorov *\n",
       "1041     John Warcup Cornforth *\n",
       "1046    Elizabeth H. Blackburn *\n",
       "Name: name, Length: 142, dtype: object"
      ]
     },
     "execution_count": 27,
     "metadata": {},
     "output_type": "execute_result"
    }
   ],
   "source": [
    "df[df.name.str.contains('\\*')]['name']"
   ]
  },
  {
   "cell_type": "code",
   "execution_count": 28,
   "metadata": {},
   "outputs": [],
   "source": [
    "#df.name = df.name.str.replace('*', '')\n",
    "df.name = df.name.str.replace('*', '', regex=True)\n",
    "df.name = df.name.str.strip()"
   ]
  },
  {
   "cell_type": "code",
   "execution_count": 29,
   "metadata": {},
   "outputs": [
    {
     "data": {
      "text/html": [
       "<div>\n",
       "<style scoped>\n",
       "    .dataframe tbody tr th:only-of-type {\n",
       "        vertical-align: middle;\n",
       "    }\n",
       "\n",
       "    .dataframe tbody tr th {\n",
       "        vertical-align: top;\n",
       "    }\n",
       "\n",
       "    .dataframe thead th {\n",
       "        text-align: right;\n",
       "    }\n",
       "</style>\n",
       "<table border=\"1\" class=\"dataframe\">\n",
       "  <thead>\n",
       "    <tr style=\"text-align: right;\">\n",
       "      <th></th>\n",
       "      <th>name</th>\n",
       "      <th>born_in</th>\n",
       "      <th>category</th>\n",
       "      <th>country</th>\n",
       "      <th>date_of_birth</th>\n",
       "      <th>date_of_death</th>\n",
       "      <th>gender</th>\n",
       "      <th>link</th>\n",
       "      <th>place_of_birth</th>\n",
       "      <th>place_of_death</th>\n",
       "      <th>text</th>\n",
       "      <th>year</th>\n",
       "    </tr>\n",
       "  </thead>\n",
       "  <tbody>\n",
       "  </tbody>\n",
       "</table>\n",
       "</div>"
      ],
      "text/plain": [
       "Empty DataFrame\n",
       "Columns: [name, born_in, category, country, date_of_birth, date_of_death, gender, link, place_of_birth, place_of_death, text, year]\n",
       "Index: []"
      ]
     },
     "execution_count": 29,
     "metadata": {},
     "output_type": "execute_result"
    }
   ],
   "source": [
    "df[df.name.str.contains('\\*')]"
   ]
  },
  {
   "cell_type": "markdown",
   "metadata": {},
   "source": [
    "## Removing Rows"
   ]
  },
  {
   "cell_type": "code",
   "execution_count": 30,
   "metadata": {},
   "outputs": [
    {
     "data": {
      "text/plain": [
       "False"
      ]
     },
     "execution_count": 30,
     "metadata": {},
     "output_type": "execute_result"
    }
   ],
   "source": [
    "np.nan == np.nan"
   ]
  },
  {
   "cell_type": "code",
   "execution_count": 31,
   "metadata": {},
   "outputs": [
    {
     "data": {
      "text/plain": [
       "name              910\n",
       "born_in             0\n",
       "category          909\n",
       "country           910\n",
       "date_of_birth     901\n",
       "date_of_death     589\n",
       "gender            900\n",
       "link              910\n",
       "place_of_birth    875\n",
       "place_of_death    546\n",
       "text              910\n",
       "year              910\n",
       "dtype: int64"
      ]
     },
     "execution_count": 31,
     "metadata": {},
     "output_type": "execute_result"
    }
   ],
   "source": [
    "df = df[df.born_in.isnull()]\n",
    "df.count()"
   ]
  },
  {
   "cell_type": "code",
   "execution_count": 32,
   "metadata": {},
   "outputs": [],
   "source": [
    "df = df.drop('born_in', axis=1)"
   ]
  },
  {
   "cell_type": "markdown",
   "metadata": {},
   "source": [
    "## Finding Duplicates"
   ]
  },
  {
   "cell_type": "code",
   "execution_count": 33,
   "metadata": {},
   "outputs": [
    {
     "data": {
      "text/plain": [
       "name              46\n",
       "category          46\n",
       "country           46\n",
       "date_of_birth     45\n",
       "date_of_death     24\n",
       "gender            44\n",
       "link              46\n",
       "place_of_birth    45\n",
       "place_of_death    23\n",
       "text              46\n",
       "year              46\n",
       "dtype: int64"
      ]
     },
     "execution_count": 33,
     "metadata": {},
     "output_type": "execute_result"
    }
   ],
   "source": [
    "dupes_by_name = df[df.duplicated('name')]\n",
    "dupes_by_name.count()"
   ]
  },
  {
   "cell_type": "code",
   "execution_count": 34,
   "metadata": {},
   "outputs": [
    {
     "data": {
      "text/plain": [
       "name              92\n",
       "category          92\n",
       "country           92\n",
       "date_of_birth     90\n",
       "date_of_death     48\n",
       "gender            88\n",
       "link              92\n",
       "place_of_birth    90\n",
       "place_of_death    46\n",
       "text              92\n",
       "year              92\n",
       "dtype: int64"
      ]
     },
     "execution_count": 34,
     "metadata": {},
     "output_type": "execute_result"
    }
   ],
   "source": [
    "all_dupes = df[df.duplicated('name')\\\n",
    "| df.duplicated('name', keep='last')]\n",
    "all_dupes.count()"
   ]
  },
  {
   "cell_type": "code",
   "execution_count": 35,
   "metadata": {},
   "outputs": [
    {
     "data": {
      "text/plain": [
       "name              92\n",
       "category          92\n",
       "country           92\n",
       "date_of_birth     90\n",
       "date_of_death     48\n",
       "gender            88\n",
       "link              92\n",
       "place_of_birth    90\n",
       "place_of_death    46\n",
       "text              92\n",
       "year              92\n",
       "dtype: int64"
      ]
     },
     "execution_count": 35,
     "metadata": {},
     "output_type": "execute_result"
    }
   ],
   "source": [
    "all_dupes = df[df.name.isin(dupes_by_name.name)]\n",
    "all_dupes.count()"
   ]
  },
  {
   "cell_type": "markdown",
   "metadata": {},
   "source": [
    "To iterate over all the name groups:\n",
    "\n",
    "```python\n",
    "for name, rows in df.groupby('name'):\n",
    "    print('name: %s, number of rows: %d'%(name, len(rows)))\n",
    "    \n",
    "#name: A. Michael Spence, number of rows: 1\n",
    "#name: Aage Bohr, number of rows: 1\n",
    "#name: Aaron Ciechanover, number of rows: 1\n",
    "#name: Aaron Klug, number of rows: 2\n",
    "```"
   ]
  },
  {
   "cell_type": "code",
   "execution_count": 36,
   "metadata": {},
   "outputs": [
    {
     "data": {
      "text/plain": [
       "121          Aaron Klug\n",
       "131          Aaron Klug\n",
       "615     Albert Einstein\n",
       "844     Albert Einstein\n",
       "176       Arieh Warshel\n",
       "             ...       \n",
       "975       Tsung-Dao Lee\n",
       "333    Wassily Leontief\n",
       "684    Wassily Leontief\n",
       "489      Yoichiro Nambu\n",
       "773      Yoichiro Nambu\n",
       "Name: name, Length: 92, dtype: object"
      ]
     },
     "execution_count": 36,
     "metadata": {},
     "output_type": "execute_result"
    }
   ],
   "source": [
    "# name group of size two or more\n",
    "pd.concat([g for _,g in df.groupby('name')\\\n",
    "if len(g) > 1])['name']"
   ]
  },
  {
   "cell_type": "markdown",
   "metadata": {},
   "source": [
    "## Sorting Data"
   ]
  },
  {
   "cell_type": "code",
   "execution_count": 37,
   "metadata": {},
   "outputs": [
    {
     "data": {
      "text/html": [
       "<div>\n",
       "<style scoped>\n",
       "    .dataframe tbody tr th:only-of-type {\n",
       "        vertical-align: middle;\n",
       "    }\n",
       "\n",
       "    .dataframe tbody tr th {\n",
       "        vertical-align: top;\n",
       "    }\n",
       "\n",
       "    .dataframe thead th {\n",
       "        text-align: right;\n",
       "    }\n",
       "</style>\n",
       "<table border=\"1\" class=\"dataframe\">\n",
       "  <thead>\n",
       "    <tr style=\"text-align: right;\">\n",
       "      <th></th>\n",
       "      <th>name</th>\n",
       "      <th>score</th>\n",
       "    </tr>\n",
       "  </thead>\n",
       "  <tbody>\n",
       "    <tr>\n",
       "      <th>1</th>\n",
       "      <td>alice</td>\n",
       "      <td>3</td>\n",
       "    </tr>\n",
       "    <tr>\n",
       "      <th>5</th>\n",
       "      <td>bob</td>\n",
       "      <td>7</td>\n",
       "    </tr>\n",
       "    <tr>\n",
       "      <th>2</th>\n",
       "      <td>bob</td>\n",
       "      <td>5</td>\n",
       "    </tr>\n",
       "    <tr>\n",
       "      <th>4</th>\n",
       "      <td>bob</td>\n",
       "      <td>3</td>\n",
       "    </tr>\n",
       "    <tr>\n",
       "      <th>3</th>\n",
       "      <td>mike</td>\n",
       "      <td>2</td>\n",
       "    </tr>\n",
       "    <tr>\n",
       "      <th>0</th>\n",
       "      <td>zak</td>\n",
       "      <td>4</td>\n",
       "    </tr>\n",
       "  </tbody>\n",
       "</table>\n",
       "</div>"
      ],
      "text/plain": [
       "    name  score\n",
       "1  alice      3\n",
       "5    bob      7\n",
       "2    bob      5\n",
       "4    bob      3\n",
       "3   mike      2\n",
       "0    zak      4"
      ]
     },
     "execution_count": 37,
     "metadata": {},
     "output_type": "execute_result"
    }
   ],
   "source": [
    "df2 = pd.DataFrame(\\\n",
    "{'name':['zak', 'alice', 'bob', 'mike', 'bob', 'bob'],\\\n",
    "'score':[4, 3, 5, 2, 3, 7]})\n",
    "df2.sort_values(['name', 'score'],\\\n",
    "ascending=[1,0])"
   ]
  },
  {
   "cell_type": "code",
   "execution_count": 38,
   "metadata": {},
   "outputs": [
    {
     "name": "stdout",
     "output_type": "stream",
     "text": [
      "                 name         country  year\n",
      "121        Aaron Klug    South Africa  1982\n",
      "131        Aaron Klug  United Kingdom  1982\n",
      "844   Albert Einstein         Germany  1921\n",
      "615   Albert Einstein     Switzerland  1921\n",
      "176     Arieh Warshel   United States  2013\n",
      "..                ...             ...   ...\n",
      "294     Tsung-Dao Lee   United States  1957\n",
      "333  Wassily Leontief   United States  1973\n",
      "684  Wassily Leontief          Russia  1973\n",
      "773    Yoichiro Nambu           Japan  2008\n",
      "489    Yoichiro Nambu   United States  2008\n",
      "\n",
      "[92 rows x 3 columns]\n"
     ]
    }
   ],
   "source": [
    "print(all_dupes.sort_values('name')[['name', 'country', 'year']])"
   ]
  },
  {
   "cell_type": "markdown",
   "metadata": {},
   "source": [
    "## Views Versus Copies"
   ]
  },
  {
   "cell_type": "code",
   "execution_count": 39,
   "metadata": {},
   "outputs": [
    {
     "data": {
      "text/plain": [
       "name                                         Marie Skłodowska-Curie\n",
       "category                                                  Chemistry\n",
       "country                                                      Poland\n",
       "date_of_birth                                       7 November 1867\n",
       "date_of_death                                           4 July 1934\n",
       "gender                                                       female\n",
       "link                       http://en.wikipedia.org/wiki/Marie_Curie\n",
       "place_of_birth                                      Warsaw , Poland\n",
       "place_of_death                                 Sancellemoz , France\n",
       "text              Marie Skłodowska-Curie ,  born in partitioned ...\n",
       "year                                                           1911\n",
       "Name: 709, dtype: object"
      ]
     },
     "execution_count": 39,
     "metadata": {},
     "output_type": "execute_result"
    }
   ],
   "source": [
    "df.loc[709]"
   ]
  },
  {
   "cell_type": "code",
   "execution_count": 40,
   "metadata": {},
   "outputs": [
    {
     "name": "stderr",
     "output_type": "stream",
     "text": [
      "/tmp/ipykernel_265260/2006240441.py:1: SettingWithCopyWarning: \n",
      "A value is trying to be set on a copy of a slice from a DataFrame\n",
      "\n",
      "See the caveats in the documentation: https://pandas.pydata.org/pandas-docs/stable/user_guide/indexing.html#returning-a-view-versus-a-copy\n",
      "  df['country'][709] = 'France'\n"
     ]
    }
   ],
   "source": [
    "df['country'][709] = 'France'"
   ]
  },
  {
   "cell_type": "code",
   "execution_count": 41,
   "metadata": {},
   "outputs": [
    {
     "data": {
      "text/plain": [
       "'France'"
      ]
     },
     "execution_count": 41,
     "metadata": {},
     "output_type": "execute_result"
    }
   ],
   "source": [
    "df['country'][709]"
   ]
  },
  {
   "cell_type": "code",
   "execution_count": 42,
   "metadata": {},
   "outputs": [],
   "source": [
    "df.loc[709, 'country'] = 'France'"
   ]
  },
  {
   "cell_type": "markdown",
   "metadata": {},
   "source": [
    "The above will work if the row name integer index are the same (709 in this case) but this often isn't the case. Better to use the integer reference `iloc`, using the `get_loc` method to find the integer reference of the column in question ('country')."
   ]
  },
  {
   "cell_type": "code",
   "execution_count": 43,
   "metadata": {},
   "outputs": [],
   "source": [
    "df.iloc[709, df.columns.get_loc('country')] = 'France'"
   ]
  },
  {
   "cell_type": "code",
   "execution_count": 44,
   "metadata": {},
   "outputs": [
    {
     "data": {
      "text/plain": [
       "name                                         Marie Skłodowska-Curie\n",
       "category                                                  Chemistry\n",
       "country                                                      France\n",
       "date_of_birth                                       7 November 1867\n",
       "date_of_death                                           4 July 1934\n",
       "gender                                                       female\n",
       "link                       http://en.wikipedia.org/wiki/Marie_Curie\n",
       "place_of_birth                                      Warsaw , Poland\n",
       "place_of_death                                 Sancellemoz , France\n",
       "text              Marie Skłodowska-Curie ,  born in partitioned ...\n",
       "year                                                           1911\n",
       "Name: 709, dtype: object"
      ]
     },
     "execution_count": 44,
     "metadata": {},
     "output_type": "execute_result"
    }
   ],
   "source": [
    "df.loc[709]"
   ]
  },
  {
   "cell_type": "markdown",
   "metadata": {},
   "source": [
    "## Removing Duplicates"
   ]
  },
  {
   "cell_type": "code",
   "execution_count": 106,
   "metadata": {},
   "outputs": [],
   "source": [
    "df.loc[(df.name == 'Marie Sk\\u0142odowska-Curie') &\\\n",
    "(df.year == 1911), 'country'] = 'France'"
   ]
  },
  {
   "cell_type": "code",
   "execution_count": 107,
   "metadata": {},
   "outputs": [],
   "source": [
    "df.drop(df[(df.name == 'Sidney Altman') &\\\n",
    "(df.year == 1990)].index,\n",
    "inplace=True)\n",
    "\n",
    "# df = df[~((df.name == 'Sidney Altman') & (df.year == 1990))] works as well"
   ]
  },
  {
   "cell_type": "code",
   "execution_count": 153,
   "metadata": {},
   "outputs": [],
   "source": [
    "def clean_data_1(df):\n",
    "    df = df.replace('', np.nan)\n",
    "    df = df[df.born_in.isnull()]\n",
    "    df = df.drop('born_in', axis=1)\n",
    "    df.drop(df[df.year == 1809].index, inplace=True)\n",
    "    df = df[~(df.name == 'Marie Curie')]\n",
    "    df.loc[(df.name == 'Marie Sk\\u0142odowska-Curie') &\\\n",
    "    (df.year == 1911), 'country'] = 'France'\n",
    "    df = df[~((df.name == 'Sidney Altman') &\\\n",
    "    (df.year == 1990))]\n",
    "    return df"
   ]
  },
  {
   "cell_type": "code",
   "execution_count": 154,
   "metadata": {},
   "outputs": [],
   "source": [
    "# Apply our clean_data function to the reloaded dirty data\n",
    "df = reload_data()\n",
    "df = clean_data_1(df)"
   ]
  },
  {
   "cell_type": "code",
   "execution_count": 155,
   "metadata": {},
   "outputs": [
    {
     "data": {
      "text/plain": [
       "category          864\n",
       "country           865\n",
       "date_of_birth     857\n",
       "date_of_death     566\n",
       "gender            857\n",
       "link              865\n",
       "name              865\n",
       "place_of_birth    831\n",
       "place_of_death    524\n",
       "text              865\n",
       "year              865\n",
       "dtype: int64"
      ]
     },
     "execution_count": 155,
     "metadata": {},
     "output_type": "execute_result"
    }
   ],
   "source": [
    "df = df.reindex(np.random.permutation(df.index))\n",
    "df = df.drop_duplicates(['name', 'year'])\n",
    "df = df.sort_index()\n",
    "df.count()"
   ]
  },
  {
   "cell_type": "code",
   "execution_count": 156,
   "metadata": {},
   "outputs": [
    {
     "data": {
      "text/html": [
       "<div>\n",
       "<style scoped>\n",
       "    .dataframe tbody tr th:only-of-type {\n",
       "        vertical-align: middle;\n",
       "    }\n",
       "\n",
       "    .dataframe tbody tr th {\n",
       "        vertical-align: top;\n",
       "    }\n",
       "\n",
       "    .dataframe thead th {\n",
       "        text-align: right;\n",
       "    }\n",
       "</style>\n",
       "<table border=\"1\" class=\"dataframe\">\n",
       "  <thead>\n",
       "    <tr style=\"text-align: right;\">\n",
       "      <th></th>\n",
       "      <th>name</th>\n",
       "      <th>country</th>\n",
       "      <th>year</th>\n",
       "      <th>category</th>\n",
       "    </tr>\n",
       "  </thead>\n",
       "  <tbody>\n",
       "    <tr>\n",
       "      <th>548</th>\n",
       "      <td>Frederick Sanger</td>\n",
       "      <td>United Kingdom</td>\n",
       "      <td>1958</td>\n",
       "      <td>Chemistry</td>\n",
       "    </tr>\n",
       "    <tr>\n",
       "      <th>580</th>\n",
       "      <td>Frederick Sanger</td>\n",
       "      <td>United Kingdom</td>\n",
       "      <td>1980</td>\n",
       "      <td>Chemistry</td>\n",
       "    </tr>\n",
       "    <tr>\n",
       "      <th>292</th>\n",
       "      <td>John Bardeen</td>\n",
       "      <td>United States</td>\n",
       "      <td>1956</td>\n",
       "      <td>Physics</td>\n",
       "    </tr>\n",
       "    <tr>\n",
       "      <th>326</th>\n",
       "      <td>John Bardeen</td>\n",
       "      <td>United States</td>\n",
       "      <td>1972</td>\n",
       "      <td>Physics</td>\n",
       "    </tr>\n",
       "    <tr>\n",
       "      <th>285</th>\n",
       "      <td>Linus C. Pauling</td>\n",
       "      <td>United States</td>\n",
       "      <td>1954</td>\n",
       "      <td>Chemistry</td>\n",
       "    </tr>\n",
       "    <tr>\n",
       "      <th>309</th>\n",
       "      <td>Linus C. Pauling</td>\n",
       "      <td>United States</td>\n",
       "      <td>1962</td>\n",
       "      <td>Peace</td>\n",
       "    </tr>\n",
       "    <tr>\n",
       "      <th>706</th>\n",
       "      <td>Marie Skłodowska-Curie</td>\n",
       "      <td>Poland</td>\n",
       "      <td>1903</td>\n",
       "      <td>Physics</td>\n",
       "    </tr>\n",
       "    <tr>\n",
       "      <th>709</th>\n",
       "      <td>Marie Skłodowska-Curie</td>\n",
       "      <td>France</td>\n",
       "      <td>1911</td>\n",
       "      <td>Chemistry</td>\n",
       "    </tr>\n",
       "  </tbody>\n",
       "</table>\n",
       "</div>"
      ],
      "text/plain": [
       "                       name         country  year   category\n",
       "548        Frederick Sanger  United Kingdom  1958  Chemistry\n",
       "580        Frederick Sanger  United Kingdom  1980  Chemistry\n",
       "292            John Bardeen   United States  1956    Physics\n",
       "326            John Bardeen   United States  1972    Physics\n",
       "285        Linus C. Pauling   United States  1954  Chemistry\n",
       "309        Linus C. Pauling   United States  1962      Peace\n",
       "706  Marie Skłodowska-Curie          Poland  1903    Physics\n",
       "709  Marie Skłodowska-Curie          France  1911  Chemistry"
      ]
     },
     "execution_count": 156,
     "metadata": {},
     "output_type": "execute_result"
    }
   ],
   "source": [
    "df[df.duplicated('name') |\n",
    "df.duplicated('name', keep='last')]\\\n",
    ".sort_values(by='name')\\\n",
    "[['name', 'country', 'year', 'category']]"
   ]
  },
  {
   "cell_type": "markdown",
   "metadata": {},
   "source": [
    "## Dealing with Missing Fields"
   ]
  },
  {
   "cell_type": "code",
   "execution_count": 157,
   "metadata": {},
   "outputs": [
    {
     "data": {
      "text/plain": [
       "category          864\n",
       "country           865\n",
       "date_of_birth     857\n",
       "date_of_death     566\n",
       "gender            857\n",
       "link              865\n",
       "name              865\n",
       "place_of_birth    831\n",
       "place_of_death    524\n",
       "text              865\n",
       "year              865\n",
       "dtype: int64"
      ]
     },
     "execution_count": 157,
     "metadata": {},
     "output_type": "execute_result"
    }
   ],
   "source": [
    "df.count()"
   ]
  },
  {
   "cell_type": "code",
   "execution_count": 158,
   "metadata": {},
   "outputs": [
    {
     "data": {
      "text/html": [
       "<div>\n",
       "<style scoped>\n",
       "    .dataframe tbody tr th:only-of-type {\n",
       "        vertical-align: middle;\n",
       "    }\n",
       "\n",
       "    .dataframe tbody tr th {\n",
       "        vertical-align: top;\n",
       "    }\n",
       "\n",
       "    .dataframe thead th {\n",
       "        text-align: right;\n",
       "    }\n",
       "</style>\n",
       "<table border=\"1\" class=\"dataframe\">\n",
       "  <thead>\n",
       "    <tr style=\"text-align: right;\">\n",
       "      <th></th>\n",
       "      <th>name</th>\n",
       "      <th>text</th>\n",
       "    </tr>\n",
       "  </thead>\n",
       "  <tbody>\n",
       "    <tr>\n",
       "      <th>922</th>\n",
       "      <td>Alexis Carrel</td>\n",
       "      <td>Alexis Carrel , Medicine, 1912</td>\n",
       "    </tr>\n",
       "  </tbody>\n",
       "</table>\n",
       "</div>"
      ],
      "text/plain": [
       "              name                            text\n",
       "922  Alexis Carrel  Alexis Carrel , Medicine, 1912"
      ]
     },
     "execution_count": 158,
     "metadata": {},
     "output_type": "execute_result"
    }
   ],
   "source": [
    "df[df.category.isnull()][['name', 'text']]"
   ]
  },
  {
   "cell_type": "code",
   "execution_count": 159,
   "metadata": {},
   "outputs": [],
   "source": [
    "df.loc[df.name == 'Alexis Carrel', 'category'] =\\\n",
    "'Physiology or Medicine'"
   ]
  },
  {
   "cell_type": "code",
   "execution_count": 160,
   "metadata": {},
   "outputs": [
    {
     "data": {
      "text/plain": [
       "3                         Institut de Droit International\n",
       "156                               Friends Service Council\n",
       "267     American Friends Service Committee  (The Quakers)\n",
       "574                                 Amnesty International\n",
       "650                                         Ragnar Granit\n",
       "947                              Médecins Sans Frontières\n",
       "1000     Pugwash Conferences on Science and World Affairs\n",
       "1033                   International Atomic Energy Agency\n",
       "Name: name, dtype: object"
      ]
     },
     "execution_count": 160,
     "metadata": {},
     "output_type": "execute_result"
    }
   ],
   "source": [
    "df[df.gender.isnull()]['name']"
   ]
  },
  {
   "cell_type": "code",
   "execution_count": 161,
   "metadata": {},
   "outputs": [],
   "source": [
    "df.loc[df.name == 'Ragnar Granit', 'gender'] = 'male'\n",
    "df = df[df.gender.notnull()] # remove genderless entries (e.g. Amnesty International)"
   ]
  },
  {
   "cell_type": "code",
   "execution_count": 162,
   "metadata": {},
   "outputs": [
    {
     "data": {
      "text/plain": [
       "782    Hiroshi Amano\n",
       "Name: name, dtype: object"
      ]
     },
     "execution_count": 162,
     "metadata": {},
     "output_type": "execute_result"
    }
   ],
   "source": [
    "df[df.date_of_birth.isnull()]['name']"
   ]
  },
  {
   "cell_type": "code",
   "execution_count": 163,
   "metadata": {},
   "outputs": [],
   "source": [
    "df.loc[df.name == 'Hiroshi Amano', 'date_of_birth'] =\\\n",
    "'11 September 1960'"
   ]
  },
  {
   "cell_type": "code",
   "execution_count": 164,
   "metadata": {},
   "outputs": [
    {
     "data": {
      "text/plain": [
       "category          858\n",
       "country           858\n",
       "date_of_birth     858\n",
       "date_of_death     566\n",
       "gender            858\n",
       "link              858\n",
       "name              858\n",
       "place_of_birth    831\n",
       "place_of_death    524\n",
       "text              858\n",
       "year              858\n",
       "dtype: int64"
      ]
     },
     "execution_count": 164,
     "metadata": {},
     "output_type": "execute_result"
    }
   ],
   "source": [
    "df.count()"
   ]
  },
  {
   "cell_type": "code",
   "execution_count": 165,
   "metadata": {},
   "outputs": [],
   "source": [
    "# store a copy of de-duped dataframe\n",
    "df_clean_dupes_missing = df.copy()"
   ]
  },
  {
   "cell_type": "code",
   "execution_count": 166,
   "metadata": {},
   "outputs": [],
   "source": [
    "# Our current clean_data function, including de-duping and removing international organizations\n",
    "def clean_data_2(df):\n",
    "    df = df.replace('', np.nan)\n",
    "    df = df[df.born_in.isnull()]\n",
    "    df = df.drop('born_in', axis=1)\n",
    "    df.drop(df[df.year == 1809].index, inplace=True)\n",
    "    df = df[~(df.name == 'Marie Curie')]\n",
    "    df.loc[(df.name == 'Marie Sk\\u0142odowska-Curie') &\\\n",
    "    (df.year == 1911), 'country'] = 'France'\n",
    "    df = df[~((df.name == 'Sidney Altman') &\\\n",
    "    (df.year == 1990))]\n",
    "    df = df.reindex(np.random.permutation(df.index))\n",
    "    df = df.drop_duplicates(['name', 'year'])\n",
    "    df = df.sort_index()\n",
    "    df.loc[df.name == 'Ragnar Granit', 'gender'] = 'male'\n",
    "    df = df[df.gender.notnull()] # remove genderless entries (e.g. Amnesty International)\n",
    "    return df"
   ]
  },
  {
   "cell_type": "markdown",
   "metadata": {},
   "source": [
    "## Dealing with Times and Dates"
   ]
  },
  {
   "cell_type": "code",
   "execution_count": 167,
   "metadata": {},
   "outputs": [],
   "source": [
    "# Apply our clean_data function to the reloaded dirty data\n",
    "df = reload_data()\n",
    "df = clean_data_2(df)"
   ]
  },
  {
   "cell_type": "code",
   "execution_count": 168,
   "metadata": {},
   "outputs": [
    {
     "name": "stdout",
     "output_type": "stream",
     "text": [
      "                       name      date_of_birth\n",
      "0            César Milstein     8 October 1927\n",
      "4         Auguste Beernaert       26 July 1829\n",
      "5       Maurice Maeterlinck     29 August 1862\n",
      "6         Henri La Fontaine      22 April 1854\n",
      "7              Jules Bordet       13 June 1870\n",
      "...                     ...                ...\n",
      "1047       Brian P. Schmidt  February 24, 1967\n",
      "1048  Carlos Saavedra Lamas   November 1, 1878\n",
      "1049       Bernardo Houssay         1887-04-10\n",
      "1050   Luis Federico Leloir           1906-9-6\n",
      "1051  Adolfo Pérez Esquivel  November 26, 1931\n",
      "\n",
      "[858 rows x 2 columns]\n"
     ]
    }
   ],
   "source": [
    "print(df[['name', 'date_of_birth']])"
   ]
  },
  {
   "cell_type": "code",
   "execution_count": 169,
   "metadata": {},
   "outputs": [
    {
     "data": {
      "text/plain": [
       "0      1927-10-08\n",
       "4      1829-07-26\n",
       "5      1862-08-29\n",
       "6      1854-04-22\n",
       "7      1870-06-13\n",
       "          ...    \n",
       "1047   1967-02-24\n",
       "1048   1878-11-01\n",
       "1049   1887-04-10\n",
       "1050   1906-09-06\n",
       "1051   1931-11-26\n",
       "Name: date_of_birth, Length: 858, dtype: datetime64[ns]"
      ]
     },
     "execution_count": 169,
     "metadata": {},
     "output_type": "execute_result"
    }
   ],
   "source": [
    "pd.to_datetime(df.date_of_birth, errors='raise')"
   ]
  },
  {
   "cell_type": "code",
   "execution_count": 170,
   "metadata": {},
   "outputs": [],
   "source": [
    "df.date_of_birth = pd.to_datetime(df.date_of_birth)"
   ]
  },
  {
   "cell_type": "code",
   "execution_count": 171,
   "metadata": {},
   "outputs": [],
   "source": [
    "# This will raise a ValueError:\n",
    "# pd.to_datetime(df.date_of_death, errors='raise')\n",
    "# ---------------------------------------------------------------------------\n",
    "# ValueError                                Traceback (most recent call last)\n",
    "# ~/workspace/.virtualenvs/pyjs2/lib/python3.8/site-packages/dateutil/parser/_parser.py...\n",
    "#     648         try:\n",
    "# --> 649             ret = self._build_naive(res, default)\n",
    "#     650         except ValueError as e:"
   ]
  },
  {
   "cell_type": "code",
   "execution_count": 172,
   "metadata": {},
   "outputs": [
    {
     "name": "stdout",
     "output_type": "stream",
     "text": [
      "1968-23-07                    (Henry Hallett Dale, 150)\n",
      "May 30, 2011 (aged 89)        (Rosalyn Yalow, 349)\n",
      "living                        (David Trimble, 581)\n",
      "Diederik Korteweg             (Johannes Diderik van der Waals, 746)\n",
      "living                        (Shirin Ebadi, 809)\n",
      "living                        (Rigoberta Menchú, 833)\n",
      "1 February 1976, age 74       (Werner Karl Heisenberg, 858)\n"
     ]
    }
   ],
   "source": [
    "for i,row in df.iterrows():\n",
    "    try:\n",
    "        pd.to_datetime(row.date_of_death, errors='raise')\n",
    "    except:\n",
    "        print(f\"{row.date_of_death.ljust(30)}({row['name']}, {i})\")\n",
    "        #print('%s(%s, %d)'%(row.date_of_death.ljust(30),\\\n",
    "#row['name'], i))"
   ]
  },
  {
   "cell_type": "code",
   "execution_count": 67,
   "metadata": {},
   "outputs": [
    {
     "data": {
      "text/html": [
       "<div>\n",
       "<style scoped>\n",
       "    .dataframe tbody tr th:only-of-type {\n",
       "        vertical-align: middle;\n",
       "    }\n",
       "\n",
       "    .dataframe tbody tr th {\n",
       "        vertical-align: top;\n",
       "    }\n",
       "\n",
       "    .dataframe thead th {\n",
       "        text-align: right;\n",
       "    }\n",
       "</style>\n",
       "<table border=\"1\" class=\"dataframe\">\n",
       "  <thead>\n",
       "    <tr style=\"text-align: right;\">\n",
       "      <th></th>\n",
       "      <th>category</th>\n",
       "      <th>date_of_death</th>\n",
       "      <th>name</th>\n",
       "    </tr>\n",
       "  </thead>\n",
       "  <tbody>\n",
       "    <tr>\n",
       "      <th>150</th>\n",
       "      <td>Physiology or Medicine</td>\n",
       "      <td>1968-23-07</td>\n",
       "      <td>Henry Hallett Dale</td>\n",
       "    </tr>\n",
       "    <tr>\n",
       "      <th>349</th>\n",
       "      <td>Physiology or Medicine</td>\n",
       "      <td>May 30, 2011 (aged 89)</td>\n",
       "      <td>Rosalyn Yalow</td>\n",
       "    </tr>\n",
       "    <tr>\n",
       "      <th>581</th>\n",
       "      <td>Peace</td>\n",
       "      <td>living</td>\n",
       "      <td>David Trimble</td>\n",
       "    </tr>\n",
       "    <tr>\n",
       "      <th>746</th>\n",
       "      <td>Physics</td>\n",
       "      <td>Diederik Korteweg</td>\n",
       "      <td>Johannes Diderik van der Waals</td>\n",
       "    </tr>\n",
       "    <tr>\n",
       "      <th>809</th>\n",
       "      <td>Peace</td>\n",
       "      <td>living</td>\n",
       "      <td>Shirin Ebadi</td>\n",
       "    </tr>\n",
       "    <tr>\n",
       "      <th>833</th>\n",
       "      <td>Peace</td>\n",
       "      <td>living</td>\n",
       "      <td>Rigoberta Menchú</td>\n",
       "    </tr>\n",
       "    <tr>\n",
       "      <th>858</th>\n",
       "      <td>Physics</td>\n",
       "      <td>1 February 1976, age 74</td>\n",
       "      <td>Werner Karl Heisenberg</td>\n",
       "    </tr>\n",
       "  </tbody>\n",
       "</table>\n",
       "</div>"
      ],
      "text/plain": [
       "                   category            date_of_death  \\\n",
       "150  Physiology or Medicine               1968-23-07   \n",
       "349  Physiology or Medicine   May 30, 2011 (aged 89)   \n",
       "581                   Peace                   living   \n",
       "746                 Physics        Diederik Korteweg   \n",
       "809                   Peace                   living   \n",
       "833                   Peace                   living   \n",
       "858                 Physics  1 February 1976, age 74   \n",
       "\n",
       "                               name  \n",
       "150              Henry Hallett Dale  \n",
       "349                   Rosalyn Yalow  \n",
       "581                   David Trimble  \n",
       "746  Johannes Diderik van der Waals  \n",
       "809                    Shirin Ebadi  \n",
       "833                Rigoberta Menchú  \n",
       "858          Werner Karl Heisenberg  "
      ]
     },
     "execution_count": 67,
     "metadata": {},
     "output_type": "execute_result"
    }
   ],
   "source": [
    "with_death_dates = df[df.date_of_death.notnull()]\n",
    "with_death_dates\n",
    "bad_dates = pd.isnull(pd.to_datetime(with_death_dates.date_of_death,\\\n",
    "                                     errors='coerce'))\n",
    "with_death_dates[bad_dates][['category', 'date_of_death', 'name']]"
   ]
  },
  {
   "cell_type": "code",
   "execution_count": 68,
   "metadata": {},
   "outputs": [],
   "source": [
    "df.date_of_death = pd.to_datetime(df.date_of_death, errors='coerce')"
   ]
  },
  {
   "cell_type": "code",
   "execution_count": 69,
   "metadata": {},
   "outputs": [],
   "source": [
    "df['award_age'] = df.year - pd.DatetimeIndex(df.date_of_birth).year"
   ]
  },
  {
   "cell_type": "code",
   "execution_count": 70,
   "metadata": {},
   "outputs": [
    {
     "name": "stdout",
     "output_type": "stream",
     "text": [
      "                       name  award_age                category  year\n",
      "725        Malala Yousafzai       17.0                   Peace  2014\n",
      "525  William Lawrence Bragg       25.0                 Physics  1915\n",
      "626    Georges J. F. Köhler       30.0  Physiology or Medicine  1976\n",
      "146              Paul Dirac       31.0                 Physics  1933\n",
      "294           Tsung-Dao Lee       31.0                 Physics  1957\n",
      "247           Carl Anderson       31.0                 Physics  1936\n",
      "858  Werner Karl Heisenberg       31.0                 Physics  1932\n",
      "804        Mairéad Corrigan       32.0                   Peace  1976\n",
      "226         Tawakkol Karman       32.0                   Peace  2011\n",
      "986    Frederick G. Banting       32.0  Physiology or Medicine  1923\n"
     ]
    }
   ],
   "source": [
    "print(df.sort_values('award_age').iloc[:10]\\\n",
    "[['name', 'award_age', 'category', 'year']])"
   ]
  },
  {
   "cell_type": "code",
   "execution_count": 173,
   "metadata": {},
   "outputs": [],
   "source": [
    "def clean_data(df):\n",
    "    \"\"\"The full clean data function, which returns both the cleaned Nobel data (df) and a DataFrame \n",
    "    containing those winners with a born_in field.\"\"\"\n",
    "    df = df.replace('', np.nan)\n",
    "    df_born_in = df[df.born_in.notnull()].copy() \n",
    "    df = df[df.born_in.isnull()]\n",
    "    df = df.drop('born_in', axis=1) \n",
    "    df.drop(df[df.year == 1809].index, inplace=True) \n",
    "    df = df[~(df.name == 'Marie Curie')]\n",
    "    df.loc[(df.name == 'Marie Sk\\u0142odowska-Curie') &\\\n",
    "           (df.year == 1911), 'country'] = 'France'\n",
    "    df = df[~((df.name == 'Sidney Altman') & (df.year == 1990))]\n",
    "    df = df.reindex(np.random.permutation(df.index)) \n",
    "    df = df.drop_duplicates(['name', 'year'])         \n",
    "    df = df.sort_index()\n",
    "    df.loc[df.name == 'Alexis Carrel', 'category'] =\\\n",
    "        'Physiology or Medicine' \n",
    "    df.loc[df.name == 'Ragnar Granit', 'gender'] = 'male'\n",
    "    df = df[df.gender.notnull()] # remove institutional prizes\n",
    "    df.loc[df.name == 'Hiroshi Amano', 'date_of_birth'] =\\\n",
    "    '11 September 1960'\n",
    "    df.date_of_birth = pd.to_datetime(df.date_of_birth) \n",
    "    df.date_of_death = pd.to_datetime(df.date_of_death, errors='coerce') \n",
    "    df['award_age'] = df.year - pd.DatetimeIndex(df.date_of_birth).year \n",
    "    return df, df_born_in"
   ]
  },
  {
   "cell_type": "code",
   "execution_count": 180,
   "metadata": {},
   "outputs": [],
   "source": [
    "df_clean, df_born_in = clean_data(reload_data())"
   ]
  },
  {
   "cell_type": "code",
   "execution_count": 181,
   "metadata": {},
   "outputs": [],
   "source": [
    "df_born_in.name = df_born_in.name.str.replace('*', '', regex=False)\n",
    "df_born_in.name = df_born_in.name.str.strip()\n",
    "df_born_in.drop_duplicates(subset=['name'], inplace=True)\n",
    "df_born_in.set_index('name', inplace=True)"
   ]
  },
  {
   "cell_type": "code",
   "execution_count": 183,
   "metadata": {},
   "outputs": [
    {
     "data": {
      "text/plain": [
       "born_in                                                     Hungary\n",
       "category                                                    Physics\n",
       "country                                                         NaN\n",
       "date_of_birth                                     November 17, 1902\n",
       "date_of_death                                       January 1, 1995\n",
       "gender                                                         male\n",
       "link                     http://en.wikipedia.org/wiki/Eugene_Wigner\n",
       "place_of_birth                          Budapest ,  Austria-Hungary\n",
       "place_of_death                       Princeton ,  New Jersey , U.S.\n",
       "text              Eugene Wigner *, (Wigner Jenő Pál), Physics, 1963\n",
       "year                                                           1963\n",
       "Name: Eugene Wigner, dtype: object"
      ]
     },
     "execution_count": 183,
     "metadata": {},
     "output_type": "execute_result"
    }
   ],
   "source": [
    "df_born_in.loc['Eugene Wigner']"
   ]
  },
  {
   "cell_type": "code",
   "execution_count": 184,
   "metadata": {},
   "outputs": [],
   "source": [
    "def get_born_in(name):\n",
    "    try:\n",
    "        born_in = df_born_in.loc[name]['born_in']\n",
    "        #print('name: %s, born in: %s'%(name, born_in))\n",
    "    except:\n",
    "        born_in = np.nan\n",
    "    return born_in"
   ]
  },
  {
   "cell_type": "code",
   "execution_count": 185,
   "metadata": {},
   "outputs": [],
   "source": [
    "df_wbi = df_clean.copy()"
   ]
  },
  {
   "cell_type": "code",
   "execution_count": 186,
   "metadata": {},
   "outputs": [
    {
     "data": {
      "text/html": [
       "<div>\n",
       "<style scoped>\n",
       "    .dataframe tbody tr th:only-of-type {\n",
       "        vertical-align: middle;\n",
       "    }\n",
       "\n",
       "    .dataframe tbody tr th {\n",
       "        vertical-align: top;\n",
       "    }\n",
       "\n",
       "    .dataframe thead th {\n",
       "        text-align: right;\n",
       "    }\n",
       "</style>\n",
       "<table border=\"1\" class=\"dataframe\">\n",
       "  <thead>\n",
       "    <tr style=\"text-align: right;\">\n",
       "      <th></th>\n",
       "      <th>name</th>\n",
       "      <th>born_in</th>\n",
       "    </tr>\n",
       "  </thead>\n",
       "  <tbody>\n",
       "    <tr>\n",
       "      <th>11</th>\n",
       "      <td>Christian de Duve</td>\n",
       "      <td>United Kingdom</td>\n",
       "    </tr>\n",
       "    <tr>\n",
       "      <th>12</th>\n",
       "      <td>Ilya Prigogine</td>\n",
       "      <td>Russia</td>\n",
       "    </tr>\n",
       "    <tr>\n",
       "      <th>25</th>\n",
       "      <td>Niels Kaj Jerne</td>\n",
       "      <td>United Kingdom</td>\n",
       "    </tr>\n",
       "    <tr>\n",
       "      <th>38</th>\n",
       "      <td>Albert Schweitzer</td>\n",
       "      <td>Germany</td>\n",
       "    </tr>\n",
       "    <tr>\n",
       "      <th>77</th>\n",
       "      <td>Wilhelm Ostwald</td>\n",
       "      <td>Latvia</td>\n",
       "    </tr>\n",
       "    <tr>\n",
       "      <th>89</th>\n",
       "      <td>Shmuel Yosef Agnon</td>\n",
       "      <td>Ukraine</td>\n",
       "    </tr>\n",
       "    <tr>\n",
       "      <th>90</th>\n",
       "      <td>Menachem Begin</td>\n",
       "      <td>Belarus</td>\n",
       "    </tr>\n",
       "    <tr>\n",
       "      <th>91</th>\n",
       "      <td>Shimon Peres</td>\n",
       "      <td>Belarus</td>\n",
       "    </tr>\n",
       "    <tr>\n",
       "      <th>97</th>\n",
       "      <td>Andre Geim</td>\n",
       "      <td>Russia</td>\n",
       "    </tr>\n",
       "    <tr>\n",
       "      <th>121</th>\n",
       "      <td>Aaron Klug</td>\n",
       "      <td>Lithuania</td>\n",
       "    </tr>\n",
       "  </tbody>\n",
       "</table>\n",
       "</div>"
      ],
      "text/plain": [
       "                   name         born_in\n",
       "11    Christian de Duve  United Kingdom\n",
       "12       Ilya Prigogine          Russia\n",
       "25      Niels Kaj Jerne  United Kingdom\n",
       "38    Albert Schweitzer         Germany\n",
       "77      Wilhelm Ostwald          Latvia\n",
       "89   Shmuel Yosef Agnon         Ukraine\n",
       "90       Menachem Begin         Belarus\n",
       "91         Shimon Peres         Belarus\n",
       "97           Andre Geim          Russia\n",
       "121          Aaron Klug       Lithuania"
      ]
     },
     "execution_count": 186,
     "metadata": {},
     "output_type": "execute_result"
    }
   ],
   "source": [
    "df_wbi['born_in'] = df_wbi['name'].apply(get_born_in)\n",
    "df_wbi[df_wbi.born_in.notnull()].iloc[:10, :][['name', 'born_in']]"
   ]
  },
  {
   "cell_type": "code",
   "execution_count": 187,
   "metadata": {},
   "outputs": [
    {
     "name": "stdout",
     "output_type": "stream",
     "text": [
      "<class 'pandas.core.frame.DataFrame'>\n",
      "Int64Index: 858 entries, 0 to 1051\n",
      "Data columns (total 13 columns):\n",
      " #   Column          Non-Null Count  Dtype         \n",
      "---  ------          --------------  -----         \n",
      " 0   category        858 non-null    object        \n",
      " 1   country         858 non-null    object        \n",
      " 2   date_of_birth   858 non-null    datetime64[ns]\n",
      " 3   date_of_death   559 non-null    datetime64[ns]\n",
      " 4   gender          858 non-null    object        \n",
      " 5   link            858 non-null    object        \n",
      " 6   name            858 non-null    object        \n",
      " 7   place_of_birth  831 non-null    object        \n",
      " 8   place_of_death  524 non-null    object        \n",
      " 9   text            858 non-null    object        \n",
      " 10  year            858 non-null    int64         \n",
      " 11  award_age       858 non-null    int64         \n",
      " 12  born_in         102 non-null    object        \n",
      "dtypes: datetime64[ns](2), int64(2), object(9)\n",
      "memory usage: 93.8+ KB\n"
     ]
    }
   ],
   "source": [
    "df_wbi.info()"
   ]
  },
  {
   "cell_type": "code",
   "execution_count": 188,
   "metadata": {
    "tags": []
   },
   "outputs": [
    {
     "name": "stdout",
     "output_type": "stream",
     "text": [
      "                         name                category         born_in\n",
      "11          Christian de Duve  Physiology or Medicine  United Kingdom\n",
      "12             Ilya Prigogine               Chemistry          Russia\n",
      "25            Niels Kaj Jerne  Physiology or Medicine  United Kingdom\n",
      "38          Albert Schweitzer                   Peace         Germany\n",
      "77            Wilhelm Ostwald               Chemistry          Latvia\n",
      "...                       ...                     ...             ...\n",
      "1017           Friderik Pregl               Chemistry        Slovenia\n",
      "1018  Richard Adolf Zsigmondy               Chemistry         Hungary\n",
      "1040            Patrick White              Literature  United Kingdom\n",
      "1042            John Harsanyi               Economics         Hungary\n",
      "1050     Luis Federico Leloir               Chemistry          France\n",
      "\n",
      "[102 rows x 3 columns]\n"
     ]
    }
   ],
   "source": [
    "print(df_wbi[df_wbi.born_in.notnull()][['name', 'category', 'born_in']])"
   ]
  },
  {
   "cell_type": "code",
   "execution_count": 189,
   "metadata": {},
   "outputs": [],
   "source": [
    "df_clean, df_born_in = clean_data(reload_data())"
   ]
  },
  {
   "cell_type": "markdown",
   "metadata": {},
   "source": [
    "### Merging DataFrames"
   ]
  },
  {
   "cell_type": "code",
   "execution_count": 190,
   "metadata": {},
   "outputs": [],
   "source": [
    "df_winners_bios = pd.read_json(open('data/scrapy_nwinners_minibio.json'))"
   ]
  },
  {
   "cell_type": "code",
   "execution_count": 191,
   "metadata": {},
   "outputs": [],
   "source": [
    "df_clean_bios = pd.merge(df_wbi, df_winners_bios, how='outer', on='link')"
   ]
  },
  {
   "cell_type": "code",
   "execution_count": 192,
   "metadata": {},
   "outputs": [
    {
     "data": {
      "text/plain": [
       "category          1023\n",
       "country           1023\n",
       "date_of_birth     1023\n",
       "date_of_death      662\n",
       "gender            1023\n",
       "link              1087\n",
       "name              1023\n",
       "place_of_birth     995\n",
       "place_of_death     624\n",
       "text              1023\n",
       "year              1023\n",
       "award_age         1023\n",
       "born_in            211\n",
       "bio_image          978\n",
       "mini_bio          1086\n",
       "image_urls        1086\n",
       "dtype: int64"
      ]
     },
     "execution_count": 192,
     "metadata": {},
     "output_type": "execute_result"
    }
   ],
   "source": [
    "df_clean_bios.count()"
   ]
  },
  {
   "cell_type": "code",
   "execution_count": 193,
   "metadata": {},
   "outputs": [],
   "source": [
    "df_clean_bios = df_clean_bios[~df_clean_bios.name.isnull()].drop_duplicates(subset=['link', 'year'])"
   ]
  },
  {
   "cell_type": "code",
   "execution_count": 194,
   "metadata": {},
   "outputs": [
    {
     "data": {
      "text/plain": [
       "category          858\n",
       "country           858\n",
       "date_of_birth     858\n",
       "date_of_death     559\n",
       "gender            858\n",
       "link              858\n",
       "name              858\n",
       "place_of_birth    831\n",
       "place_of_death    524\n",
       "text              858\n",
       "year              858\n",
       "award_age         858\n",
       "born_in           102\n",
       "bio_image         770\n",
       "mini_bio          857\n",
       "image_urls        857\n",
       "dtype: int64"
      ]
     },
     "execution_count": 194,
     "metadata": {},
     "output_type": "execute_result"
    }
   ],
   "source": [
    "df_clean_bios.count()"
   ]
  },
  {
   "cell_type": "code",
   "execution_count": 195,
   "metadata": {},
   "outputs": [
    {
     "name": "stdout",
     "output_type": "stream",
     "text": [
      "<class 'pandas.core.frame.DataFrame'>\n",
      "Int64Index: 858 entries, 0 to 1051\n",
      "Data columns (total 13 columns):\n",
      " #   Column          Non-Null Count  Dtype         \n",
      "---  ------          --------------  -----         \n",
      " 0   category        858 non-null    object        \n",
      " 1   country         858 non-null    object        \n",
      " 2   date_of_birth   858 non-null    datetime64[ns]\n",
      " 3   date_of_death   559 non-null    datetime64[ns]\n",
      " 4   gender          858 non-null    object        \n",
      " 5   link            858 non-null    object        \n",
      " 6   name            858 non-null    object        \n",
      " 7   place_of_birth  831 non-null    object        \n",
      " 8   place_of_death  524 non-null    object        \n",
      " 9   text            858 non-null    object        \n",
      " 10  year            858 non-null    int64         \n",
      " 11  award_age       858 non-null    int64         \n",
      " 12  born_in         102 non-null    object        \n",
      "dtypes: datetime64[ns](2), int64(2), object(9)\n",
      "memory usage: 93.8+ KB\n"
     ]
    }
   ],
   "source": [
    "df_wbi.info()"
   ]
  },
  {
   "cell_type": "code",
   "execution_count": 196,
   "metadata": {},
   "outputs": [
    {
     "data": {
      "text/html": [
       "<div>\n",
       "<style scoped>\n",
       "    .dataframe tbody tr th:only-of-type {\n",
       "        vertical-align: middle;\n",
       "    }\n",
       "\n",
       "    .dataframe tbody tr th {\n",
       "        vertical-align: top;\n",
       "    }\n",
       "\n",
       "    .dataframe thead th {\n",
       "        text-align: right;\n",
       "    }\n",
       "</style>\n",
       "<table border=\"1\" class=\"dataframe\">\n",
       "  <thead>\n",
       "    <tr style=\"text-align: right;\">\n",
       "      <th></th>\n",
       "      <th>category</th>\n",
       "      <th>country</th>\n",
       "      <th>date_of_birth</th>\n",
       "      <th>date_of_death</th>\n",
       "      <th>gender</th>\n",
       "      <th>link</th>\n",
       "      <th>name</th>\n",
       "      <th>place_of_birth</th>\n",
       "      <th>place_of_death</th>\n",
       "      <th>text</th>\n",
       "      <th>year</th>\n",
       "      <th>award_age</th>\n",
       "      <th>born_in</th>\n",
       "      <th>bio_image</th>\n",
       "      <th>mini_bio</th>\n",
       "      <th>image_urls</th>\n",
       "    </tr>\n",
       "  </thead>\n",
       "  <tbody>\n",
       "    <tr>\n",
       "      <th>229</th>\n",
       "      <td>Peace</td>\n",
       "      <td>Vietnam</td>\n",
       "      <td>1911-10-14</td>\n",
       "      <td>1990-10-13</td>\n",
       "      <td>male</td>\n",
       "      <td>http://en.wikipedia.org/wiki/L%C3%AA_%C3%90%E1...</td>\n",
       "      <td>Lê Ðức Thọ</td>\n",
       "      <td>Hà Nam Province ,  Vietnam</td>\n",
       "      <td>Hanoi ,  Socialist Republic of Vietnam</td>\n",
       "      <td>Lê Ðức Thọ ,  born in French Indochina , Peace...</td>\n",
       "      <td>1973.0</td>\n",
       "      <td>62.0</td>\n",
       "      <td>NaN</td>\n",
       "      <td>NaN</td>\n",
       "      <td>NaN</td>\n",
       "      <td>NaN</td>\n",
       "    </tr>\n",
       "  </tbody>\n",
       "</table>\n",
       "</div>"
      ],
      "text/plain": [
       "    category  country date_of_birth date_of_death gender  \\\n",
       "229    Peace  Vietnam    1911-10-14    1990-10-13   male   \n",
       "\n",
       "                                                  link        name  \\\n",
       "229  http://en.wikipedia.org/wiki/L%C3%AA_%C3%90%E1...  Lê Ðức Thọ   \n",
       "\n",
       "                 place_of_birth                          place_of_death  \\\n",
       "229  Hà Nam Province ,  Vietnam  Hanoi ,  Socialist Republic of Vietnam   \n",
       "\n",
       "                                                  text    year  award_age  \\\n",
       "229  Lê Ðức Thọ ,  born in French Indochina , Peace...  1973.0       62.0   \n",
       "\n",
       "    born_in bio_image mini_bio image_urls  \n",
       "229     NaN       NaN      NaN        NaN  "
      ]
     },
     "execution_count": 196,
     "metadata": {},
     "output_type": "execute_result"
    }
   ],
   "source": [
    "df_clean_bios[df_clean_bios.mini_bio.isnull()]"
   ]
  },
  {
   "cell_type": "markdown",
   "metadata": {},
   "source": [
    "### Saving the Cleaned Datasets"
   ]
  },
  {
   "cell_type": "code",
   "execution_count": 197,
   "metadata": {},
   "outputs": [
    {
     "data": {
      "text/plain": [
       "0       [http://upload.wikimedia.org/wikipedia/commons...\n",
       "2       [http://upload.wikimedia.org/wikipedia/commons...\n",
       "3       [http://upload.wikimedia.org/wikipedia/commons...\n",
       "4                                                      []\n",
       "5       [http://upload.wikimedia.org/wikipedia/commons...\n",
       "                              ...                        \n",
       "1017    [http://upload.wikimedia.org/wikipedia/commons...\n",
       "1018    [http://upload.wikimedia.org/wikipedia/commons...\n",
       "1019    [http://upload.wikimedia.org/wikipedia/commons...\n",
       "1020    [http://upload.wikimedia.org/wikipedia/commons...\n",
       "1022    [http://upload.wikimedia.org/wikipedia/commons...\n",
       "Name: image_urls, Length: 858, dtype: object"
      ]
     },
     "execution_count": 197,
     "metadata": {},
     "output_type": "execute_result"
    }
   ],
   "source": [
    "df_clean_bios.image_urls"
   ]
  },
  {
   "cell_type": "code",
   "execution_count": 198,
   "metadata": {},
   "outputs": [],
   "source": [
    "df_clean_bios.drop('image_urls', axis=1, inplace=True)"
   ]
  },
  {
   "cell_type": "code",
   "execution_count": 199,
   "metadata": {
    "tags": []
   },
   "outputs": [],
   "source": [
    "df_clean_bios.to_json('data/nobel_winners_cleaned.json', orient='records', date_format='iso')"
   ]
  },
  {
   "cell_type": "code",
   "execution_count": 200,
   "metadata": {},
   "outputs": [
    {
     "data": {
      "text/plain": [
       "858"
      ]
     },
     "execution_count": 200,
     "metadata": {},
     "output_type": "execute_result"
    }
   ],
   "source": [
    "import sqlalchemy\n",
    "\n",
    "engine = sqlalchemy.create_engine('sqlite:///data/nobel_winners_cleaned.db') \n",
    "df_clean_bios.to_sql('winners', engine, if_exists='replace', index=True)"
   ]
  },
  {
   "cell_type": "code",
   "execution_count": 201,
   "metadata": {
    "tags": []
   },
   "outputs": [
    {
     "name": "stdout",
     "output_type": "stream",
     "text": [
      "<class 'pandas.core.frame.DataFrame'>\n",
      "RangeIndex: 858 entries, 0 to 857\n",
      "Data columns (total 16 columns):\n",
      " #   Column          Non-Null Count  Dtype         \n",
      "---  ------          --------------  -----         \n",
      " 0   index           858 non-null    int64         \n",
      " 1   category        858 non-null    object        \n",
      " 2   country         858 non-null    object        \n",
      " 3   date_of_birth   858 non-null    datetime64[ns]\n",
      " 4   date_of_death   559 non-null    datetime64[ns]\n",
      " 5   gender          858 non-null    object        \n",
      " 6   link            858 non-null    object        \n",
      " 7   name            858 non-null    object        \n",
      " 8   place_of_birth  831 non-null    object        \n",
      " 9   place_of_death  524 non-null    object        \n",
      " 10  text            858 non-null    object        \n",
      " 11  year            858 non-null    float64       \n",
      " 12  award_age       858 non-null    float64       \n",
      " 13  born_in         102 non-null    object        \n",
      " 14  bio_image       770 non-null    object        \n",
      " 15  mini_bio        857 non-null    object        \n",
      "dtypes: datetime64[ns](2), float64(2), int64(1), object(11)\n",
      "memory usage: 107.4+ KB\n"
     ]
    }
   ],
   "source": [
    "df_read_sql = pd.read_sql('winners', engine)\n",
    "df_read_sql.info()"
   ]
  },
  {
   "cell_type": "code",
   "execution_count": 202,
   "metadata": {
    "jupyter": {
     "source_hidden": true
    },
    "tags": []
   },
   "outputs": [],
   "source": [
    "import dataset"
   ]
  },
  {
   "cell_type": "code",
   "execution_count": 203,
   "metadata": {},
   "outputs": [],
   "source": [
    "db = dataset.connect('sqlite:///data/nobel_winners_cleaned.db')"
   ]
  },
  {
   "cell_type": "code",
   "execution_count": 204,
   "metadata": {},
   "outputs": [
    {
     "data": {
      "text/plain": [
       "[OrderedDict([('index', 0),\n",
       "              ('category', 'Physiology or Medicine'),\n",
       "              ('country', 'Argentina'),\n",
       "              ('date_of_birth', '1927-10-08 00:00:00.000000'),\n",
       "              ('date_of_death', '2002-03-24 00:00:00.000000'),\n",
       "              ('gender', 'male'),\n",
       "              ('link', 'http://en.wikipedia.org/wiki/C%C3%A9sar_Milstein'),\n",
       "              ('name', 'César Milstein'),\n",
       "              ('place_of_birth', 'Bahía Blanca ,  Argentina'),\n",
       "              ('place_of_death', 'Cambridge , England'),\n",
       "              ('text', 'César Milstein , Physiology or Medicine, 1984'),\n",
       "              ('year', 1984.0),\n",
       "              ('award_age', 57.0),\n",
       "              ('born_in', None),\n",
       "              ('bio_image',\n",
       "               'full/6bf65058d573e07b72231407842018afc98fd3ea.jpg'),\n",
       "              ('mini_bio',\n",
       "               '<p><b>César Milstein</b>, <a href=\"http://en.wikipedia.org/wiki/Order_of_the_Companions_of_Honour\" title=\"Order of the Companions of Honour\">CH</a>, <a href=\"http://en.wikipedia.org/wiki/Royal_Society\" title=\"Royal Society\">FRS</a><sup id=\"cite_ref-3\" class=\"reference\"><a href=\"http://en.wikipedia.org/wiki/C%C3%A9sar_Milstein#cite_note-3\"><span>[</span>3<span>]</span></a></sup> (8 October 1927 – 24 March 2002) was a <a href=\"http://en.wikipedia.org/wiki/Argentinian\" title=\"Argentinian\" class=\"mw-redirect\">Argentinian</a> biochemist - nationalized British - in the field of <a href=\"http://en.wikipedia.org/wiki/Antibody\" title=\"Antibody\">antibody</a> research.<sup id=\"cite_ref-4\" class=\"reference\"><a href=\"http://en.wikipedia.org/wiki/C%C3%A9sar_Milstein#cite_note-4\"><span>[</span>4<span>]</span></a></sup><sup id=\"cite_ref-5\" class=\"reference\"><a href=\"http://en.wikipedia.org/wiki/C%C3%A9sar_Milstein#cite_note-5\"><span>[</span>5<span>]</span></a></sup><sup id=\"cite_ref-6\" class=\"reference\"><a href=\"http://en.wikipedia.org/wiki/C%C3%A9sar_Milstein#cite_note-6\"><span>[</span>6<span>]</span></a></sup><sup id=\"cite_ref-7\" class=\"reference\"><a href=\"http://en.wikipedia.org/wiki/C%C3%A9sar_Milstein#cite_note-7\"><span>[</span>7<span>]</span></a></sup><sup id=\"cite_ref-8\" class=\"reference\"><a href=\"http://en.wikipedia.org/wiki/C%C3%A9sar_Milstein#cite_note-8\"><span>[</span>8<span>]</span></a></sup> Milstein shared the <a href=\"http://en.wikipedia.org/wiki/Nobel_Prize_in_Physiology_or_Medicine\" title=\"Nobel Prize in Physiology or Medicine\">Nobel Prize in Physiology or Medicine</a> in 1984 with <a href=\"http://en.wikipedia.org/wiki/Niels_Kaj_Jerne\" title=\"Niels Kaj Jerne\">Niels Kaj Jerne</a> and <a href=\"http://en.wikipedia.org/wiki/Georges_J._F._K%C3%B6hler\" title=\"Georges J. F. Köhler\">Georges J. F. Köhler</a>.<sup id=\"cite_ref-9\" class=\"reference\"><a href=\"http://en.wikipedia.org/wiki/C%C3%A9sar_Milstein#cite_note-9\"><span>[</span>9<span>]</span></a></sup><sup id=\"cite_ref-10\" class=\"reference\"><a href=\"http://en.wikipedia.org/wiki/C%C3%A9sar_Milstein#cite_note-10\"><span>[</span>10<span>]</span></a></sup><sup id=\"cite_ref-11\" class=\"reference\"><a href=\"http://en.wikipedia.org/wiki/C%C3%A9sar_Milstein#cite_note-11\"><span>[</span>11<span>]</span></a></sup><sup id=\"cite_ref-12\" class=\"reference\"><a href=\"http://en.wikipedia.org/wiki/C%C3%A9sar_Milstein#cite_note-12\"><span>[</span>12<span>]</span></a></sup></p>')]),\n",
       " OrderedDict([('index', 2),\n",
       "              ('category', 'Peace'),\n",
       "              ('country', 'Belgium'),\n",
       "              ('date_of_birth', '1829-07-26 00:00:00.000000'),\n",
       "              ('date_of_death', '1912-10-06 00:00:00.000000'),\n",
       "              ('gender', 'male'),\n",
       "              ('link',\n",
       "               'http://en.wikipedia.org/wiki/Auguste_Marie_Fran%C3%A7ois_Beernaert'),\n",
       "              ('name', 'Auguste Beernaert'),\n",
       "              ('place_of_birth', 'Ostend ,  Netherlands  (now  Belgium )'),\n",
       "              ('place_of_death', 'Lucerne ,  Switzerland'),\n",
       "              ('text', 'Auguste Beernaert , Peace, 1909'),\n",
       "              ('year', 1909.0),\n",
       "              ('award_age', 80.0),\n",
       "              ('born_in', None),\n",
       "              ('bio_image',\n",
       "               'full/8372c9ed89a0af1eb3b6214d8efed1d0fc2f02b0.jpg'),\n",
       "              ('mini_bio',\n",
       "               '<p><b>Auguste Marie François Beernaert</b> (26 July 1829 – 6 October 1912) was the <a href=\"http://en.wikipedia.org/wiki/List_of_Prime_Ministers_of_Belgium\" title=\"List of Prime Ministers of Belgium\" class=\"mw-redirect\">14th Prime Minister</a> of <a href=\"http://en.wikipedia.org/wiki/Belgium\" title=\"Belgium\">Belgium</a> from October 1884 to March 1894.</p><p>Born in <a href=\"http://en.wikipedia.org/wiki/Ostend\" title=\"Ostend\">Ostend</a> in 1829, he entered the faculty of law at the <a href=\"http://en.wikipedia.org/wiki/Catholic_University_of_Leuven_(1834%E2%80%931968)\" title=\"Catholic University of Leuven (1834–1968)\">Catholic University of Leuven</a> at age 17. He finished five years later with greatest distinction.<sup id=\"cite_ref-1\" class=\"reference\"><a href=\"http://en.wikipedia.org/wiki/Auguste_Marie_Fran%C3%A7ois_Beernaert#cite_note-1\"><span>[</span>1<span>]</span></a></sup></p><p>He was elected to the Chamber of Deputies in 1873, and became Minister of Public Works under <a href=\"http://en.wikipedia.org/wiki/Jules_Malou\" title=\"Jules Malou\">Jules Malou</a>, greatly improving the rail, canal and road systems. After his tenure as Prime Minister, he represented Belgium at the <a href=\"http://en.wikipedia.org/wiki/Hague_Conventions_(1899_and_1907)\" title=\"Hague Conventions (1899 and 1907)\" class=\"mw-redirect\">Hague conventions of 1899 and 1907</a>. He was also co-winner (with <a href=\"http://en.wikipedia.org/wiki/Paul_d%27Estournelles_de_Constant\" title=\"Paul d\\'Estournelles de Constant\" class=\"mw-redirect\">Paul d\\'Estournelles de Constant</a>) of the <a href=\"http://en.wikipedia.org/wiki/Nobel_Peace_Prize\" title=\"Nobel Peace Prize\">Nobel Peace Prize</a> in 1909 for his work at the <a href=\"http://en.wikipedia.org/wiki/Permanent_Court_of_Arbitration\" title=\"Permanent Court of Arbitration\">Permanent Court of Arbitration</a>. He was chosen as president of the panel established under the rules of that organization in the <a href=\"http://en.wikipedia.org/wiki/Vinayak_Damodar_Savarkar#Savarkar_case_before_the_Permanent_Court_of_Arbitration\" title=\"Vinayak Damodar Savarkar\">Sarvarkar Case</a> in 1911. A year later, he died in <a href=\"http://en.wikipedia.org/wiki/Lucerne\" title=\"Lucerne\">Lucerne</a>, <a href=\"http://en.wikipedia.org/wiki/Switzerland\" title=\"Switzerland\">Switzerland</a>.</p>')]),\n",
       " OrderedDict([('index', 3),\n",
       "              ('category', 'Literature'),\n",
       "              ('country', 'Belgium'),\n",
       "              ('date_of_birth', '1862-08-29 00:00:00.000000'),\n",
       "              ('date_of_death', '1949-05-06 00:00:00.000000'),\n",
       "              ('gender', 'male'),\n",
       "              ('link', 'http://en.wikipedia.org/wiki/Maurice_Maeterlinck'),\n",
       "              ('name', 'Maurice Maeterlinck'),\n",
       "              ('place_of_birth', 'Ghent ,  Belgium'),\n",
       "              ('place_of_death', 'Nice ,  France'),\n",
       "              ('text', 'Maurice Maeterlinck , Literature, 1911'),\n",
       "              ('year', 1911.0),\n",
       "              ('award_age', 49.0),\n",
       "              ('born_in', None),\n",
       "              ('bio_image',\n",
       "               'full/a845620c67d214ca29e6a89cf31062e58ed7f033.jpg'),\n",
       "              ('mini_bio',\n",
       "               '<p><b>Maurice Polydore Marie Bernard Maeterlinck</b><sup id=\"cite_ref-1\" class=\"reference\"><a href=\"http://en.wikipedia.org/wiki/Maurice_Maeterlinck#cite_note-1\"><span>[</span>1<span>]</span></a></sup> (also called <i>Comte (Count) Maeterlinck</i> from 1932;<sup id=\"cite_ref-2\" class=\"reference\"><a href=\"http://en.wikipedia.org/wiki/Maurice_Maeterlinck#cite_note-2\"><span>[</span>2<span>]</span></a></sup> <span title=\"Representation in the International Phonetic Alphabet (IPA)\" class=\"IPA\"><a href=\"http://en.wikipedia.org/wiki/Help:IPA_for_French\" title=\"Help:IPA for French\">[mo.ʁis ma.tɛʁ.lɛ̃ːk]</a></span> in Belgium, <span title=\"Representation in the International Phonetic Alphabet (IPA)\" class=\"IPA\"><a href=\"http://en.wikipedia.org/wiki/Help:IPA_for_French\" title=\"Help:IPA for French\">[mɛ.teʁ.lɛ̃ːk]</a></span> in France;<sup id=\"cite_ref-3\" class=\"reference\"><a href=\"http://en.wikipedia.org/wiki/Maurice_Maeterlinck#cite_note-3\"><span>[</span>3<span>]</span></a></sup> 29 August 1862 – 6 May 1949) was a Belgian <a href=\"http://en.wikipedia.org/wiki/Playwright\" title=\"Playwright\">playwright</a>, <a href=\"http://en.wikipedia.org/wiki/Poet\" title=\"Poet\">poet</a>, and <a href=\"http://en.wikipedia.org/wiki/Essayist\" title=\"Essayist\" class=\"mw-redirect\">essayist</a> who was a Fleming, but wrote in French. He was awarded the <a href=\"http://en.wikipedia.org/wiki/Nobel_Prize_in_Literature\" title=\"Nobel Prize in Literature\">Nobel Prize in Literature</a> in 1911 \"in appreciation of his many-sided literary activities, and especially of his dramatic works, which are distinguished by a wealth of imagination and by a poetic fancy, which reveals, sometimes in the guise of a fairy tale, a deep inspiration, while in a mysterious way they appeal to the readers\\' own feelings and stimulate their imaginations\". The main themes in his work are death and the meaning of life. His plays form an important part of the <a href=\"http://en.wikipedia.org/wiki/Symbolism_(arts)\" title=\"Symbolism (arts)\">Symbolist</a> movement.</p>')])]"
      ]
     },
     "execution_count": 204,
     "metadata": {},
     "output_type": "execute_result"
    }
   ],
   "source": [
    "# list the first three winners using an SQL query\n",
    "list(db.query('select * from winners'))[:3]"
   ]
  },
  {
   "cell_type": "code",
   "execution_count": 205,
   "metadata": {},
   "outputs": [],
   "source": [
    "df_clean = df.copy()"
   ]
  },
  {
   "cell_type": "code",
   "execution_count": 206,
   "metadata": {},
   "outputs": [],
   "source": [
    "from sqlalchemy import Column, Integer, String, Enum, DateTime, Text, BigInteger\n",
    "from sqlalchemy.ext.declarative import declarative_base\n",
    "from sqlalchemy.orm import sessionmaker\n",
    "\n",
    "Base = declarative_base()\n",
    "\n",
    "\n",
    "class Winner(Base):\n",
    "    __tablename__ = 'winners'\n",
    "    id = Column(Integer, primary_key=True)\n",
    "    category = Column(String)\n",
    "    country = Column(String)\n",
    "    date_of_birth = Column(String)\n",
    "    date_of_death = Column(String)\n",
    "    gender = Column(String)\n",
    "    link = Column(String)\n",
    "    name = Column(String)\n",
    "    place_of_birth = Column(String)\n",
    "    place_of_death = Column(String)\n",
    "    text = Column(Text)\n",
    "    year = Column(Integer)\n",
    "    award_age = Column(Integer)\n",
    "    born_in = Column(String)\n",
    "\n",
    "    def __repr__(self):\n",
    "        return \"<Winner(name='%s', category='%s', year='%s')>\"\\\n",
    "            % (self.name, self.category, self.year)\n",
    "\n",
    "engine = sqlalchemy.create_engine('sqlite:///data/nobel_winners_cleaned_test.db') \n",
    "Base.metadata.create_all(engine)"
   ]
  },
  {
   "cell_type": "code",
   "execution_count": 207,
   "metadata": {},
   "outputs": [],
   "source": [
    "def loadSession():\n",
    "    \"\"\"\"\"\"\n",
    "    metadata = Base.metadata\n",
    "    Session = sessionmaker(bind=engine)\n",
    "    session = Session()\n",
    "    return session"
   ]
  },
  {
   "cell_type": "code",
   "execution_count": 208,
   "metadata": {},
   "outputs": [],
   "source": [
    "session = loadSession()"
   ]
  },
  {
   "cell_type": "code",
   "execution_count": 209,
   "metadata": {},
   "outputs": [],
   "source": [
    "df_tosql = df_wbi.copy()"
   ]
  },
  {
   "cell_type": "code",
   "execution_count": 210,
   "metadata": {},
   "outputs": [],
   "source": [
    "df_tosql['date_of_birth'] = df_tosql['date_of_birth'].astype(str)\n",
    "df_tosql['date_of_death'] = df_tosql['date_of_death'].astype(str)"
   ]
  },
  {
   "cell_type": "code",
   "execution_count": 211,
   "metadata": {},
   "outputs": [
    {
     "name": "stdout",
     "output_type": "stream",
     "text": [
      "0       1927-10-08\n",
      "4       1829-07-26\n",
      "5       1862-08-29\n",
      "6       1854-04-22\n",
      "7       1870-06-13\n",
      "           ...    \n",
      "1045    1951-09-30\n",
      "1048    1878-11-01\n",
      "1049    1887-04-10\n",
      "1050    1906-09-06\n",
      "1051    1931-11-26\n",
      "Name: date_of_birth, Length: 858, dtype: object\n"
     ]
    }
   ],
   "source": [
    "print(df_tosql.date_of_birth)"
   ]
  },
  {
   "cell_type": "code",
   "execution_count": 212,
   "metadata": {},
   "outputs": [
    {
     "name": "stdout",
     "output_type": "stream",
     "text": [
      "<class 'pandas.core.frame.DataFrame'>\n",
      "Int64Index: 858 entries, 0 to 1051\n",
      "Data columns (total 13 columns):\n",
      " #   Column          Non-Null Count  Dtype \n",
      "---  ------          --------------  ----- \n",
      " 0   category        858 non-null    object\n",
      " 1   country         858 non-null    object\n",
      " 2   date_of_birth   858 non-null    object\n",
      " 3   date_of_death   858 non-null    object\n",
      " 4   gender          858 non-null    object\n",
      " 5   link            858 non-null    object\n",
      " 6   name            858 non-null    object\n",
      " 7   place_of_birth  831 non-null    object\n",
      " 8   place_of_death  524 non-null    object\n",
      " 9   text            858 non-null    object\n",
      " 10  year            858 non-null    int64 \n",
      " 11  award_age       858 non-null    int64 \n",
      " 12  born_in         102 non-null    object\n",
      "dtypes: int64(2), object(11)\n",
      "memory usage: 93.8+ KB\n"
     ]
    }
   ],
   "source": [
    "df_tosql.info()"
   ]
  },
  {
   "cell_type": "code",
   "execution_count": 213,
   "metadata": {},
   "outputs": [],
   "source": [
    "for d in df_tosql.to_dict(orient='records'):\n",
    "    session.add(Winner(**d))\n",
    "session.commit()"
   ]
  },
  {
   "cell_type": "code",
   "execution_count": 214,
   "metadata": {},
   "outputs": [
    {
     "data": {
      "text/plain": [
       "[<Winner(name='Jens Christian Skou', category='Chemistry', year='1997')>,\n",
       " <Winner(name='John E. Walker', category='Chemistry', year='1997')>,\n",
       " <Winner(name='Paul D. Boyer', category='Chemistry', year='1997')>,\n",
       " <Winner(name='Jens Christian Skou', category='Chemistry', year='1997')>,\n",
       " <Winner(name='John E. Walker', category='Chemistry', year='1997')>,\n",
       " <Winner(name='Paul D. Boyer', category='Chemistry', year='1997')>,\n",
       " <Winner(name='Jens Christian Skou', category='Chemistry', year='1997')>,\n",
       " <Winner(name='John E. Walker', category='Chemistry', year='1997')>,\n",
       " <Winner(name='Paul D. Boyer', category='Chemistry', year='1997')>,\n",
       " <Winner(name='Jens Christian Skou', category='Chemistry', year='1997')>,\n",
       " <Winner(name='John E. Walker', category='Chemistry', year='1997')>,\n",
       " <Winner(name='Paul D. Boyer', category='Chemistry', year='1997')>,\n",
       " <Winner(name='Jens Christian Skou', category='Chemistry', year='1997')>,\n",
       " <Winner(name='John E. Walker', category='Chemistry', year='1997')>,\n",
       " <Winner(name='Paul D. Boyer', category='Chemistry', year='1997')>,\n",
       " <Winner(name='Jens Christian Skou', category='Chemistry', year='1997')>,\n",
       " <Winner(name='John E. Walker', category='Chemistry', year='1997')>,\n",
       " <Winner(name='Paul D. Boyer', category='Chemistry', year='1997')>,\n",
       " <Winner(name='Jens Christian Skou', category='Chemistry', year='1997')>,\n",
       " <Winner(name='John E. Walker', category='Chemistry', year='1997')>,\n",
       " <Winner(name='Paul D. Boyer', category='Chemistry', year='1997')>]"
      ]
     },
     "execution_count": 214,
     "metadata": {},
     "output_type": "execute_result"
    }
   ],
   "source": [
    "res = session.query(Winner).filter_by(category = 'Chemistry', year=1997).all()\n",
    "res"
   ]
  },
  {
   "cell_type": "code",
   "execution_count": null,
   "metadata": {},
   "outputs": [],
   "source": []
  },
  {
   "cell_type": "code",
   "execution_count": null,
   "metadata": {},
   "outputs": [],
   "source": []
  },
  {
   "cell_type": "code",
   "execution_count": null,
   "metadata": {},
   "outputs": [],
   "source": []
  }
 ],
 "metadata": {
  "kernelspec": {
   "display_name": "Python 3 (ipykernel)",
   "language": "python",
   "name": "python3"
  },
  "language_info": {
   "codemirror_mode": {
    "name": "ipython",
    "version": 3
   },
   "file_extension": ".py",
   "mimetype": "text/x-python",
   "name": "python",
   "nbconvert_exporter": "python",
   "pygments_lexer": "ipython3",
   "version": "3.10.4"
  }
 },
 "nbformat": 4,
 "nbformat_minor": 4
}
