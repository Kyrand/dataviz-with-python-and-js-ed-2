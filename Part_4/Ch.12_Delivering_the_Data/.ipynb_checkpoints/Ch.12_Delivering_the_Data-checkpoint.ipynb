{
 "cells": [
  {
   "cell_type": "code",
   "execution_count": 35,
   "id": "372ddb43",
   "metadata": {},
   "outputs": [
    {
     "name": "stdout",
     "output_type": "stream",
     "text": [
      "2021-11-08 20:27:10,685 INFO sqlalchemy.engine.Engine BEGIN (implicit)\n",
      "2021-11-08 20:27:10,687 INFO sqlalchemy.engine.Engine PRAGMA main.table_info(\"winners\")\n",
      "2021-11-08 20:27:10,689 INFO sqlalchemy.engine.Engine [raw sql] ()\n",
      "2021-11-08 20:27:10,691 INFO sqlalchemy.engine.Engine COMMIT\n"
     ]
    }
   ],
   "source": [
    "from sqlalchemy import create_engine\n",
    "from sqlalchemy import Column, Integer, String, Enum, DateTime\n",
    "\n",
    "engine = create_engine('sqlite:///data/nobel_winners.db', echo=True)\n",
    "\n",
    "from sqlalchemy.ext.declarative import declarative_base\n",
    "\n",
    "\n",
    "Base = declarative_base()\n",
    "\n",
    "class Winner(Base):\n",
    "    __tablename__ = 'winners'\n",
    "    index = Column(Integer, primary_key=True)\n",
    "    #id = Column(Integer, primary_key=True)\n",
    "    category = Column(String)\n",
    "    country = Column(String)\n",
    "    date_of_birth = Column(DateTime)\n",
    "    date_of_death = Column(DateTime)\n",
    "    gender = Column(Enum('male', 'female'))\n",
    "    link = Column(String)\n",
    "    name = Column(String)\n",
    "    place_of_birth = Column(String)\n",
    "    place_of_death = Column(String)\n",
    "    text = Column(String)\n",
    "    year = Column(Integer)\n",
    "    award_age = Column(Integer)\n",
    "    born_in = Column(String)\n",
    "    def __repr__(self):\n",
    "        return \"<Winner(name='%s', category='%s', year='%s')>\"\\\n",
    "%(self.name, self.category, self.year)\n",
    "    def to_dict(self):\n",
    "        return {c.name: getattr(self, c.name) for c in self.__table__.columns}\n",
    "\n",
    "Base.metadata.create_all(engine)"
   ]
  },
  {
   "cell_type": "code",
   "execution_count": 36,
   "id": "fbeffe37",
   "metadata": {},
   "outputs": [],
   "source": [
    "from sqlalchemy.orm import sessionmaker\n",
    "\n",
    "Session = sessionmaker(bind=engine)\n",
    "session = Session()"
   ]
  },
  {
   "cell_type": "code",
   "execution_count": 37,
   "id": "fedb7ef0",
   "metadata": {},
   "outputs": [],
   "source": [
    "result = session.query(Winner).filter_by(country='France')"
   ]
  },
  {
   "cell_type": "code",
   "execution_count": 38,
   "id": "e2d85082",
   "metadata": {},
   "outputs": [],
   "source": [
    "result = result.filter_by(category='Physics')"
   ]
  },
  {
   "cell_type": "code",
   "execution_count": 39,
   "id": "2328e751",
   "metadata": {},
   "outputs": [
    {
     "name": "stdout",
     "output_type": "stream",
     "text": [
      "2021-11-08 20:27:12,061 INFO sqlalchemy.engine.Engine BEGIN (implicit)\n",
      "2021-11-08 20:27:12,095 INFO sqlalchemy.engine.Engine SELECT winners.\"index\" AS winners_index, winners.category AS winners_category, winners.country AS winners_country, winners.date_of_birth AS winners_date_of_birth, winners.date_of_death AS winners_date_of_death, winners.gender AS winners_gender, winners.link AS winners_link, winners.name AS winners_name, winners.place_of_birth AS winners_place_of_birth, winners.place_of_death AS winners_place_of_death, winners.text AS winners_text, winners.year AS winners_year, winners.award_age AS winners_award_age, winners.born_in AS winners_born_in \n",
      "FROM winners \n",
      "WHERE winners.country = ? AND winners.category = ?\n",
      "2021-11-08 20:27:12,099 INFO sqlalchemy.engine.Engine [generated in 0.00464s] ('France', 'Physics')\n"
     ]
    },
    {
     "data": {
      "text/plain": [
       "[<Winner(name='Alfred Kastler', category='Physics', year='1966')>,\n",
       " <Winner(name='Pierre Curie', category='Physics', year='1903')>,\n",
       " <Winner(name='Antoine Henri Becquerel', category='Physics', year='1903')>,\n",
       " <Winner(name='Gabriel Lippmann', category='Physics', year='1908')>,\n",
       " <Winner(name='Jean-Baptiste Perrin', category='Physics', year='1926')>,\n",
       " <Winner(name='Louis de Broglie', category='Physics', year='1929')>,\n",
       " <Winner(name='Louis Néel', category='Physics', year='1970')>,\n",
       " <Winner(name='Pierre-Gilles de Gennes', category='Physics', year='1991')>,\n",
       " <Winner(name='Georges Charpak', category='Physics', year='1992')>,\n",
       " <Winner(name='Claude Cohen-Tannoudji', category='Physics', year='1997')>,\n",
       " <Winner(name='Albert Fert', category='Physics', year='2007')>,\n",
       " <Winner(name='Serge Haroche', category='Physics', year='2012')>]"
      ]
     },
     "execution_count": 39,
     "metadata": {},
     "output_type": "execute_result"
    }
   ],
   "source": [
    "list(result)"
   ]
  },
  {
   "cell_type": "code",
   "execution_count": 2,
   "id": "c47186f8",
   "metadata": {},
   "outputs": [],
   "source": [
    "from datetime import datetime\n",
    "import json\n",
    "\n",
    "class DateTimeEncoder(json.JSONEncoder):\n",
    "    def default(self, o):\n",
    "        if isinstance(o, datetime):\n",
    "            return o.isoformat()\n",
    "\n",
    "        return json.JSONEncoder.default(self, o)"
   ]
  },
  {
   "cell_type": "code",
   "execution_count": 3,
   "id": "95b48bc3",
   "metadata": {},
   "outputs": [
    {
     "ename": "NameError",
     "evalue": "name 'result' is not defined",
     "output_type": "error",
     "traceback": [
      "\u001b[0;31m---------------------------------------------------------------------------\u001b[0m",
      "\u001b[0;31mNameError\u001b[0m                                 Traceback (most recent call last)",
      "Input \u001b[0;32mIn [3]\u001b[0m, in \u001b[0;36m<cell line: 1>\u001b[0;34m()\u001b[0m\n\u001b[0;32m----> 1\u001b[0m json\u001b[38;5;241m.\u001b[39mdumps(\u001b[43mresult\u001b[49m)\n",
      "\u001b[0;31mNameError\u001b[0m: name 'result' is not defined"
     ]
    }
   ],
   "source": [
    "json.dumps(result)"
   ]
  },
  {
   "cell_type": "code",
   "execution_count": 41,
   "id": "abd91b5d",
   "metadata": {},
   "outputs": [
    {
     "name": "stdout",
     "output_type": "stream",
     "text": [
      "2021-11-08 20:27:19,189 INFO sqlalchemy.engine.Engine SELECT winners.\"index\" AS winners_index, winners.category AS winners_category, winners.country AS winners_country, winners.date_of_birth AS winners_date_of_birth, winners.date_of_death AS winners_date_of_death, winners.gender AS winners_gender, winners.link AS winners_link, winners.name AS winners_name, winners.place_of_birth AS winners_place_of_birth, winners.place_of_death AS winners_place_of_death, winners.text AS winners_text, winners.year AS winners_year, winners.award_age AS winners_award_age, winners.born_in AS winners_born_in \n",
      "FROM winners \n",
      "WHERE winners.country = ? AND winners.category = ?\n",
      "2021-11-08 20:27:19,193 INFO sqlalchemy.engine.Engine [cached since 7.098s ago] ('France', 'Physics')\n"
     ]
    },
    {
     "data": {
      "text/plain": [
       "[<Winner(name='Alfred Kastler', category='Physics', year='1966')>,\n",
       " <Winner(name='Pierre Curie', category='Physics', year='1903')>,\n",
       " <Winner(name='Antoine Henri Becquerel', category='Physics', year='1903')>,\n",
       " <Winner(name='Gabriel Lippmann', category='Physics', year='1908')>,\n",
       " <Winner(name='Jean-Baptiste Perrin', category='Physics', year='1926')>,\n",
       " <Winner(name='Louis de Broglie', category='Physics', year='1929')>,\n",
       " <Winner(name='Louis Néel', category='Physics', year='1970')>,\n",
       " <Winner(name='Pierre-Gilles de Gennes', category='Physics', year='1991')>,\n",
       " <Winner(name='Georges Charpak', category='Physics', year='1992')>,\n",
       " <Winner(name='Claude Cohen-Tannoudji', category='Physics', year='1997')>,\n",
       " <Winner(name='Albert Fert', category='Physics', year='2007')>,\n",
       " <Winner(name='Serge Haroche', category='Physics', year='2012')>]"
      ]
     },
     "execution_count": 41,
     "metadata": {},
     "output_type": "execute_result"
    }
   ],
   "source": [
    "result.all()"
   ]
  },
  {
   "cell_type": "code",
   "execution_count": 43,
   "id": "b076f315",
   "metadata": {},
   "outputs": [
    {
     "name": "stdout",
     "output_type": "stream",
     "text": [
      "2021-11-08 20:27:50,490 INFO sqlalchemy.engine.Engine SELECT winners.\"index\" AS winners_index, winners.category AS winners_category, winners.country AS winners_country, winners.date_of_birth AS winners_date_of_birth, winners.date_of_death AS winners_date_of_death, winners.gender AS winners_gender, winners.link AS winners_link, winners.name AS winners_name, winners.place_of_birth AS winners_place_of_birth, winners.place_of_death AS winners_place_of_death, winners.text AS winners_text, winners.year AS winners_year, winners.award_age AS winners_award_age, winners.born_in AS winners_born_in \n",
      "FROM winners \n",
      "WHERE winners.country = ? AND winners.category = ?\n",
      "2021-11-08 20:27:50,494 INFO sqlalchemy.engine.Engine [cached since 38.4s ago] ('France', 'Physics')\n"
     ]
    },
    {
     "data": {
      "text/plain": [
       "'[{\"index\": 47, \"category\": \"Physics\", \"country\": \"France\", \"date_of_birth\": \"1902-05-03T00:00:00\", \"date_of_death\": \"1984-01-07T00:00:00\", \"gender\": \"male\", \"link\": \"http://en.wikipedia.org/wiki/Alfred_Kastler\", \"name\": \"Alfred Kastler\", \"place_of_birth\": \"Guebwiller\", \"place_of_death\": \"Bandol ,  France\", \"text\": \"Alfred Kastler , Physics, 1966\", \"year\": 1966, \"award_age\": 64, \"born_in\": null}, {\"index\": 911, \"category\": \"Physics\", \"country\": \"France\", \"date_of_birth\": \"1859-05-15T00:00:00\", \"date_of_death\": \"1906-04-19T00:00:00\", \"gender\": \"male\", \"link\": \"http://en.wikipedia.org/wiki/Pierre_Curie\", \"name\": \"Pierre Curie\", \"place_of_birth\": \"Paris, France\", \"place_of_death\": \"Paris, France\", \"text\": \"Pierre Curie , Physics, 1903\", \"year\": 1903, \"award_age\": 44, \"born_in\": null}, {\"index\": 912, \"category\": \"Physics\", \"country\": \"France\", \"date_of_birth\": \"1852-12-15T00:00:00\", \"date_of_death\": \"1908-08-25T00:00:00\", \"gender\": \"male\", \"link\": \"http://en.wikipedia.org/wiki/Henri_Becquerel\", \"name\": \"Antoine Henri Becquerel\", \"place_of_birth\": \"Paris, France\", \"place_of_death\": \"Le Croisic , Brittany, France\", \"text\": \"Antoine Henri Becquerel , Physics, 1903\", \"year\": 1903, \"award_age\": 51, \"born_in\": null}, {\"index\": 917, \"category\": \"Physics\", \"country\": \"France\", \"date_of_birth\": \"1845-08-16T00:00:00\", \"date_of_death\": \"1921-07-13T00:00:00\", \"gender\": \"male\", \"link\": \"http://en.wikipedia.org/wiki/Gabriel_Lippmann\", \"name\": \"Gabriel Lippmann\", \"place_of_birth\": \"Hollerich ,  Luxembourg\", \"place_of_death\": \"Atlantic Ocean, travelling from Canada to France\", \"text\": \"Gabriel Lippmann ,  born in Luxembourg , Physics, 1908\", \"year\": 1908, \"award_age\": 63, \"born_in\": \"Luxembourg\"}, {\"index\": 928, \"category\": \"Physics\", \"country\": \"France\", \"date_of_birth\": \"1870-09-30T00:00:00\", \"date_of_death\": \"1942-04-17T00:00:00\", \"gender\": \"male\", \"link\": \"http://en.wikipedia.org/wiki/Jean-Baptiste_Perrin\", \"name\": \"Jean-Baptiste Perrin\", \"place_of_birth\": \"Lille ,  France\", \"place_of_death\": \"New York City ,  USA\", \"text\": \"Jean-Baptiste Perrin , Physics, 1926\", \"year\": 1926, \"award_age\": 56, \"born_in\": null}, {\"index\": 933, \"category\": \"Physics\", \"country\": \"France\", \"date_of_birth\": \"1892-08-15T00:00:00\", \"date_of_death\": \"1987-03-19T00:00:00\", \"gender\": \"male\", \"link\": \"http://en.wikipedia.org/wiki/Louis_de_Broglie\", \"name\": \"Louis de Broglie\", \"place_of_birth\": \"Dieppe ,  France\", \"place_of_death\": \"Paris ,  France\", \"text\": \"Louis de Broglie , Physics, 1929\", \"year\": 1929, \"award_age\": 37, \"born_in\": null}, {\"index\": 936, \"category\": \"Physics\", \"country\": \"France\", \"date_of_birth\": \"1904-11-22T00:00:00\", \"date_of_death\": \"2000-11-17T00:00:00\", \"gender\": \"male\", \"link\": \"http://en.wikipedia.org/wiki/Louis_N%C3%A9el\", \"name\": \"Louis N\\\\u00e9el\", \"place_of_birth\": \"Lyon ,  France\", \"place_of_death\": \"Brive-la-Gaillarde\", \"text\": \"Louis N\\\\u00e9el , Physics, 1970\", \"year\": 1970, \"award_age\": 66, \"born_in\": null}, {\"index\": 944, \"category\": \"Physics\", \"country\": \"France\", \"date_of_birth\": \"1932-10-24T00:00:00\", \"date_of_death\": \"2007-05-18T00:00:00\", \"gender\": \"male\", \"link\": \"http://en.wikipedia.org/wiki/Pierre-Gilles_de_Gennes\", \"name\": \"Pierre-Gilles de Gennes\", \"place_of_birth\": \"Paris ,  France\", \"place_of_death\": \"Orsay ,  France\", \"text\": \"Pierre-Gilles de Gennes , Physics, 1991\", \"year\": 1991, \"award_age\": 59, \"born_in\": null}, {\"index\": 945, \"category\": \"Physics\", \"country\": \"France\", \"date_of_birth\": \"1924-03-08T00:00:00\", \"date_of_death\": \"2010-09-29T00:00:00\", \"gender\": \"male\", \"link\": \"http://en.wikipedia.org/wiki/Georges_Charpak\", \"name\": \"Georges Charpak\", \"place_of_birth\": \"D\\\\u0105browica ,  Poland  (now  Dubrovytsia ,  Ukraine )\", \"place_of_death\": \"Paris , France\", \"text\": \"Georges Charpak , Physics, 1992\", \"year\": 1992, \"award_age\": 68, \"born_in\": \"Ukraine\"}, {\"index\": 946, \"category\": \"Physics\", \"country\": \"France\", \"date_of_birth\": \"1933-04-01T00:00:00\", \"date_of_death\": null, \"gender\": \"male\", \"link\": \"http://en.wikipedia.org/wiki/Claude_Cohen-Tannoudji\", \"name\": \"Claude Cohen-Tannoudji\", \"place_of_birth\": \"Constantine ,  French Algeria\", \"place_of_death\": null, \"text\": \"Claude Cohen-Tannoudji ,  born in French Algeria , Physics, 1997\", \"year\": 1997, \"award_age\": 64, \"born_in\": null}, {\"index\": 950, \"category\": \"Physics\", \"country\": \"France\", \"date_of_birth\": \"1938-03-07T00:00:00\", \"date_of_death\": null, \"gender\": \"male\", \"link\": \"http://en.wikipedia.org/wiki/Albert_Fert\", \"name\": \"Albert Fert\", \"place_of_birth\": \"Carcassonne ,  France\", \"place_of_death\": null, \"text\": \"Albert Fert , Physics, 2007\", \"year\": 2007, \"award_age\": 69, \"born_in\": null}, {\"index\": 955, \"category\": \"Physics\", \"country\": \"France\", \"date_of_birth\": \"1944-09-11T00:00:00\", \"date_of_death\": null, \"gender\": \"male\", \"link\": \"http://en.wikipedia.org/wiki/Serge_Haroche\", \"name\": \"Serge Haroche\", \"place_of_birth\": \"Casablanca ,  Morocco  (then  a French protectorate )\", \"place_of_death\": null, \"text\": \"Serge Haroche ,  born in Morocco, then under French protectorate , Physics, 2012\", \"year\": 2012, \"award_age\": 68, \"born_in\": null}]'"
      ]
     },
     "execution_count": 43,
     "metadata": {},
     "output_type": "execute_result"
    }
   ],
   "source": [
    "json.dumps([winner.to_dict() for winner in result.all()], cls=DateTimeEncoder)"
   ]
  },
  {
   "cell_type": "code",
   "execution_count": null,
   "id": "3ff3043c",
   "metadata": {},
   "outputs": [],
   "source": []
  }
 ],
 "metadata": {
  "kernelspec": {
   "display_name": "Python 3 (ipykernel)",
   "language": "python",
   "name": "python3"
  },
  "language_info": {
   "codemirror_mode": {
    "name": "ipython",
    "version": 3
   },
   "file_extension": ".py",
   "mimetype": "text/x-python",
   "name": "python",
   "nbconvert_exporter": "python",
   "pygments_lexer": "ipython3",
   "version": "3.10.4"
  }
 },
 "nbformat": 4,
 "nbformat_minor": 5
}
