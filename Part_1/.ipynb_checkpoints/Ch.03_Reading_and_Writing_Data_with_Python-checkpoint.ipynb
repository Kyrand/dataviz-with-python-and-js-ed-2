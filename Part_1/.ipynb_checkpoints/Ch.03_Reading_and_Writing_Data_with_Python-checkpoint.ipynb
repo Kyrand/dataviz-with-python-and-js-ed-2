{
 "cells": [
  {
   "cell_type": "code",
   "execution_count": 1,
   "id": "ef3ed1b5",
   "metadata": {},
   "outputs": [],
   "source": [
    "nobel_winners = [\n",
    "{'category': 'Physics',\n",
    "'name': 'Albert Einstein',\n",
    "'nationality': 'Swiss',\n",
    "'gender': 'male',\n",
    "'year': 1921},\n",
    "{'category': 'Physics',\n",
    "'name': 'Paul Dirac',\n",
    "'nationality': 'British',\n",
    "'gender': 'male',\n",
    "'year': 1933},\n",
    "{'category': 'Chemistry',\n",
    "'name': 'Marie Curie',\n",
    "'nationality': 'Polish',\n",
    "'gender': 'female',\n",
    "'year': 1911}\n",
    "]"
   ]
  },
  {
   "cell_type": "markdown",
   "id": "f6cb676e",
   "metadata": {},
   "source": [
    "## Working with System Files"
   ]
  },
  {
   "cell_type": "code",
   "execution_count": 2,
   "id": "92b2f764",
   "metadata": {},
   "outputs": [
    {
     "ename": "FileNotFoundError",
     "evalue": "[Errno 2] No such file or directory: 'data/nobel_winners.csv'",
     "output_type": "error",
     "traceback": [
      "\u001b[0;31m---------------------------------------------------------------------------\u001b[0m",
      "\u001b[0;31mFileNotFoundError\u001b[0m                         Traceback (most recent call last)",
      "Input \u001b[0;32mIn [2]\u001b[0m, in \u001b[0;36m<cell line: 2>\u001b[0;34m()\u001b[0m\n\u001b[1;32m      1\u001b[0m \u001b[38;5;66;03m# open a local file in write (w) mode\u001b[39;00m\n\u001b[0;32m----> 2\u001b[0m f \u001b[38;5;241m=\u001b[39m \u001b[38;5;28;43mopen\u001b[39;49m\u001b[43m(\u001b[49m\u001b[38;5;124;43m'\u001b[39;49m\u001b[38;5;124;43mdata/nobel_winners.csv\u001b[39;49m\u001b[38;5;124;43m'\u001b[39;49m\u001b[43m,\u001b[49m\u001b[43m \u001b[49m\u001b[38;5;124;43m'\u001b[39;49m\u001b[38;5;124;43mw\u001b[39;49m\u001b[38;5;124;43m'\u001b[39;49m\u001b[43m)\u001b[49m\n",
      "\u001b[0;31mFileNotFoundError\u001b[0m: [Errno 2] No such file or directory: 'data/nobel_winners.csv'"
     ]
    }
   ],
   "source": [
    "# open a local file in write (w) mode\n",
    "f = open('data/nobel_winners.csv', 'w')"
   ]
  },
  {
   "cell_type": "code",
   "execution_count": null,
   "id": "600a4cc9",
   "metadata": {},
   "outputs": [],
   "source": [
    "# write the nobel_winners array of dicts to the file\n",
    "cols = nobel_winners[0].keys()\n",
    "cols = sorted(cols)\n",
    "with open('data/nobel_winners.csv', 'w') as f:\n",
    "    f.write(','.join(cols) + '\\n')\n",
    "    for o in nobel_winners:\n",
    "        row = [str(o[col]) for col in cols]\n",
    "        f.write(','.join(row) + '\\n')"
   ]
  },
  {
   "cell_type": "code",
   "execution_count": 67,
   "id": "9129f296",
   "metadata": {},
   "outputs": [
    {
     "name": "stdout",
     "output_type": "stream",
     "text": [
      "category,name,nationality,sex,year\n",
      "\n",
      "Physics,Albert Einstein,Swiss,male,1921\n",
      "\n",
      "Physics,Paul Dirac,British,male,1933\n",
      "\n",
      "Chemistry,Marie Curie,Polish,female,1911\n",
      "\n"
     ]
    }
   ],
   "source": [
    "with open('data/nobel_winners.csv') as f:\n",
    "    for line in f.readlines():\n",
    "        print(line)"
   ]
  },
  {
   "cell_type": "markdown",
   "id": "1c123788",
   "metadata": {},
   "source": [
    "## CSV, TSV, and Row-Column Data Formats"
   ]
  },
  {
   "cell_type": "code",
   "execution_count": 68,
   "id": "4bedeed6",
   "metadata": {},
   "outputs": [],
   "source": [
    "import csv\n",
    "with open('data/nobel_winners.csv', 'w') as f:\n",
    "    fieldnames = nobel_winners[0].keys()\n",
    "    fieldnames = sorted(fieldnames)\n",
    "    writer = csv.DictWriter(f, fieldnames=fieldnames)\n",
    "    writer.writeheader()\n",
    "    for w in nobel_winners:\n",
    "        writer.writerow(w)"
   ]
  },
  {
   "cell_type": "code",
   "execution_count": 69,
   "id": "2c102379",
   "metadata": {},
   "outputs": [
    {
     "name": "stdout",
     "output_type": "stream",
     "text": [
      "['category', 'name', 'nationality', 'sex', 'year']\n",
      "['Physics', 'Albert Einstein', 'Swiss', 'male', '1921']\n",
      "['Physics', 'Paul Dirac', 'British', 'male', '1933']\n",
      "['Chemistry', 'Marie Curie', 'Polish', 'female', '1911']\n"
     ]
    }
   ],
   "source": [
    "with open('data/nobel_winners.csv') as f:\n",
    "    reader = csv.reader(f)\n",
    "    for row in reader:\n",
    "        print(row)"
   ]
  },
  {
   "cell_type": "code",
   "execution_count": 70,
   "id": "b820a72b",
   "metadata": {},
   "outputs": [
    {
     "data": {
      "text/plain": [
       "[{'category': 'Physics',\n",
       "  'name': 'Albert Einstein',\n",
       "  'nationality': 'Swiss',\n",
       "  'sex': 'male',\n",
       "  'year': '1921'},\n",
       " {'category': 'Physics',\n",
       "  'name': 'Paul Dirac',\n",
       "  'nationality': 'British',\n",
       "  'sex': 'male',\n",
       "  'year': '1933'},\n",
       " {'category': 'Chemistry',\n",
       "  'name': 'Marie Curie',\n",
       "  'nationality': 'Polish',\n",
       "  'sex': 'female',\n",
       "  'year': '1911'}]"
      ]
     },
     "execution_count": 70,
     "metadata": {},
     "output_type": "execute_result"
    }
   ],
   "source": [
    "# Using the DictReader to work with arrays of dicts..\n",
    "import csv\n",
    "\n",
    "with open('data/nobel_winners.csv') as f:\n",
    "    reader = csv.DictReader(f)\n",
    "    nobel_winners = list(reader)\n",
    "    \n",
    "nobel_winners"
   ]
  },
  {
   "cell_type": "code",
   "execution_count": 71,
   "id": "481cba09",
   "metadata": {},
   "outputs": [
    {
     "data": {
      "text/plain": [
       "[{'category': 'Physics',\n",
       "  'name': 'Albert Einstein',\n",
       "  'nationality': 'Swiss',\n",
       "  'sex': 'male',\n",
       "  'year': 1921},\n",
       " {'category': 'Physics',\n",
       "  'name': 'Paul Dirac',\n",
       "  'nationality': 'British',\n",
       "  'sex': 'male',\n",
       "  'year': 1933},\n",
       " {'category': 'Chemistry',\n",
       "  'name': 'Marie Curie',\n",
       "  'nationality': 'Polish',\n",
       "  'sex': 'female',\n",
       "  'year': 1911}]"
      ]
     },
     "execution_count": 71,
     "metadata": {},
     "output_type": "execute_result"
    }
   ],
   "source": [
    "for w in nobel_winners:\n",
    "    w['year'] = int(w['year'])\n",
    "    \n",
    "nobel_winners"
   ]
  },
  {
   "cell_type": "code",
   "execution_count": 72,
   "id": "456b02e2",
   "metadata": {},
   "outputs": [],
   "source": [
    "from datetime import datetime"
   ]
  },
  {
   "cell_type": "code",
   "execution_count": 73,
   "id": "c7a91223",
   "metadata": {},
   "outputs": [
    {
     "data": {
      "text/plain": [
       "datetime.datetime(1947, 1, 1, 0, 0)"
      ]
     },
     "execution_count": 73,
     "metadata": {},
     "output_type": "execute_result"
    }
   ],
   "source": [
    "# We can easily create a Python DateTime from the year column\n",
    "dt = datetime.strptime('1947', '%Y')\n",
    "dt"
   ]
  },
  {
   "cell_type": "markdown",
   "id": "97dce827",
   "metadata": {},
   "source": [
    "## JSON"
   ]
  },
  {
   "cell_type": "code",
   "execution_count": 74,
   "id": "073c51a1",
   "metadata": {},
   "outputs": [
    {
     "data": {
      "text/plain": [
       "'[{\"category\": \"Physics\", \"name\": \"Albert Einstein\", \"nationality\": \"Swiss\", \"sex\": \"male\", \"year\": 1921}, {\"category\": \"Physics\", \"name\": \"Paul Dirac\", \"nationality\": \"British\", \"sex\": \"male\", \"year\": 1933}, {\"category\": \"Chemistry\", \"name\": \"Marie Curie\", \"nationality\": \"Polish\", \"sex\": \"female\", \"year\": 1911}]'"
      ]
     },
     "execution_count": 74,
     "metadata": {},
     "output_type": "execute_result"
    }
   ],
   "source": [
    "import json\n",
    "\n",
    "with open('data/nobel_winners.json', 'w') as f:\n",
    "    json.dump(nobel_winners, f)\n",
    "    \n",
    "open('data/nobel_winners.json').read()"
   ]
  },
  {
   "cell_type": "code",
   "execution_count": 75,
   "id": "333a4750",
   "metadata": {},
   "outputs": [
    {
     "data": {
      "text/plain": [
       "[{'category': 'Physics',\n",
       "  'name': 'Albert Einstein',\n",
       "  'nationality': 'Swiss',\n",
       "  'sex': 'male',\n",
       "  'year': 1921},\n",
       " {'category': 'Physics',\n",
       "  'name': 'Paul Dirac',\n",
       "  'nationality': 'British',\n",
       "  'sex': 'male',\n",
       "  'year': 1933},\n",
       " {'category': 'Chemistry',\n",
       "  'name': 'Marie Curie',\n",
       "  'nationality': 'Polish',\n",
       "  'sex': 'female',\n",
       "  'year': 1911}]"
      ]
     },
     "execution_count": 75,
     "metadata": {},
     "output_type": "execute_result"
    }
   ],
   "source": [
    "import json\n",
    "\n",
    "with open('data/nobel_winners.json') as f:\n",
    "    nobel_winners = json.load(f)\n",
    "    \n",
    "nobel_winners"
   ]
  },
  {
   "cell_type": "markdown",
   "id": "331d8e90",
   "metadata": {},
   "source": [
    "## Dealing with Dates and Times"
   ]
  },
  {
   "cell_type": "code",
   "execution_count": 76,
   "id": "051c7721",
   "metadata": {},
   "outputs": [],
   "source": [
    "## This will produce a TypeError if run\n",
    "#from datetime import datetime\n",
    "\n",
    "#json.dumps(datetime.now())\n",
    "\n",
    "## Out: \n",
    "# ---------------------------------------------------------------------------\n",
    "# TypeError                                 Traceback (most recent call last)\n",
    "# [...]\n",
    "# --> 179         raise TypeError(f'Object of type {o.__class__.__name__} '\n",
    "#     180                         f'is not JSON serializable')\n",
    "#     181 \n",
    "\n",
    "# TypeError: Object of type datetime is not JSON serializable"
   ]
  },
  {
   "cell_type": "code",
   "execution_count": 77,
   "id": "188ec25b",
   "metadata": {},
   "outputs": [],
   "source": [
    "import datetime\n",
    "from dateutil import parser\n",
    "import json\n",
    "\n",
    "\n",
    "class JSONDateTimeEncoder(json.JSONEncoder):\n",
    "    def default(self, obj):\n",
    "        if isinstance(obj, (datetime.date, datetime.datetime)):\n",
    "            return obj.isoformat()\n",
    "        else:\n",
    "            return json.JSONEncoder.default(self, obj)\n",
    "        \n",
    "def dumps(obj):\n",
    "    return json.dumps(obj, cls=JSONDateTimeEncoder)"
   ]
  },
  {
   "cell_type": "code",
   "execution_count": 78,
   "id": "ce1bc334",
   "metadata": {},
   "outputs": [
    {
     "data": {
      "text/plain": [
       "'{\"time\": \"2022-07-27T15:23:57.561746\"}'"
      ]
     },
     "execution_count": 78,
     "metadata": {},
     "output_type": "execute_result"
    }
   ],
   "source": [
    "now_str = dumps({'time': datetime.datetime.now()})\n",
    "now_str"
   ]
  },
  {
   "cell_type": "code",
   "execution_count": 79,
   "id": "98fa8d19",
   "metadata": {},
   "outputs": [
    {
     "data": {
      "text/plain": [
       "datetime.datetime(2021, 1, 1, 12, 32, 11)"
      ]
     },
     "execution_count": 79,
     "metadata": {},
     "output_type": "execute_result"
    }
   ],
   "source": [
    "from datetime import datetime\n",
    "\n",
    "time_str = '2021/01/01 12:32:11'\n",
    "dt = datetime.strptime(time_str, '%Y/%m/%d %H:%M:%S')\n",
    "dt"
   ]
  },
  {
   "cell_type": "code",
   "execution_count": 80,
   "id": "892d069c",
   "metadata": {
    "scrolled": true
   },
   "outputs": [],
   "source": [
    "## This will throw an error if run\n",
    "\n",
    "# dt = datetime.strptime('1/2/2021 12:32:11', '%Y/%m/%d %H:%M:%S')\n",
    "\n",
    "# ---------------------------------------------------------------------------\n",
    "# ValueError                                Traceback (most recent call last)\n",
    "# /tmp/ipykernel_12021/1902707829.py in <module>\n",
    "# ----> 1 dt = datetime.strptime('1/2/2021 12:32:11', '%Y/%m/%d %H:%M:%S')\n",
    "\n",
    "# /usr/lib/python3.8/_strptime.py in _strptime_datetime(cls, data_string, format)\n",
    "#     566     \"\"\"Return a class cls instance based on the input string and the\n",
    "#     567     format string.\"\"\"\n",
    "# --> 568     tt, fraction, gmtoff_fraction = _strptime(data_string, format)\n",
    "#     569     tzname, gmtoff = tt[-2:]\n",
    "#     570     args = tt[:6] + (fraction,)\n",
    "\n",
    "# /usr/lib/python3.8/_strptime.py in _strptime(data_string, format)\n",
    "#     347     found = format_regex.match(data_string)\n",
    "#     348     if not found:\n",
    "# --> 349         raise ValueError(\"time data %r does not match format %r\" %\n",
    "#     350                          (data_string, format))\n",
    "#     351     if len(data_string) != found.end():\n",
    "\n",
    "# ValueError: time data '1/2/2021 12:32:11' does not match format '%Y/%m/%d %H:%M:%S'"
   ]
  },
  {
   "cell_type": "code",
   "execution_count": 81,
   "id": "e230ab19",
   "metadata": {},
   "outputs": [
    {
     "name": "stdout",
     "output_type": "stream",
     "text": [
      "Oops! - invalid date for {'id': 2, 'date': '2021/23/12 09:22:30'}\n"
     ]
    }
   ],
   "source": [
    "data = [\n",
    "    {'id': 0, 'date': '2020/02/23 12:59:05'},\n",
    "    {'id': 1, 'date': '2021/11/02 02:32:00'},\n",
    "    {'id': 2, 'date': '2021/23/12 09:22:30'},\n",
    "]\n",
    "\n",
    "for d in data:\n",
    "    try:\n",
    "        d['date'] = datetime.strptime(d['date'],\\\n",
    "        '%Y/%m/%d %H:%M:%S')\n",
    "    except ValueError:\n",
    "        print('Oops! - invalid date for ' + repr(d))"
   ]
  },
  {
   "cell_type": "markdown",
   "id": "3b7f63d4",
   "metadata": {},
   "source": [
    "## SQL"
   ]
  },
  {
   "cell_type": "markdown",
   "id": "24de42af",
   "metadata": {},
   "source": [
    "### Creating the Database Engine"
   ]
  },
  {
   "cell_type": "code",
   "execution_count": 82,
   "id": "b4359e0e",
   "metadata": {},
   "outputs": [],
   "source": [
    "from sqlalchemy import create_engine\n",
    "\n",
    "engine = create_engine('sqlite:///data/nobel_winners.db', echo=True)"
   ]
  },
  {
   "cell_type": "code",
   "execution_count": 83,
   "id": "b229fad6",
   "metadata": {},
   "outputs": [],
   "source": [
    "from sqlalchemy.ext.declarative import declarative_base\n",
    "\n",
    "Base = declarative_base()"
   ]
  },
  {
   "cell_type": "code",
   "execution_count": 84,
   "id": "5a5eaf72",
   "metadata": {},
   "outputs": [],
   "source": [
    "from sqlalchemy import Column, Integer, String, Enum\n",
    "\n",
    "class Winner(Base):\n",
    "    __tablename__ = 'winners'\n",
    "    id = Column(Integer, primary_key=True)\n",
    "    category = Column(String)\n",
    "    name = Column(String)\n",
    "    nationality = Column(String)\n",
    "    year = Column(Integer)\n",
    "    sex = Column(Enum('male', 'female'))\n",
    "    def __repr__(self):\n",
    "        return \"<Winner(name='%s', category='%s', year='%s')>\"\\\n",
    "%(self.name, self.category, self.year)"
   ]
  },
  {
   "cell_type": "code",
   "execution_count": 85,
   "id": "146edf70",
   "metadata": {},
   "outputs": [
    {
     "name": "stdout",
     "output_type": "stream",
     "text": [
      "2022-07-27 15:23:57,642 INFO sqlalchemy.engine.Engine BEGIN (implicit)\n",
      "2022-07-27 15:23:57,643 INFO sqlalchemy.engine.Engine PRAGMA main.table_info(\"winners\")\n",
      "2022-07-27 15:23:57,644 INFO sqlalchemy.engine.Engine [raw sql] ()\n",
      "2022-07-27 15:23:57,646 INFO sqlalchemy.engine.Engine PRAGMA temp.table_info(\"winners\")\n",
      "2022-07-27 15:23:57,647 INFO sqlalchemy.engine.Engine [raw sql] ()\n",
      "2022-07-27 15:23:57,650 INFO sqlalchemy.engine.Engine \n",
      "CREATE TABLE winners (\n",
      "\tid INTEGER NOT NULL, \n",
      "\tcategory VARCHAR, \n",
      "\tname VARCHAR, \n",
      "\tnationality VARCHAR, \n",
      "\tyear INTEGER, \n",
      "\tsex VARCHAR(6), \n",
      "\tPRIMARY KEY (id)\n",
      ")\n",
      "\n",
      "\n",
      "2022-07-27 15:23:57,652 INFO sqlalchemy.engine.Engine [no key 0.00263s] ()\n",
      "2022-07-27 15:23:57,660 INFO sqlalchemy.engine.Engine COMMIT\n"
     ]
    }
   ],
   "source": [
    "Base.metadata.create_all(engine)"
   ]
  },
  {
   "cell_type": "code",
   "execution_count": 86,
   "id": "7d8eacb2",
   "metadata": {},
   "outputs": [],
   "source": [
    "from sqlalchemy.ext.declarative import declarative_base\n",
    "from sqlalchemy.orm import sessionmaker\n",
    "\n",
    "def make_winners_database():\n",
    "\n",
    "    from sqlalchemy import create_engine\n",
    "\n",
    "    engine = create_engine('sqlite:///data/nobel_winners.db', echo=True)\n",
    "    \n",
    "    Base = declarative_base()\n",
    "\n",
    "    from sqlalchemy import Column, Integer, String, Enum\n",
    "\n",
    "    class Winner(Base):\n",
    "        __tablename__ = 'winners'\n",
    "        id = Column(Integer, primary_key=True)\n",
    "        category = Column(String)\n",
    "        name = Column(String)\n",
    "        nationality = Column(String)\n",
    "        year = Column(Integer)\n",
    "        sex = Column(Enum('male', 'female'))\n",
    "        def __repr__(self):\n",
    "            return \"<Winner(name='%s', category='%s', year='%s')>\"\\\n",
    "    %(self.name, self.category, self.year)\n",
    "    \n",
    "    Base.metadata.create_all(engine)\n",
    "    \n",
    "    Session = sessionmaker(bind=engine)\n",
    "    session = Session()\n",
    "    # delete any existing winners:\n",
    "    session.query(Winner).delete()\n",
    "    winner_rows = [Winner(**w) for w in nobel_winners]\n",
    "    session.add_all(winner_rows)\n",
    "    session.commit()    "
   ]
  },
  {
   "cell_type": "code",
   "execution_count": 87,
   "id": "9ab2a655",
   "metadata": {},
   "outputs": [
    {
     "name": "stdout",
     "output_type": "stream",
     "text": [
      "2022-07-27 15:23:57,707 INFO sqlalchemy.engine.Engine BEGIN (implicit)\n",
      "2022-07-27 15:23:57,709 INFO sqlalchemy.engine.Engine PRAGMA main.table_info(\"winners\")\n",
      "2022-07-27 15:23:57,711 INFO sqlalchemy.engine.Engine [raw sql] ()\n",
      "2022-07-27 15:23:57,713 INFO sqlalchemy.engine.Engine COMMIT\n",
      "2022-07-27 15:23:57,718 INFO sqlalchemy.engine.Engine BEGIN (implicit)\n",
      "2022-07-27 15:23:57,719 INFO sqlalchemy.engine.Engine DELETE FROM winners\n",
      "2022-07-27 15:23:57,721 INFO sqlalchemy.engine.Engine [generated in 0.00126s] ()\n",
      "2022-07-27 15:23:57,725 INFO sqlalchemy.engine.Engine INSERT INTO winners (category, name, nationality, year, sex) VALUES (?, ?, ?, ?, ?)\n",
      "2022-07-27 15:23:57,726 INFO sqlalchemy.engine.Engine [generated in 0.00129s] ('Physics', 'Albert Einstein', 'Swiss', 1921, 'male')\n",
      "2022-07-27 15:23:57,728 INFO sqlalchemy.engine.Engine INSERT INTO winners (category, name, nationality, year, sex) VALUES (?, ?, ?, ?, ?)\n",
      "2022-07-27 15:23:57,729 INFO sqlalchemy.engine.Engine [cached since 0.00434s ago] ('Physics', 'Paul Dirac', 'British', 1933, 'male')\n",
      "2022-07-27 15:23:57,731 INFO sqlalchemy.engine.Engine INSERT INTO winners (category, name, nationality, year, sex) VALUES (?, ?, ?, ?, ?)\n",
      "2022-07-27 15:23:57,732 INFO sqlalchemy.engine.Engine [cached since 0.007618s ago] ('Chemistry', 'Marie Curie', 'Polish', 1911, 'female')\n",
      "2022-07-27 15:23:57,734 INFO sqlalchemy.engine.Engine COMMIT\n"
     ]
    }
   ],
   "source": [
    "make_winners_database()"
   ]
  },
  {
   "cell_type": "markdown",
   "id": "1f265ed9",
   "metadata": {},
   "source": [
    "## Adding Instances with a Session"
   ]
  },
  {
   "cell_type": "code",
   "execution_count": 88,
   "id": "74de1b1f",
   "metadata": {},
   "outputs": [
    {
     "name": "stdout",
     "output_type": "stream",
     "text": [
      "2022-07-27 15:23:57,758 INFO sqlalchemy.engine.Engine BEGIN (implicit)\n",
      "2022-07-27 15:23:57,760 INFO sqlalchemy.engine.Engine DELETE FROM winners\n",
      "2022-07-27 15:23:57,762 INFO sqlalchemy.engine.Engine [generated in 0.00130s] ()\n"
     ]
    },
    {
     "data": {
      "text/plain": [
       "3"
      ]
     },
     "execution_count": 88,
     "metadata": {},
     "output_type": "execute_result"
    }
   ],
   "source": [
    "from sqlalchemy.orm import sessionmaker\n",
    "\n",
    "Session = sessionmaker(bind=engine)\n",
    "session = Session()\n",
    "\n",
    "# delete any existing winners fromt the table\n",
    "session.query(Winner).delete()"
   ]
  },
  {
   "cell_type": "code",
   "execution_count": 89,
   "id": "06eaca9d",
   "metadata": {},
   "outputs": [
    {
     "data": {
      "text/plain": [
       "IdentitySet([<Winner(name='Albert Einstein', category='Physics', year='1921')>])"
      ]
     },
     "execution_count": 89,
     "metadata": {},
     "output_type": "execute_result"
    }
   ],
   "source": [
    "albert = Winner(**nobel_winners[0])\n",
    "session.add(albert)\n",
    "session.new"
   ]
  },
  {
   "cell_type": "code",
   "execution_count": 90,
   "id": "3b2eb86f",
   "metadata": {},
   "outputs": [
    {
     "data": {
      "text/plain": [
       "IdentitySet([])"
      ]
     },
     "execution_count": 90,
     "metadata": {},
     "output_type": "execute_result"
    }
   ],
   "source": [
    "session.expunge(albert)\n",
    "session.new"
   ]
  },
  {
   "cell_type": "code",
   "execution_count": 91,
   "id": "118bce8d",
   "metadata": {},
   "outputs": [
    {
     "name": "stdout",
     "output_type": "stream",
     "text": [
      "2022-07-27 15:23:57,798 INFO sqlalchemy.engine.Engine INSERT INTO winners (category, name, nationality, year, sex) VALUES (?, ?, ?, ?, ?)\n",
      "2022-07-27 15:23:57,800 INFO sqlalchemy.engine.Engine [generated in 0.00215s] ('Physics', 'Albert Einstein', 'Swiss', 1921, 'male')\n",
      "2022-07-27 15:23:57,802 INFO sqlalchemy.engine.Engine INSERT INTO winners (category, name, nationality, year, sex) VALUES (?, ?, ?, ?, ?)\n",
      "2022-07-27 15:23:57,803 INFO sqlalchemy.engine.Engine [cached since 0.005433s ago] ('Physics', 'Paul Dirac', 'British', 1933, 'male')\n",
      "2022-07-27 15:23:57,805 INFO sqlalchemy.engine.Engine INSERT INTO winners (category, name, nationality, year, sex) VALUES (?, ?, ?, ?, ?)\n",
      "2022-07-27 15:23:57,806 INFO sqlalchemy.engine.Engine [cached since 0.008087s ago] ('Chemistry', 'Marie Curie', 'Polish', 1911, 'female')\n",
      "2022-07-27 15:23:57,807 INFO sqlalchemy.engine.Engine COMMIT\n"
     ]
    }
   ],
   "source": [
    "winner_rows = [Winner(**w) for w in nobel_winners]\n",
    "session.add_all(winner_rows)\n",
    "session.commit()"
   ]
  },
  {
   "cell_type": "markdown",
   "id": "93b7bee0",
   "metadata": {},
   "source": [
    "## Querying the Database"
   ]
  },
  {
   "cell_type": "code",
   "execution_count": 92,
   "id": "fa95bb14",
   "metadata": {},
   "outputs": [
    {
     "name": "stdout",
     "output_type": "stream",
     "text": [
      "2022-07-27 15:23:57,825 INFO sqlalchemy.engine.Engine BEGIN (implicit)\n",
      "2022-07-27 15:23:57,829 INFO sqlalchemy.engine.Engine SELECT count(*) AS count_1 \n",
      "FROM (SELECT winners.id AS winners_id, winners.category AS winners_category, winners.name AS winners_name, winners.nationality AS winners_nationality, winners.year AS winners_year, winners.sex AS winners_sex \n",
      "FROM winners) AS anon_1\n",
      "2022-07-27 15:23:57,831 INFO sqlalchemy.engine.Engine [generated in 0.00112s] ()\n"
     ]
    },
    {
     "data": {
      "text/plain": [
       "3"
      ]
     },
     "execution_count": 92,
     "metadata": {},
     "output_type": "execute_result"
    }
   ],
   "source": [
    "session.query(Winner).count()"
   ]
  },
  {
   "cell_type": "code",
   "execution_count": 93,
   "id": "aadff781",
   "metadata": {},
   "outputs": [
    {
     "name": "stdout",
     "output_type": "stream",
     "text": [
      "2022-07-27 15:23:57,844 INFO sqlalchemy.engine.Engine SELECT winners.id AS winners_id, winners.category AS winners_category, winners.name AS winners_name, winners.nationality AS winners_nationality, winners.year AS winners_year, winners.sex AS winners_sex \n",
      "FROM winners \n",
      "WHERE winners.nationality = ?\n",
      "2022-07-27 15:23:57,846 INFO sqlalchemy.engine.Engine [generated in 0.00131s] ('Swiss',)\n"
     ]
    },
    {
     "data": {
      "text/plain": [
       "[<Winner(name='Albert Einstein', category='Physics', year='1921')>]"
      ]
     },
     "execution_count": 93,
     "metadata": {},
     "output_type": "execute_result"
    }
   ],
   "source": [
    "result = session.query(Winner).filter_by(nationality='Swiss')\n",
    "list(result)"
   ]
  },
  {
   "cell_type": "code",
   "execution_count": 94,
   "id": "0eaad818",
   "metadata": {},
   "outputs": [
    {
     "name": "stdout",
     "output_type": "stream",
     "text": [
      "2022-07-27 15:23:57,862 INFO sqlalchemy.engine.Engine SELECT winners.id AS winners_id, winners.category AS winners_category, winners.name AS winners_name, winners.nationality AS winners_nationality, winners.year AS winners_year, winners.sex AS winners_sex \n",
      "FROM winners \n",
      "WHERE winners.category = ? AND winners.nationality != ?\n",
      "2022-07-27 15:23:57,863 INFO sqlalchemy.engine.Engine [generated in 0.00148s] ('Physics', 'Swiss')\n"
     ]
    },
    {
     "data": {
      "text/plain": [
       "[<Winner(name='Paul Dirac', category='Physics', year='1933')>]"
      ]
     },
     "execution_count": 94,
     "metadata": {},
     "output_type": "execute_result"
    }
   ],
   "source": [
    "result = session.query(Winner).filter(\\\n",
    "Winner.category == 'Physics', \\\n",
    "Winner.nationality != 'Swiss')\n",
    "list(result)"
   ]
  },
  {
   "cell_type": "code",
   "execution_count": 95,
   "id": "1757c67c",
   "metadata": {},
   "outputs": [
    {
     "name": "stdout",
     "output_type": "stream",
     "text": [
      "2022-07-27 15:23:57,875 INFO sqlalchemy.engine.Engine SELECT winners.id AS winners_id, winners.category AS winners_category, winners.name AS winners_name, winners.nationality AS winners_nationality, winners.year AS winners_year, winners.sex AS winners_sex \n",
      "FROM winners \n",
      "WHERE winners.id = ?\n",
      "2022-07-27 15:23:57,878 INFO sqlalchemy.engine.Engine [generated in 0.00260s] (3,)\n"
     ]
    },
    {
     "data": {
      "text/plain": [
       "<Winner(name='Marie Curie', category='Chemistry', year='1911')>"
      ]
     },
     "execution_count": 95,
     "metadata": {},
     "output_type": "execute_result"
    }
   ],
   "source": [
    "session.query(Winner).get(3)"
   ]
  },
  {
   "cell_type": "code",
   "execution_count": 96,
   "id": "6b1d3f09",
   "metadata": {},
   "outputs": [
    {
     "name": "stdout",
     "output_type": "stream",
     "text": [
      "2022-07-27 15:23:57,891 INFO sqlalchemy.engine.Engine SELECT winners.id AS winners_id, winners.category AS winners_category, winners.name AS winners_name, winners.nationality AS winners_nationality, winners.year AS winners_year, winners.sex AS winners_sex \n",
      "FROM winners ORDER BY winners.year\n",
      "2022-07-27 15:23:57,894 INFO sqlalchemy.engine.Engine [generated in 0.00308s] ()\n"
     ]
    },
    {
     "data": {
      "text/plain": [
       "[<Winner(name='Marie Curie', category='Chemistry', year='1911')>,\n",
       " <Winner(name='Albert Einstein', category='Physics', year='1921')>,\n",
       " <Winner(name='Paul Dirac', category='Physics', year='1933')>]"
      ]
     },
     "execution_count": 96,
     "metadata": {},
     "output_type": "execute_result"
    }
   ],
   "source": [
    "res = session.query(Winner).order_by('year')\n",
    "list(res)"
   ]
  },
  {
   "cell_type": "code",
   "execution_count": 97,
   "id": "54d771fc",
   "metadata": {},
   "outputs": [],
   "source": [
    "def inst_to_dict(inst, delete_id=True):\n",
    "    dat = {}\n",
    "    for column in inst.__table__.columns:\n",
    "        dat[column.name] = getattr(inst, column.name)\n",
    "    if delete_id:\n",
    "        dat.pop('id')\n",
    "    return dat"
   ]
  },
  {
   "cell_type": "code",
   "execution_count": 98,
   "id": "c54445dc",
   "metadata": {},
   "outputs": [
    {
     "name": "stdout",
     "output_type": "stream",
     "text": [
      "2022-07-27 15:23:57,920 INFO sqlalchemy.engine.Engine SELECT winners.id AS winners_id, winners.category AS winners_category, winners.name AS winners_name, winners.nationality AS winners_nationality, winners.year AS winners_year, winners.sex AS winners_sex \n",
      "FROM winners\n",
      "2022-07-27 15:23:57,922 INFO sqlalchemy.engine.Engine [generated in 0.00195s] ()\n"
     ]
    },
    {
     "data": {
      "text/plain": [
       "[{'category': 'Physics',\n",
       "  'name': 'Albert Einstein',\n",
       "  'nationality': 'Swiss',\n",
       "  'year': 1921,\n",
       "  'sex': 'male'},\n",
       " {'category': 'Physics',\n",
       "  'name': 'Paul Dirac',\n",
       "  'nationality': 'British',\n",
       "  'year': 1933,\n",
       "  'sex': 'male'},\n",
       " {'category': 'Chemistry',\n",
       "  'name': 'Marie Curie',\n",
       "  'nationality': 'Polish',\n",
       "  'year': 1911,\n",
       "  'sex': 'female'}]"
      ]
     },
     "execution_count": 98,
     "metadata": {},
     "output_type": "execute_result"
    }
   ],
   "source": [
    "winner_rows = session.query(Winner)\n",
    "nobel_winners = [inst_to_dict(w) for w in winner_rows]\n",
    "nobel_winners"
   ]
  },
  {
   "cell_type": "code",
   "execution_count": 99,
   "id": "ecf355ad",
   "metadata": {},
   "outputs": [
    {
     "data": {
      "text/plain": [
       "IdentitySet([<Winner(name='Marie Curie', category='Chemistry', year='1911')>])"
      ]
     },
     "execution_count": 99,
     "metadata": {},
     "output_type": "execute_result"
    }
   ],
   "source": [
    "marie = session.query(Winner).get(3)\n",
    "marie.nationality = 'French'\n",
    "session.dirty"
   ]
  },
  {
   "cell_type": "code",
   "execution_count": 100,
   "id": "b8d2f563",
   "metadata": {},
   "outputs": [
    {
     "name": "stdout",
     "output_type": "stream",
     "text": [
      "2022-07-27 15:23:57,945 INFO sqlalchemy.engine.Engine UPDATE winners SET nationality=? WHERE winners.id = ?\n",
      "2022-07-27 15:23:57,946 INFO sqlalchemy.engine.Engine [generated in 0.00145s] ('French', 3)\n",
      "2022-07-27 15:23:57,947 INFO sqlalchemy.engine.Engine COMMIT\n"
     ]
    }
   ],
   "source": [
    "session.commit()"
   ]
  },
  {
   "cell_type": "code",
   "execution_count": 101,
   "id": "c1afee03",
   "metadata": {},
   "outputs": [
    {
     "data": {
      "text/plain": [
       "IdentitySet([])"
      ]
     },
     "execution_count": 101,
     "metadata": {},
     "output_type": "execute_result"
    }
   ],
   "source": [
    "session.dirty"
   ]
  },
  {
   "cell_type": "code",
   "execution_count": 102,
   "id": "12439078-e243-4e4d-8363-2a0ee097f7f0",
   "metadata": {},
   "outputs": [
    {
     "name": "stdout",
     "output_type": "stream",
     "text": [
      "2022-07-27 15:23:57,983 INFO sqlalchemy.engine.Engine BEGIN (implicit)\n",
      "2022-07-27 15:23:57,985 INFO sqlalchemy.engine.Engine SELECT winners.id AS winners_id, winners.category AS winners_category, winners.name AS winners_name, winners.nationality AS winners_nationality, winners.year AS winners_year, winners.sex AS winners_sex \n",
      "FROM winners \n",
      "WHERE winners.id = ?\n",
      "2022-07-27 15:23:57,986 INFO sqlalchemy.engine.Engine [cached since 0.1107s ago] (3,)\n"
     ]
    },
    {
     "data": {
      "text/plain": [
       "'French'"
      ]
     },
     "execution_count": 102,
     "metadata": {},
     "output_type": "execute_result"
    }
   ],
   "source": [
    "session.query(Winner).get(3).nationality"
   ]
  },
  {
   "cell_type": "code",
   "execution_count": 103,
   "id": "27df0766",
   "metadata": {},
   "outputs": [
    {
     "name": "stdout",
     "output_type": "stream",
     "text": [
      "2022-07-27 15:23:57,997 INFO sqlalchemy.engine.Engine DELETE FROM winners WHERE winners.name = ?\n",
      "2022-07-27 15:23:57,999 INFO sqlalchemy.engine.Engine [generated in 0.00159s] ('Albert Einstein',)\n"
     ]
    },
    {
     "data": {
      "text/plain": [
       "1"
      ]
     },
     "execution_count": 103,
     "metadata": {},
     "output_type": "execute_result"
    }
   ],
   "source": [
    "session.query(Winner).filter_by(name='Albert Einstein').delete()"
   ]
  },
  {
   "cell_type": "code",
   "execution_count": 104,
   "id": "85433700",
   "metadata": {},
   "outputs": [
    {
     "name": "stdout",
     "output_type": "stream",
     "text": [
      "2022-07-27 15:23:58,011 INFO sqlalchemy.engine.Engine SELECT winners.id AS winners_id, winners.category AS winners_category, winners.name AS winners_name, winners.nationality AS winners_nationality, winners.year AS winners_year, winners.sex AS winners_sex \n",
      "FROM winners\n",
      "2022-07-27 15:23:58,012 INFO sqlalchemy.engine.Engine [cached since 0.09212s ago] ()\n"
     ]
    },
    {
     "data": {
      "text/plain": [
       "[<Winner(name='Paul Dirac', category='Physics', year='1933')>,\n",
       " <Winner(name='Marie Curie', category='Chemistry', year='1911')>]"
      ]
     },
     "execution_count": 104,
     "metadata": {},
     "output_type": "execute_result"
    }
   ],
   "source": [
    "list(session.query(Winner))"
   ]
  },
  {
   "cell_type": "code",
   "execution_count": 105,
   "id": "ce7cb24f",
   "metadata": {},
   "outputs": [
    {
     "name": "stdout",
     "output_type": "stream",
     "text": [
      "2022-07-27 15:23:58,026 INFO sqlalchemy.engine.Engine COMMIT\n"
     ]
    }
   ],
   "source": [
    "session.commit()"
   ]
  },
  {
   "cell_type": "code",
   "execution_count": 106,
   "id": "67acb315",
   "metadata": {},
   "outputs": [
    {
     "name": "stdout",
     "output_type": "stream",
     "text": [
      "2022-07-27 15:23:58,045 INFO sqlalchemy.engine.Engine BEGIN (implicit)\n",
      "2022-07-27 15:23:58,047 INFO sqlalchemy.engine.Engine \n",
      "DROP TABLE winners\n",
      "2022-07-27 15:23:58,048 INFO sqlalchemy.engine.Engine [no key 0.00121s] ()\n",
      "2022-07-27 15:23:58,063 INFO sqlalchemy.engine.Engine COMMIT\n"
     ]
    }
   ],
   "source": [
    "Winner.__table__.drop(engine)"
   ]
  },
  {
   "cell_type": "markdown",
   "id": "d53800a0-3570-43dd-b162-678cad41b621",
   "metadata": {},
   "source": [
    "### Easier SQL with Dataset"
   ]
  },
  {
   "cell_type": "code",
   "execution_count": 107,
   "id": "97dd0f9e",
   "metadata": {},
   "outputs": [],
   "source": [
    "import dataset\n",
    "db = dataset.connect('sqlite:///data/nobel_winners.db')"
   ]
  },
  {
   "cell_type": "code",
   "execution_count": 108,
   "id": "036411e1",
   "metadata": {},
   "outputs": [
    {
     "name": "stdout",
     "output_type": "stream",
     "text": [
      "2022-07-27 15:23:58,228 INFO sqlalchemy.engine.Engine BEGIN (implicit)\n",
      "2022-07-27 15:23:58,230 INFO sqlalchemy.engine.Engine PRAGMA main.table_info(\"winners\")\n",
      "2022-07-27 15:23:58,231 INFO sqlalchemy.engine.Engine [raw sql] ()\n",
      "2022-07-27 15:23:58,233 INFO sqlalchemy.engine.Engine PRAGMA temp.table_info(\"winners\")\n",
      "2022-07-27 15:23:58,234 INFO sqlalchemy.engine.Engine [raw sql] ()\n",
      "2022-07-27 15:23:58,236 INFO sqlalchemy.engine.Engine \n",
      "CREATE TABLE winners (\n",
      "\tid INTEGER NOT NULL, \n",
      "\tcategory VARCHAR, \n",
      "\tname VARCHAR, \n",
      "\tnationality VARCHAR, \n",
      "\tyear INTEGER, \n",
      "\tsex VARCHAR(6), \n",
      "\tPRIMARY KEY (id)\n",
      ")\n",
      "\n",
      "\n",
      "2022-07-27 15:23:58,237 INFO sqlalchemy.engine.Engine [no key 0.00088s] ()\n",
      "2022-07-27 15:23:58,248 INFO sqlalchemy.engine.Engine COMMIT\n",
      "2022-07-27 15:23:58,252 INFO sqlalchemy.engine.Engine BEGIN (implicit)\n",
      "2022-07-27 15:23:58,253 INFO sqlalchemy.engine.Engine DELETE FROM winners\n",
      "2022-07-27 15:23:58,254 INFO sqlalchemy.engine.Engine [generated in 0.00106s] ()\n",
      "2022-07-27 15:23:58,256 INFO sqlalchemy.engine.Engine INSERT INTO winners (category, name, nationality, year, sex) VALUES (?, ?, ?, ?, ?)\n",
      "2022-07-27 15:23:58,257 INFO sqlalchemy.engine.Engine [generated in 0.00100s] ('Physics', 'Albert Einstein', 'Swiss', 1921, 'male')\n",
      "2022-07-27 15:23:58,259 INFO sqlalchemy.engine.Engine INSERT INTO winners (category, name, nationality, year, sex) VALUES (?, ?, ?, ?, ?)\n",
      "2022-07-27 15:23:58,260 INFO sqlalchemy.engine.Engine [cached since 0.00334s ago] ('Physics', 'Paul Dirac', 'British', 1933, 'male')\n",
      "2022-07-27 15:23:58,261 INFO sqlalchemy.engine.Engine INSERT INTO winners (category, name, nationality, year, sex) VALUES (?, ?, ?, ?, ?)\n",
      "2022-07-27 15:23:58,263 INFO sqlalchemy.engine.Engine [cached since 0.006337s ago] ('Chemistry', 'Marie Curie', 'Polish', 1911, 'female')\n",
      "2022-07-27 15:23:58,264 INFO sqlalchemy.engine.Engine COMMIT\n"
     ]
    }
   ],
   "source": [
    "make_winners_database()"
   ]
  },
  {
   "cell_type": "code",
   "execution_count": 109,
   "id": "0aaa559b",
   "metadata": {},
   "outputs": [
    {
     "data": {
      "text/plain": [
       "[OrderedDict([('id', 1),\n",
       "              ('category', 'Physics'),\n",
       "              ('name', 'Albert Einstein'),\n",
       "              ('nationality', 'Swiss'),\n",
       "              ('year', 1921),\n",
       "              ('sex', 'male')]),\n",
       " OrderedDict([('id', 2),\n",
       "              ('category', 'Physics'),\n",
       "              ('name', 'Paul Dirac'),\n",
       "              ('nationality', 'British'),\n",
       "              ('year', 1933),\n",
       "              ('sex', 'male')]),\n",
       " OrderedDict([('id', 3),\n",
       "              ('category', 'Chemistry'),\n",
       "              ('name', 'Marie Curie'),\n",
       "              ('nationality', 'Polish'),\n",
       "              ('year', 1911),\n",
       "              ('sex', 'female')])]"
      ]
     },
     "execution_count": 109,
     "metadata": {},
     "output_type": "execute_result"
    }
   ],
   "source": [
    "wtable = db['winners']\n",
    "winners = wtable.find()\n",
    "winners = list(winners)\n",
    "winners"
   ]
  },
  {
   "cell_type": "code",
   "execution_count": 110,
   "id": "fc19b004",
   "metadata": {},
   "outputs": [
    {
     "data": {
      "text/plain": [
       "[]"
      ]
     },
     "execution_count": 110,
     "metadata": {},
     "output_type": "execute_result"
    }
   ],
   "source": [
    "wtable = db['winners']\n",
    "wtable.drop()\n",
    "wtable = db['winners']\n",
    "list(wtable.find())"
   ]
  },
  {
   "cell_type": "code",
   "execution_count": 111,
   "id": "b43cd2b2",
   "metadata": {},
   "outputs": [
    {
     "name": "stderr",
     "output_type": "stream",
     "text": [
      "/home/kyran/.virtualenvs/pyjsdv/lib/python3.10/site-packages/dataset/table.py:313: RuntimeWarning: Changing the database schema inside a transaction in a multi-threaded environment is likely to lead to race conditions and synchronization issues.\n",
      "  warnings.warn(\n"
     ]
    }
   ],
   "source": [
    "with db as tx:\n",
    "    tx['winners'].insert_many(nobel_winners)"
   ]
  },
  {
   "cell_type": "code",
   "execution_count": 112,
   "id": "48bbb032",
   "metadata": {},
   "outputs": [
    {
     "data": {
      "text/plain": [
       "[OrderedDict([('id', 1),\n",
       "              ('category', 'Physics'),\n",
       "              ('name', 'Albert Einstein'),\n",
       "              ('nationality', 'Swiss'),\n",
       "              ('year', 1921),\n",
       "              ('sex', 'male')]),\n",
       " OrderedDict([('id', 2),\n",
       "              ('category', 'Physics'),\n",
       "              ('name', 'Paul Dirac'),\n",
       "              ('nationality', 'British'),\n",
       "              ('year', 1933),\n",
       "              ('sex', 'male')]),\n",
       " OrderedDict([('id', 3),\n",
       "              ('category', 'Chemistry'),\n",
       "              ('name', 'Marie Curie'),\n",
       "              ('nationality', 'Polish'),\n",
       "              ('year', 1911),\n",
       "              ('sex', 'female')])]"
      ]
     },
     "execution_count": 112,
     "metadata": {},
     "output_type": "execute_result"
    }
   ],
   "source": [
    "list(db['winners'].find())"
   ]
  },
  {
   "cell_type": "markdown",
   "id": "91bf0919-1be0-4487-b6a7-c08db5fde7e0",
   "metadata": {},
   "source": [
    "### MongoDB"
   ]
  },
  {
   "cell_type": "code",
   "execution_count": 113,
   "id": "86deedd0",
   "metadata": {},
   "outputs": [],
   "source": [
    "from pymongo import MongoClient\n",
    "\n",
    "client = MongoClient()\n",
    "db = client.nobel_prize\n",
    "coll = db.winners"
   ]
  },
  {
   "cell_type": "code",
   "execution_count": 114,
   "id": "d9d7b7c9",
   "metadata": {},
   "outputs": [],
   "source": [
    "DB_NOBEL_PRIZE = 'nobel_prize'\n",
    "COLL_WINNERS = 'winners'"
   ]
  },
  {
   "cell_type": "code",
   "execution_count": 115,
   "id": "432f3ce5",
   "metadata": {},
   "outputs": [],
   "source": [
    "def get_mongo_database(db_name, host='localhost',\\\n",
    "    port=27017, username=None, password=None):\n",
    "    \"\"\" Get named database from MongoDB with/out authentication \"\"\"\n",
    "    # make Mongo connection with/out authentication\n",
    "    if username and password:\n",
    "        mongo_uri = 'mongodb://%s:%s@%s/%s'%\\\n",
    "        (username, password, host, db_name)\n",
    "        conn = MongoClient(mongo_uri)\n",
    "    else:\n",
    "        conn = MongoClient(host, port)\n",
    "    return conn[db_name]"
   ]
  },
  {
   "cell_type": "code",
   "execution_count": 116,
   "id": "0195131a",
   "metadata": {},
   "outputs": [],
   "source": [
    "db = get_mongo_database(DB_NOBEL_PRIZE)\n",
    "coll = db[COLL_WINNERS]"
   ]
  },
  {
   "cell_type": "code",
   "execution_count": 117,
   "id": "ca479c75",
   "metadata": {},
   "outputs": [
    {
     "ename": "ServerSelectionTimeoutError",
     "evalue": "localhost:27017: [Errno 111] Connection refused, Timeout: 30s, Topology Description: <TopologyDescription id: 62e14a7ed7521d8aee0f86fd, topology_type: Unknown, servers: [<ServerDescription ('localhost', 27017) server_type: Unknown, rtt: None, error=AutoReconnect('localhost:27017: [Errno 111] Connection refused')>]>",
     "output_type": "error",
     "traceback": [
      "\u001b[0;31m---------------------------------------------------------------------------\u001b[0m",
      "\u001b[0;31mServerSelectionTimeoutError\u001b[0m               Traceback (most recent call last)",
      "Input \u001b[0;32mIn [117]\u001b[0m, in \u001b[0;36m<cell line: 6>\u001b[0;34m()\u001b[0m\n\u001b[1;32m      1\u001b[0m \u001b[38;5;66;03m# delete existing winners from the collection\u001b[39;00m\n\u001b[1;32m      2\u001b[0m \u001b[38;5;66;03m# !NOTE! - if you get a PyMongo error like this:\u001b[39;00m\n\u001b[1;32m      3\u001b[0m \u001b[38;5;66;03m# ConfigurationError: Server at 127.0.0.1:27017 \u001b[39;00m\n\u001b[1;32m      4\u001b[0m \u001b[38;5;66;03m# reports wire version 0, but this version of PyMongo requires at least 2 (MongoDB 2.6)\u001b[39;00m\n\u001b[1;32m      5\u001b[0m \u001b[38;5;66;03m# try downgrading your PyMongo module with 'pip install pymongo==3.4.0'\u001b[39;00m\n\u001b[0;32m----> 6\u001b[0m \u001b[43mcoll\u001b[49m\u001b[38;5;241;43m.\u001b[39;49m\u001b[43mdrop\u001b[49m\u001b[43m(\u001b[49m\u001b[43m)\u001b[49m\n",
      "File \u001b[0;32m~/.virtualenvs/pyjsdv/lib/python3.10/site-packages/pymongo/collection.py:1192\u001b[0m, in \u001b[0;36mCollection.drop\u001b[0;34m(self, session, comment, encrypted_fields)\u001b[0m\n\u001b[1;32m   1158\u001b[0m \u001b[38;5;124;03m\"\"\"Alias for :meth:`~pymongo.database.Database.drop_collection`.\u001b[39;00m\n\u001b[1;32m   1159\u001b[0m \n\u001b[1;32m   1160\u001b[0m \u001b[38;5;124;03m:Parameters:\u001b[39;00m\n\u001b[0;32m   (...)\u001b[0m\n\u001b[1;32m   1183\u001b[0m \u001b[38;5;124;03m   Added ``session`` parameter.\u001b[39;00m\n\u001b[1;32m   1184\u001b[0m \u001b[38;5;124;03m\"\"\"\u001b[39;00m\n\u001b[1;32m   1185\u001b[0m dbo \u001b[38;5;241m=\u001b[39m \u001b[38;5;28mself\u001b[39m\u001b[38;5;241m.\u001b[39m__database\u001b[38;5;241m.\u001b[39mclient\u001b[38;5;241m.\u001b[39mget_database(\n\u001b[1;32m   1186\u001b[0m     \u001b[38;5;28mself\u001b[39m\u001b[38;5;241m.\u001b[39m__database\u001b[38;5;241m.\u001b[39mname,\n\u001b[1;32m   1187\u001b[0m     \u001b[38;5;28mself\u001b[39m\u001b[38;5;241m.\u001b[39mcodec_options,\n\u001b[0;32m   (...)\u001b[0m\n\u001b[1;32m   1190\u001b[0m     \u001b[38;5;28mself\u001b[39m\u001b[38;5;241m.\u001b[39mread_concern,\n\u001b[1;32m   1191\u001b[0m )\n\u001b[0;32m-> 1192\u001b[0m \u001b[43mdbo\u001b[49m\u001b[38;5;241;43m.\u001b[39;49m\u001b[43mdrop_collection\u001b[49m\u001b[43m(\u001b[49m\n\u001b[1;32m   1193\u001b[0m \u001b[43m    \u001b[49m\u001b[38;5;28;43mself\u001b[39;49m\u001b[38;5;241;43m.\u001b[39;49m\u001b[43m__name\u001b[49m\u001b[43m,\u001b[49m\u001b[43m \u001b[49m\u001b[43msession\u001b[49m\u001b[38;5;241;43m=\u001b[39;49m\u001b[43msession\u001b[49m\u001b[43m,\u001b[49m\u001b[43m \u001b[49m\u001b[43mcomment\u001b[49m\u001b[38;5;241;43m=\u001b[39;49m\u001b[43mcomment\u001b[49m\u001b[43m,\u001b[49m\u001b[43m \u001b[49m\u001b[43mencrypted_fields\u001b[49m\u001b[38;5;241;43m=\u001b[39;49m\u001b[43mencrypted_fields\u001b[49m\n\u001b[1;32m   1194\u001b[0m \u001b[43m\u001b[49m\u001b[43m)\u001b[49m\n",
      "File \u001b[0;32m~/.virtualenvs/pyjsdv/lib/python3.10/site-packages/pymongo/_csot.py:105\u001b[0m, in \u001b[0;36mapply.<locals>.csot_wrapper\u001b[0;34m(self, *args, **kwargs)\u001b[0m\n\u001b[1;32m    103\u001b[0m         \u001b[38;5;28;01mwith\u001b[39;00m _TimeoutContext(timeout):\n\u001b[1;32m    104\u001b[0m             \u001b[38;5;28;01mreturn\u001b[39;00m func(\u001b[38;5;28mself\u001b[39m, \u001b[38;5;241m*\u001b[39margs, \u001b[38;5;241m*\u001b[39m\u001b[38;5;241m*\u001b[39mkwargs)\n\u001b[0;32m--> 105\u001b[0m \u001b[38;5;28;01mreturn\u001b[39;00m \u001b[43mfunc\u001b[49m\u001b[43m(\u001b[49m\u001b[38;5;28;43mself\u001b[39;49m\u001b[43m,\u001b[49m\u001b[43m \u001b[49m\u001b[38;5;241;43m*\u001b[39;49m\u001b[43margs\u001b[49m\u001b[43m,\u001b[49m\u001b[43m \u001b[49m\u001b[38;5;241;43m*\u001b[39;49m\u001b[38;5;241;43m*\u001b[39;49m\u001b[43mkwargs\u001b[49m\u001b[43m)\u001b[49m\n",
      "File \u001b[0;32m~/.virtualenvs/pyjsdv/lib/python3.10/site-packages/pymongo/database.py:1061\u001b[0m, in \u001b[0;36mDatabase.drop_collection\u001b[0;34m(self, name_or_collection, session, comment, encrypted_fields)\u001b[0m\n\u001b[1;32m   1054\u001b[0m     \u001b[38;5;28mself\u001b[39m\u001b[38;5;241m.\u001b[39m_drop_helper(\n\u001b[1;32m   1055\u001b[0m         _ecc_coll_name(encrypted_fields, name), session\u001b[38;5;241m=\u001b[39msession, comment\u001b[38;5;241m=\u001b[39mcomment\n\u001b[1;32m   1056\u001b[0m     )\n\u001b[1;32m   1057\u001b[0m     \u001b[38;5;28mself\u001b[39m\u001b[38;5;241m.\u001b[39m_drop_helper(\n\u001b[1;32m   1058\u001b[0m         _ecoc_coll_name(encrypted_fields, name), session\u001b[38;5;241m=\u001b[39msession, comment\u001b[38;5;241m=\u001b[39mcomment\n\u001b[1;32m   1059\u001b[0m     )\n\u001b[0;32m-> 1061\u001b[0m \u001b[38;5;28;01mreturn\u001b[39;00m \u001b[38;5;28;43mself\u001b[39;49m\u001b[38;5;241;43m.\u001b[39;49m\u001b[43m_drop_helper\u001b[49m\u001b[43m(\u001b[49m\u001b[43mname\u001b[49m\u001b[43m,\u001b[49m\u001b[43m \u001b[49m\u001b[43msession\u001b[49m\u001b[43m,\u001b[49m\u001b[43m \u001b[49m\u001b[43mcomment\u001b[49m\u001b[43m)\u001b[49m\n",
      "File \u001b[0;32m~/.virtualenvs/pyjsdv/lib/python3.10/site-packages/pymongo/database.py:960\u001b[0m, in \u001b[0;36mDatabase._drop_helper\u001b[0;34m(self, name, session, comment)\u001b[0m\n\u001b[1;32m    957\u001b[0m \u001b[38;5;28;01mif\u001b[39;00m comment \u001b[38;5;129;01mis\u001b[39;00m \u001b[38;5;129;01mnot\u001b[39;00m \u001b[38;5;28;01mNone\u001b[39;00m:\n\u001b[1;32m    958\u001b[0m     command[\u001b[38;5;124m\"\u001b[39m\u001b[38;5;124mcomment\u001b[39m\u001b[38;5;124m\"\u001b[39m] \u001b[38;5;241m=\u001b[39m comment\n\u001b[0;32m--> 960\u001b[0m \u001b[38;5;28;01mwith\u001b[39;00m \u001b[38;5;28;43mself\u001b[39;49m\u001b[38;5;241;43m.\u001b[39;49m\u001b[43m__client\u001b[49m\u001b[38;5;241;43m.\u001b[39;49m\u001b[43m_socket_for_writes\u001b[49m\u001b[43m(\u001b[49m\u001b[43msession\u001b[49m\u001b[43m)\u001b[49m \u001b[38;5;28;01mas\u001b[39;00m sock_info:\n\u001b[1;32m    961\u001b[0m     \u001b[38;5;28;01mreturn\u001b[39;00m \u001b[38;5;28mself\u001b[39m\u001b[38;5;241m.\u001b[39m_command(\n\u001b[1;32m    962\u001b[0m         sock_info,\n\u001b[1;32m    963\u001b[0m         command,\n\u001b[0;32m   (...)\u001b[0m\n\u001b[1;32m    967\u001b[0m         session\u001b[38;5;241m=\u001b[39msession,\n\u001b[1;32m    968\u001b[0m     )\n",
      "File \u001b[0;32m~/.virtualenvs/pyjsdv/lib/python3.10/site-packages/pymongo/mongo_client.py:1239\u001b[0m, in \u001b[0;36mMongoClient._socket_for_writes\u001b[0;34m(self, session)\u001b[0m\n\u001b[1;32m   1238\u001b[0m \u001b[38;5;28;01mdef\u001b[39;00m \u001b[38;5;21m_socket_for_writes\u001b[39m(\u001b[38;5;28mself\u001b[39m, session):\n\u001b[0;32m-> 1239\u001b[0m     server \u001b[38;5;241m=\u001b[39m \u001b[38;5;28;43mself\u001b[39;49m\u001b[38;5;241;43m.\u001b[39;49m\u001b[43m_select_server\u001b[49m\u001b[43m(\u001b[49m\u001b[43mwritable_server_selector\u001b[49m\u001b[43m,\u001b[49m\u001b[43m \u001b[49m\u001b[43msession\u001b[49m\u001b[43m)\u001b[49m\n\u001b[1;32m   1240\u001b[0m     \u001b[38;5;28;01mreturn\u001b[39;00m \u001b[38;5;28mself\u001b[39m\u001b[38;5;241m.\u001b[39m_get_socket(server, session)\n",
      "File \u001b[0;32m~/.virtualenvs/pyjsdv/lib/python3.10/site-packages/pymongo/mongo_client.py:1229\u001b[0m, in \u001b[0;36mMongoClient._select_server\u001b[0;34m(self, server_selector, session, address)\u001b[0m\n\u001b[1;32m   1227\u001b[0m             \u001b[38;5;28;01mraise\u001b[39;00m AutoReconnect(\u001b[38;5;124m\"\u001b[39m\u001b[38;5;124mserver \u001b[39m\u001b[38;5;132;01m%s\u001b[39;00m\u001b[38;5;124m:\u001b[39m\u001b[38;5;132;01m%d\u001b[39;00m\u001b[38;5;124m no longer available\u001b[39m\u001b[38;5;124m\"\u001b[39m \u001b[38;5;241m%\u001b[39m address)\n\u001b[1;32m   1228\u001b[0m     \u001b[38;5;28;01melse\u001b[39;00m:\n\u001b[0;32m-> 1229\u001b[0m         server \u001b[38;5;241m=\u001b[39m \u001b[43mtopology\u001b[49m\u001b[38;5;241;43m.\u001b[39;49m\u001b[43mselect_server\u001b[49m\u001b[43m(\u001b[49m\u001b[43mserver_selector\u001b[49m\u001b[43m)\u001b[49m\n\u001b[1;32m   1230\u001b[0m     \u001b[38;5;28;01mreturn\u001b[39;00m server\n\u001b[1;32m   1231\u001b[0m \u001b[38;5;28;01mexcept\u001b[39;00m PyMongoError \u001b[38;5;28;01mas\u001b[39;00m exc:\n\u001b[1;32m   1232\u001b[0m     \u001b[38;5;66;03m# Server selection errors in a transaction are transient.\u001b[39;00m\n",
      "File \u001b[0;32m~/.virtualenvs/pyjsdv/lib/python3.10/site-packages/pymongo/topology.py:272\u001b[0m, in \u001b[0;36mTopology.select_server\u001b[0;34m(self, selector, server_selection_timeout, address)\u001b[0m\n\u001b[1;32m    270\u001b[0m \u001b[38;5;28;01mdef\u001b[39;00m \u001b[38;5;21mselect_server\u001b[39m(\u001b[38;5;28mself\u001b[39m, selector, server_selection_timeout\u001b[38;5;241m=\u001b[39m\u001b[38;5;28;01mNone\u001b[39;00m, address\u001b[38;5;241m=\u001b[39m\u001b[38;5;28;01mNone\u001b[39;00m):\n\u001b[1;32m    271\u001b[0m     \u001b[38;5;124;03m\"\"\"Like select_servers, but choose a random server if several match.\"\"\"\u001b[39;00m\n\u001b[0;32m--> 272\u001b[0m     server \u001b[38;5;241m=\u001b[39m \u001b[38;5;28;43mself\u001b[39;49m\u001b[38;5;241;43m.\u001b[39;49m\u001b[43m_select_server\u001b[49m\u001b[43m(\u001b[49m\u001b[43mselector\u001b[49m\u001b[43m,\u001b[49m\u001b[43m \u001b[49m\u001b[43mserver_selection_timeout\u001b[49m\u001b[43m,\u001b[49m\u001b[43m \u001b[49m\u001b[43maddress\u001b[49m\u001b[43m)\u001b[49m\n\u001b[1;32m    273\u001b[0m     \u001b[38;5;28;01mif\u001b[39;00m _csot\u001b[38;5;241m.\u001b[39mget_timeout():\n\u001b[1;32m    274\u001b[0m         _csot\u001b[38;5;241m.\u001b[39mset_rtt(server\u001b[38;5;241m.\u001b[39mdescription\u001b[38;5;241m.\u001b[39mround_trip_time)\n",
      "File \u001b[0;32m~/.virtualenvs/pyjsdv/lib/python3.10/site-packages/pymongo/topology.py:261\u001b[0m, in \u001b[0;36mTopology._select_server\u001b[0;34m(self, selector, server_selection_timeout, address)\u001b[0m\n\u001b[1;32m    260\u001b[0m \u001b[38;5;28;01mdef\u001b[39;00m \u001b[38;5;21m_select_server\u001b[39m(\u001b[38;5;28mself\u001b[39m, selector, server_selection_timeout\u001b[38;5;241m=\u001b[39m\u001b[38;5;28;01mNone\u001b[39;00m, address\u001b[38;5;241m=\u001b[39m\u001b[38;5;28;01mNone\u001b[39;00m):\n\u001b[0;32m--> 261\u001b[0m     servers \u001b[38;5;241m=\u001b[39m \u001b[38;5;28;43mself\u001b[39;49m\u001b[38;5;241;43m.\u001b[39;49m\u001b[43mselect_servers\u001b[49m\u001b[43m(\u001b[49m\u001b[43mselector\u001b[49m\u001b[43m,\u001b[49m\u001b[43m \u001b[49m\u001b[43mserver_selection_timeout\u001b[49m\u001b[43m,\u001b[49m\u001b[43m \u001b[49m\u001b[43maddress\u001b[49m\u001b[43m)\u001b[49m\n\u001b[1;32m    262\u001b[0m     \u001b[38;5;28;01mif\u001b[39;00m \u001b[38;5;28mlen\u001b[39m(servers) \u001b[38;5;241m==\u001b[39m \u001b[38;5;241m1\u001b[39m:\n\u001b[1;32m    263\u001b[0m         \u001b[38;5;28;01mreturn\u001b[39;00m servers[\u001b[38;5;241m0\u001b[39m]\n",
      "File \u001b[0;32m~/.virtualenvs/pyjsdv/lib/python3.10/site-packages/pymongo/topology.py:223\u001b[0m, in \u001b[0;36mTopology.select_servers\u001b[0;34m(self, selector, server_selection_timeout, address)\u001b[0m\n\u001b[1;32m    220\u001b[0m     server_timeout \u001b[38;5;241m=\u001b[39m server_selection_timeout\n\u001b[1;32m    222\u001b[0m \u001b[38;5;28;01mwith\u001b[39;00m \u001b[38;5;28mself\u001b[39m\u001b[38;5;241m.\u001b[39m_lock:\n\u001b[0;32m--> 223\u001b[0m     server_descriptions \u001b[38;5;241m=\u001b[39m \u001b[38;5;28;43mself\u001b[39;49m\u001b[38;5;241;43m.\u001b[39;49m\u001b[43m_select_servers_loop\u001b[49m\u001b[43m(\u001b[49m\u001b[43mselector\u001b[49m\u001b[43m,\u001b[49m\u001b[43m \u001b[49m\u001b[43mserver_timeout\u001b[49m\u001b[43m,\u001b[49m\u001b[43m \u001b[49m\u001b[43maddress\u001b[49m\u001b[43m)\u001b[49m\n\u001b[1;32m    225\u001b[0m     \u001b[38;5;28;01mreturn\u001b[39;00m [\u001b[38;5;28mself\u001b[39m\u001b[38;5;241m.\u001b[39mget_server_by_address(sd\u001b[38;5;241m.\u001b[39maddress) \u001b[38;5;28;01mfor\u001b[39;00m sd \u001b[38;5;129;01min\u001b[39;00m server_descriptions]\n",
      "File \u001b[0;32m~/.virtualenvs/pyjsdv/lib/python3.10/site-packages/pymongo/topology.py:238\u001b[0m, in \u001b[0;36mTopology._select_servers_loop\u001b[0;34m(self, selector, timeout, address)\u001b[0m\n\u001b[1;32m    235\u001b[0m \u001b[38;5;28;01mwhile\u001b[39;00m \u001b[38;5;129;01mnot\u001b[39;00m server_descriptions:\n\u001b[1;32m    236\u001b[0m     \u001b[38;5;66;03m# No suitable servers.\u001b[39;00m\n\u001b[1;32m    237\u001b[0m     \u001b[38;5;28;01mif\u001b[39;00m timeout \u001b[38;5;241m==\u001b[39m \u001b[38;5;241m0\u001b[39m \u001b[38;5;129;01mor\u001b[39;00m now \u001b[38;5;241m>\u001b[39m end_time:\n\u001b[0;32m--> 238\u001b[0m         \u001b[38;5;28;01mraise\u001b[39;00m ServerSelectionTimeoutError(\n\u001b[1;32m    239\u001b[0m             \u001b[38;5;124m\"\u001b[39m\u001b[38;5;132;01m%s\u001b[39;00m\u001b[38;5;124m, Timeout: \u001b[39m\u001b[38;5;132;01m%s\u001b[39;00m\u001b[38;5;124ms, Topology Description: \u001b[39m\u001b[38;5;132;01m%r\u001b[39;00m\u001b[38;5;124m\"\u001b[39m\n\u001b[1;32m    240\u001b[0m             \u001b[38;5;241m%\u001b[39m (\u001b[38;5;28mself\u001b[39m\u001b[38;5;241m.\u001b[39m_error_message(selector), timeout, \u001b[38;5;28mself\u001b[39m\u001b[38;5;241m.\u001b[39mdescription)\n\u001b[1;32m    241\u001b[0m         )\n\u001b[1;32m    243\u001b[0m     \u001b[38;5;28mself\u001b[39m\u001b[38;5;241m.\u001b[39m_ensure_opened()\n\u001b[1;32m    244\u001b[0m     \u001b[38;5;28mself\u001b[39m\u001b[38;5;241m.\u001b[39m_request_check_all()\n",
      "\u001b[0;31mServerSelectionTimeoutError\u001b[0m: localhost:27017: [Errno 111] Connection refused, Timeout: 30s, Topology Description: <TopologyDescription id: 62e14a7ed7521d8aee0f86fd, topology_type: Unknown, servers: [<ServerDescription ('localhost', 27017) server_type: Unknown, rtt: None, error=AutoReconnect('localhost:27017: [Errno 111] Connection refused')>]>"
     ]
    }
   ],
   "source": [
    "# delete existing winners from the collection\n",
    "# !NOTE! - if you get a PyMongo error like this:\n",
    "# ConfigurationError: Server at 127.0.0.1:27017 \n",
    "# reports wire version 0, but this version of PyMongo requires at least 2 (MongoDB 2.6)\n",
    "# try downgrading your PyMongo module with 'pip install pymongo==3.4.0'\n",
    "coll.drop()"
   ]
  },
  {
   "cell_type": "code",
   "execution_count": null,
   "id": "e360b9a0",
   "metadata": {},
   "outputs": [],
   "source": [
    "coll.insert_many(nobel_winners)\n",
    "list(coll.find())"
   ]
  },
  {
   "cell_type": "code",
   "execution_count": null,
   "id": "720673ac",
   "metadata": {},
   "outputs": [],
   "source": [
    "res = coll.find({'category':'Chemistry'})\n",
    "list(res)"
   ]
  },
  {
   "cell_type": "code",
   "execution_count": null,
   "id": "60716b22",
   "metadata": {},
   "outputs": [],
   "source": [
    "res = coll.find({'year': {'$gt': 1930}})\n",
    "list(res)"
   ]
  },
  {
   "cell_type": "code",
   "execution_count": null,
   "id": "63b7dcf5",
   "metadata": {},
   "outputs": [],
   "source": [
    "res = coll.find({'$or':[{'year': {'$gt': 1930}},\\\n",
    "{'sex':'female'}]})\n",
    "list(res)"
   ]
  },
  {
   "cell_type": "code",
   "execution_count": null,
   "id": "805af0b3",
   "metadata": {},
   "outputs": [],
   "source": [
    "def mongo_coll_to_dicts(dbname='test', collname='test', query={}, del_id=True, **kw):\n",
    "    db = get_mongo_database(dbname, **kw)\n",
    "    res = list(db[collname].find(query))\n",
    "    if del_id:\n",
    "        for r in res:\n",
    "            r.pop('_id')\n",
    "    return res"
   ]
  },
  {
   "cell_type": "code",
   "execution_count": null,
   "id": "d90f391d",
   "metadata": {
    "scrolled": true
   },
   "outputs": [],
   "source": [
    "mongo_coll_to_dicts(DB_NOBEL_PRIZE, COLL_WINNERS)"
   ]
  },
  {
   "cell_type": "markdown",
   "id": "4fdf2c84",
   "metadata": {},
   "source": [
    "## Dealing with Dates, Times, and Complex Data"
   ]
  },
  {
   "cell_type": "code",
   "execution_count": null,
   "id": "908c0d94",
   "metadata": {},
   "outputs": [],
   "source": [
    "from datetime import datetime\n",
    "d = datetime.now()\n",
    "d.isoformat()"
   ]
  },
  {
   "cell_type": "code",
   "execution_count": null,
   "id": "cb67920f",
   "metadata": {},
   "outputs": [],
   "source": [
    "from dateutil import parser\n",
    "d = parser.parse('2021-11-16T22:55:48.738Z')\n",
    "d"
   ]
  },
  {
   "cell_type": "code",
   "execution_count": null,
   "id": "67b1c080",
   "metadata": {},
   "outputs": [],
   "source": []
  }
 ],
 "metadata": {
  "kernelspec": {
   "display_name": "Python 3 (ipykernel)",
   "language": "python",
   "name": "python3"
  },
  "language_info": {
   "codemirror_mode": {
    "name": "ipython",
    "version": 3
   },
   "file_extension": ".py",
   "mimetype": "text/x-python",
   "name": "python",
   "nbconvert_exporter": "python",
   "pygments_lexer": "ipython3",
   "version": "3.10.4"
  }
 },
 "nbformat": 4,
 "nbformat_minor": 5
}
