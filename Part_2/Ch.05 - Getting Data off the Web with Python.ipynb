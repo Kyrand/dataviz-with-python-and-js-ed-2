{
 "cells": [
  {
   "cell_type": "code",
   "execution_count": 1,
   "id": "7e0d7f58",
   "metadata": {},
   "outputs": [],
   "source": [
    "import requests"
   ]
  },
  {
   "cell_type": "markdown",
   "id": "aee5dc33",
   "metadata": {},
   "source": [
    "## Getting Data Files with requests"
   ]
  },
  {
   "cell_type": "code",
   "execution_count": 2,
   "id": "f438b004",
   "metadata": {},
   "outputs": [],
   "source": [
    "response = requests.get(\"https://en.wikipedia.org/wiki/Nobel_Prize\")"
   ]
  },
  {
   "cell_type": "code",
   "execution_count": 3,
   "id": "69534d7e",
   "metadata": {},
   "outputs": [
    {
     "data": {
      "text/plain": [
       "['__attrs__',\n",
       " '__bool__',\n",
       " '__class__',\n",
       " '__delattr__',\n",
       " '__dict__',\n",
       " '__dir__',\n",
       " '__doc__',\n",
       " '__enter__',\n",
       " '__eq__',\n",
       " '__exit__',\n",
       " '__format__',\n",
       " '__ge__',\n",
       " '__getattribute__',\n",
       " '__getstate__',\n",
       " '__gt__',\n",
       " '__hash__',\n",
       " '__init__',\n",
       " '__init_subclass__',\n",
       " '__iter__',\n",
       " '__le__',\n",
       " '__lt__',\n",
       " '__module__',\n",
       " '__ne__',\n",
       " '__new__',\n",
       " '__nonzero__',\n",
       " '__reduce__',\n",
       " '__reduce_ex__',\n",
       " '__repr__',\n",
       " '__setattr__',\n",
       " '__setstate__',\n",
       " '__sizeof__',\n",
       " '__str__',\n",
       " '__subclasshook__',\n",
       " '__weakref__',\n",
       " '_content',\n",
       " '_content_consumed',\n",
       " '_next',\n",
       " 'apparent_encoding',\n",
       " 'close',\n",
       " 'connection',\n",
       " 'content',\n",
       " 'cookies',\n",
       " 'elapsed',\n",
       " 'encoding',\n",
       " 'headers',\n",
       " 'history',\n",
       " 'is_permanent_redirect',\n",
       " 'is_redirect',\n",
       " 'iter_content',\n",
       " 'iter_lines',\n",
       " 'json',\n",
       " 'links',\n",
       " 'next',\n",
       " 'ok',\n",
       " 'raise_for_status',\n",
       " 'raw',\n",
       " 'reason',\n",
       " 'request',\n",
       " 'status_code',\n",
       " 'text',\n",
       " 'url']"
      ]
     },
     "execution_count": 3,
     "metadata": {},
     "output_type": "execute_result"
    }
   ],
   "source": [
    "dir(response)"
   ]
  },
  {
   "cell_type": "code",
   "execution_count": 4,
   "id": "14243879",
   "metadata": {},
   "outputs": [
    {
     "data": {
      "text/plain": [
       "200"
      ]
     },
     "execution_count": 4,
     "metadata": {},
     "output_type": "execute_result"
    }
   ],
   "source": [
    "response.status_code"
   ]
  },
  {
   "cell_type": "code",
   "execution_count": 5,
   "id": "45d59539",
   "metadata": {},
   "outputs": [
    {
     "data": {
      "text/plain": [
       "404"
      ]
     },
     "execution_count": 5,
     "metadata": {},
     "output_type": "execute_result"
    }
   ],
   "source": [
    "not_found_response = requests.get(\"http://en.wikipedia.org/wiki/SNobel_Prize\")\n",
    "not_found_response.status_code"
   ]
  },
  {
   "cell_type": "code",
   "execution_count": 6,
   "id": "7a3a6992",
   "metadata": {},
   "outputs": [
    {
     "data": {
      "text/plain": [
       "{'date': 'Fri, 05 Aug 2022 10:44:52 GMT', 'server': 'mw1418.eqiad.wmnet', 'x-content-type-options': 'nosniff', 'content-language': 'en', 'vary': 'Accept-Encoding,Cookie,Authorization', 'last-modified': 'Fri, 05 Aug 2022 10:25:46 GMT', 'content-type': 'text/html; charset=UTF-8', 'content-encoding': 'gzip', 'age': '24096', 'x-cache': 'cp3054 miss, cp3062 hit/6', 'x-cache-status': 'hit-front', 'server-timing': 'cache;desc=\"hit-front\", host;desc=\"cp3062\"', 'strict-transport-security': 'max-age=106384710; includeSubDomains; preload', 'report-to': '{ \"group\": \"wm_nel\", \"max_age\": 86400, \"endpoints\": [{ \"url\": \"https://intake-logging.wikimedia.org/v1/events?stream=w3c.reportingapi.network_error&schema_uri=/w3c/reportingapi/network_error/1.0.0\" }] }', 'nel': '{ \"report_to\": \"wm_nel\", \"max_age\": 86400, \"failure_fraction\": 0.05, \"success_fraction\": 0.0}', 'set-cookie': 'WMF-Last-Access=05-Aug-2022;Path=/;HttpOnly;secure;Expires=Tue, 06 Sep 2022 12:00:00 GMT, WMF-Last-Access-Global=05-Aug-2022;Path=/;Domain=.wikipedia.org;HttpOnly;secure;Expires=Tue, 06 Sep 2022 12:00:00 GMT, GeoIP=GB:ENG:Wymondham:52.58:1.09:v4; Path=/; secure; Domain=.wikipedia.org', 'accept-ch': 'Sec-CH-UA-Arch,Sec-CH-UA-Bitness,Sec-CH-UA-Full-Version-List,Sec-CH-UA-Model,Sec-CH-UA-Platform-Version', 'permissions-policy': 'interest-cohort=(),ch-ua-arch=(self \"intake-analytics.wikimedia.org\"),ch-ua-bitness=(self \"intake-analytics.wikimedia.org\"),ch-ua-full-version-list=(self \"intake-analytics.wikimedia.org\"),ch-ua-model=(self \"intake-analytics.wikimedia.org\"),ch-ua-platform-version=(self \"intake-analytics.wikimedia.org\")', 'x-client-ip': '31.125.193.51', 'cache-control': 'private, s-maxage=0, max-age=0, must-revalidate', 'accept-ranges': 'bytes', 'content-length': '89676'}"
      ]
     },
     "execution_count": 6,
     "metadata": {},
     "output_type": "execute_result"
    }
   ],
   "source": [
    "response.headers"
   ]
  },
  {
   "cell_type": "code",
   "execution_count": 7,
   "id": "b9828b44",
   "metadata": {},
   "outputs": [],
   "source": [
    "# response.text gives the full text content of the page:\n",
    "# response.text\n",
    "# Out:\n",
    "# '<!DOCTYPE html>\\n<html class=\"client-nojs\" lang=\"en\" dir=\"ltr\">\\n<head>\\n<meta charset=\"UTF-8\"/>\n",
    "# \\n<title>Nobel Prize - Wikipedia</title>\\n<script>document.documentElement.className=\"client-js\";\n",
    "# RLCONF={\"wgBreakFrames\":false,\"wgSeparatorTransformTable\":[\"\",\"\"],\"wgDigitTransformTable\":[\"\",\"\"],\n",
    "# \"wgDefaultDateFormat\":\"dmy\",\"wgMonthNames\":[\"\",\"January\",\"February\",\"March\",\"April\",\"May\",\n",
    "# \"June\",\"July\",\"August\",\"September\",\"October\",\"November\",\"December\"],\"wgRequestId\":\"ea13eb24-6f15-41b2-b3e6-c33ed9863a12\",\n",
    "# \"wgCSPNonce\":false,\"wgCanonicalNamespace\":\"\",\"wgCanonicalSpecialPageName\":false,\"wgNamespaceNumber\":0,\n",
    "# \"wgPageName\":\"Nobel_Prize\",\"wgTitle\":\"Nobel Prize\",\"wgCurRevisionId\":1084573928,\n",
    "# \"wgRevisionId\":1084573928,\"wgArticleId\":21201,\"wgIsArticle\":true, ..."
   ]
  },
  {
   "cell_type": "code",
   "execution_count": 8,
   "id": "07d43ce4",
   "metadata": {},
   "outputs": [
    {
     "data": {
      "text/plain": [
       "404"
      ]
     },
     "execution_count": 8,
     "metadata": {},
     "output_type": "execute_result"
    }
   ],
   "source": [
    "response = requests.get(\"https://catalog.data.gov/api/3/views/pbxw-hhq8/rows.json?accessType=DOWNLOAD\")\n",
    "\n",
    "response.status_code"
   ]
  },
  {
   "cell_type": "code",
   "execution_count": 9,
   "id": "16df1537",
   "metadata": {},
   "outputs": [],
   "source": [
    "import requests\n",
    "response = requests.get(\n",
    "     'https://en.wikipedia.org/w/api.php',\n",
    "     params={\n",
    "         'action': 'query',\n",
    "         'format': 'json',\n",
    "         'titles': 'Marie Curie',\n",
    "         'prop': 'extracts',\n",
    "         'exintro': True,\n",
    "         'explaintext': True,\n",
    "     }\n",
    ").json()"
   ]
  },
  {
   "cell_type": "code",
   "execution_count": 10,
   "id": "116ddce6",
   "metadata": {},
   "outputs": [
    {
     "data": {
      "text/plain": [
       "dict_keys(['batchcomplete', 'query'])"
      ]
     },
     "execution_count": 10,
     "metadata": {},
     "output_type": "execute_result"
    }
   ],
   "source": [
    "response.keys()"
   ]
  },
  {
   "cell_type": "code",
   "execution_count": 11,
   "id": "e67e12d0",
   "metadata": {},
   "outputs": [
    {
     "data": {
      "text/plain": [
       "{'pages': {'20408': {'pageid': 20408,\n",
       "   'ns': 0,\n",
       "   'title': 'Marie Curie',\n",
       "   'extract': 'Marie Salomea Skłodowska–Curie ( KURE-ee, French pronunciation: \\u200b[maʁi kyʁi], Polish pronunciation: [ˈmarja skwɔˈdɔfska kʲiˈri]; born Maria Salomea Skłodowska, Polish: [ˈmarja salɔˈmɛa skwɔˈdɔfska]; 7 November 1867 – 4 July 1934) was a Polish and naturalized-French physicist and chemist who conducted pioneering research on radioactivity. She was the first woman to win a Nobel Prize, the first person and the only woman to win the Nobel Prize twice, and the only person to win the Nobel Prize in two scientific fields. Her husband, Pierre Curie, was a co-winner on her first Nobel Prize, making them the first ever married couple to win the Nobel Prize and launching the Curie family legacy of five Nobel Prizes. She was, in 1906, the first woman to become a professor at the University of Paris.She was born in Warsaw, in what was then the Kingdom of Poland, part of the Russian Empire. She studied at Warsaw\\'s clandestine Flying University and began her practical scientific training in Warsaw. In 1891, aged 24, she followed her elder sister Bronisława to study in Paris, where she earned her higher degrees and conducted her subsequent scientific work. In 1895 she married the French physicist Pierre Curie, and she shared the 1903 Nobel Prize in Physics with him and with the physicist Henri Becquerel for their pioneering work developing the theory of \"radioactivity\"—a term she coined. In 1906 Pierre Curie died in a Paris street accident. Marie won the 1911 Nobel Prize in Chemistry for her discovery of the elements polonium and radium, using techniques she invented for isolating radioactive isotopes.\\nUnder her direction, the world\\'s first studies were conducted into the treatment of neoplasms by the use of radioactive isotopes. In 1920 she founded the Curie Institute in Paris, and in 1932 the Curie Institute in Warsaw; both remain major centres of medical research. During World War I she developed mobile radiography units to provide X-ray services to field hospitals.\\nWhile a French citizen, Marie Skłodowska Curie, who used both surnames, never lost her sense of Polish identity. She taught her daughters the Polish language and took them on visits to Poland. She named the first chemical element she discovered polonium, after her native country.Marie Curie died in 1934, aged 66, at the Sancellemoz sanatorium in Passy (Haute-Savoie), France, of aplastic anemia from exposure to radiation in the course of her scientific research and in the course of her radiological work at field hospitals during World War I. In addition to her Nobel Prizes, she has received numerous other honours and tributes; in 1995 she became the first woman to be entombed on her own merits in Paris\\' Panthéon, and Poland declared 2011 the Year of Marie Curie during the International Year of Chemistry. She is the subject of numerous biographical works, where she is also known as Madame Curie.'}}}"
      ]
     },
     "execution_count": 11,
     "metadata": {},
     "output_type": "execute_result"
    }
   ],
   "source": [
    "response['query']"
   ]
  },
  {
   "cell_type": "code",
   "execution_count": 12,
   "id": "6f7e0e1e",
   "metadata": {},
   "outputs": [
    {
     "data": {
      "text/plain": [
       "''"
      ]
     },
     "execution_count": 12,
     "metadata": {},
     "output_type": "execute_result"
    }
   ],
   "source": [
    "response['batchcomplete']"
   ]
  },
  {
   "cell_type": "code",
   "execution_count": 13,
   "id": "7330b454",
   "metadata": {},
   "outputs": [
    {
     "name": "stdout",
     "output_type": "stream",
     "text": [
      "Marie Salomea Skłodowska–Curie ( KURE-ee, French pronunciation: ​[maʁi kyʁi], Polish pronunciation: [ˈmarja skwɔˈdɔfska kʲiˈri]; born Maria Salomea Skłodowska, Polish: [ˈmarja salɔˈmɛa skwɔˈdɔfska]; 7 November 1867 – 4 July 1934) was a Polish and naturalized-French physicist and chemist who conducted pioneering research on radioactivity. She was the first woman to win a Nobel Prize, the first person and the only woman to win the Nobel Prize twice, and the only person to win the Nobel Prize in two scientific fields. Her husband, Pierre Curie, was a co-winner on her first Nobel Prize, making them the first ever married couple to win the Nobel Prize and launching the Curie family legacy of five Nobel Prizes. She was, in 1906, the first woman to become a professor at the University of Paris.She was born in Warsaw, in what was then the Kingdom of Poland, part of the Russian Empire. She studied at Warsaw's clandestine Flying University and began her practical scientific training in Warsaw. In 1891, aged 24, she followed her elder sister Bronisława to study in Paris, where she earned her higher degrees and conducted her subsequent scientific work. In 1895 she married the French physicist Pierre Curie, and she shared the 1903 Nobel Prize in Physics with him and with the physicist Henri Becquerel for their pioneering work developing the theory of \"radioactivity\"—a term she coined. In 1906 Pierre Curie died in a Paris street accident. Marie won the 1911 Nobel Prize in Chemistry for her discovery of the elements polonium and radium, using techniques she invented for isolating radioactive isotopes.\n",
      "Under her direction, the world's first studies were conducted into the treatment of neoplasms by the use of radioactive isotopes. In 1920 she founded the Curie Institute in Paris, and in 1932 the Curie Institute in Warsaw; both remain major centres of medical research. During World War I she developed mobile radiography units to provide X-ray services to field hospitals.\n",
      "While a French citizen, Marie Skłodowska Curie, who used both surnames, never lost her sense of Polish identity. She taught her daughters the Polish language and took them on visits to Poland. She named the first chemical element she discovered polonium, after her native country.Marie Curie died in 1934, aged 66, at the Sancellemoz sanatorium in Passy (Haute-Savoie), France, of aplastic anemia from exposure to radiation in the course of her scientific research and in the course of her radiological work at field hospitals during World War I. In addition to her Nobel Prizes, she has received numerous other honours and tributes; in 1995 she became the first woman to be entombed on her own merits in Paris' Panthéon, and Poland declared 2011 the Year of Marie Curie during the International Year of Chemistry. She is the subject of numerous biographical works, where she is also known as Madame Curie.\n"
     ]
    }
   ],
   "source": [
    "page = next(iter(response['query']['pages'].values()))\n",
    "print(page['extract'])"
   ]
  },
  {
   "cell_type": "markdown",
   "id": "95f99063",
   "metadata": {},
   "source": [
    "## Using Python to Consume Data from a Web API"
   ]
  },
  {
   "cell_type": "code",
   "execution_count": 14,
   "id": "df64d7da",
   "metadata": {},
   "outputs": [],
   "source": [
    "OECD_ROOT_URL = 'https://stats.oecd.org/sdmx-json/data'\n",
    "def make_OECD_request(dsname, dimensions, params=None, root_dir=OECD_ROOT_URL):\n",
    "    \"\"\" Make a URL for the OECD API and return a response \"\"\"\n",
    "    if not params:\n",
    "        params = {}\n",
    "    dim_args = ['+'.join(d) for d in dimensions]\n",
    "    dim_str = '.'.join(dim_args)\n",
    "    url = root_dir + '/' + dsname + '/' + dim_str + '/all'\n",
    "    print('Requesting URL: ' + url)\n",
    "    return requests.get(url, params=params)"
   ]
  },
  {
   "cell_type": "code",
   "execution_count": 15,
   "id": "710dbeef",
   "metadata": {},
   "outputs": [
    {
     "name": "stdout",
     "output_type": "stream",
     "text": [
      "Requesting URL: https://stats.oecd.org/sdmx-json/data/QNA/USA+AUS.GDP+B1_GE.CUR+VOBARSA.Q/all\n"
     ]
    }
   ],
   "source": [
    "response = make_OECD_request('QNA',\n",
    "(('USA', 'AUS'),('GDP', 'B1_GE'),('CUR', 'VOBARSA'), ('Q')),\n",
    "{'startTime':'2009-Q1', 'endTime':'2010-Q1'})"
   ]
  },
  {
   "cell_type": "code",
   "execution_count": 16,
   "id": "576da02a",
   "metadata": {},
   "outputs": [
    {
     "data": {
      "text/plain": [
       "dict_keys(['header', 'dataSets', 'structure'])"
      ]
     },
     "execution_count": 16,
     "metadata": {},
     "output_type": "execute_result"
    }
   ],
   "source": [
    "if response.status_code == 200:\n",
    "    json = response.json()\n",
    "json.keys()"
   ]
  },
  {
   "cell_type": "code",
   "execution_count": 16,
   "id": "7858d083",
   "metadata": {},
   "outputs": [
    {
     "data": {
      "text/plain": [
       "<Response [200]>"
      ]
     },
     "execution_count": 16,
     "metadata": {},
     "output_type": "execute_result"
    }
   ],
   "source": [
    "# The NASA geo-spatial power API\n",
    "requests.get(\"https://power.larc.nasa.gov/api/temporal/daily/point?parameters=ALLSKY_SFC_SW_DWN,CLRSKY_SFC_SW_DWN,PS,WS10M&community=RE&longitude=-99.6599&latitude=40.4910&start=20210101&end=20210331&format=JSON\")"
   ]
  },
  {
   "cell_type": "markdown",
   "id": "919045b8-c75a-437e-b579-ce6fa197c4c9",
   "metadata": {},
   "source": [
    "## Getting country data for the Nobel data-viz"
   ]
  },
  {
   "cell_type": "code",
   "execution_count": 17,
   "id": "45c6205f",
   "metadata": {},
   "outputs": [],
   "source": [
    "REST_EU_ROOT_URL = \"https://restcountries.com/v3.1\"\n",
    "\n",
    "def REST_country_request(field='all', name=None, params=None):\n",
    "    headers={'User-Agent': 'Mozilla/5.0'}\n",
    "    if not params:\n",
    "        params = {}\n",
    "    if field == 'all':\n",
    "        response = requests.get(REST_EU_ROOT_URL + '/all')\n",
    "        return response.json()\n",
    "    url = '%s/%s/%s'%(REST_EU_ROOT_URL, field, name)\n",
    "    print('Requesting URL: ' + url)\n",
    "    response = requests.get(url, params=params, headers=headers)\n",
    "    if not response.status_code == 200:\n",
    "        raise Exception('Request failed with status code ' + str(response.status_code))\n",
    "    return response.json()"
   ]
  },
  {
   "cell_type": "code",
   "execution_count": 18,
   "id": "6bb4d2d1",
   "metadata": {},
   "outputs": [
    {
     "name": "stdout",
     "output_type": "stream",
     "text": [
      "Requesting URL: https://restcountries.com/v3.1/currency/usd\n"
     ]
    }
   ],
   "source": [
    "response = REST_country_request('currency', 'usd')"
   ]
  },
  {
   "cell_type": "code",
   "execution_count": 19,
   "id": "f15198ac",
   "metadata": {},
   "outputs": [
    {
     "data": {
      "text/plain": [
       "\"[{'name': {'common': 'Palau', 'official': 'Republic of Palau', 'nativeName': {'eng': {'official': 'Republic of Palau', 'common': 'Palau'}, 'pau': {'official': 'Beluu er a Belau', 'common': 'Belau'}}}, 'tld': ['.pw'], 'cca2': 'PW', 'ccn3': '585', 'cca3': 'PLW', 'cioc': 'PLW', 'independent': True, 'status': 'officially-assigned', 'unMember': True, 'currencies': {'USD': {'name': 'United States dollar', 'symbol': '$'}}, 'idd': {'root': '+6', 'suffixes': ['80']}, 'capital': ['Ngerulmud'], 'altSpellings': ['PW', 'Republic of Palau', 'Beluu er a Belau'], 'region': 'Oceania', 'subregion': 'Micronesia', 'languages': {'eng': 'English', 'pau': 'Palauan'}, 'translations': {'ara': {'official': 'جمهورية بالاو', 'common': 'بالاو'}, 'ces': {'official': 'Republika Palau', 'common': 'Palau'}, 'cym': {'official': 'Republic of Palau', 'common': 'Palau'}, 'deu': {'official': 'Republik Palau', 'common': 'Palau'}, 'est': {'official': 'Belau Vabariik', 'common': 'Belau'}, 'fin': {'official': 'Palaun tasavalta\""
      ]
     },
     "execution_count": 19,
     "metadata": {},
     "output_type": "execute_result"
    }
   ],
   "source": [
    "# The first 1000 characters of the JSON response, a list of countries\n",
    "repr(response)[:1000]"
   ]
  },
  {
   "cell_type": "code",
   "execution_count": 20,
   "id": "26708f40",
   "metadata": {},
   "outputs": [],
   "source": [
    "country_data = REST_country_request()"
   ]
  },
  {
   "cell_type": "code",
   "execution_count": 21,
   "id": "65084250",
   "metadata": {},
   "outputs": [
    {
     "data": {
      "text/plain": [
       "250"
      ]
     },
     "execution_count": 21,
     "metadata": {},
     "output_type": "execute_result"
    }
   ],
   "source": [
    "# information about 250 world countries\n",
    "len(country_data)"
   ]
  },
  {
   "cell_type": "code",
   "execution_count": 22,
   "id": "5d29e867",
   "metadata": {},
   "outputs": [],
   "source": [
    "import json\n",
    "\n",
    "with open('data/world_country_data.json', 'w') as json_file:\n",
    "    json.dump(country_data, json_file)"
   ]
  },
  {
   "cell_type": "markdown",
   "id": "1e41925f",
   "metadata": {},
   "source": [
    "## Using Libraries to Access Web APIs"
   ]
  },
  {
   "cell_type": "markdown",
   "id": "96dbeb9e",
   "metadata": {},
   "source": [
    "### Using Google Spreadsheets"
   ]
  },
  {
   "cell_type": "code",
   "execution_count": 1,
   "id": "5c2cd37b-8730-43d0-af89-37963c7a5111",
   "metadata": {},
   "outputs": [
    {
     "name": "stdout",
     "output_type": "stream",
     "text": [
      "Requirement already satisfied: gspread in /home/kyran/.virtualenvs/pyjsdv/lib/python3.10/site-packages (5.3.2)\n",
      "Requirement already satisfied: google-auth>=1.12.0 in /home/kyran/.virtualenvs/pyjsdv/lib/python3.10/site-packages (from gspread) (2.9.1)\n",
      "Requirement already satisfied: google-auth-oauthlib>=0.4.1 in /home/kyran/.virtualenvs/pyjsdv/lib/python3.10/site-packages (from gspread) (0.5.2)\n",
      "Requirement already satisfied: six>=1.9.0 in /home/kyran/.virtualenvs/pyjsdv/lib/python3.10/site-packages (from google-auth>=1.12.0->gspread) (1.16.0)\n",
      "Requirement already satisfied: rsa<5,>=3.1.4 in /home/kyran/.virtualenvs/pyjsdv/lib/python3.10/site-packages (from google-auth>=1.12.0->gspread) (4.9)\n",
      "Requirement already satisfied: pyasn1-modules>=0.2.1 in /home/kyran/.virtualenvs/pyjsdv/lib/python3.10/site-packages (from google-auth>=1.12.0->gspread) (0.2.8)\n",
      "Requirement already satisfied: cachetools<6.0,>=2.0.0 in /home/kyran/.virtualenvs/pyjsdv/lib/python3.10/site-packages (from google-auth>=1.12.0->gspread) (5.2.0)\n",
      "Requirement already satisfied: requests-oauthlib>=0.7.0 in /home/kyran/.virtualenvs/pyjsdv/lib/python3.10/site-packages (from google-auth-oauthlib>=0.4.1->gspread) (1.3.1)\n",
      "Requirement already satisfied: pyasn1<0.5.0,>=0.4.6 in /home/kyran/.virtualenvs/pyjsdv/lib/python3.10/site-packages (from pyasn1-modules>=0.2.1->google-auth>=1.12.0->gspread) (0.4.8)\n",
      "Requirement already satisfied: oauthlib>=3.0.0 in /home/kyran/.virtualenvs/pyjsdv/lib/python3.10/site-packages (from requests-oauthlib>=0.7.0->google-auth-oauthlib>=0.4.1->gspread) (3.2.0)\n",
      "Requirement already satisfied: requests>=2.0.0 in /home/kyran/.virtualenvs/pyjsdv/lib/python3.10/site-packages (from requests-oauthlib>=0.7.0->google-auth-oauthlib>=0.4.1->gspread) (2.28.1)\n",
      "Requirement already satisfied: urllib3<1.27,>=1.21.1 in /home/kyran/.virtualenvs/pyjsdv/lib/python3.10/site-packages (from requests>=2.0.0->requests-oauthlib>=0.7.0->google-auth-oauthlib>=0.4.1->gspread) (1.26.11)\n",
      "Requirement already satisfied: certifi>=2017.4.17 in /home/kyran/.virtualenvs/pyjsdv/lib/python3.10/site-packages (from requests>=2.0.0->requests-oauthlib>=0.7.0->google-auth-oauthlib>=0.4.1->gspread) (2022.6.15)\n",
      "Requirement already satisfied: idna<4,>=2.5 in /home/kyran/.virtualenvs/pyjsdv/lib/python3.10/site-packages (from requests>=2.0.0->requests-oauthlib>=0.7.0->google-auth-oauthlib>=0.4.1->gspread) (3.3)\n",
      "Requirement already satisfied: charset-normalizer<3,>=2 in /home/kyran/.virtualenvs/pyjsdv/lib/python3.10/site-packages (from requests>=2.0.0->requests-oauthlib>=0.7.0->google-auth-oauthlib>=0.4.1->gspread) (2.1.0)\n",
      "Requirement already satisfied: google-auth in /home/kyran/.virtualenvs/pyjsdv/lib/python3.10/site-packages (2.9.1)\n",
      "Requirement already satisfied: rsa<5,>=3.1.4 in /home/kyran/.virtualenvs/pyjsdv/lib/python3.10/site-packages (from google-auth) (4.9)\n",
      "Requirement already satisfied: pyasn1-modules>=0.2.1 in /home/kyran/.virtualenvs/pyjsdv/lib/python3.10/site-packages (from google-auth) (0.2.8)\n",
      "Requirement already satisfied: cachetools<6.0,>=2.0.0 in /home/kyran/.virtualenvs/pyjsdv/lib/python3.10/site-packages (from google-auth) (5.2.0)\n",
      "Requirement already satisfied: six>=1.9.0 in /home/kyran/.virtualenvs/pyjsdv/lib/python3.10/site-packages (from google-auth) (1.16.0)\n",
      "Requirement already satisfied: pyasn1<0.5.0,>=0.4.6 in /home/kyran/.virtualenvs/pyjsdv/lib/python3.10/site-packages (from pyasn1-modules>=0.2.1->google-auth) (0.4.8)\n"
     ]
    }
   ],
   "source": [
    "!pip install gspread\n",
    "!pip install --upgrade google-auth"
   ]
  },
  {
   "cell_type": "code",
   "execution_count": 2,
   "id": "bb7cc7c5",
   "metadata": {},
   "outputs": [],
   "source": [
    "import gspread\n",
    "\n",
    "gc = gspread.service_account(filename='data/google_credentials.json')\n",
    "\n",
    "ss = gc.open(\"Microbe-scope\")"
   ]
  },
  {
   "cell_type": "code",
   "execution_count": 3,
   "id": "a8ae1cfd",
   "metadata": {},
   "outputs": [
    {
     "data": {
      "text/plain": [
       "[<Worksheet 'bugs' id:0>,\n",
       " <Worksheet 'outrageous facts' id:430583748>,\n",
       " <Worksheet 'physicians per 1,000' id:1268911119>,\n",
       " <Worksheet 'amends' id:1001992659>]"
      ]
     },
     "execution_count": 3,
     "metadata": {},
     "output_type": "execute_result"
    }
   ],
   "source": [
    "ss.worksheets()"
   ]
  },
  {
   "cell_type": "code",
   "execution_count": 4,
   "id": "e6f254fb",
   "metadata": {},
   "outputs": [],
   "source": [
    "ws = ss.worksheet('bugs')"
   ]
  },
  {
   "cell_type": "code",
   "execution_count": 5,
   "id": "1a1b9a0d",
   "metadata": {},
   "outputs": [
    {
     "data": {
      "text/plain": [
       "['',\n",
       " 'grey = not plotted',\n",
       " 'Anthrax (untreated)',\n",
       " 'Bird Flu (H5N1)',\n",
       " 'Bubonic Plague (untreated)',\n",
       " 'C.Difficile',\n",
       " 'Campylobacter',\n",
       " 'Chicken Pox',\n",
       " 'Cholera',\n",
       " 'Dengue Fever',\n",
       " 'Diphtheria',\n",
       " 'E.coli',\n",
       " 'Ebola',\n",
       " 'Hepatitis B',\n",
       " 'HIV (treated)',\n",
       " 'HIV (untreated)',\n",
       " 'Influenza Pandemic 1918',\n",
       " 'Lyme Disease',\n",
       " 'Malaria (P. falciparum)',\n",
       " 'Malaria (P. malariae)',\n",
       " 'Measles',\n",
       " 'MERS',\n",
       " 'MRSA',\n",
       " 'Mumps',\n",
       " 'Norovirus',\n",
       " 'Pertussis (Whooping Cough)',\n",
       " 'Polio',\n",
       " 'Rabies (treated)',\n",
       " 'Rabies (untreated)',\n",
       " 'Rhinovirus',\n",
       " 'Rotavirus',\n",
       " 'Rubella',\n",
       " 'Salmonella',\n",
       " 'SARS',\n",
       " 'Scarlet Fever',\n",
       " 'Seasonal Flu',\n",
       " 'Smallpox',\n",
       " 'Swine Flu (H1N1)',\n",
       " 'Syphilis (untreated)',\n",
       " 'Tuberculosis (untreated)',\n",
       " 'Typhoid',\n",
       " 'Pneumonic Plague (untreated)']"
      ]
     },
     "execution_count": 5,
     "metadata": {},
     "output_type": "execute_result"
    }
   ],
   "source": [
    "ws.col_values(1)"
   ]
  },
  {
   "cell_type": "code",
   "execution_count": 8,
   "id": "0eae3e8b",
   "metadata": {},
   "outputs": [],
   "source": [
    "import pandas as pd"
   ]
  },
  {
   "cell_type": "code",
   "execution_count": 9,
   "id": "376dc61e",
   "metadata": {},
   "outputs": [
    {
     "name": "stdout",
     "output_type": "stream",
     "text": [
      "<class 'pandas.core.frame.DataFrame'>\n",
      "RangeIndex: 41 entries, 0 to 40\n",
      "Data columns (total 23 columns):\n",
      " #   Column                                                                        Non-Null Count  Dtype \n",
      "---  ------                                                                        --------------  ----- \n",
      " 0                                                                                 41 non-null     object\n",
      " 1   case fatality rate                                                            41 non-null     object\n",
      " 2   note                                                                          41 non-null     object\n",
      " 3   average basic reproductive rate                                               41 non-null     object\n",
      " 4   primary mode of transmission                                                  41 non-null     object\n",
      " 5   survival time on surfaces                                                     41 non-null     object\n",
      " 6   survival in ideal conditions (ie. blood, faeces)                              41 non-null     object\n",
      " 7   pathogen type                                                                 41 non-null     object\n",
      " 8   infectious dose                                                               41 non-null     object\n",
      " 9   viral load in acute stage                                                     41 non-null     object\n",
      " 10  yearly fatalities                                                             41 non-null     object\n",
      " 11  lower R0                                                                      41 non-null     object\n",
      " 12  upper R0                                                                      41 non-null     object\n",
      " 13  survival time on surfaces, room temp (hours)                                  41 non-null     object\n",
      " 14  lower                                                                         41 non-null     object\n",
      " 15  infectious dose second source                                                 41 non-null     object\n",
      " 16  infectious dose third source                                                  41 non-null     object\n",
      " 17  sources                                                                       41 non-null     object\n",
      " 18  http://www.phac-aspc.gc.ca/lab-bio/res/psds-ftss/index-eng.php#v              41 non-null     object\n",
      " 19  http://www.who.int/healthinfo/global_burden_disease/estimates/en/index1.html  41 non-null     object\n",
      " 20  http://www.cdc.gov/mmwr/PDF/wk/mm6153.pdf                                     41 non-null     object\n",
      " 21  http://en.wikipedia.org/wiki/Human_mortality_from_H5N1                        41 non-null     object\n",
      " 22  individual links given in hidden columns to right, where different            41 non-null     object\n",
      "dtypes: object(23)\n",
      "memory usage: 7.5+ KB\n"
     ]
    }
   ],
   "source": [
    "# create a dataframe from the Google spreadsheet\n",
    "df = pd.DataFrame(ws.get_all_records(expected_headers=[]))\n",
    "df.info()"
   ]
  },
  {
   "cell_type": "markdown",
   "id": "9474887f",
   "metadata": {},
   "source": [
    "## Using the Twitter API with Tweepy"
   ]
  },
  {
   "cell_type": "code",
   "execution_count": 10,
   "id": "99da518a-32b4-44ee-aced-1d364850c433",
   "metadata": {},
   "outputs": [
    {
     "name": "stdout",
     "output_type": "stream",
     "text": [
      "Requirement already satisfied: tweepy in /home/kyran/.virtualenvs/pyjsdv/lib/python3.10/site-packages (4.10.0)\r\n",
      "Requirement already satisfied: oauthlib<4,>=3.2.0 in /home/kyran/.virtualenvs/pyjsdv/lib/python3.10/site-packages (from tweepy) (3.2.0)\r\n",
      "Requirement already satisfied: requests<3,>=2.27.0 in /home/kyran/.virtualenvs/pyjsdv/lib/python3.10/site-packages (from tweepy) (2.28.1)\r\n",
      "Requirement already satisfied: requests-oauthlib<2,>=1.2.0 in /home/kyran/.virtualenvs/pyjsdv/lib/python3.10/site-packages (from tweepy) (1.3.1)\r\n",
      "Requirement already satisfied: urllib3<1.27,>=1.21.1 in /home/kyran/.virtualenvs/pyjsdv/lib/python3.10/site-packages (from requests<3,>=2.27.0->tweepy) (1.26.11)\r\n",
      "Requirement already satisfied: charset-normalizer<3,>=2 in /home/kyran/.virtualenvs/pyjsdv/lib/python3.10/site-packages (from requests<3,>=2.27.0->tweepy) (2.1.0)\r\n",
      "Requirement already satisfied: certifi>=2017.4.17 in /home/kyran/.virtualenvs/pyjsdv/lib/python3.10/site-packages (from requests<3,>=2.27.0->tweepy) (2022.6.15)\r\n",
      "Requirement already satisfied: idna<4,>=2.5 in /home/kyran/.virtualenvs/pyjsdv/lib/python3.10/site-packages (from requests<3,>=2.27.0->tweepy) (3.3)\r\n"
     ]
    }
   ],
   "source": [
    "!pip install tweepy"
   ]
  },
  {
   "cell_type": "code",
   "execution_count": 11,
   "id": "8264cce1",
   "metadata": {},
   "outputs": [],
   "source": [
    "# Please replace the following keys with your own\n",
    "consumer_key = \"pIorGFGQHShuYQtIxzYWk1jMD\"\n",
    "consumer_secret = \"yLc4Hw82G0Zn4vTi4q8pSBcNyHkn35BfIe1L01whed5oVa4P7R\"\n",
    "\n",
    "access_token = \"2677230157-gFSNI8YlwEUuhnyzF66SBma0AXSUXUcL8elBnLV\"\n",
    "access_token_secret = \"AR5FUBdPDUcYcmugFbSK7TSbl7XEyHvSOpTIqhC3iqom3\""
   ]
  },
  {
   "cell_type": "code",
   "execution_count": 12,
   "id": "1a5a09a7",
   "metadata": {},
   "outputs": [
    {
     "name": "stdout",
     "output_type": "stream",
     "text": [
      "RT @DogGuyJosh: @doctorow If they were really independent, they should be allowed to set their own rates.\n",
      "RT @DiabeticCyborgg: #ThisDayInHistory by @doctorow https://t.co/6DTz9s1gpr #History #Tech #Technology #Life\n",
      "UKRAINE LATEST | ERDOGAN MEETS PUTIN IN RUSSIA\n",
      "\n",
      "Russian President Vladimir Putin and Turkish President Recep Tayyip… https://t.co/0SEZOdQP0X\n",
      "A 3D population density map of the U.S, from https://t.co/mYsOKI0Xaa\n",
      "\n",
      "You can see that we have only one really dens… https://t.co/8ZhKnuLQzx\n",
      "RT @dusseldorp: Fantastic short story by Matt Webb about Dall-e. \"Two cat food tins rotated lazily together and identically, the original a…\n",
      "\"The issue is not the code: It is the lack of institutions securing the code.\" https://t.co/ep38udduf3\n",
      "The Nymph Echo, 1936 #ernst #maxernst https://t.co/fsmko9qXpI https://t.co/vOoZOA05D4\n",
      "Come play #scottalmes new game, The Comic Book Bubble, in our booth #2319 and various scheduled events throughout t… https://t.co/qMlk3tPu1B\n",
      "This Twitter user doesn't appear to be German but they're partaking so fully of the current nuclear opposition mood… https://t.co/BIIlNq9imW\n",
      "RT @artistmasson: Prisoner of the Mirror: Transfiguring Your Death, 1939 #surrealism #masson https://t.co/llK42clRrJ https://t.co/8Jfx3U9pZd\n",
      "RT @mattmarque: @matdmorgan @doctorow Agree 1000%. It’s faster to just get in the cab line now at ORD and MDW. The rideshare pickups are us…\n",
      "RT @iphigenie: @KevinMCashman @doctorow Uber is like watching a new remake of The Producers every year\n",
      "RT @gunsnrosesgirl3: The size of baby hummingbirds \n",
      "https://t.co/AgEO8jOYUM\n",
      "RT @4GrahamWilliams: EPITDA may be a typo but it may be “Earnings” Presentation Intended To Deceive Analysis.\n",
      "RT @njmksr: Applies for any military technology, btw, or any technology in general large groups of people hyperfixate on\n",
      "Way too big. \n",
      "https://t.co/KKw61brMJU\n",
      "RT @schofeld: @jwsal On a related rentier note\n",
      "RT @natabalzana: Abbiamo già apprezzato i frutti velenosi delle liberalizzazioni di altri settori, anche più strategici dei taxi. Per noi u…\n",
      "Je découvre avec retard le podcast #SourcesDiplomatiques, excellente initiative de @francediplo - et cet épisode es… https://t.co/2vtbdX6fsR\n",
      "When on a plane, train, bus or other public transport and someone sits next to me with a mask, I cough even if I'm.… https://t.co/zvA42qzFQI\n"
     ]
    }
   ],
   "source": [
    "import tweepy\n",
    "\n",
    "auth = tweepy.OAuthHandler(consumer_key, consumer_secret)\n",
    "auth.set_access_token(access_token, access_token_secret)\n",
    "\n",
    "api = tweepy.API(auth)\n",
    "\n",
    "public_tweets = api.home_timeline()\n",
    "for tweet in public_tweets:\n",
    "    print(tweet.text)"
   ]
  },
  {
   "cell_type": "code",
   "execution_count": null,
   "id": "e4a4caff",
   "metadata": {},
   "outputs": [],
   "source": [
    "# If you run this you will probably get a rate-limit warning:\n",
    "# TooManyRequests: 429 Too Many Requests\n",
    "# 88 - Rate limit exceeded\n",
    "# Throttling API access by introducing a time-lag between calls is a good idea...\n",
    "\n",
    "# my_follower_ids = api.get_follower_ids()\n",
    "\n",
    "# followers_tree = {'followers': []}\n",
    "# for id in my_follower_ids:\n",
    "#     # get the followers of your followers\n",
    "#     try:\n",
    "#         follower_ids = api.get_follower_ids(user_id=id)\n",
    "#     except tweepy.errors.Unauthorized:\n",
    "#         print(\"Unauthorized to access user %d's followers\"\\\n",
    "#               %(id))\n",
    "        \n",
    "#     # print(follower_ids)\n",
    "#     followers_tree['followers'].append({'id': id, 'follower_ids': follower_ids})\n",
    "\n",
    "# Out:\n",
    "# IDS:\n",
    "# [848081553368416256, 1238598018984804354, 1454353687426437128, 29536674, 1147748591579983873,\n",
    "#  2911839069, 393643881, 762972869974454274, 1182283437685821445, 161144913, 246221409, 4150281875,\n",
    "#  1294255292008538116, ... ]"
   ]
  },
  {
   "cell_type": "code",
   "execution_count": 13,
   "id": "d70b116d",
   "metadata": {},
   "outputs": [],
   "source": [
    "import json\n",
    "\n",
    "\n",
    "class MyStream(tweepy.Stream):\n",
    "    \"\"\" Customized tweet stream \"\"\"\n",
    " \n",
    "    def on_data(self, tweet):\n",
    "        \"\"\"Do something with the tweet data...\"\"\"\n",
    "        print(tweet)\n",
    "    \n",
    "    def on_error(self, status):\n",
    "        return True # keep stream open\n",
    "\n",
    "# UNCOMMENT TO RUN THE STREAM:\n",
    "#stream = MyStream(consumer_key, consumer_secret, access_token, access_token_secret)\n",
    "# Start the stream with track list of keywords\n",
    "#stream.filter(track=['python', 'javascript', 'dataviz'])\n",
    "\n",
    "#b'{\"created_at\":\"Sun Nov 28 20:47:38 +0000 2021\",\"id\":1465059835033137155,\"id_str\":\"1465059835033137155\",\n",
    "#\"text\":\"RT @bluejak3: Ukrainian Translation for XenForo\\\\nhttps:\\\\/\\\\/t.co\\\\/Nr2u7Xm46t\\\\n#bigdata \\\\n\n",
    "#DEVCommunity #teChnOlOgy #Programming #AI #iioT #100Days\\\\u2026\",\"source\":\"\\\\u003ca href=\\\\\"http:\\\\/\\\\\n",
    "#/programmingbuddy.club\\\\\" rel=\\\\\"nofollow\\\\\"\\\\u003eUdemy Offer\\\\u003c\\\\/a\\\\u003e\",\"truncated\":false,\n",
    "#\"in_reply_to_status_id\":null,\"in_reply_to_status_id_str\":null,\"in_reply_to_user_id\":null,\"in_reply_\n",
    "#to_user_id_str\":null,\"in_reply_to_screen_name\":null,\"user\":{\"id\":811058560868159488,\"id_str\":\"81105856086\n",
    "#8159488\",\"name\":\"ProgrammingBuddyClub\",\"screen_name\":\"programminbuddy\",\"location\":\"United States\",\"url\":\n",
    "#\"http:\\\\/\\\\/www.programmingbuddy.club\\\\/\",\"description\":\"Learning Should be free.. Free courses from \n",
    "#Udemy, Coursera, Udacity and many more!\",\"translator_type\":\"none\",\"protected\":false,\"verified\":false,\"followers_count\":1192,\"friends_count\":96,\"listed_count\"\n",
    "#:121,\"favourites_count\":52,\"statuses_count\":58513,\"created_at\":\"Tue Dec 20 04:00:04+0000 2016\",\"utc_offset\n",
    "#\":null,\"time_zone\":null,\"geo_enabled\":false,\"lang\":null,\"contributors_enabled\":false,\"is_translator\":\n",
    "#false,\"profile_background_color\":\"000000\",\"profile_background_image_ur ..."
   ]
  },
  {
   "cell_type": "markdown",
   "id": "16faeb47",
   "metadata": {},
   "source": [
    "## Scraping Data"
   ]
  },
  {
   "cell_type": "markdown",
   "id": "c0d5c161",
   "metadata": {},
   "source": [
    "## BeautifulSoup and lxml"
   ]
  },
  {
   "cell_type": "code",
   "execution_count": 14,
   "id": "588f1128-0bdc-4031-be64-ab3a34c62890",
   "metadata": {},
   "outputs": [
    {
     "name": "stdout",
     "output_type": "stream",
     "text": [
      "Requirement already satisfied: beautifulsoup4 in /home/kyran/.virtualenvs/pyjsdv/lib/python3.10/site-packages (4.11.1)\n",
      "Requirement already satisfied: soupsieve>1.2 in /home/kyran/.virtualenvs/pyjsdv/lib/python3.10/site-packages (from beautifulsoup4) (2.3.2.post1)\n",
      "Requirement already satisfied: lxml in /home/kyran/.virtualenvs/pyjsdv/lib/python3.10/site-packages (4.9.1)\n"
     ]
    }
   ],
   "source": [
    "!pip install beautifulsoup4\n",
    "!pip install lxml"
   ]
  },
  {
   "cell_type": "code",
   "execution_count": 15,
   "id": "073ce18c",
   "metadata": {},
   "outputs": [],
   "source": [
    "from bs4 import BeautifulSoup\n",
    "import requests\n",
    "BASE_URL = 'http://en.wikipedia.org'\n",
    "# Wikipedia will reject our request unless we add\n",
    "# a 'User-Agent' attribute to our http header.\n",
    "HEADERS = {'User-Agent': 'Mozilla/5.0'}\n",
    "def get_Nobel_soup():\n",
    "    \"\"\" Return a parsed tag tree of our Nobel prize page \"\"\"\n",
    "# Make a request to the Nobel page, setting valid headers\n",
    "    response = requests.get(\n",
    "    BASE_URL + '/wiki/List_of_Nobel_laureates',\n",
    "    headers=HEADERS)\n",
    "    return BeautifulSoup(response.content, \"lxml\")"
   ]
  },
  {
   "cell_type": "code",
   "execution_count": 16,
   "id": "63a91b6f",
   "metadata": {},
   "outputs": [],
   "source": [
    "soup = get_Nobel_soup()"
   ]
  },
  {
   "cell_type": "code",
   "execution_count": 17,
   "id": "628ab119",
   "metadata": {},
   "outputs": [
    {
     "name": "stdout",
     "output_type": "stream",
     "text": [
      "<table class=\"wikitable sortable\">\n",
      "<tbody><tr>\n",
      "<th>Year\n",
      "</th>\n",
      "<th width=\"18%\"><a href=\"/wiki/List_of_Nobel_laureates_in_Physics\" title=\"List of Nobel laureates in Physics\">Physics</a>\n",
      "</th>\n",
      "<th width=\"16%\"><a href=\"/wiki/List_of_Nobel_laureates_in_Chemistry\" title=\"List of Nobel laureates in Chemistry\">Chemistry</a>\n",
      "</th>\n",
      "<th width=\"18%\"><a href=\"/wiki/List_of_Nobel_laureates_in_Physiology_or_Medicine\" title=\"List of Nobel laureates in Physiology or Medicine\">Physiology<br/>or Medicine</a>\n",
      "</th>\n",
      "<th width=\"16%\"><a href=\"/wiki/List_of_Nobel_laureates_in_Literature\" title=\"List of Nobel laureates in Literature\">Literature</a>\n",
      "</th>\n",
      "<th width=\"16%\"><a href=\"/wiki/List_of_Nobel_Peace_Prize_laureates\" title=\"List of Nobel Peace Prize laureates\">Peace</a>\n",
      "</th>\n",
      "<th width=\"15%\"><a class=\"mw-redirect\" href=\"/wiki/List_of_Nobel_laureates_in_Economics\" title=\"List of Nobel laureates in Economics\">Economics</a><br/>(The Sveriges Riksbank Prize)<sup class=\"reference\" id=\"cite_ref-13\"><a href=\"#cit\n"
     ]
    }
   ],
   "source": [
    "wikitable = soup.find('table', {'class':'wikitable sortable'})\n",
    "# The wikitable's HTML\n",
    "print(repr(wikitable)[:1000])"
   ]
  },
  {
   "cell_type": "code",
   "execution_count": 30,
   "id": "acbe5edd",
   "metadata": {},
   "outputs": [],
   "source": [
    "soup.find('table', {'class':'sortable wikitable'})"
   ]
  },
  {
   "cell_type": "code",
   "execution_count": 31,
   "id": "b2399c4a",
   "metadata": {},
   "outputs": [
    {
     "name": "stdout",
     "output_type": "stream",
     "text": [
      "<table class=\"wikitable sortable\">\n",
      "<tbody><tr>\n",
      "<th>Year\n",
      "</th>\n",
      "<th width=\"18%\"><a href=\"/wiki/List_of_Nobel_laureates_in_Physics\" title=\"List of Nobel laureates in Physics\">Physics</a>\n",
      "</th>\n",
      "<th width=\"16%\"><a href=\"/wiki/List_of_Nobel_laureates_in_Chemistry\" title=\"List of Nobel laureates in Chemistry\">Chemistry</a>\n",
      "</th>\n",
      "<th width=\"18%\"><a href=\"/wiki/List_of_Nobel_laureates_in_Physiology_or_Medicine\" title=\"List of Nobel laureates in Physiology or Medicine\">Physiology<br/>or Medicine</a>\n",
      "</th>\n",
      "<th width=\"16%\"><a href=\"/wiki/List_of_Nobel_laureates_in_Literature\" title=\"List of Nobel laureates in Literature\">Literature</a>\n",
      "</th>\n",
      "<th width=\"16%\"><a href=\"/wiki/List_of_Nobel_Peace_Prize_laureates\" title=\"List of Nobel Peace Prize laureates\">Peace</a>\n",
      "</th>\n",
      "<th width=\"15%\"><a class=\"mw-redirect\" href=\"/wiki/List_of_Nobel_laureates_in_Economics\" title=\"List of Nobel laureates in Economics\">Economics</a><br/>(The Sveriges Riksbank Prize)<sup class=\"reference\" id=\"cite_ref-13\"><a href=\"#cit\n"
     ]
    }
   ],
   "source": [
    "table = soup.select('table.sortable.wikitable')\n",
    "print(repr(wikitable)[:1000])"
   ]
  },
  {
   "cell_type": "code",
   "execution_count": 20,
   "id": "e9707fb3",
   "metadata": {},
   "outputs": [
    {
     "data": {
      "text/plain": [
       "[<th>Year\n",
       " </th>,\n",
       " <th width=\"18%\"><a href=\"/wiki/List_of_Nobel_laureates_in_Physics\" title=\"List of Nobel laureates in Physics\">Physics</a>\n",
       " </th>,\n",
       " <th width=\"16%\"><a href=\"/wiki/List_of_Nobel_laureates_in_Chemistry\" title=\"List of Nobel laureates in Chemistry\">Chemistry</a>\n",
       " </th>,\n",
       " <th width=\"18%\"><a href=\"/wiki/List_of_Nobel_laureates_in_Physiology_or_Medicine\" title=\"List of Nobel laureates in Physiology or Medicine\">Physiology<br/>or Medicine</a>\n",
       " </th>,\n",
       " <th width=\"16%\"><a href=\"/wiki/List_of_Nobel_laureates_in_Literature\" title=\"List of Nobel laureates in Literature\">Literature</a>\n",
       " </th>,\n",
       " <th width=\"16%\"><a href=\"/wiki/List_of_Nobel_Peace_Prize_laureates\" title=\"List of Nobel Peace Prize laureates\">Peace</a>\n",
       " </th>,\n",
       " <th width=\"15%\"><a class=\"mw-redirect\" href=\"/wiki/List_of_Nobel_laureates_in_Economics\" title=\"List of Nobel laureates in Economics\">Economics</a><br/>(The Sveriges Riksbank Prize)<sup class=\"reference\" id=\"cite_ref-13\"><a href=\"#cite_note-13\">[13]</a></sup><sup class=\"reference\" id=\"cite_ref-14\"><a href=\"#cite_note-14\">[a]</a></sup>\n",
       " </th>,\n",
       " <th>Year\n",
       " </th>,\n",
       " <th width=\"16%\"><a href=\"/wiki/List_of_Nobel_laureates_in_Physics\" title=\"List of Nobel laureates in Physics\">Physics</a>\n",
       " </th>,\n",
       " <th width=\"16%\"><a href=\"/wiki/List_of_Nobel_laureates_in_Chemistry\" title=\"List of Nobel laureates in Chemistry\">Chemistry</a>\n",
       " </th>,\n",
       " <th width=\"16%\"><a href=\"/wiki/List_of_Nobel_laureates_in_Physiology_or_Medicine\" title=\"List of Nobel laureates in Physiology or Medicine\">Physiology<br/>or Medicine</a>\n",
       " </th>,\n",
       " <th width=\"16%\"><a href=\"/wiki/List_of_Nobel_laureates_in_Literature\" title=\"List of Nobel laureates in Literature\">Literature</a>\n",
       " </th>,\n",
       " <th width=\"16%\"><a href=\"/wiki/List_of_Nobel_Peace_Prize_laureates\" title=\"List of Nobel Peace Prize laureates\">Peace</a>\n",
       " </th>,\n",
       " <th width=\"15%\"><a class=\"mw-redirect\" href=\"/wiki/List_of_Nobel_laureates_in_Economics\" title=\"List of Nobel laureates in Economics\">Economics</a>\n",
       " </th>]"
      ]
     },
     "execution_count": 20,
     "metadata": {},
     "output_type": "execute_result"
    }
   ],
   "source": [
    "table = soup.select_one('table.sortable.wikitable')\n",
    "table.select('th')"
   ]
  },
  {
   "cell_type": "code",
   "execution_count": 21,
   "id": "b9534ee7",
   "metadata": {},
   "outputs": [
    {
     "data": {
      "text/plain": [
       "[<th>Year\n",
       " </th>,\n",
       " <th width=\"18%\"><a href=\"/wiki/List_of_Nobel_laureates_in_Physics\" title=\"List of Nobel laureates in Physics\">Physics</a>\n",
       " </th>,\n",
       " <th width=\"16%\"><a href=\"/wiki/List_of_Nobel_laureates_in_Chemistry\" title=\"List of Nobel laureates in Chemistry\">Chemistry</a>\n",
       " </th>,\n",
       " <th width=\"18%\"><a href=\"/wiki/List_of_Nobel_laureates_in_Physiology_or_Medicine\" title=\"List of Nobel laureates in Physiology or Medicine\">Physiology<br/>or Medicine</a>\n",
       " </th>,\n",
       " <th width=\"16%\"><a href=\"/wiki/List_of_Nobel_laureates_in_Literature\" title=\"List of Nobel laureates in Literature\">Literature</a>\n",
       " </th>,\n",
       " <th width=\"16%\"><a href=\"/wiki/List_of_Nobel_Peace_Prize_laureates\" title=\"List of Nobel Peace Prize laureates\">Peace</a>\n",
       " </th>,\n",
       " <th width=\"15%\"><a class=\"mw-redirect\" href=\"/wiki/List_of_Nobel_laureates_in_Economics\" title=\"List of Nobel laureates in Economics\">Economics</a><br/>(The Sveriges Riksbank Prize)<sup class=\"reference\" id=\"cite_ref-13\"><a href=\"#cite_note-13\">[13]</a></sup><sup class=\"reference\" id=\"cite_ref-14\"><a href=\"#cite_note-14\">[a]</a></sup>\n",
       " </th>,\n",
       " <th>Year\n",
       " </th>,\n",
       " <th width=\"16%\"><a href=\"/wiki/List_of_Nobel_laureates_in_Physics\" title=\"List of Nobel laureates in Physics\">Physics</a>\n",
       " </th>,\n",
       " <th width=\"16%\"><a href=\"/wiki/List_of_Nobel_laureates_in_Chemistry\" title=\"List of Nobel laureates in Chemistry\">Chemistry</a>\n",
       " </th>,\n",
       " <th width=\"16%\"><a href=\"/wiki/List_of_Nobel_laureates_in_Physiology_or_Medicine\" title=\"List of Nobel laureates in Physiology or Medicine\">Physiology<br/>or Medicine</a>\n",
       " </th>,\n",
       " <th width=\"16%\"><a href=\"/wiki/List_of_Nobel_laureates_in_Literature\" title=\"List of Nobel laureates in Literature\">Literature</a>\n",
       " </th>,\n",
       " <th width=\"16%\"><a href=\"/wiki/List_of_Nobel_Peace_Prize_laureates\" title=\"List of Nobel Peace Prize laureates\">Peace</a>\n",
       " </th>,\n",
       " <th width=\"15%\"><a class=\"mw-redirect\" href=\"/wiki/List_of_Nobel_laureates_in_Economics\" title=\"List of Nobel laureates in Economics\">Economics</a>\n",
       " </th>]"
      ]
     },
     "execution_count": 21,
     "metadata": {},
     "output_type": "execute_result"
    }
   ],
   "source": [
    "table('th')"
   ]
  },
  {
   "cell_type": "code",
   "execution_count": 22,
   "id": "5f766d55",
   "metadata": {},
   "outputs": [],
   "source": [
    "def get_column_titles(table):\n",
    "    \"\"\" Get the Nobel categories from the table header \"\"\"\n",
    "    cols = []\n",
    "    for th in table.select_one('tr').select('th')[1:]:\n",
    "        link = th.select_one('a')\n",
    "        # Store the category name and any Wikipedia link it has\n",
    "        if link:\n",
    "            cols.append({'name':link.text, 'href':link.attrs['href']})\n",
    "        else:\n",
    "            cols.append({'name':th.text, 'href':None})\n",
    "    return cols"
   ]
  },
  {
   "cell_type": "code",
   "execution_count": 23,
   "id": "46d5120b",
   "metadata": {},
   "outputs": [
    {
     "data": {
      "text/plain": [
       "[{'name': 'Physics', 'href': '/wiki/List_of_Nobel_laureates_in_Physics'},\n",
       " {'name': 'Chemistry', 'href': '/wiki/List_of_Nobel_laureates_in_Chemistry'},\n",
       " {'name': 'Physiologyor Medicine',\n",
       "  'href': '/wiki/List_of_Nobel_laureates_in_Physiology_or_Medicine'},\n",
       " {'name': 'Literature', 'href': '/wiki/List_of_Nobel_laureates_in_Literature'},\n",
       " {'name': 'Peace', 'href': '/wiki/List_of_Nobel_Peace_Prize_laureates'},\n",
       " {'name': 'Economics', 'href': '/wiki/List_of_Nobel_laureates_in_Economics'}]"
      ]
     },
     "execution_count": 23,
     "metadata": {},
     "output_type": "execute_result"
    }
   ],
   "source": [
    "get_column_titles(table)"
   ]
  },
  {
   "cell_type": "code",
   "execution_count": 24,
   "id": "d0de3295",
   "metadata": {},
   "outputs": [],
   "source": [
    "def get_Nobel_winners(table):\n",
    "    cols = get_column_titles(table)\n",
    "    winners = []\n",
    "    for row in table.select('tr')[1:-1]:\n",
    "        year = int(row.select_one('td').text)\n",
    "        for i, td in enumerate(row.select('td')[1:]):\n",
    "            for winner in td.select('a'):\n",
    "                href = winner.attrs['href']\n",
    "                if not href.startswith('#endnote'):\n",
    "                    winners.append({\n",
    "                    'year':year,\n",
    "                    'category':cols[i]['name'],\n",
    "                    'name':winner.text,\n",
    "                    'link':winner.attrs['href']\n",
    "                    })\n",
    "    return winners"
   ]
  },
  {
   "cell_type": "code",
   "execution_count": 25,
   "id": "5381d2fb",
   "metadata": {},
   "outputs": [
    {
     "data": {
      "text/plain": [
       "[{'year': 1901,\n",
       "  'category': 'Physics',\n",
       "  'name': 'Wilhelm Röntgen',\n",
       "  'link': '/wiki/Wilhelm_R%C3%B6ntgen'},\n",
       " {'year': 1901,\n",
       "  'category': 'Chemistry',\n",
       "  'name': \"Jacobus Henricus van 't Hoff\",\n",
       "  'link': '/wiki/Jacobus_Henricus_van_%27t_Hoff'},\n",
       " {'year': 1901,\n",
       "  'category': 'Physiologyor Medicine',\n",
       "  'name': 'Emil Adolf von Behring',\n",
       "  'link': '/wiki/Emil_Adolf_von_Behring'},\n",
       " {'year': 1901,\n",
       "  'category': 'Literature',\n",
       "  'name': 'Sully Prudhomme',\n",
       "  'link': '/wiki/Sully_Prudhomme'},\n",
       " {'year': 1901,\n",
       "  'category': 'Peace',\n",
       "  'name': 'Henry Dunant',\n",
       "  'link': '/wiki/Henry_Dunant'},\n",
       " {'year': 1901,\n",
       "  'category': 'Peace',\n",
       "  'name': 'Frédéric Passy',\n",
       "  'link': '/wiki/Fr%C3%A9d%C3%A9ric_Passy'},\n",
       " {'year': 1902,\n",
       "  'category': 'Physics',\n",
       "  'name': 'Hendrik Lorentz',\n",
       "  'link': '/wiki/Hendrik_Lorentz'},\n",
       " {'year': 1902,\n",
       "  'category': 'Physics',\n",
       "  'name': 'Pieter Zeeman',\n",
       "  'link': '/wiki/Pieter_Zeeman'},\n",
       " {'year': 1902,\n",
       "  'category': 'Chemistry',\n",
       "  'name': 'Hermann Emil Fischer',\n",
       "  'link': '/wiki/Hermann_Emil_Fischer'},\n",
       " {'year': 1902,\n",
       "  'category': 'Physiologyor Medicine',\n",
       "  'name': 'Ronald Ross',\n",
       "  'link': '/wiki/Ronald_Ross'}]"
      ]
     },
     "execution_count": 25,
     "metadata": {},
     "output_type": "execute_result"
    }
   ],
   "source": [
    "winners = get_Nobel_winners(table)\n",
    "winners[:10]"
   ]
  },
  {
   "cell_type": "markdown",
   "id": "028bd9ff-2d03-4860-8775-ef361d268368",
   "metadata": {},
   "source": [
    "### Caching the web-pages"
   ]
  },
  {
   "cell_type": "code",
   "execution_count": 26,
   "id": "58ff10df-f3bb-4e71-8a62-8ceb02700400",
   "metadata": {},
   "outputs": [
    {
     "name": "stdout",
     "output_type": "stream",
     "text": [
      "Requirement already satisfied: requests-cache in /home/kyran/.virtualenvs/pyjsdv/lib/python3.10/site-packages (0.9.5)\n",
      "Requirement already satisfied: urllib3<2.0.0,>=1.25.5 in /home/kyran/.virtualenvs/pyjsdv/lib/python3.10/site-packages (from requests-cache) (1.26.11)\n",
      "Requirement already satisfied: requests<3.0,>=2.22 in /home/kyran/.virtualenvs/pyjsdv/lib/python3.10/site-packages (from requests-cache) (2.28.1)\n",
      "Requirement already satisfied: appdirs<2.0.0,>=1.4.4 in /home/kyran/.virtualenvs/pyjsdv/lib/python3.10/site-packages (from requests-cache) (1.4.4)\n",
      "Requirement already satisfied: url-normalize<2.0,>=1.4 in /home/kyran/.virtualenvs/pyjsdv/lib/python3.10/site-packages (from requests-cache) (1.4.3)\n",
      "Requirement already satisfied: attrs<22.0,>=21.2 in /home/kyran/.virtualenvs/pyjsdv/lib/python3.10/site-packages (from requests-cache) (21.4.0)\n",
      "Requirement already satisfied: cattrs<=22.2,>=1.8 in /home/kyran/.virtualenvs/pyjsdv/lib/python3.10/site-packages (from requests-cache) (22.1.0)\n",
      "Requirement already satisfied: exceptiongroup>=1.0.0-rc.3 in /home/kyran/.virtualenvs/pyjsdv/lib/python3.10/site-packages (from requests-cache) (1.0.0rc8)\n",
      "Requirement already satisfied: certifi>=2017.4.17 in /home/kyran/.virtualenvs/pyjsdv/lib/python3.10/site-packages (from requests<3.0,>=2.22->requests-cache) (2022.6.15)\n",
      "Requirement already satisfied: charset-normalizer<3,>=2 in /home/kyran/.virtualenvs/pyjsdv/lib/python3.10/site-packages (from requests<3.0,>=2.22->requests-cache) (2.1.0)\n",
      "Requirement already satisfied: idna<4,>=2.5 in /home/kyran/.virtualenvs/pyjsdv/lib/python3.10/site-packages (from requests<3.0,>=2.22->requests-cache) (3.3)\n",
      "Requirement already satisfied: six in /home/kyran/.virtualenvs/pyjsdv/lib/python3.10/site-packages (from url-normalize<2.0,>=1.4->requests-cache) (1.16.0)\n"
     ]
    }
   ],
   "source": [
    "!pip install --upgrade requests-cache"
   ]
  },
  {
   "cell_type": "code",
   "execution_count": 32,
   "id": "c26f2763",
   "metadata": {},
   "outputs": [],
   "source": [
    "import requests\n",
    "import requests_cache\n",
    "\n",
    "\n",
    "requests_cache.install_cache('nobel_pages', backend='sqlite', expire_after=7200)"
   ]
  },
  {
   "cell_type": "code",
   "execution_count": 33,
   "id": "9d58ce18",
   "metadata": {},
   "outputs": [],
   "source": [
    "HEADERS = {'User-Agent': 'Mozilla/5.0'}\n",
    "\n",
    "def get_winner_nationality(w):\n",
    "    \"\"\" scrape biographic data from the winner's wikipedia page \"\"\"\n",
    "    # this will be cached with requests-cache\n",
    "    response = requests.get('http://en.wikipedia.org' + w['link'], headers=HEADERS)\n",
    "    content = response.content.decode('utf-8')\n",
    "    soup = BeautifulSoup(content)\n",
    "    person_data = {'name': w['name']}\n",
    "    attr_rows = soup.select('table.infobox tr')\n",
    "    for tr in attr_rows:\n",
    "        try:\n",
    "            attribute = tr.select_one('th').text\n",
    "            if attribute == 'Nationality':\n",
    "                person_data[attribute] = tr.select_one('td').text\n",
    "        except AttributeError:\n",
    "            pass\n",
    "    return person_data"
   ]
  },
  {
   "cell_type": "code",
   "execution_count": 34,
   "id": "fbd076ef",
   "metadata": {},
   "outputs": [
    {
     "data": {
      "text/plain": [
       "[{'name': 'Wilhelm Röntgen'},\n",
       " {'name': 'Theodor Mommsen'},\n",
       " {'name': 'Élie Ducommun'},\n",
       " {'name': 'Charles Albert Gobat'},\n",
       " {'name': 'Pierre Curie'},\n",
       " {'name': 'Marie Curie'},\n",
       " {'name': 'Niels Ryberg Finsen'},\n",
       " {'name': 'Randal Cremer'},\n",
       " {'name': 'Ivan Pavlov'},\n",
       " {'name': 'Institut de Droit International'},\n",
       " {'name': 'Philipp Lenard'},\n",
       " {'name': 'Bertha von Suttner'},\n",
       " {'name': 'Camillo Golgi'},\n",
       " {'name': 'Theodore Roosevelt'},\n",
       " {'name': 'Charles Louis Alphonse Laveran'},\n",
       " {'name': 'Ernesto Teodoro Moneta'},\n",
       " {'name': 'Louis Renault'},\n",
       " {'name': 'Ernest Rutherford'},\n",
       " {'name': 'Paul Ehrlich'},\n",
       " {'name': 'Rudolf Christoph Eucken'},\n",
       " {'name': 'Klas Pontus Arnoldson'}]"
      ]
     },
     "execution_count": 34,
     "metadata": {},
     "output_type": "execute_result"
    }
   ],
   "source": [
    "wdata = []\n",
    "# test first 50 winners\n",
    "for w in winners[:50]:\n",
    "    wdata.append(get_winner_nationality(w))\n",
    "    \n",
    "missing_nationality = []\n",
    "for w in wdata:\n",
    "    # if missing 'Nationality' add to list\n",
    "    if not w.get('Nationality'):\n",
    "        missing_nationality.append(w)\n",
    "    # output list\n",
    "missing_nationality"
   ]
  },
  {
   "cell_type": "code",
   "execution_count": null,
   "id": "c73a3d5e",
   "metadata": {},
   "outputs": [],
   "source": []
  }
 ],
 "metadata": {
  "kernelspec": {
   "display_name": "Python 3 (ipykernel)",
   "language": "python",
   "name": "python3"
  },
  "language_info": {
   "codemirror_mode": {
    "name": "ipython",
    "version": 3
   },
   "file_extension": ".py",
   "mimetype": "text/x-python",
   "name": "python",
   "nbconvert_exporter": "python",
   "pygments_lexer": "ipython3",
   "version": "3.10.4"
  }
 },
 "nbformat": 4,
 "nbformat_minor": 5
}
