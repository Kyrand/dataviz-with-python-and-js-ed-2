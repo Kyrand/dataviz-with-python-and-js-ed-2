{
 "cells": [
  {
   "cell_type": "markdown",
   "id": "58ff2b20",
   "metadata": {},
   "source": [
    "## The DataFrame"
   ]
  },
  {
   "cell_type": "code",
   "execution_count": 104,
   "id": "db6ecfe4",
   "metadata": {},
   "outputs": [],
   "source": [
    "import pandas as pd"
   ]
  },
  {
   "cell_type": "code",
   "execution_count": 105,
   "id": "e13a2b57",
   "metadata": {},
   "outputs": [],
   "source": [
    "df = pd.read_json('data/nobel_winners_dirty.json')"
   ]
  },
  {
   "cell_type": "code",
   "execution_count": 106,
   "id": "a7037360",
   "metadata": {},
   "outputs": [],
   "source": [
    "df_orig = df.copy()"
   ]
  },
  {
   "cell_type": "markdown",
   "id": "9935d074",
   "metadata": {},
   "source": [
    "## Indices"
   ]
  },
  {
   "cell_type": "code",
   "execution_count": 107,
   "id": "6b7f7216",
   "metadata": {},
   "outputs": [
    {
     "data": {
      "text/plain": [
       "Index(['born_in', 'category', 'country', 'date_of_birth', 'date_of_death',\n",
       "       'gender', 'link', 'name', 'place_of_birth', 'place_of_death', 'text',\n",
       "       'year'],\n",
       "      dtype='object')"
      ]
     },
     "execution_count": 107,
     "metadata": {},
     "output_type": "execute_result"
    }
   ],
   "source": [
    "df.columns"
   ]
  },
  {
   "cell_type": "code",
   "execution_count": 108,
   "id": "1cb648bc",
   "metadata": {},
   "outputs": [
    {
     "data": {
      "text/plain": [
       "RangeIndex(start=0, stop=1052, step=1)"
      ]
     },
     "execution_count": 108,
     "metadata": {},
     "output_type": "execute_result"
    }
   ],
   "source": [
    "df.index"
   ]
  },
  {
   "cell_type": "code",
   "execution_count": 109,
   "id": "90fbd4f0",
   "metadata": {},
   "outputs": [],
   "source": [
    "df = df.set_index('name')"
   ]
  },
  {
   "cell_type": "code",
   "execution_count": 110,
   "id": "88da5d09",
   "metadata": {},
   "outputs": [
    {
     "name": "stdout",
     "output_type": "stream",
     "text": [
      "                born_in category      country date_of_birth date_of_death  \\\n",
      "name                                                                        \n",
      "Albert Einstein          Physics  Switzerland    1879-03-14    1955-04-18   \n",
      "Albert Einstein          Physics      Germany    1879-03-14    1955-04-18   \n",
      "\n",
      "                gender                                          link  \\\n",
      "name                                                                   \n",
      "Albert Einstein   male  http://en.wikipedia.org/wiki/Albert_Einstein   \n",
      "Albert Einstein   male  http://en.wikipedia.org/wiki/Albert_Einstein   \n",
      "\n",
      "                                           place_of_birth  \\\n",
      "name                                                        \n",
      "Albert Einstein  Ulm ,  Baden-Württemberg , German Empire   \n",
      "Albert Einstein  Ulm ,  Baden-Württemberg , German Empire   \n",
      "\n",
      "                               place_of_death  \\\n",
      "name                                            \n",
      "Albert Einstein  Princeton, New Jersey , U.S.   \n",
      "Albert Einstein  Princeton, New Jersey , U.S.   \n",
      "\n",
      "                                                              text  year  \n",
      "name                                                                      \n",
      "Albert Einstein  Albert Einstein ,  born in Germany , Physics, ...  1921  \n",
      "Albert Einstein                    Albert Einstein , Physics, 1921  1921  \n"
     ]
    }
   ],
   "source": [
    "print(df.loc['Albert Einstein'])"
   ]
  },
  {
   "cell_type": "code",
   "execution_count": 111,
   "id": "e8e1e540",
   "metadata": {},
   "outputs": [],
   "source": [
    "# return the index to original integer-based state\n",
    "df = df.reset_index()"
   ]
  },
  {
   "cell_type": "markdown",
   "id": "187c823e",
   "metadata": {},
   "source": [
    "## Rows and Columns"
   ]
  },
  {
   "cell_type": "code",
   "execution_count": 112,
   "id": "9a0561ce",
   "metadata": {},
   "outputs": [
    {
     "data": {
      "text/plain": [
       "name                                              Vladimir Prelog *\n",
       "born_in                                      Bosnia and Herzegovina\n",
       "category                                                  Chemistry\n",
       "country                                                            \n",
       "date_of_birth                                         July 23, 1906\n",
       "date_of_death                                            1998-01-07\n",
       "gender                                                         male\n",
       "link                   http://en.wikipedia.org/wiki/Vladimir_Prelog\n",
       "place_of_birth    Sarajevo ,  Bosnia and Herzegovina , then part...\n",
       "place_of_death                                Zürich ,  Switzerland\n",
       "text              Vladimir Prelog *,  born in then  Austria–Hung...\n",
       "year                                                           1975\n",
       "Name: 2, dtype: object"
      ]
     },
     "execution_count": 112,
     "metadata": {},
     "output_type": "execute_result"
    }
   ],
   "source": [
    "df.iloc[2]"
   ]
  },
  {
   "cell_type": "code",
   "execution_count": 113,
   "id": "63ae3f9e",
   "metadata": {},
   "outputs": [
    {
     "data": {
      "text/plain": [
       "pandas.core.series.Series"
      ]
     },
     "execution_count": 113,
     "metadata": {},
     "output_type": "execute_result"
    }
   ],
   "source": [
    "gender_col = df.gender # or df['gender']\n",
    "type(gender_col)"
   ]
  },
  {
   "cell_type": "code",
   "execution_count": 114,
   "id": "fa70decb",
   "metadata": {},
   "outputs": [
    {
     "data": {
      "text/plain": [
       "0    male\n",
       "1    male\n",
       "2    male\n",
       "3    None\n",
       "4    male\n",
       "Name: gender, dtype: object"
      ]
     },
     "execution_count": 114,
     "metadata": {},
     "output_type": "execute_result"
    }
   ],
   "source": [
    "gender_col.head()"
   ]
  },
  {
   "cell_type": "markdown",
   "id": "93283ce4",
   "metadata": {},
   "source": [
    "## Selecting Groups"
   ]
  },
  {
   "cell_type": "code",
   "execution_count": 115,
   "id": "283ea7ec",
   "metadata": {},
   "outputs": [
    {
     "data": {
      "text/plain": [
       "<pandas.core.groupby.generic.DataFrameGroupBy object at 0x7fc069f0df60>"
      ]
     },
     "execution_count": 115,
     "metadata": {},
     "output_type": "execute_result"
    }
   ],
   "source": [
    "cat_groups = df.groupby('category')\n",
    "cat_groups"
   ]
  },
  {
   "cell_type": "code",
   "execution_count": 116,
   "id": "8f95063a",
   "metadata": {},
   "outputs": [
    {
     "data": {
      "text/plain": [
       "dict_keys(['', 'Chemistry', 'Economics', 'Literature', 'Peace', 'Physics', 'Physiology or Medicine'])"
      ]
     },
     "execution_count": 116,
     "metadata": {},
     "output_type": "execute_result"
    }
   ],
   "source": [
    "cat_groups.groups.keys()"
   ]
  },
  {
   "cell_type": "code",
   "execution_count": 117,
   "id": "2529522c",
   "metadata": {},
   "outputs": [
    {
     "name": "stdout",
     "output_type": "stream",
     "text": [
      "                 name born_in category  country    date_of_birth  \\\n",
      "13   François Englert          Physics  Belgium  6 November 1932   \n",
      "19         Niels Bohr          Physics  Denmark   7 October 1885   \n",
      "23  Ben Roy Mottelson          Physics  Denmark     July 9, 1926   \n",
      "24          Aage Bohr          Physics  Denmark     19 June 1922   \n",
      "47     Alfred Kastler          Physics   France       3 May 1902   \n",
      "\n",
      "       date_of_death gender  \\\n",
      "13                     male   \n",
      "19  18 November 1962   male   \n",
      "23                     male   \n",
      "24  8 September 2009   male   \n",
      "47    7 January 1984   male   \n",
      "\n",
      "                                                 link  \\\n",
      "13  http://en.wikipedia.org/wiki/Fran%C3%A7ois_Eng...   \n",
      "19            http://en.wikipedia.org/wiki/Niels_Bohr   \n",
      "23     http://en.wikipedia.org/wiki/Ben_Roy_Mottelson   \n",
      "24             http://en.wikipedia.org/wiki/Aage_Bohr   \n",
      "47        http://en.wikipedia.org/wiki/Alfred_Kastler   \n",
      "\n",
      "                      place_of_birth         place_of_death  \\\n",
      "13  Etterbeek ,  Brussels ,  Belgium                          \n",
      "19               Copenhagen, Denmark    Copenhagen, Denmark   \n",
      "23                 Chicago, Illinois                          \n",
      "24             Copenhagen ,  Denmark  Copenhagen ,  Denmark   \n",
      "47                        Guebwiller       Bandol ,  France   \n",
      "\n",
      "                                 text  year  \n",
      "13   François Englert , Physics, 2013  2013  \n",
      "19         Niels Bohr , Physics, 1922  1922  \n",
      "23  Ben Roy Mottelson , Physics, 1975  1975  \n",
      "24          Aage Bohr , Physics, 1975  1975  \n",
      "47     Alfred Kastler , Physics, 1966  1966  \n"
     ]
    }
   ],
   "source": [
    "phy_group = cat_groups.get_group('Physics')\n",
    "print(phy_group.head())"
   ]
  },
  {
   "cell_type": "code",
   "execution_count": 118,
   "id": "273a5abe",
   "metadata": {},
   "outputs": [
    {
     "data": {
      "text/plain": [
       "0       False\n",
       "1       False\n",
       "2       False\n",
       "3       False\n",
       "4       False\n",
       "        ...  \n",
       "1047     True\n",
       "1048    False\n",
       "1049    False\n",
       "1050    False\n",
       "1051    False\n",
       "Name: category, Length: 1052, dtype: bool"
      ]
     },
     "execution_count": 118,
     "metadata": {},
     "output_type": "execute_result"
    }
   ],
   "source": [
    "df.category == 'Physics'"
   ]
  },
  {
   "cell_type": "code",
   "execution_count": 119,
   "id": "8872aee4",
   "metadata": {},
   "outputs": [
    {
     "name": "stdout",
     "output_type": "stream",
     "text": [
      "                          name    born_in category    country  \\\n",
      "13            François Englert             Physics    Belgium   \n",
      "19                  Niels Bohr             Physics    Denmark   \n",
      "23           Ben Roy Mottelson             Physics    Denmark   \n",
      "24                   Aage Bohr             Physics    Denmark   \n",
      "47              Alfred Kastler             Physics     France   \n",
      "...                        ...        ...      ...        ...   \n",
      "1022       Victor Francis Hess             Physics    Austria   \n",
      "1025            Wolfgang Pauli             Physics    Austria   \n",
      "1035  William Lawrence Bragg *  Australia  Physics              \n",
      "1039  Aleksandr M. Prokhorov *  Australia  Physics              \n",
      "1047          Brian P. Schmidt             Physics  Australia   \n",
      "\n",
      "          date_of_birth     date_of_death gender  \\\n",
      "13      6 November 1932                     male   \n",
      "19       7 October 1885  18 November 1962   male   \n",
      "23         July 9, 1926                     male   \n",
      "24         19 June 1922  8 September 2009   male   \n",
      "47           3 May 1902    7 January 1984   male   \n",
      "...                 ...               ...    ...   \n",
      "1022       24 June 1883  17 December 1964   male   \n",
      "1025      25 April 1900  15 December 1958   male   \n",
      "1035      31 March 1890       1 July 1971   male   \n",
      "1039       11 July 1916    8 January 2002   male   \n",
      "1047  February 24, 1967                     male   \n",
      "\n",
      "                                                   link  \\\n",
      "13    http://en.wikipedia.org/wiki/Fran%C3%A7ois_Eng...   \n",
      "19              http://en.wikipedia.org/wiki/Niels_Bohr   \n",
      "23       http://en.wikipedia.org/wiki/Ben_Roy_Mottelson   \n",
      "24               http://en.wikipedia.org/wiki/Aage_Bohr   \n",
      "47          http://en.wikipedia.org/wiki/Alfred_Kastler   \n",
      "...                                                 ...   \n",
      "1022   http://en.wikipedia.org/wiki/Victor_Francis_Hess   \n",
      "1025        http://en.wikipedia.org/wiki/Wolfgang_Pauli   \n",
      "1035  http://en.wikipedia.org/wiki/William_Lawrence_...   \n",
      "1039  http://en.wikipedia.org/wiki/Aleksandr_M._Prok...   \n",
      "1047      http://en.wikipedia.org/wiki/Brian_P._Schmidt   \n",
      "\n",
      "                            place_of_birth                    place_of_death  \\\n",
      "13        Etterbeek ,  Brussels ,  Belgium                                     \n",
      "19                     Copenhagen, Denmark               Copenhagen, Denmark   \n",
      "23                       Chicago, Illinois                                     \n",
      "24                   Copenhagen ,  Denmark             Copenhagen ,  Denmark   \n",
      "47                              Guebwiller                  Bandol ,  France   \n",
      "...                                    ...                               ...   \n",
      "1022  Schloss Waldstein, Peggau ,  Austria      Mount Vernon, New York , USA   \n",
      "1025             Vienna ,  Austria-Hungary             Zurich ,  Switzerland   \n",
      "1035      North Adelaide , South Australia  Waldringfield , Suffolk, England   \n",
      "1039     Atherton, Queensland ,  Australia                  Moscow ,  Russia   \n",
      "1047                     Missoula, Montana                                     \n",
      "\n",
      "                                                   text  year  \n",
      "13                     François Englert , Physics, 2013  2013  \n",
      "19                           Niels Bohr , Physics, 1922  1922  \n",
      "23                    Ben Roy Mottelson , Physics, 1975  1975  \n",
      "24                            Aage Bohr , Physics, 1975  1975  \n",
      "47                       Alfred Kastler , Physics, 1966  1966  \n",
      "...                                                 ...   ...  \n",
      "1022                Victor Francis Hess , Physics, 1936  1936  \n",
      "1025                     Wolfgang Pauli , Physics, 1945  1945  \n",
      "1035            William Lawrence Bragg *, Physics, 1915  1915  \n",
      "1039            Aleksandr M. Prokhorov *, Physics, 1964  1964  \n",
      "1047  Brian P. Schmidt ,  born in the United States ...  2011  \n",
      "\n",
      "[240 rows x 12 columns]\n"
     ]
    }
   ],
   "source": [
    "print(df[df.category == 'Physics'])"
   ]
  },
  {
   "cell_type": "markdown",
   "id": "32dcc9e0",
   "metadata": {},
   "source": [
    "## Creating and Saving DataFrames"
   ]
  },
  {
   "cell_type": "code",
   "execution_count": 120,
   "id": "36c415f3",
   "metadata": {},
   "outputs": [
    {
     "data": {
      "text/html": [
       "<div>\n",
       "<style scoped>\n",
       "    .dataframe tbody tr th:only-of-type {\n",
       "        vertical-align: middle;\n",
       "    }\n",
       "\n",
       "    .dataframe tbody tr th {\n",
       "        vertical-align: top;\n",
       "    }\n",
       "\n",
       "    .dataframe thead th {\n",
       "        text-align: right;\n",
       "    }\n",
       "</style>\n",
       "<table border=\"1\" class=\"dataframe\">\n",
       "  <thead>\n",
       "    <tr style=\"text-align: right;\">\n",
       "      <th></th>\n",
       "      <th>name</th>\n",
       "      <th>category</th>\n",
       "    </tr>\n",
       "  </thead>\n",
       "  <tbody>\n",
       "    <tr>\n",
       "      <th>0</th>\n",
       "      <td>Albert Einstein</td>\n",
       "      <td>Physics</td>\n",
       "    </tr>\n",
       "    <tr>\n",
       "      <th>1</th>\n",
       "      <td>Marie Curie</td>\n",
       "      <td>Chemistry</td>\n",
       "    </tr>\n",
       "    <tr>\n",
       "      <th>2</th>\n",
       "      <td>William Faulkner</td>\n",
       "      <td>Literature</td>\n",
       "    </tr>\n",
       "  </tbody>\n",
       "</table>\n",
       "</div>"
      ],
      "text/plain": [
       "               name    category\n",
       "0   Albert Einstein     Physics\n",
       "1       Marie Curie   Chemistry\n",
       "2  William Faulkner  Literature"
      ]
     },
     "execution_count": 120,
     "metadata": {},
     "output_type": "execute_result"
    }
   ],
   "source": [
    "df = pd.DataFrame({\n",
    "'name': ['Albert Einstein', 'Marie Curie',\\\n",
    "'William Faulkner'],\n",
    "'category': ['Physics', 'Chemistry', 'Literature']\n",
    "})\n",
    "df"
   ]
  },
  {
   "cell_type": "code",
   "execution_count": 121,
   "id": "60ec1722",
   "metadata": {},
   "outputs": [
    {
     "data": {
      "text/html": [
       "<div>\n",
       "<style scoped>\n",
       "    .dataframe tbody tr th:only-of-type {\n",
       "        vertical-align: middle;\n",
       "    }\n",
       "\n",
       "    .dataframe tbody tr th {\n",
       "        vertical-align: top;\n",
       "    }\n",
       "\n",
       "    .dataframe thead th {\n",
       "        text-align: right;\n",
       "    }\n",
       "</style>\n",
       "<table border=\"1\" class=\"dataframe\">\n",
       "  <thead>\n",
       "    <tr style=\"text-align: right;\">\n",
       "      <th></th>\n",
       "      <th>name</th>\n",
       "      <th>category</th>\n",
       "    </tr>\n",
       "  </thead>\n",
       "  <tbody>\n",
       "    <tr>\n",
       "      <th>0</th>\n",
       "      <td>Albert Einstein</td>\n",
       "      <td>Physics</td>\n",
       "    </tr>\n",
       "    <tr>\n",
       "      <th>1</th>\n",
       "      <td>Marie Curie</td>\n",
       "      <td>Chemistry</td>\n",
       "    </tr>\n",
       "    <tr>\n",
       "      <th>2</th>\n",
       "      <td>William Faulkner</td>\n",
       "      <td>Literature</td>\n",
       "    </tr>\n",
       "  </tbody>\n",
       "</table>\n",
       "</div>"
      ],
      "text/plain": [
       "               name    category\n",
       "0   Albert Einstein     Physics\n",
       "1       Marie Curie   Chemistry\n",
       "2  William Faulkner  Literature"
      ]
     },
     "execution_count": 121,
     "metadata": {},
     "output_type": "execute_result"
    }
   ],
   "source": [
    "df = pd.DataFrame.from_dict([\n",
    "{'name': 'Albert Einstein', 'category':'Physics'},\n",
    "{'name': 'Marie Curie', 'category':'Chemistry'},\n",
    "{'name': 'William Faulkner', 'category':'Literature'}\n",
    "])\n",
    "df"
   ]
  },
  {
   "cell_type": "code",
   "execution_count": 122,
   "id": "6b566ca4",
   "metadata": {},
   "outputs": [
    {
     "data": {
      "text/html": [
       "<div>\n",
       "<style scoped>\n",
       "    .dataframe tbody tr th:only-of-type {\n",
       "        vertical-align: middle;\n",
       "    }\n",
       "\n",
       "    .dataframe tbody tr th {\n",
       "        vertical-align: top;\n",
       "    }\n",
       "\n",
       "    .dataframe thead th {\n",
       "        text-align: right;\n",
       "    }\n",
       "</style>\n",
       "<table border=\"1\" class=\"dataframe\">\n",
       "  <thead>\n",
       "    <tr style=\"text-align: right;\">\n",
       "      <th></th>\n",
       "      <th>name</th>\n",
       "      <th>category</th>\n",
       "    </tr>\n",
       "  </thead>\n",
       "  <tbody>\n",
       "    <tr>\n",
       "      <th>0</th>\n",
       "      <td>Albert Einstein</td>\n",
       "      <td>Physics</td>\n",
       "    </tr>\n",
       "    <tr>\n",
       "      <th>1</th>\n",
       "      <td>Marie Curie</td>\n",
       "      <td>Chemistry</td>\n",
       "    </tr>\n",
       "    <tr>\n",
       "      <th>2</th>\n",
       "      <td>William Faulkner</td>\n",
       "      <td>Literature</td>\n",
       "    </tr>\n",
       "  </tbody>\n",
       "</table>\n",
       "</div>"
      ],
      "text/plain": [
       "               name    category\n",
       "0   Albert Einstein     Physics\n",
       "1       Marie Curie   Chemistry\n",
       "2  William Faulkner  Literature"
      ]
     },
     "execution_count": 122,
     "metadata": {},
     "output_type": "execute_result"
    }
   ],
   "source": [
    "df.head()"
   ]
  },
  {
   "cell_type": "markdown",
   "id": "9f7ce065",
   "metadata": {},
   "source": [
    "## CSV"
   ]
  },
  {
   "cell_type": "code",
   "execution_count": 123,
   "id": "9f028de2",
   "metadata": {},
   "outputs": [
    {
     "data": {
      "text/html": [
       "<div>\n",
       "<style scoped>\n",
       "    .dataframe tbody tr th:only-of-type {\n",
       "        vertical-align: middle;\n",
       "    }\n",
       "\n",
       "    .dataframe tbody tr th {\n",
       "        vertical-align: top;\n",
       "    }\n",
       "\n",
       "    .dataframe thead th {\n",
       "        text-align: right;\n",
       "    }\n",
       "</style>\n",
       "<table border=\"1\" class=\"dataframe\">\n",
       "  <thead>\n",
       "    <tr style=\"text-align: right;\">\n",
       "      <th></th>\n",
       "      <th>name</th>\n",
       "      <th>category</th>\n",
       "    </tr>\n",
       "  </thead>\n",
       "  <tbody>\n",
       "    <tr>\n",
       "      <th>0</th>\n",
       "      <td>Albert Einstein</td>\n",
       "      <td>Physics</td>\n",
       "    </tr>\n",
       "    <tr>\n",
       "      <th>1</th>\n",
       "      <td>Marie Curie</td>\n",
       "      <td>Chemistry</td>\n",
       "    </tr>\n",
       "  </tbody>\n",
       "</table>\n",
       "</div>"
      ],
      "text/plain": [
       "              name   category\n",
       "0  Albert Einstein   Physics \n",
       "1      Marie Curie  Chemistry"
      ]
     },
     "execution_count": 123,
     "metadata": {},
     "output_type": "execute_result"
    }
   ],
   "source": [
    "from io import StringIO\n",
    "\n",
    "data = \"`Albert Einstein`| Physics \\n`Marie Curie`| Chemistry\"\n",
    "df = pd.read_csv(StringIO(data), sep='|', names=['name', 'category'], skipinitialspace=True, quotechar=\"`\")\n",
    "df"
   ]
  },
  {
   "cell_type": "markdown",
   "id": "31298659",
   "metadata": {},
   "source": [
    "## Excel Files"
   ]
  },
  {
   "cell_type": "code",
   "execution_count": 124,
   "id": "67836c0a",
   "metadata": {},
   "outputs": [
    {
     "name": "stdout",
     "output_type": "stream",
     "text": [
      "Requirement already satisfied: openpyxl in /home/kyran/.virtualenvs/pyjsdv/lib/python3.10/site-packages (3.0.10)\r\n",
      "Requirement already satisfied: et-xmlfile in /home/kyran/.virtualenvs/pyjsdv/lib/python3.10/site-packages (from openpyxl) (1.1.0)\r\n"
     ]
    }
   ],
   "source": [
    "!pip install openpyxl"
   ]
  },
  {
   "cell_type": "code",
   "execution_count": 125,
   "id": "d4ffaf37",
   "metadata": {},
   "outputs": [],
   "source": [
    "dfs = {}\n",
    "xls = pd.ExcelFile('data/nobel_winners.xlsx') # load Excel file\n",
    "dfs['WinnersSheet1'] = xls.parse('WinnersSheet1', na_values=['NA'])\n",
    "dfs['WinnersSheet2'] = xls.parse('WinnersSheet2',index_col=1, na_values=['-'], skiprows=3)"
   ]
  },
  {
   "cell_type": "code",
   "execution_count": 1,
   "id": "9dd90876",
   "metadata": {},
   "outputs": [
    {
     "ename": "NameError",
     "evalue": "name 'dfs' is not defined",
     "output_type": "error",
     "traceback": [
      "\u001b[0;31m---------------------------------------------------------------------------\u001b[0m",
      "\u001b[0;31mNameError\u001b[0m                                 Traceback (most recent call last)",
      "Cell \u001b[0;32mIn [1], line 1\u001b[0m\n\u001b[0;32m----> 1\u001b[0m \u001b[43mdfs\u001b[49m[\u001b[38;5;124m'\u001b[39m\u001b[38;5;124mWinnersSheet1\u001b[39m\u001b[38;5;124m'\u001b[39m]\u001b[38;5;241m.\u001b[39mhead()\n",
      "\u001b[0;31mNameError\u001b[0m: name 'dfs' is not defined"
     ]
    }
   ],
   "source": [
    "dfs['WinnersSheet1'].head()"
   ]
  },
  {
   "cell_type": "code",
   "execution_count": 127,
   "id": "275485df",
   "metadata": {},
   "outputs": [],
   "source": [
    "dfs = pd.read_excel('data/nobel_winners.xlsx', ['WinnersSheet1','WinnersSheet2'],\n",
    "index_col=None, na_values=['NA'])"
   ]
  },
  {
   "cell_type": "code",
   "execution_count": 128,
   "id": "a031cbf2",
   "metadata": {},
   "outputs": [
    {
     "name": "stdout",
     "output_type": "stream",
     "text": [
      "     category             nationality  year                name  gender\n",
      "0       Peace                American  1906  Theodore Roosevelt    male\n",
      "1  Literature           South African  1991     Nadine Gordimer  female\n",
      "2   Chemistry  Bosnia and Herzegovina  1975     Vladamir Prelog    male\n"
     ]
    }
   ],
   "source": [
    "print(dfs['WinnersSheet2'].head())"
   ]
  },
  {
   "cell_type": "code",
   "execution_count": 129,
   "id": "a9dd1ede",
   "metadata": {},
   "outputs": [
    {
     "data": {
      "text/html": [
       "<div>\n",
       "<style scoped>\n",
       "    .dataframe tbody tr th:only-of-type {\n",
       "        vertical-align: middle;\n",
       "    }\n",
       "\n",
       "    .dataframe tbody tr th {\n",
       "        vertical-align: top;\n",
       "    }\n",
       "\n",
       "    .dataframe thead th {\n",
       "        text-align: right;\n",
       "    }\n",
       "</style>\n",
       "<table border=\"1\" class=\"dataframe\">\n",
       "  <thead>\n",
       "    <tr style=\"text-align: right;\">\n",
       "      <th></th>\n",
       "      <th>category</th>\n",
       "      <th>nationality</th>\n",
       "      <th>year</th>\n",
       "      <th>name</th>\n",
       "      <th>gender</th>\n",
       "    </tr>\n",
       "  </thead>\n",
       "  <tbody>\n",
       "    <tr>\n",
       "      <th>0</th>\n",
       "      <td>Peace</td>\n",
       "      <td>American</td>\n",
       "      <td>1906</td>\n",
       "      <td>Theodore Roosevelt</td>\n",
       "      <td>male</td>\n",
       "    </tr>\n",
       "    <tr>\n",
       "      <th>1</th>\n",
       "      <td>Literature</td>\n",
       "      <td>South African</td>\n",
       "      <td>1991</td>\n",
       "      <td>Nadine Gordimer</td>\n",
       "      <td>female</td>\n",
       "    </tr>\n",
       "    <tr>\n",
       "      <th>2</th>\n",
       "      <td>Chemistry</td>\n",
       "      <td>Bosnia and Herzegovina</td>\n",
       "      <td>1975</td>\n",
       "      <td>Vladamir Prelog</td>\n",
       "      <td>male</td>\n",
       "    </tr>\n",
       "  </tbody>\n",
       "</table>\n",
       "</div>"
      ],
      "text/plain": [
       "     category             nationality  year                name  gender\n",
       "0       Peace                American  1906  Theodore Roosevelt    male\n",
       "1  Literature           South African  1991     Nadine Gordimer  female\n",
       "2   Chemistry  Bosnia and Herzegovina  1975     Vladamir Prelog    male"
      ]
     },
     "execution_count": 129,
     "metadata": {},
     "output_type": "execute_result"
    }
   ],
   "source": [
    "# Load the first excel sheet into a DataFrame\n",
    "df = pd.read_excel('data/nobel_winners.xlsx')\n",
    "df"
   ]
  },
  {
   "cell_type": "code",
   "execution_count": 130,
   "id": "a2745e45",
   "metadata": {},
   "outputs": [],
   "source": [
    "df1 = dfs['WinnersSheet1']\n",
    "df2 = dfs['WinnersSheet2']"
   ]
  },
  {
   "cell_type": "code",
   "execution_count": 131,
   "id": "dde55d79",
   "metadata": {},
   "outputs": [],
   "source": [
    "df1.to_excel('data/nobel_winners_sheet1.xlsx', sheet_name='WinnersSheet1')"
   ]
  },
  {
   "cell_type": "code",
   "execution_count": 132,
   "id": "df0351e0",
   "metadata": {},
   "outputs": [],
   "source": [
    "with pd.ExcelWriter('data/nobel_winners_all_sheets.xlsx') as writer:\n",
    "    df1.to_excel(writer, sheet_name='WinnersSheet1')\n",
    "    df2.to_excel(writer, sheet_name='WinnersSheet2')"
   ]
  },
  {
   "cell_type": "markdown",
   "id": "cead77e4",
   "metadata": {},
   "source": [
    "## SQL"
   ]
  },
  {
   "cell_type": "code",
   "execution_count": 133,
   "id": "18eacfc9",
   "metadata": {
    "scrolled": true
   },
   "outputs": [
    {
     "name": "stdout",
     "output_type": "stream",
     "text": [
      "   id   category             name nationality  year  gender\n",
      "0   1    Physics  Albert Einstein       Swiss  1921    male\n",
      "1   2    Physics       Paul Dirac     British  1933    male\n",
      "2   3  Chemistry      Marie Curie      Polish  1911  female\n"
     ]
    }
   ],
   "source": [
    "import sqlalchemy\n",
    "\n",
    "engine = sqlalchemy.create_engine('sqlite:///data/nobel_winners.db')\n",
    "df = pd.read_sql('winners', engine)\n",
    "print(df)"
   ]
  },
  {
   "cell_type": "code",
   "execution_count": 134,
   "id": "77c1b9c1",
   "metadata": {
    "scrolled": true
   },
   "outputs": [
    {
     "data": {
      "text/html": [
       "<div>\n",
       "<style scoped>\n",
       "    .dataframe tbody tr th:only-of-type {\n",
       "        vertical-align: middle;\n",
       "    }\n",
       "\n",
       "    .dataframe tbody tr th {\n",
       "        vertical-align: top;\n",
       "    }\n",
       "\n",
       "    .dataframe thead th {\n",
       "        text-align: right;\n",
       "    }\n",
       "</style>\n",
       "<table border=\"1\" class=\"dataframe\">\n",
       "  <thead>\n",
       "    <tr style=\"text-align: right;\">\n",
       "      <th></th>\n",
       "      <th>id</th>\n",
       "      <th>category</th>\n",
       "      <th>name</th>\n",
       "      <th>nationality</th>\n",
       "      <th>year</th>\n",
       "      <th>gender</th>\n",
       "    </tr>\n",
       "  </thead>\n",
       "  <tbody>\n",
       "    <tr>\n",
       "      <th>0</th>\n",
       "      <td>1</td>\n",
       "      <td>Physics</td>\n",
       "      <td>Albert Einstein</td>\n",
       "      <td>Swiss</td>\n",
       "      <td>1921</td>\n",
       "      <td>male</td>\n",
       "    </tr>\n",
       "    <tr>\n",
       "      <th>1</th>\n",
       "      <td>2</td>\n",
       "      <td>Physics</td>\n",
       "      <td>Paul Dirac</td>\n",
       "      <td>British</td>\n",
       "      <td>1933</td>\n",
       "      <td>male</td>\n",
       "    </tr>\n",
       "    <tr>\n",
       "      <th>2</th>\n",
       "      <td>3</td>\n",
       "      <td>Chemistry</td>\n",
       "      <td>Marie Curie</td>\n",
       "      <td>Polish</td>\n",
       "      <td>1911</td>\n",
       "      <td>female</td>\n",
       "    </tr>\n",
       "  </tbody>\n",
       "</table>\n",
       "</div>"
      ],
      "text/plain": [
       "   id   category             name nationality  year  gender\n",
       "0   1    Physics  Albert Einstein       Swiss  1921    male\n",
       "1   2    Physics       Paul Dirac     British  1933    male\n",
       "2   3  Chemistry      Marie Curie      Polish  1911  female"
      ]
     },
     "execution_count": 134,
     "metadata": {},
     "output_type": "execute_result"
    }
   ],
   "source": [
    "# We can also use an SQL query to retrieve the table\n",
    "import sqlite3\n",
    "\n",
    "conn = sqlite3.connect('data/nobel_winners.db')\n",
    "winners_string = '''SELECT * \n",
    "                    FROM winners'''\n",
    "df_winners = pd.read_sql(winners_string,\n",
    "                       conn,)\n",
    "                      # index_col='index')\n",
    "conn.close()\n",
    "df_winners.head()"
   ]
  },
  {
   "cell_type": "code",
   "execution_count": 135,
   "id": "e4e52ef5",
   "metadata": {},
   "outputs": [
    {
     "data": {
      "text/plain": [
       "3"
      ]
     },
     "execution_count": 135,
     "metadata": {},
     "output_type": "execute_result"
    }
   ],
   "source": [
    "# add a copy of the winners' table to our sqlite database\n",
    "df_winners.to_sql('winners_copy', engine, if_exists='replace')"
   ]
  },
  {
   "cell_type": "markdown",
   "id": "066f61b5-ce24-4c1d-a2c2-d6478ccf4fa5",
   "metadata": {},
   "source": [
    "## MongoDB"
   ]
  },
  {
   "cell_type": "code",
   "execution_count": 136,
   "id": "3ee19662-1741-4a91-989c-7a423116d78f",
   "metadata": {},
   "outputs": [
    {
     "data": {
      "text/html": [
       "<div>\n",
       "<style scoped>\n",
       "    .dataframe tbody tr th:only-of-type {\n",
       "        vertical-align: middle;\n",
       "    }\n",
       "\n",
       "    .dataframe tbody tr th {\n",
       "        vertical-align: top;\n",
       "    }\n",
       "\n",
       "    .dataframe thead th {\n",
       "        text-align: right;\n",
       "    }\n",
       "</style>\n",
       "<table border=\"1\" class=\"dataframe\">\n",
       "  <thead>\n",
       "    <tr style=\"text-align: right;\">\n",
       "      <th></th>\n",
       "    </tr>\n",
       "  </thead>\n",
       "  <tbody>\n",
       "  </tbody>\n",
       "</table>\n",
       "</div>"
      ],
      "text/plain": [
       "Empty DataFrame\n",
       "Columns: []\n",
       "Index: []"
      ]
     },
     "execution_count": 136,
     "metadata": {},
     "output_type": "execute_result"
    }
   ],
   "source": [
    "import pandas as pd\n",
    "from pymongo import MongoClient\n",
    "\n",
    "client = MongoClient() \n",
    "\n",
    "db = client.nobel_prize \n",
    "db.drop_collection('winners')\n",
    "cursor = db.winners.find()\n",
    "df = pd.DataFrame(list(cursor)) \n",
    "df"
   ]
  },
  {
   "cell_type": "code",
   "execution_count": 137,
   "id": "0bb6e63c-30e3-4be9-a9b2-9bd9b07dc3ba",
   "metadata": {},
   "outputs": [],
   "source": [
    "from pymongo import MongoClient\n",
    "\n",
    "def get_mongo_database(db_name, host='localhost',\\\n",
    "                       port=27017, username=None, password=None):\n",
    "    \"\"\" Get named database from MongoDB with/out authentication \"\"\"\n",
    "    # make Mongo connection with/out authentication\n",
    "    if username and password:\n",
    "        mongo_uri = 'mongodb://%s:%s@%s/%s'%\\\n",
    "        (username, password, host, db_name)\n",
    "        conn = MongoClient(mongo_uri)\n",
    "    else:\n",
    "        conn = MongoClient(host, port)\n",
    "\n",
    "    return conn[db_name]"
   ]
  },
  {
   "cell_type": "code",
   "execution_count": 138,
   "id": "dbc220cd-9049-4a4c-89d0-7c69a40eafac",
   "metadata": {},
   "outputs": [],
   "source": [
    "def mongo_to_dataframe(db_name, collection, query={},\\\n",
    "                       host='localhost', port=27017,\\\n",
    "                       username=None, password=None,\\\n",
    "                        no_id=True):\n",
    "    \"\"\" create a dataframe from mongodb collection \"\"\"\n",
    "\n",
    "    db = get_mongo_database(db_name, host, port, username,\\\n",
    "     password)\n",
    "    cursor = db[collection].find(query)\n",
    "    df =  pd.DataFrame(list(cursor))\n",
    "    if no_id: \n",
    "        del df['_id']\n",
    "    return df\n",
    "\n",
    "def dataframe_to_mongo(df, db_name, collection,\\\n",
    "                       host='localhost', port=27017,\\\n",
    "                       username=None, password=None):\n",
    "    \"\"\" save a dataframe to mongodb collection \"\"\"\n",
    "    db = get_mongo_database(db_name, host, port, username,\\\n",
    "     password)\n",
    "    records = df.to_dict('records')\n",
    "    db[collection].insert_many(records)"
   ]
  },
  {
   "cell_type": "code",
   "execution_count": 139,
   "id": "89ddb103",
   "metadata": {},
   "outputs": [],
   "source": [
    "dataframe_to_mongo(df_winners, 'nobel_prize', 'winners')"
   ]
  },
  {
   "cell_type": "code",
   "execution_count": 140,
   "id": "2cabf195",
   "metadata": {},
   "outputs": [
    {
     "data": {
      "text/plain": [
       "[{'_id': ObjectId('62fcf86f0e7fe50ac4393920'),\n",
       "  'id': 1,\n",
       "  'category': 'Physics',\n",
       "  'name': 'Albert Einstein',\n",
       "  'nationality': 'Swiss',\n",
       "  'year': 1921,\n",
       "  'gender': 'male'},\n",
       " {'_id': ObjectId('62fcf86f0e7fe50ac4393921'),\n",
       "  'id': 2,\n",
       "  'category': 'Physics',\n",
       "  'name': 'Paul Dirac',\n",
       "  'nationality': 'British',\n",
       "  'year': 1933,\n",
       "  'gender': 'male'},\n",
       " {'_id': ObjectId('62fcf86f0e7fe50ac4393922'),\n",
       "  'id': 3,\n",
       "  'category': 'Chemistry',\n",
       "  'name': 'Marie Curie',\n",
       "  'nationality': 'Polish',\n",
       "  'year': 1911,\n",
       "  'gender': 'female'}]"
      ]
     },
     "execution_count": 140,
     "metadata": {},
     "output_type": "execute_result"
    }
   ],
   "source": [
    "db = get_mongo_database('nobel_prize')\n",
    "list(db.winners.find())"
   ]
  },
  {
   "cell_type": "markdown",
   "id": "5e3a40a8",
   "metadata": {},
   "source": [
    "## Series into DataFrames"
   ]
  },
  {
   "cell_type": "code",
   "execution_count": 141,
   "id": "7851d180",
   "metadata": {},
   "outputs": [
    {
     "data": {
      "text/plain": [
       "0    1\n",
       "1    2\n",
       "2    3\n",
       "3    4\n",
       "dtype: int64"
      ]
     },
     "execution_count": 141,
     "metadata": {},
     "output_type": "execute_result"
    }
   ],
   "source": [
    "s = pd.Series([1, 2, 3, 4])\n",
    "s"
   ]
  },
  {
   "cell_type": "code",
   "execution_count": 142,
   "id": "7008295a",
   "metadata": {},
   "outputs": [
    {
     "data": {
      "text/plain": [
       "a    1\n",
       "b    2\n",
       "c    3\n",
       "d    4\n",
       "dtype: int64"
      ]
     },
     "execution_count": 142,
     "metadata": {},
     "output_type": "execute_result"
    }
   ],
   "source": [
    "s = pd.Series([1, 2, 3, 4], index=['a', 'b', 'c', 'd'])\n",
    "s"
   ]
  },
  {
   "cell_type": "code",
   "execution_count": 143,
   "id": "64d6cec3",
   "metadata": {},
   "outputs": [
    {
     "data": {
      "text/plain": [
       "a    1\n",
       "b    2\n",
       "c    3\n",
       "dtype: int64"
      ]
     },
     "execution_count": 143,
     "metadata": {},
     "output_type": "execute_result"
    }
   ],
   "source": [
    "s = pd.Series({'a':1, 'b':2, 'c':3})\n",
    "s"
   ]
  },
  {
   "cell_type": "code",
   "execution_count": 144,
   "id": "57312ef9",
   "metadata": {},
   "outputs": [
    {
     "data": {
      "text/plain": [
       "a    1.0\n",
       "b    2.0\n",
       "c    NaN\n",
       "dtype: float64"
      ]
     },
     "execution_count": 144,
     "metadata": {},
     "output_type": "execute_result"
    }
   ],
   "source": [
    "s = pd.Series({'a':1, 'b':2}, index=['a', 'b', 'c'])\n",
    "s"
   ]
  },
  {
   "cell_type": "code",
   "execution_count": 145,
   "id": "a8a5af2b",
   "metadata": {},
   "outputs": [
    {
     "data": {
      "text/plain": [
       "a    1\n",
       "b    2\n",
       "dtype: int64"
      ]
     },
     "execution_count": 145,
     "metadata": {},
     "output_type": "execute_result"
    }
   ],
   "source": [
    "s = pd.Series({'a':1, 'b':2, 'c':3}, index=['a', 'b'])\n",
    "s"
   ]
  },
  {
   "cell_type": "code",
   "execution_count": 146,
   "id": "c1339a42",
   "metadata": {},
   "outputs": [
    {
     "data": {
      "text/plain": [
       "a    9\n",
       "c    9\n",
       "b    9\n",
       "dtype: int64"
      ]
     },
     "execution_count": 146,
     "metadata": {},
     "output_type": "execute_result"
    }
   ],
   "source": [
    "pd.Series(9, {'a', 'b', 'c'})"
   ]
  },
  {
   "cell_type": "code",
   "execution_count": 147,
   "id": "965a1c66",
   "metadata": {},
   "outputs": [
    {
     "data": {
      "text/plain": [
       "a    1.000000\n",
       "b    1.414214\n",
       "c    1.732051\n",
       "d    2.000000\n",
       "dtype: float64"
      ]
     },
     "execution_count": 147,
     "metadata": {},
     "output_type": "execute_result"
    }
   ],
   "source": [
    "import numpy as np\n",
    "\n",
    "s = pd.Series([1, 2, 3, 4], ['a', 'b', 'c', 'd'])\n",
    "np.sqrt(s)"
   ]
  },
  {
   "cell_type": "code",
   "execution_count": 148,
   "id": "00b28f60",
   "metadata": {},
   "outputs": [
    {
     "data": {
      "text/plain": [
       "b    2\n",
       "c    3\n",
       "dtype: int64"
      ]
     },
     "execution_count": 148,
     "metadata": {},
     "output_type": "execute_result"
    }
   ],
   "source": [
    "s[1:3]"
   ]
  },
  {
   "cell_type": "code",
   "execution_count": 149,
   "id": "a7dd7650",
   "metadata": {},
   "outputs": [
    {
     "data": {
      "text/plain": [
       "0         3\n",
       "1       5.1\n",
       "2    foobar\n",
       "dtype: object"
      ]
     },
     "execution_count": 149,
     "metadata": {},
     "output_type": "execute_result"
    }
   ],
   "source": [
    "pd.Series([1, 2.1, 'foo']) + pd.Series([2, 3, 'bar'])"
   ]
  },
  {
   "cell_type": "code",
   "execution_count": 150,
   "id": "288beef7",
   "metadata": {},
   "outputs": [
    {
     "data": {
      "text/html": [
       "<div>\n",
       "<style scoped>\n",
       "    .dataframe tbody tr th:only-of-type {\n",
       "        vertical-align: middle;\n",
       "    }\n",
       "\n",
       "    .dataframe tbody tr th {\n",
       "        vertical-align: top;\n",
       "    }\n",
       "\n",
       "    .dataframe thead th {\n",
       "        text-align: right;\n",
       "    }\n",
       "</style>\n",
       "<table border=\"1\" class=\"dataframe\">\n",
       "  <thead>\n",
       "    <tr style=\"text-align: right;\">\n",
       "      <th></th>\n",
       "      <th>name</th>\n",
       "      <th>category</th>\n",
       "    </tr>\n",
       "  </thead>\n",
       "  <tbody>\n",
       "    <tr>\n",
       "      <th>0</th>\n",
       "      <td>Albert Einstein</td>\n",
       "      <td>Physics</td>\n",
       "    </tr>\n",
       "    <tr>\n",
       "      <th>1</th>\n",
       "      <td>Marie Curie</td>\n",
       "      <td>Chemistry</td>\n",
       "    </tr>\n",
       "  </tbody>\n",
       "</table>\n",
       "</div>"
      ],
      "text/plain": [
       "              name   category\n",
       "0  Albert Einstein    Physics\n",
       "1      Marie Curie  Chemistry"
      ]
     },
     "execution_count": 150,
     "metadata": {},
     "output_type": "execute_result"
    }
   ],
   "source": [
    "names = pd.Series(['Albert Einstein', 'Marie Curie'], name='name')\n",
    "categories = pd.Series(['Physics', 'Chemistry'], name='category')\n",
    "df = pd.concat([names, categories], axis=1)\n",
    "df.head()"
   ]
  },
  {
   "cell_type": "code",
   "execution_count": null,
   "id": "75d45bba",
   "metadata": {},
   "outputs": [],
   "source": []
  }
 ],
 "metadata": {
  "kernelspec": {
   "display_name": "Python 3.10.4 64-bit",
   "language": "python",
   "name": "python3"
  },
  "language_info": {
   "codemirror_mode": {
    "name": "ipython",
    "version": 3
   },
   "file_extension": ".py",
   "mimetype": "text/x-python",
   "name": "python",
   "nbconvert_exporter": "python",
   "pygments_lexer": "ipython3",
   "version": "3.10.6"
  },
  "vscode": {
   "interpreter": {
    "hash": "e7370f93d1d0cde622a1f8e1c04877d8463912d04d973331ad4851f04de6915a"
   }
  }
 },
 "nbformat": 4,
 "nbformat_minor": 5
}
